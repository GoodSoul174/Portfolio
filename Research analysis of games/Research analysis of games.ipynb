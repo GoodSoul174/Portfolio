{
 "cells": [
  {
   "cell_type": "markdown",
   "metadata": {},
   "source": [
    "# Описание проекта.\n",
    "\n",
    "В распоряжении имеется датасет содержащий информацию продаж, оценки пользователей и экспертов, рейтинг, жанры и платформы игр за определенный период.\n",
    "\n",
    "**Цель проекта:**\n",
    "\n",
    "1. Выявить закономерности определяющие критерии успещности игры.\n",
    "2. На основе этих закономерностей дать рекоммендацию на, что сделать ставку при выборе потенциально популярного продукта.\n",
    "3. Дать рекоммендацию при планировании рекламных компаний на следующий период.\n",
    "\n",
    "**Ход исследования:**\n",
    "\n",
    "1. Обзор данных\n",
    "- Изучаем общую информацию по проекту\n",
    "2. Подготовка данных\n",
    "- Приводим название столбцов к нижнему регистру\n",
    "- Обрабатываем пропуски в данных\n",
    "- Добовляем новые столбцы для проведения дальнейшего исследования\n",
    "3. Проведение исследования\n",
    "- Изучаем количество выпущенных игр по годам\n",
    "- Изучаем цикл продаж топ платформ\n",
    "- Изучаем лидеров продаж за последние 6 лет\n",
    "- Изучаем количество продаж игр каждой платформы\n",
    "- Смотрим взаимосвязь отзывов и продаж\n",
    "- Изучаем наиболее продаваемые жанры игр за последний период\n",
    "4. Составление портрета пользователя по каждому региону\n",
    "- Изучаем лидеров продаж платформ по регионам\n",
    "- Изучаем какие жанры лидируют в каждом регионе\n",
    "- Смотрим как влияет рейтинг игр на каждый регион\n",
    "5. Проверка гипотез\n",
    "- Проверка гипотезы: Средние пользовательские рейтинги платформ Xbox One и PC одинаковые\n",
    "- Проверка гипотезы: Средние пользовательские рейтинги жанров Action и Sports разные\n",
    "6. Общий вывод"
   ]
  },
  {
   "cell_type": "markdown",
   "metadata": {},
   "source": [
    "### Открываем датасет и просматриваем основную информацию"
   ]
  },
  {
   "cell_type": "markdown",
   "metadata": {},
   "source": [
    "#### Импорт библиотек для исследования"
   ]
  },
  {
   "cell_type": "code",
   "execution_count": 2,
   "metadata": {},
   "outputs": [],
   "source": [
    "import pandas as pd\n",
    "import matplotlib.pyplot as plt\n",
    "import seaborn as sns\n",
    "from scipy import stats as st"
   ]
  },
  {
   "cell_type": "markdown",
   "metadata": {},
   "source": [
    "#### Открываем датасет и смотрим общую информацию"
   ]
  },
  {
   "cell_type": "code",
   "execution_count": 3,
   "metadata": {},
   "outputs": [
    {
     "data": {
      "text/html": [
       "<div>\n",
       "<style scoped>\n",
       "    .dataframe tbody tr th:only-of-type {\n",
       "        vertical-align: middle;\n",
       "    }\n",
       "\n",
       "    .dataframe tbody tr th {\n",
       "        vertical-align: top;\n",
       "    }\n",
       "\n",
       "    .dataframe thead th {\n",
       "        text-align: right;\n",
       "    }\n",
       "</style>\n",
       "<table border=\"1\" class=\"dataframe\">\n",
       "  <thead>\n",
       "    <tr style=\"text-align: right;\">\n",
       "      <th></th>\n",
       "      <th>Name</th>\n",
       "      <th>Platform</th>\n",
       "      <th>Year_of_Release</th>\n",
       "      <th>Genre</th>\n",
       "      <th>NA_sales</th>\n",
       "      <th>EU_sales</th>\n",
       "      <th>JP_sales</th>\n",
       "      <th>Other_sales</th>\n",
       "      <th>Critic_Score</th>\n",
       "      <th>User_Score</th>\n",
       "      <th>Rating</th>\n",
       "    </tr>\n",
       "  </thead>\n",
       "  <tbody>\n",
       "    <tr>\n",
       "      <th>0</th>\n",
       "      <td>Wii Sports</td>\n",
       "      <td>Wii</td>\n",
       "      <td>2006.0</td>\n",
       "      <td>Sports</td>\n",
       "      <td>41.36</td>\n",
       "      <td>28.96</td>\n",
       "      <td>3.77</td>\n",
       "      <td>8.45</td>\n",
       "      <td>76.0</td>\n",
       "      <td>8</td>\n",
       "      <td>E</td>\n",
       "    </tr>\n",
       "    <tr>\n",
       "      <th>1</th>\n",
       "      <td>Super Mario Bros.</td>\n",
       "      <td>NES</td>\n",
       "      <td>1985.0</td>\n",
       "      <td>Platform</td>\n",
       "      <td>29.08</td>\n",
       "      <td>3.58</td>\n",
       "      <td>6.81</td>\n",
       "      <td>0.77</td>\n",
       "      <td>NaN</td>\n",
       "      <td>NaN</td>\n",
       "      <td>NaN</td>\n",
       "    </tr>\n",
       "    <tr>\n",
       "      <th>2</th>\n",
       "      <td>Mario Kart Wii</td>\n",
       "      <td>Wii</td>\n",
       "      <td>2008.0</td>\n",
       "      <td>Racing</td>\n",
       "      <td>15.68</td>\n",
       "      <td>12.76</td>\n",
       "      <td>3.79</td>\n",
       "      <td>3.29</td>\n",
       "      <td>82.0</td>\n",
       "      <td>8.3</td>\n",
       "      <td>E</td>\n",
       "    </tr>\n",
       "    <tr>\n",
       "      <th>3</th>\n",
       "      <td>Wii Sports Resort</td>\n",
       "      <td>Wii</td>\n",
       "      <td>2009.0</td>\n",
       "      <td>Sports</td>\n",
       "      <td>15.61</td>\n",
       "      <td>10.93</td>\n",
       "      <td>3.28</td>\n",
       "      <td>2.95</td>\n",
       "      <td>80.0</td>\n",
       "      <td>8</td>\n",
       "      <td>E</td>\n",
       "    </tr>\n",
       "    <tr>\n",
       "      <th>4</th>\n",
       "      <td>Pokemon Red/Pokemon Blue</td>\n",
       "      <td>GB</td>\n",
       "      <td>1996.0</td>\n",
       "      <td>Role-Playing</td>\n",
       "      <td>11.27</td>\n",
       "      <td>8.89</td>\n",
       "      <td>10.22</td>\n",
       "      <td>1.00</td>\n",
       "      <td>NaN</td>\n",
       "      <td>NaN</td>\n",
       "      <td>NaN</td>\n",
       "    </tr>\n",
       "    <tr>\n",
       "      <th>5</th>\n",
       "      <td>Tetris</td>\n",
       "      <td>GB</td>\n",
       "      <td>1989.0</td>\n",
       "      <td>Puzzle</td>\n",
       "      <td>23.20</td>\n",
       "      <td>2.26</td>\n",
       "      <td>4.22</td>\n",
       "      <td>0.58</td>\n",
       "      <td>NaN</td>\n",
       "      <td>NaN</td>\n",
       "      <td>NaN</td>\n",
       "    </tr>\n",
       "    <tr>\n",
       "      <th>6</th>\n",
       "      <td>New Super Mario Bros.</td>\n",
       "      <td>DS</td>\n",
       "      <td>2006.0</td>\n",
       "      <td>Platform</td>\n",
       "      <td>11.28</td>\n",
       "      <td>9.14</td>\n",
       "      <td>6.50</td>\n",
       "      <td>2.88</td>\n",
       "      <td>89.0</td>\n",
       "      <td>8.5</td>\n",
       "      <td>E</td>\n",
       "    </tr>\n",
       "    <tr>\n",
       "      <th>7</th>\n",
       "      <td>Wii Play</td>\n",
       "      <td>Wii</td>\n",
       "      <td>2006.0</td>\n",
       "      <td>Misc</td>\n",
       "      <td>13.96</td>\n",
       "      <td>9.18</td>\n",
       "      <td>2.93</td>\n",
       "      <td>2.84</td>\n",
       "      <td>58.0</td>\n",
       "      <td>6.6</td>\n",
       "      <td>E</td>\n",
       "    </tr>\n",
       "    <tr>\n",
       "      <th>8</th>\n",
       "      <td>New Super Mario Bros. Wii</td>\n",
       "      <td>Wii</td>\n",
       "      <td>2009.0</td>\n",
       "      <td>Platform</td>\n",
       "      <td>14.44</td>\n",
       "      <td>6.94</td>\n",
       "      <td>4.70</td>\n",
       "      <td>2.24</td>\n",
       "      <td>87.0</td>\n",
       "      <td>8.4</td>\n",
       "      <td>E</td>\n",
       "    </tr>\n",
       "    <tr>\n",
       "      <th>9</th>\n",
       "      <td>Duck Hunt</td>\n",
       "      <td>NES</td>\n",
       "      <td>1984.0</td>\n",
       "      <td>Shooter</td>\n",
       "      <td>26.93</td>\n",
       "      <td>0.63</td>\n",
       "      <td>0.28</td>\n",
       "      <td>0.47</td>\n",
       "      <td>NaN</td>\n",
       "      <td>NaN</td>\n",
       "      <td>NaN</td>\n",
       "    </tr>\n",
       "  </tbody>\n",
       "</table>\n",
       "</div>"
      ],
      "text/plain": [
       "                        Name Platform  Year_of_Release         Genre  \\\n",
       "0                 Wii Sports      Wii           2006.0        Sports   \n",
       "1          Super Mario Bros.      NES           1985.0      Platform   \n",
       "2             Mario Kart Wii      Wii           2008.0        Racing   \n",
       "3          Wii Sports Resort      Wii           2009.0        Sports   \n",
       "4   Pokemon Red/Pokemon Blue       GB           1996.0  Role-Playing   \n",
       "5                     Tetris       GB           1989.0        Puzzle   \n",
       "6      New Super Mario Bros.       DS           2006.0      Platform   \n",
       "7                   Wii Play      Wii           2006.0          Misc   \n",
       "8  New Super Mario Bros. Wii      Wii           2009.0      Platform   \n",
       "9                  Duck Hunt      NES           1984.0       Shooter   \n",
       "\n",
       "   NA_sales  EU_sales  JP_sales  Other_sales  Critic_Score User_Score Rating  \n",
       "0     41.36     28.96      3.77         8.45          76.0          8      E  \n",
       "1     29.08      3.58      6.81         0.77           NaN        NaN    NaN  \n",
       "2     15.68     12.76      3.79         3.29          82.0        8.3      E  \n",
       "3     15.61     10.93      3.28         2.95          80.0          8      E  \n",
       "4     11.27      8.89     10.22         1.00           NaN        NaN    NaN  \n",
       "5     23.20      2.26      4.22         0.58           NaN        NaN    NaN  \n",
       "6     11.28      9.14      6.50         2.88          89.0        8.5      E  \n",
       "7     13.96      9.18      2.93         2.84          58.0        6.6      E  \n",
       "8     14.44      6.94      4.70         2.24          87.0        8.4      E  \n",
       "9     26.93      0.63      0.28         0.47           NaN        NaN    NaN  "
      ]
     },
     "execution_count": 3,
     "metadata": {},
     "output_type": "execute_result"
    }
   ],
   "source": [
    "# Открываем датасет и сохраняем его в переменную games\n",
    "try:\n",
    "    games = pd.read_csv('F:\\\\games.csv')\n",
    "except:\n",
    "    games = pd.read_csv('/datasets/games.csv')\n",
    "\n",
    "games.head(10)"
   ]
  },
  {
   "cell_type": "code",
   "execution_count": 3,
   "metadata": {},
   "outputs": [
    {
     "name": "stdout",
     "output_type": "stream",
     "text": [
      "<class 'pandas.core.frame.DataFrame'>\n",
      "RangeIndex: 16715 entries, 0 to 16714\n",
      "Data columns (total 11 columns):\n",
      " #   Column           Non-Null Count  Dtype  \n",
      "---  ------           --------------  -----  \n",
      " 0   Name             16713 non-null  object \n",
      " 1   Platform         16715 non-null  object \n",
      " 2   Year_of_Release  16446 non-null  float64\n",
      " 3   Genre            16713 non-null  object \n",
      " 4   NA_sales         16715 non-null  float64\n",
      " 5   EU_sales         16715 non-null  float64\n",
      " 6   JP_sales         16715 non-null  float64\n",
      " 7   Other_sales      16715 non-null  float64\n",
      " 8   Critic_Score     8137 non-null   float64\n",
      " 9   User_Score       10014 non-null  object \n",
      " 10  Rating           9949 non-null   object \n",
      "dtypes: float64(6), object(5)\n",
      "memory usage: 1.4+ MB\n"
     ]
    }
   ],
   "source": [
    "# Смотрим общую информацию по датасету\n",
    "games.info()"
   ]
  },
  {
   "cell_type": "code",
   "execution_count": 4,
   "metadata": {},
   "outputs": [
    {
     "name": "stdout",
     "output_type": "stream",
     "text": [
      "Name                  2\n",
      "Platform              0\n",
      "Year_of_Release     269\n",
      "Genre                 2\n",
      "NA_sales              0\n",
      "EU_sales              0\n",
      "JP_sales              0\n",
      "Other_sales           0\n",
      "Critic_Score       8578\n",
      "User_Score         6701\n",
      "Rating             6766\n",
      "dtype: int64\n"
     ]
    },
    {
     "data": {
      "text/html": [
       "<style  type=\"text/css\" >\n",
       "#T_b694a_row0_col0,#T_b694a_row1_col0,#T_b694a_row3_col0,#T_b694a_row4_col0,#T_b694a_row5_col0,#T_b694a_row6_col0,#T_b694a_row7_col0{\n",
       "            background-color:  #3b4cc0;\n",
       "            color:  #f1f1f1;\n",
       "        }#T_b694a_row2_col0{\n",
       "            background-color:  #465ecf;\n",
       "            color:  #f1f1f1;\n",
       "        }#T_b694a_row8_col0{\n",
       "            background-color:  #b40426;\n",
       "            color:  #f1f1f1;\n",
       "        }#T_b694a_row9_col0,#T_b694a_row10_col0{\n",
       "            background-color:  #f08b6e;\n",
       "            color:  #000000;\n",
       "        }</style><table id=\"T_b694a_\" ><thead>    <tr>        <th class=\"blank level0\" ></th>        <th class=\"col_heading level0 col0\" >0</th>    </tr></thead><tbody>\n",
       "                <tr>\n",
       "                        <th id=\"T_b694a_level0_row0\" class=\"row_heading level0 row0\" >Name</th>\n",
       "                        <td id=\"T_b694a_row0_col0\" class=\"data row0 col0\" >0.000000</td>\n",
       "            </tr>\n",
       "            <tr>\n",
       "                        <th id=\"T_b694a_level0_row1\" class=\"row_heading level0 row1\" >Platform</th>\n",
       "                        <td id=\"T_b694a_row1_col0\" class=\"data row1 col0\" >0.000000</td>\n",
       "            </tr>\n",
       "            <tr>\n",
       "                        <th id=\"T_b694a_level0_row2\" class=\"row_heading level0 row2\" >Year_of_Release</th>\n",
       "                        <td id=\"T_b694a_row2_col0\" class=\"data row2 col0\" >2.000000</td>\n",
       "            </tr>\n",
       "            <tr>\n",
       "                        <th id=\"T_b694a_level0_row3\" class=\"row_heading level0 row3\" >Genre</th>\n",
       "                        <td id=\"T_b694a_row3_col0\" class=\"data row3 col0\" >0.000000</td>\n",
       "            </tr>\n",
       "            <tr>\n",
       "                        <th id=\"T_b694a_level0_row4\" class=\"row_heading level0 row4\" >NA_sales</th>\n",
       "                        <td id=\"T_b694a_row4_col0\" class=\"data row4 col0\" >0.000000</td>\n",
       "            </tr>\n",
       "            <tr>\n",
       "                        <th id=\"T_b694a_level0_row5\" class=\"row_heading level0 row5\" >EU_sales</th>\n",
       "                        <td id=\"T_b694a_row5_col0\" class=\"data row5 col0\" >0.000000</td>\n",
       "            </tr>\n",
       "            <tr>\n",
       "                        <th id=\"T_b694a_level0_row6\" class=\"row_heading level0 row6\" >JP_sales</th>\n",
       "                        <td id=\"T_b694a_row6_col0\" class=\"data row6 col0\" >0.000000</td>\n",
       "            </tr>\n",
       "            <tr>\n",
       "                        <th id=\"T_b694a_level0_row7\" class=\"row_heading level0 row7\" >Other_sales</th>\n",
       "                        <td id=\"T_b694a_row7_col0\" class=\"data row7 col0\" >0.000000</td>\n",
       "            </tr>\n",
       "            <tr>\n",
       "                        <th id=\"T_b694a_level0_row8\" class=\"row_heading level0 row8\" >Critic_Score</th>\n",
       "                        <td id=\"T_b694a_row8_col0\" class=\"data row8 col0\" >51.000000</td>\n",
       "            </tr>\n",
       "            <tr>\n",
       "                        <th id=\"T_b694a_level0_row9\" class=\"row_heading level0 row9\" >User_Score</th>\n",
       "                        <td id=\"T_b694a_row9_col0\" class=\"data row9 col0\" >40.000000</td>\n",
       "            </tr>\n",
       "            <tr>\n",
       "                        <th id=\"T_b694a_level0_row10\" class=\"row_heading level0 row10\" >Rating</th>\n",
       "                        <td id=\"T_b694a_row10_col0\" class=\"data row10 col0\" >40.000000</td>\n",
       "            </tr>\n",
       "    </tbody></table>"
      ],
      "text/plain": [
       "<pandas.io.formats.style.Styler at 0x7fd3b63ee490>"
      ]
     },
     "execution_count": 4,
     "metadata": {},
     "output_type": "execute_result"
    }
   ],
   "source": [
    "# Смотрим колчичество пропусов в датасете\n",
    "print(games.isna().sum())\n",
    "pd.DataFrame(round(games.isna().mean()*100,)).style.background_gradient('coolwarm')"
   ]
  },
  {
   "cell_type": "markdown",
   "metadata": {},
   "source": [
    "#### Вывод\n",
    "\n",
    "Имеет дата сет из почти 17тыс строк. В датасете имеются пропуски. В стлобцах названия игры и жанр видим по 2 пропуска, удаление данных сталбцов не как не повлияет на ход исследования. Столбец год выпуска имеет 269 пропусков, что составляет 2 процента от общего объема. Наибольшее количество пропусков видим в столбцах оценки критиков(51 процент от объема), оценки пользователей и рейтинг, у обоих столбцов, доля пропусков составляет по 40 процентов от общего объема. "
   ]
  },
  {
   "cell_type": "markdown",
   "metadata": {},
   "source": [
    "### Подготовка данных"
   ]
  },
  {
   "cell_type": "markdown",
   "metadata": {},
   "source": [
    "#### Приводим название столбцов к нижнему регистру"
   ]
  },
  {
   "cell_type": "code",
   "execution_count": 5,
   "metadata": {
    "scrolled": true
   },
   "outputs": [
    {
     "data": {
      "text/plain": [
       "Index(['name', 'platform', 'year_of_release', 'genre', 'na_sales', 'eu_sales',\n",
       "       'jp_sales', 'other_sales', 'critic_score', 'user_score', 'rating'],\n",
       "      dtype='object')"
      ]
     },
     "execution_count": 5,
     "metadata": {},
     "output_type": "execute_result"
    }
   ],
   "source": [
    "games.columns = games.columns.str.lower()\n",
    "games.columns"
   ]
  },
  {
   "cell_type": "markdown",
   "metadata": {},
   "source": [
    "#### Удаляем строки с пропусками"
   ]
  },
  {
   "cell_type": "code",
   "execution_count": 6,
   "metadata": {},
   "outputs": [
    {
     "name": "stdout",
     "output_type": "stream",
     "text": [
      "Процент продаж удаленных столбцов по годам от общих продаж: 0.4%\n"
     ]
    },
    {
     "data": {
      "text/html": [
       "<div>\n",
       "<style scoped>\n",
       "    .dataframe tbody tr th:only-of-type {\n",
       "        vertical-align: middle;\n",
       "    }\n",
       "\n",
       "    .dataframe tbody tr th {\n",
       "        vertical-align: top;\n",
       "    }\n",
       "\n",
       "    .dataframe thead th {\n",
       "        text-align: right;\n",
       "    }\n",
       "</style>\n",
       "<table border=\"1\" class=\"dataframe\">\n",
       "  <thead>\n",
       "    <tr style=\"text-align: right;\">\n",
       "      <th></th>\n",
       "      <th>name</th>\n",
       "      <th>platform</th>\n",
       "      <th>year_of_release</th>\n",
       "      <th>genre</th>\n",
       "      <th>na_sales</th>\n",
       "      <th>eu_sales</th>\n",
       "      <th>jp_sales</th>\n",
       "      <th>other_sales</th>\n",
       "      <th>critic_score</th>\n",
       "      <th>user_score</th>\n",
       "      <th>rating</th>\n",
       "    </tr>\n",
       "  </thead>\n",
       "  <tbody>\n",
       "    <tr>\n",
       "      <th>0</th>\n",
       "      <td>Wii Sports</td>\n",
       "      <td>Wii</td>\n",
       "      <td>2006.0</td>\n",
       "      <td>Sports</td>\n",
       "      <td>41.36</td>\n",
       "      <td>28.96</td>\n",
       "      <td>3.77</td>\n",
       "      <td>8.45</td>\n",
       "      <td>76.0</td>\n",
       "      <td>8</td>\n",
       "      <td>E</td>\n",
       "    </tr>\n",
       "    <tr>\n",
       "      <th>1</th>\n",
       "      <td>Super Mario Bros.</td>\n",
       "      <td>NES</td>\n",
       "      <td>1985.0</td>\n",
       "      <td>Platform</td>\n",
       "      <td>29.08</td>\n",
       "      <td>3.58</td>\n",
       "      <td>6.81</td>\n",
       "      <td>0.77</td>\n",
       "      <td>NaN</td>\n",
       "      <td>NaN</td>\n",
       "      <td>NaN</td>\n",
       "    </tr>\n",
       "    <tr>\n",
       "      <th>2</th>\n",
       "      <td>Mario Kart Wii</td>\n",
       "      <td>Wii</td>\n",
       "      <td>2008.0</td>\n",
       "      <td>Racing</td>\n",
       "      <td>15.68</td>\n",
       "      <td>12.76</td>\n",
       "      <td>3.79</td>\n",
       "      <td>3.29</td>\n",
       "      <td>82.0</td>\n",
       "      <td>8.3</td>\n",
       "      <td>E</td>\n",
       "    </tr>\n",
       "    <tr>\n",
       "      <th>3</th>\n",
       "      <td>Wii Sports Resort</td>\n",
       "      <td>Wii</td>\n",
       "      <td>2009.0</td>\n",
       "      <td>Sports</td>\n",
       "      <td>15.61</td>\n",
       "      <td>10.93</td>\n",
       "      <td>3.28</td>\n",
       "      <td>2.95</td>\n",
       "      <td>80.0</td>\n",
       "      <td>8</td>\n",
       "      <td>E</td>\n",
       "    </tr>\n",
       "    <tr>\n",
       "      <th>4</th>\n",
       "      <td>Pokemon Red/Pokemon Blue</td>\n",
       "      <td>GB</td>\n",
       "      <td>1996.0</td>\n",
       "      <td>Role-Playing</td>\n",
       "      <td>11.27</td>\n",
       "      <td>8.89</td>\n",
       "      <td>10.22</td>\n",
       "      <td>1.00</td>\n",
       "      <td>NaN</td>\n",
       "      <td>NaN</td>\n",
       "      <td>NaN</td>\n",
       "    </tr>\n",
       "  </tbody>\n",
       "</table>\n",
       "</div>"
      ],
      "text/plain": [
       "                       name platform  year_of_release         genre  na_sales  \\\n",
       "0                Wii Sports      Wii           2006.0        Sports     41.36   \n",
       "1         Super Mario Bros.      NES           1985.0      Platform     29.08   \n",
       "2            Mario Kart Wii      Wii           2008.0        Racing     15.68   \n",
       "3         Wii Sports Resort      Wii           2009.0        Sports     15.61   \n",
       "4  Pokemon Red/Pokemon Blue       GB           1996.0  Role-Playing     11.27   \n",
       "\n",
       "   eu_sales  jp_sales  other_sales  critic_score user_score rating  \n",
       "0     28.96      3.77         8.45          76.0          8      E  \n",
       "1      3.58      6.81         0.77           NaN        NaN    NaN  \n",
       "2     12.76      3.79         3.29          82.0        8.3      E  \n",
       "3     10.93      3.28         2.95          80.0          8      E  \n",
       "4      8.89     10.22         1.00           NaN        NaN    NaN  "
      ]
     },
     "execution_count": 6,
     "metadata": {},
     "output_type": "execute_result"
    }
   ],
   "source": [
    "year_nan_sales = games.loc[games['year_of_release'].isna()]\n",
    "year_nan_sales = year_nan_sales['na_sales'].mean()\\\n",
    "+ year_nan_sales['eu_sales'].sum()\\\n",
    "+ year_nan_sales['jp_sales'].sum()\\\n",
    "+ year_nan_sales['other_sales'].sum()\n",
    "mean_sales = games['na_sales'].sum()\\\n",
    "+ games['eu_sales'].sum()\\\n",
    "+ games['jp_sales'].sum()\\\n",
    "+ games['other_sales'].sum()\n",
    "precent_sales = year_nan_sales/mean_sales\n",
    "print(f'Процент продаж удаленных столбцов по годам от общих продаж: {precent_sales:.1%}')\n",
    "games = games.dropna(subset=['name', 'genre', 'year_of_release']).reset_index(drop=True)\n",
    "games.head()"
   ]
  },
  {
   "cell_type": "markdown",
   "metadata": {},
   "source": [
    "#### Приводим столбцы в нужную форму и добавление нового столбца"
   ]
  },
  {
   "cell_type": "code",
   "execution_count": 7,
   "metadata": {},
   "outputs": [
    {
     "name": "stdout",
     "output_type": "stream",
     "text": [
      "<class 'pandas.core.frame.DataFrame'>\n",
      "RangeIndex: 16444 entries, 0 to 16443\n",
      "Data columns (total 12 columns):\n",
      " #   Column           Non-Null Count  Dtype  \n",
      "---  ------           --------------  -----  \n",
      " 0   name             16444 non-null  object \n",
      " 1   platform         16444 non-null  object \n",
      " 2   year_of_release  16444 non-null  int64  \n",
      " 3   genre            16444 non-null  object \n",
      " 4   na_sales         16444 non-null  float64\n",
      " 5   eu_sales         16444 non-null  float64\n",
      " 6   jp_sales         16444 non-null  float64\n",
      " 7   other_sales      16444 non-null  float64\n",
      " 8   critic_score     16444 non-null  int64  \n",
      " 9   user_score       16444 non-null  float64\n",
      " 10  rating           16444 non-null  object \n",
      " 11  sales            16444 non-null  float64\n",
      "dtypes: float64(6), int64(2), object(4)\n",
      "memory usage: 1.5+ MB\n"
     ]
    }
   ],
   "source": [
    "games['year_of_release'] = games['year_of_release'].astype(int)\n",
    "games.loc[(games['user_score'] == 'tbd') | (games['user_score'].isna()), 'user_score'] = 0\n",
    "games['user_score'] = games['user_score'].astype(float)\n",
    "games.loc[games['critic_score'].isna(), 'critic_score'] = 0\n",
    "games['critic_score'] = games['critic_score'].astype(int)\n",
    "games.loc[games['rating'].isna(), 'rating'] = 'other'\n",
    "games['sales'] = games['na_sales'] + games['eu_sales'] + games['jp_sales'] + games['other_sales']\n",
    "games.info()"
   ]
  },
  {
   "cell_type": "markdown",
   "metadata": {},
   "source": [
    "В столбцах с критикой экспертов и пользователей пропуски были заменены на значение 0. В столбце райтинг, пропуски заменены на 'other'. Строки с пропусками в столбцах name, genre и год релиза удалены, т. к. их количество незначительно и не повлияют на ход исследования. Для дальнейших исследований значение из столбца год релиза и оценка критиков были заменены на целые числа. Так же в столбце оценка пользователя значения \"tbd\" (будет определено) заменено на 0 и все значения переведены на числа, для дальнейщего исследования. Так же был добавлен новый столбец, sales (общие продажи)."
   ]
  },
  {
   "cell_type": "markdown",
   "metadata": {},
   "source": [
    "### Проведение исследования"
   ]
  },
  {
   "cell_type": "markdown",
   "metadata": {},
   "source": [
    "#### Смотрим количество выпущенных игр по годам и делаем срез данных"
   ]
  },
  {
   "cell_type": "code",
   "execution_count": 8,
   "metadata": {},
   "outputs": [
    {
     "data": {
      "image/png": "[encoded data removed]",
      "text/plain": [
       "<Figure size 432x288 with 1 Axes>"
      ]
     },
     "metadata": {
      "needs_background": "light"
     },
     "output_type": "display_data"
    }
   ],
   "source": [
    "games['year_of_release'].plot(kind='hist', bins=len(games['year_of_release'].unique()), \\\n",
    "                              grid=True, title='Количество выпущенных игр по годам');\n",
    "plt.xlabel('Год релиза')\n",
    "plt.ylabel('Кол-во выпущенных игр');"
   ]
  },
  {
   "cell_type": "markdown",
   "metadata": {},
   "source": [
    "По гистограмме видим что основной пик вышедших игр приходится на 2007 и 2008 год."
   ]
  },
  {
   "cell_type": "markdown",
   "metadata": {},
   "source": [
    "#### Ищем топ платформ по продажам, и изучаем их цикл"
   ]
  },
  {
   "cell_type": "code",
   "execution_count": 9,
   "metadata": {},
   "outputs": [],
   "source": [
    "# Удаляем выброс по платформе DS\n",
    "games.loc[(games['platform'] == 'DS') & (games['year_of_release'] == 1985)]\n",
    "games = games.drop(labels=15704).reset_index(drop=True)"
   ]
  },
  {
   "cell_type": "code",
   "execution_count": 10,
   "metadata": {},
   "outputs": [
    {
     "data": {
      "text/html": [
       "<div>\n",
       "<style scoped>\n",
       "    .dataframe tbody tr th:only-of-type {\n",
       "        vertical-align: middle;\n",
       "    }\n",
       "\n",
       "    .dataframe tbody tr th {\n",
       "        vertical-align: top;\n",
       "    }\n",
       "\n",
       "    .dataframe thead th {\n",
       "        text-align: right;\n",
       "    }\n",
       "</style>\n",
       "<table border=\"1\" class=\"dataframe\">\n",
       "  <thead>\n",
       "    <tr style=\"text-align: right;\">\n",
       "      <th></th>\n",
       "      <th>sales</th>\n",
       "    </tr>\n",
       "    <tr>\n",
       "      <th>platform</th>\n",
       "      <th></th>\n",
       "    </tr>\n",
       "  </thead>\n",
       "  <tbody>\n",
       "    <tr>\n",
       "      <th>PS2</th>\n",
       "      <td>1233.56</td>\n",
       "    </tr>\n",
       "    <tr>\n",
       "      <th>X360</th>\n",
       "      <td>961.24</td>\n",
       "    </tr>\n",
       "    <tr>\n",
       "      <th>PS3</th>\n",
       "      <td>931.34</td>\n",
       "    </tr>\n",
       "    <tr>\n",
       "      <th>Wii</th>\n",
       "      <td>891.18</td>\n",
       "    </tr>\n",
       "    <tr>\n",
       "      <th>DS</th>\n",
       "      <td>802.76</td>\n",
       "    </tr>\n",
       "    <tr>\n",
       "      <th>PS</th>\n",
       "      <td>727.58</td>\n",
       "    </tr>\n",
       "    <tr>\n",
       "      <th>PS4</th>\n",
       "      <td>314.14</td>\n",
       "    </tr>\n",
       "    <tr>\n",
       "      <th>GBA</th>\n",
       "      <td>312.88</td>\n",
       "    </tr>\n",
       "    <tr>\n",
       "      <th>PSP</th>\n",
       "      <td>289.53</td>\n",
       "    </tr>\n",
       "    <tr>\n",
       "      <th>3DS</th>\n",
       "      <td>257.81</td>\n",
       "    </tr>\n",
       "  </tbody>\n",
       "</table>\n",
       "</div>"
      ],
      "text/plain": [
       "            sales\n",
       "platform         \n",
       "PS2       1233.56\n",
       "X360       961.24\n",
       "PS3        931.34\n",
       "Wii        891.18\n",
       "DS         802.76\n",
       "PS         727.58\n",
       "PS4        314.14\n",
       "GBA        312.88\n",
       "PSP        289.53\n",
       "3DS        257.81"
      ]
     },
     "execution_count": 10,
     "metadata": {},
     "output_type": "execute_result"
    },
    {
     "data": {
      "image/png": "[encoded data removed]",
      "text/plain": [
       "<Figure size 432x288 with 1 Axes>"
      ]
     },
     "metadata": {
      "needs_background": "light"
     },
     "output_type": "display_data"
    },
    {
     "data": {
      "text/plain": [
       "<Figure size 720x576 with 0 Axes>"
      ]
     },
     "metadata": {},
     "output_type": "display_data"
    }
   ],
   "source": [
    "#games = games.loc[(games['platform'] != 'DS') & (games['year_of_release'] != 1985)]\n",
    "top_platforms = games.groupby('platform').agg({'sales' : 'sum'}).sort_values(by='sales', ascending=False)\n",
    "top_5_platforms = top_platforms[0 : 5]\n",
    "for i in top_5_platforms.index:\n",
    "    plt.plot(games.loc[games['platform'] == i].pivot_table(index='year_of_release', values='sales', aggfunc='sum'), \\\n",
    "             label=i);\n",
    "plt.legend();\n",
    "plt.title('Продажи платформ по годам');\n",
    "plt.figure(figsize=(10, 8));\n",
    "top_platforms.head(10)"
   ]
  },
  {
   "cell_type": "markdown",
   "metadata": {},
   "source": [
    "Выше видим топ 10 платформ по количеству продаж. Так же построили график из 5 лидеров продаж по годам. Из него видно, что в основном цикл каждой платформы окло 10 лет. Пик продаж происходит на 5 год, после идет постепенное падение."
   ]
  },
  {
   "cell_type": "markdown",
   "metadata": {},
   "source": [
    "#### Делаем срез и смотрим лидеров продаж"
   ]
  },
  {
   "cell_type": "code",
   "execution_count": 11,
   "metadata": {},
   "outputs": [
    {
     "data": {
      "image/png": "[encoded data removed]",
      "text/plain": [
       "<Figure size 2880x576 with 1 Axes>"
      ]
     },
     "metadata": {
      "needs_background": "light"
     },
     "output_type": "display_data"
    }
   ],
   "source": [
    "#Делаем срез из 5 лет\n",
    "games2011 = games.query('year_of_release >= 2011')\n",
    "#Выводим список лидеров продаж в эти 5 лет\n",
    "games2011_top_10 = games2011.pivot_table(index='platform', \n",
    "                                         values='sales', \n",
    "                                         aggfunc='sum')\\\n",
    ".sort_values(by='sales', ascending=False)\n",
    "\n",
    "games2011_top_10 = games2011_top_10[0:10]\n",
    "#Делаем датафрейм состоящий из 10 лидеров продаж в предыдущие 5 лет\n",
    "games2011_data = games2011.loc[games2011['platform'].isin(games2011_top_10.index)]\n",
    "    \n",
    "games2011_data\n",
    "# Составляем график продаж платформ по годам\n",
    "ax = sns.barplot(x='year_of_release',\n",
    "                y=\"sales\",\n",
    "                hue='platform',\n",
    "                data=games2011_data)\n",
    "fig = plt.gcf()\n",
    "fig.set_size_inches(40, 8)\n",
    "ax.set_title('Продажи платформ по годам', size = 40)\n",
    "ax.set_xlabel('Года', size = 30)\n",
    "ax.set_ylabel('Продажи', size = 30)\n",
    "ax.xaxis.set_tick_params(labelsize = 20)\n",
    "ax.yaxis.set_tick_params(labelsize = 20)\n",
    "plt.legend(fontsize=20);"
   ]
  },
  {
   "cell_type": "markdown",
   "metadata": {},
   "source": [
    "На данном этапе, я сделал выборку исходя из продаж топ 10 платформ, за последние 6 лет.  После построил график показывающий сумму продаж каждой платформы за последние 6 лет. Из графика видно, что пик продаж пришелся на 2013 год и к 2016 году продажи падают по всем платформам. Потенциально прибыльные платформы PS4, 3DS, XOne, WiiU, PC. В перечень был включен, так же PC, так как за прошедщие годы уверенно держит свое количество клиентов."
   ]
  },
  {
   "cell_type": "markdown",
   "metadata": {},
   "source": [
    "#### Смотрим количество продаж игр по платформам"
   ]
  },
  {
   "cell_type": "code",
   "execution_count": 12,
   "metadata": {},
   "outputs": [
    {
     "data": {
      "text/html": [
       "<div>\n",
       "<style scoped>\n",
       "    .dataframe tbody tr th:only-of-type {\n",
       "        vertical-align: middle;\n",
       "    }\n",
       "\n",
       "    .dataframe tbody tr th {\n",
       "        vertical-align: top;\n",
       "    }\n",
       "\n",
       "    .dataframe thead th {\n",
       "        text-align: right;\n",
       "    }\n",
       "</style>\n",
       "<table border=\"1\" class=\"dataframe\">\n",
       "  <thead>\n",
       "    <tr style=\"text-align: right;\">\n",
       "      <th></th>\n",
       "      <th>name</th>\n",
       "      <th>platform</th>\n",
       "      <th>year_of_release</th>\n",
       "      <th>genre</th>\n",
       "      <th>na_sales</th>\n",
       "      <th>eu_sales</th>\n",
       "      <th>jp_sales</th>\n",
       "      <th>other_sales</th>\n",
       "      <th>critic_score</th>\n",
       "      <th>user_score</th>\n",
       "      <th>rating</th>\n",
       "      <th>sales</th>\n",
       "    </tr>\n",
       "  </thead>\n",
       "  <tbody>\n",
       "    <tr>\n",
       "      <th>0</th>\n",
       "      <td>Call of Duty: Black Ops 3</td>\n",
       "      <td>PS4</td>\n",
       "      <td>2015</td>\n",
       "      <td>Shooter</td>\n",
       "      <td>6.03</td>\n",
       "      <td>5.86</td>\n",
       "      <td>0.36</td>\n",
       "      <td>2.38</td>\n",
       "      <td>0</td>\n",
       "      <td>0.0</td>\n",
       "      <td>other</td>\n",
       "      <td>14.63</td>\n",
       "    </tr>\n",
       "    <tr>\n",
       "      <th>1</th>\n",
       "      <td>Grand Theft Auto V</td>\n",
       "      <td>PS4</td>\n",
       "      <td>2014</td>\n",
       "      <td>Action</td>\n",
       "      <td>3.96</td>\n",
       "      <td>6.31</td>\n",
       "      <td>0.38</td>\n",
       "      <td>1.97</td>\n",
       "      <td>97</td>\n",
       "      <td>8.3</td>\n",
       "      <td>M</td>\n",
       "      <td>12.62</td>\n",
       "    </tr>\n",
       "    <tr>\n",
       "      <th>2</th>\n",
       "      <td>Pokemon Omega Ruby/Pokemon Alpha Sapphire</td>\n",
       "      <td>3DS</td>\n",
       "      <td>2014</td>\n",
       "      <td>Role-Playing</td>\n",
       "      <td>4.35</td>\n",
       "      <td>3.49</td>\n",
       "      <td>3.10</td>\n",
       "      <td>0.74</td>\n",
       "      <td>0</td>\n",
       "      <td>0.0</td>\n",
       "      <td>other</td>\n",
       "      <td>11.68</td>\n",
       "    </tr>\n",
       "    <tr>\n",
       "      <th>3</th>\n",
       "      <td>FIFA 16</td>\n",
       "      <td>PS4</td>\n",
       "      <td>2015</td>\n",
       "      <td>Sports</td>\n",
       "      <td>1.12</td>\n",
       "      <td>6.12</td>\n",
       "      <td>0.06</td>\n",
       "      <td>1.28</td>\n",
       "      <td>82</td>\n",
       "      <td>4.3</td>\n",
       "      <td>E</td>\n",
       "      <td>8.58</td>\n",
       "    </tr>\n",
       "    <tr>\n",
       "      <th>4</th>\n",
       "      <td>Star Wars Battlefront (2015)</td>\n",
       "      <td>PS4</td>\n",
       "      <td>2015</td>\n",
       "      <td>Shooter</td>\n",
       "      <td>2.99</td>\n",
       "      <td>3.49</td>\n",
       "      <td>0.22</td>\n",
       "      <td>1.28</td>\n",
       "      <td>0</td>\n",
       "      <td>0.0</td>\n",
       "      <td>other</td>\n",
       "      <td>7.98</td>\n",
       "    </tr>\n",
       "  </tbody>\n",
       "</table>\n",
       "</div>"
      ],
      "text/plain": [
       "                                        name platform  year_of_release  \\\n",
       "0                  Call of Duty: Black Ops 3      PS4             2015   \n",
       "1                         Grand Theft Auto V      PS4             2014   \n",
       "2  Pokemon Omega Ruby/Pokemon Alpha Sapphire      3DS             2014   \n",
       "3                                    FIFA 16      PS4             2015   \n",
       "4               Star Wars Battlefront (2015)      PS4             2015   \n",
       "\n",
       "          genre  na_sales  eu_sales  jp_sales  other_sales  critic_score  \\\n",
       "0       Shooter      6.03      5.86      0.36         2.38             0   \n",
       "1        Action      3.96      6.31      0.38         1.97            97   \n",
       "2  Role-Playing      4.35      3.49      3.10         0.74             0   \n",
       "3        Sports      1.12      6.12      0.06         1.28            82   \n",
       "4       Shooter      2.99      3.49      0.22         1.28             0   \n",
       "\n",
       "   user_score rating  sales  \n",
       "0         0.0  other  14.63  \n",
       "1         8.3      M  12.62  \n",
       "2         0.0  other  11.68  \n",
       "3         4.3      E   8.58  \n",
       "4         0.0  other   7.98  "
      ]
     },
     "execution_count": 12,
     "metadata": {},
     "output_type": "execute_result"
    }
   ],
   "source": [
    "#Делаем срез из 3 лет\n",
    "games2014 = games.query('year_of_release >= 2014')\n",
    "#Выводим список лидеров продаж в эти 3 года\n",
    "games2014_top_10 = games2014.pivot_table(index='platform', \n",
    "                                         values='sales', \n",
    "                                         aggfunc='sum')\\\n",
    ".sort_values(by='sales', ascending=False)\n",
    "\n",
    "games2014_top_10 = games2014_top_10[0:10]\n",
    "#Делаем датафрейм состоящий из 10 лидеров продаж в предыдущие 3 года\n",
    "games2014_data = games2014.loc[games2011['platform'].isin(games2014_top_10.index)].reset_index(drop=True)\n",
    "    \n",
    "games2014_data.head()"
   ]
  },
  {
   "cell_type": "markdown",
   "metadata": {},
   "source": [
    "Для дальнейщего исследования делаю срез за последние 3 года, чтоб максимально определить тренды на 2017 год. Так как 2016 год еще не закончен и полные выводы по нему делать рано, то по факту получается 2 полных года."
   ]
  },
  {
   "cell_type": "code",
   "execution_count": 13,
   "metadata": {},
   "outputs": [
    {
     "data": {
      "image/png": "[encoded data removed]",
      "text/plain": [
       "<Figure size 1080x720 with 1 Axes>"
      ]
     },
     "metadata": {
      "needs_background": "light"
     },
     "output_type": "display_data"
    },
    {
     "data": {
      "image/png": "[encoded data removed]",
      "text/plain": [
       "<Figure size 1080x576 with 1 Axes>"
      ]
     },
     "metadata": {
      "needs_background": "light"
     },
     "output_type": "display_data"
    }
   ],
   "source": [
    "#Строим графики боксплот\n",
    "ax = sns.boxplot(x='platform',\n",
    "                y=\"sales\",\n",
    "                data=games2014_data)\n",
    "fig = plt.gcf()\n",
    "fig.set_size_inches(15, 10)\n",
    "ax.set_title('Продажи по платформам')\n",
    "ax.set_xlabel('Платформы')\n",
    "ax.set_ylabel('Продажи');\n",
    "plt.show()\n",
    "ax = sns.boxplot(x='platform',\n",
    "                y=\"sales\",\n",
    "                data=games2014_data)\n",
    "fig = plt.gcf()\n",
    "fig.set_size_inches(15, 8)\n",
    "ax.set_title('Продажи по платформам')\n",
    "ax.set_xlabel('Платформы')\n",
    "ax.set_ylabel('Продажи');\n",
    "plt.ylim(0, 2);\n",
    "plt.show()"
   ]
  },
  {
   "cell_type": "markdown",
   "metadata": {},
   "source": [
    "Из графика боксплот мы видим, что у топ 5 лидеров за последние 3 года, продажи игр держется в среднем 0.4 млн копий продаж. Но видно, особенно у лидеров, что есть игры, продажи которых аномально высокие. Данные игры можно назвать \"Локомативами\" платформ. Их продажи значительно отличаются от рядовых игр."
   ]
  },
  {
   "cell_type": "markdown",
   "metadata": {},
   "source": [
    "#### Изучаем взаимосвязь отзывов и продажам игр"
   ]
  },
  {
   "cell_type": "code",
   "execution_count": 14,
   "metadata": {},
   "outputs": [
    {
     "name": "stdout",
     "output_type": "stream",
     "text": [
      "Корреляция между отзывами критиков и продажами: 0.40190287811475334\n",
      "Корреляция между отзывами пользователей и продажами: -0.04318585997193634\n"
     ]
    },
    {
     "data": {
      "image/png": "[encoded data removed]",
      "text/plain": [
       "<Figure size 432x288 with 1 Axes>"
      ]
     },
     "metadata": {
      "needs_background": "light"
     },
     "output_type": "display_data"
    },
    {
     "data": {
      "image/png": "[encoded data removed]",
      "text/plain": [
       "<Figure size 432x288 with 1 Axes>"
      ]
     },
     "metadata": {
      "needs_background": "light"
     },
     "output_type": "display_data"
    }
   ],
   "source": [
    "#Строим графики диаграмму рассеяния, и смотрим корреляцию для PS4\n",
    "games2014_ps4 = games2014_data.query('platform == \"PS4\" and critic_score >= 1 and user_score >= 1')\n",
    "games2014_ps4.plot(x='critic_score',\n",
    "                   y='sales',\n",
    "                   style='o',\n",
    "                   grid=True,\n",
    "                   alpha=0.3,\n",
    "                   title='Отзывов критиков', xlabel='Отзывы критиков', ylabel='Продажи', label='Продажи');\n",
    "games2014_ps4.plot(x='user_score',\n",
    "                   y='sales',\n",
    "                   style='o',\n",
    "                   grid=True,\n",
    "                   alpha=0.3,\n",
    "                   title='Отзывов пользователей', xlabel='Отзывы пользователей', ylabel='Продажи', label='Продажи');\n",
    "print('Корреляция между отзывами критиков и продажами:', games2014_ps4['critic_score'].corr(games2014_ps4['sales']))\n",
    "print('Корреляция между отзывами пользователей и продажами:', games2014_ps4['user_score'].corr(games2014_ps4['sales']))"
   ]
  },
  {
   "cell_type": "code",
   "execution_count": 15,
   "metadata": {},
   "outputs": [
    {
     "name": "stdout",
     "output_type": "stream",
     "text": [
      "Корреляция между отзывами критиков и продажами: 0.42211185105557647\n",
      "Корреляция между отзывами пользователей и продажами: -0.0917343450331075\n"
     ]
    },
    {
     "data": {
      "image/png": "[encoded data removed]",
      "text/plain": [
       "<Figure size 432x288 with 1 Axes>"
      ]
     },
     "metadata": {
      "needs_background": "light"
     },
     "output_type": "display_data"
    },
    {
     "data": {
      "image/png": "[encoded data removed]",
      "text/plain": [
       "<Figure size 432x288 with 1 Axes>"
      ]
     },
     "metadata": {
      "needs_background": "light"
     },
     "output_type": "display_data"
    }
   ],
   "source": [
    "#Строим графики диаграмму рассеяния, и смотрим корреляцию для Xone\n",
    "games2014_xone = games2014_data.query('platform == \"XOne\" and critic_score >= 1 and user_score >= 1')\n",
    "games2014_xone.plot(x='critic_score',\n",
    "                   y='sales',\n",
    "                   style='o',\n",
    "                   grid=True,\n",
    "                   alpha=0.3,\n",
    "                   title='Отзывов критиков', xlabel='Отзывы критиков', ylabel='Продажи', label='Продажи');\n",
    "games2014_xone.plot(x='user_score',\n",
    "                   y='sales',\n",
    "                   style='o',\n",
    "                   grid=True,\n",
    "                   alpha=0.3,\n",
    "                   title='Отзывов пользователей', xlabel='Отзывы пользователей', ylabel='Продажи', label='Продажи');\n",
    "print('Корреляция между отзывами критиков и продажами:', games2014_xone['critic_score'].corr(games2014_xone['sales']))\n",
    "print('Корреляция между отзывами пользователей и продажами:', games2014_xone['user_score'].corr(games2014_xone['sales']))"
   ]
  },
  {
   "cell_type": "code",
   "execution_count": 16,
   "metadata": {},
   "outputs": [
    {
     "name": "stdout",
     "output_type": "stream",
     "text": [
      "Корреляция между отзывами критиков и продажами: 0.3756402218389979\n",
      "Корреляция между отзывами пользователей и продажами: 0.4114513876908575\n"
     ]
    },
    {
     "data": {
      "image/png": "[encoded data removed]",
      "text/plain": [
       "<Figure size 432x288 with 1 Axes>"
      ]
     },
     "metadata": {
      "needs_background": "light"
     },
     "output_type": "display_data"
    },
    {
     "data": {
      "image/png": "[encoded data removed]",
      "text/plain": [
       "<Figure size 432x288 with 1 Axes>"
      ]
     },
     "metadata": {
      "needs_background": "light"
     },
     "output_type": "display_data"
    }
   ],
   "source": [
    "#Строим графики диаграмму рассеяния, и смотрим корреляцию для WiiU\n",
    "games2014_wiiu = games2014_data.query('platform == \"WiiU\" and critic_score >= 1 and user_score >= 1')\n",
    "games2014_wiiu.plot(x='critic_score',\n",
    "                   y='sales',\n",
    "                   style='o',\n",
    "                   grid=True,\n",
    "                   alpha=0.3,\n",
    "                   title='Отзывов критиков', xlabel='Отзывы критиков', ylabel='Продажи', label='Продажи');\n",
    "games2014_wiiu.plot(x='user_score',\n",
    "                   y='sales',\n",
    "                   style='o',\n",
    "                   grid=True,\n",
    "                   alpha=0.3,\n",
    "                   title='Отзывов пользователей', xlabel='Отзывы пользователей', ylabel='Продажи', label='Продажи');\n",
    "print('Корреляция между отзывами критиков и продажами:', games2014_wiiu['critic_score'].corr(games2014_wiiu['sales']))\n",
    "print('Корреляция между отзывами пользователей и продажами:', games2014_wiiu['user_score'].corr(games2014_wiiu['sales']))"
   ]
  },
  {
   "cell_type": "code",
   "execution_count": 17,
   "metadata": {},
   "outputs": [
    {
     "name": "stdout",
     "output_type": "stream",
     "text": [
      "Корреляция между отзывами критиков и продажами: 0.17206091490145103\n",
      "Корреляция между отзывами пользователей и продажами: -0.08997391228554938\n"
     ]
    },
    {
     "data": {
      "image/png": "[encoded data removed]",
      "text/plain": [
       "<Figure size 432x288 with 1 Axes>"
      ]
     },
     "metadata": {
      "needs_background": "light"
     },
     "output_type": "display_data"
    },
    {
     "data": {
      "image/png": "[encoded data removed]",
      "text/plain": [
       "<Figure size 432x288 with 1 Axes>"
      ]
     },
     "metadata": {
      "needs_background": "light"
     },
     "output_type": "display_data"
    }
   ],
   "source": [
    "#Строим графики диаграмму рассеяния, и смотрим корреляцию для PC\n",
    "games2014_pc = games2014_data.query('platform == \"PC\" and critic_score >= 1 and user_score >= 1')\n",
    "games2014_pc.plot(x='critic_score',\n",
    "                   y='sales',\n",
    "                   style='o',\n",
    "                   grid=True,\n",
    "                   alpha=0.3,\n",
    "                   title='Отзывов критиков', xlabel='Отзывы критиков', ylabel='Продажи', label='Продажи');\n",
    "games2014_pc.plot(x='user_score',\n",
    "                   y='sales',\n",
    "                   style='o',\n",
    "                   grid=True,\n",
    "                   alpha=0.3,\n",
    "                   title='Отзывов пользователей', xlabel='Отзывы пользователей', ylabel='Продажи', label='Продажи');\n",
    "print('Корреляция между отзывами критиков и продажами:', games2014_pc['critic_score'].corr(games2014_pc['sales']))\n",
    "print('Корреляция между отзывами пользователей и продажами:', games2014_pc['user_score'].corr(games2014_pc['sales']))"
   ]
  },
  {
   "cell_type": "markdown",
   "metadata": {},
   "source": [
    "Из графиков мы видим, что количество продаж тесно связанны с отзывами критиков, что мы так же видим на корреляции. Отзывы пользователей не так влияют на продажи, что так же показала корреляция. Однако на платформе WiiU мы видим, что на продажи так же сильно влияют и оценки пользователей. Не стоит сбрасывать со счетов мнение пользователей. Пользователи в данных случаях могут быть более требовательны к играм. Так же в данных мало информации, чтоб можно было смело сказать, что пользователи мало влияют на продажи.  Из данных были убранны значения со значением 0, чтоб не исказить исследование, так как до этого пропуски мы заполняли 0. По графикам так же видно, что аномальные значения по продажам сопровождаются с высоким рейтингом от критиков. На других платформах мы видим, что есть игры с аномально высокими продажами. Можно предположить, что они так же тесно связаны с оценкой критиков."
   ]
  },
  {
   "cell_type": "markdown",
   "metadata": {},
   "source": [
    "#### Смотрим кол-во продаж по жанрам"
   ]
  },
  {
   "cell_type": "code",
   "execution_count": 18,
   "metadata": {},
   "outputs": [
    {
     "data": {
      "image/png": "[encoded data removed]",
      "text/plain": [
       "<Figure size 1800x720 with 1 Axes>"
      ]
     },
     "metadata": {
      "needs_background": "light"
     },
     "output_type": "display_data"
    },
    {
     "data": {
      "image/png": "[encoded data removed]",
      "text/plain": [
       "<Figure size 1080x576 with 1 Axes>"
      ]
     },
     "metadata": {
      "needs_background": "light"
     },
     "output_type": "display_data"
    }
   ],
   "source": [
    "#Строим боксплот по жанрам\n",
    "ax = sns.boxplot(x='genre',\n",
    "                y=\"sales\",\n",
    "                data=games2014_data)\n",
    "fig = plt.gcf()\n",
    "fig.set_size_inches(25, 10)\n",
    "ax.set_title('Продажи игр по жанрам', size=30)\n",
    "ax.set_xlabel('Жанры')\n",
    "ax.set_ylabel('Продажи');\n",
    "plt.show()\n",
    "ax = sns.boxplot(x='genre',\n",
    "                y=\"sales\",\n",
    "                data=games2014_data)\n",
    "fig = plt.gcf()\n",
    "fig.set_size_inches(15, 8)\n",
    "ax.set_title('Продажи игр по жанрам')\n",
    "ax.set_xlabel('Жанры')\n",
    "ax.set_ylabel('Продажи');\n",
    "plt.ylim(0, 2);\n",
    "plt.show()"
   ]
  },
  {
   "cell_type": "markdown",
   "metadata": {},
   "source": [
    "Наиболее популярный жанр игр является шутер. Он значительно опережает по продажам остальные жанры. Следующие игры, которые вырываются в пятерку лидеров - это Sport, Platform Role-Playing и Misc с Simulation. Наименее покупаемые игры это Puzzle с Adventure. Так же стоит обратить внимание на жанр Action так как в нем много игр, которые выходят за стандартные рамки продаж, и набирают выше среднего количество продаж"
   ]
  },
  {
   "cell_type": "markdown",
   "metadata": {},
   "source": [
    "### Составление портрета пользователя по каждому региону"
   ]
  },
  {
   "cell_type": "markdown",
   "metadata": {},
   "source": [
    "#### Смотрим какие платформы лидируют по регионам"
   ]
  },
  {
   "cell_type": "code",
   "execution_count": 19,
   "metadata": {},
   "outputs": [],
   "source": [
    "#Делаем срез из 3 лет по топ 5 лидеров продаж по платформам\n",
    "games2014 = games.query('year_of_release >= 2014').reset_index(drop=True)\n",
    "#Выводим список лидеров продаж в эти 3 года\n",
    "platform_top_5 = games2014.pivot_table(index='platform', \n",
    "                                         values='sales', \n",
    "                                         aggfunc='sum')\\\n",
    ".sort_values(by='sales', ascending=False)\n",
    "\n",
    "#Делаем датафрейм состоящий из 5 лидеров продаж\n",
    "platform_top_5 = platform_top_5[0:5]\n",
    "platform_data_top_5 = games2014\n",
    "platform_data_top_5['platform'] = platform_data_top_5['platform'].where(platform_data_top_5['platform'].isin(platform_top_5.index), 'other')\n",
    "#platform_data_top_5 = games2014.loc[games2011['platform'].isin(platform_top_5.index)].reset_index(drop=True)"
   ]
  },
  {
   "cell_type": "code",
   "execution_count": 20,
   "metadata": {},
   "outputs": [
    {
     "data": {
      "text/html": [
       "<div>\n",
       "<style scoped>\n",
       "    .dataframe tbody tr th:only-of-type {\n",
       "        vertical-align: middle;\n",
       "    }\n",
       "\n",
       "    .dataframe tbody tr th {\n",
       "        vertical-align: top;\n",
       "    }\n",
       "\n",
       "    .dataframe thead th {\n",
       "        text-align: right;\n",
       "    }\n",
       "</style>\n",
       "<table border=\"1\" class=\"dataframe\">\n",
       "  <thead>\n",
       "    <tr style=\"text-align: right;\">\n",
       "      <th></th>\n",
       "      <th>sales</th>\n",
       "    </tr>\n",
       "    <tr>\n",
       "      <th>genre</th>\n",
       "      <th></th>\n",
       "    </tr>\n",
       "  </thead>\n",
       "  <tbody>\n",
       "    <tr>\n",
       "      <th>Action</th>\n",
       "      <td>199.36</td>\n",
       "    </tr>\n",
       "    <tr>\n",
       "      <th>Shooter</th>\n",
       "      <td>170.94</td>\n",
       "    </tr>\n",
       "    <tr>\n",
       "      <th>Sports</th>\n",
       "      <td>109.48</td>\n",
       "    </tr>\n",
       "    <tr>\n",
       "      <th>Role-Playing</th>\n",
       "      <td>101.44</td>\n",
       "    </tr>\n",
       "    <tr>\n",
       "      <th>Misc</th>\n",
       "      <td>37.55</td>\n",
       "    </tr>\n",
       "  </tbody>\n",
       "</table>\n",
       "</div>"
      ],
      "text/plain": [
       "               sales\n",
       "genre               \n",
       "Action        199.36\n",
       "Shooter       170.94\n",
       "Sports        109.48\n",
       "Role-Playing  101.44\n",
       "Misc           37.55"
      ]
     },
     "execution_count": 20,
     "metadata": {},
     "output_type": "execute_result"
    }
   ],
   "source": [
    "#Делаем срез из 3 лет по топ 5 лидеров продаж по жанрам\n",
    "games2014 = games.query('year_of_release >= 2014').reset_index(drop=True)\n",
    "#Выводим список лидеров продаж в эти 3 года\n",
    "genre_top_5 = games2014.pivot_table(index='genre', \n",
    "                                         values='sales', \n",
    "                                         aggfunc='sum')\\\n",
    ".sort_values(by='sales', ascending=False)\n",
    "\n",
    "#Делаем датафрейм состоящий из 5 лидеров продаж\n",
    "genre_top_5 = genre_top_5[0:5]\n",
    "genre_data_top_5 = games2014\n",
    "genre_data_top_5['genre'] = genre_data_top_5['genre'].where(genre_data_top_5['genre'].isin(genre_top_5.index), 'other')\n",
    "#genre_data_top_5 = games2014.loc[games2011['genre'].isin(genre_top_5.index)].reset_index(drop=True)\n",
    "genre_top_5"
   ]
  },
  {
   "cell_type": "code",
   "execution_count": 21,
   "metadata": {},
   "outputs": [
    {
     "data": {
      "image/png": "[encoded data removed]",
      "text/plain": [
       "<Figure size 1440x576 with 3 Axes>"
      ]
     },
     "metadata": {
      "needs_background": "light"
     },
     "output_type": "display_data"
    }
   ],
   "source": [
    "#Составляем графики продаж по регионам в зависимости от платформы\n",
    "plt.subplot(1, 3, 1)\n",
    "ax = sns.barplot(x='platform',\n",
    "                y=\"na_sales\",\n",
    "                data=platform_data_top_5)\n",
    "ax.set_title('Продажи в Северной Америке по платформам')\n",
    "ax.set_xlabel('Платформы')\n",
    "ax.set_ylabel('Продажи')\n",
    "plt.subplot(1, 3, 2)\n",
    "ax = sns.barplot(x='platform',\n",
    "                y=\"eu_sales\",\n",
    "                data=platform_data_top_5)\n",
    "ax.set_title('Продажи в Европе по платформам')\n",
    "ax.set_xlabel('Платформы')\n",
    "ax.set_ylabel('Продажи')\n",
    "plt.subplot(1, 3, 3)\n",
    "ax = sns.barplot(x='platform',\n",
    "                y=\"jp_sales\",\n",
    "                data=platform_data_top_5)\n",
    "ax.set_title('Продажи в Японии по платформам')\n",
    "ax.set_xlabel('Платформы')\n",
    "ax.set_ylabel('Продажи')\n",
    "fig = plt.gcf()\n",
    "fig.set_size_inches(20, 8)\n",
    "fig.suptitle('Продажи по платформам в разных регионах')\n",
    "plt.show()"
   ]
  },
  {
   "cell_type": "markdown",
   "metadata": {},
   "source": [
    "Предпочтение приставок в разных регионах отличается. Последние 3 года в Северное Америке предпочтение отдают ХOne, в Европе - PS4, в Японии - 3DS."
   ]
  },
  {
   "cell_type": "markdown",
   "metadata": {},
   "source": [
    "#### Смотрим какие жанры лидируют по регионам"
   ]
  },
  {
   "cell_type": "code",
   "execution_count": 22,
   "metadata": {},
   "outputs": [
    {
     "data": {
      "image/png": "[encoded data removed]",
      "text/plain": [
       "<Figure size 1440x576 with 3 Axes>"
      ]
     },
     "metadata": {
      "needs_background": "light"
     },
     "output_type": "display_data"
    }
   ],
   "source": [
    "#Составляем графики продаж по регионам в зависимости от жанра\n",
    "plt.subplot(1, 3, 1)\n",
    "ax = sns.barplot(x='genre',\n",
    "                y=\"na_sales\",\n",
    "                data=genre_data_top_5)\n",
    "ax.set_title('Продажи в Северной Америке по жанрам')\n",
    "ax.set_xlabel('Жанр')\n",
    "ax.set_ylabel('Продажи')\n",
    "plt.subplot(1, 3, 2)\n",
    "ax = sns.barplot(x='genre',\n",
    "                y=\"eu_sales\",\n",
    "                data=genre_data_top_5)\n",
    "ax.set_title('Продажи в Европе по жанрам')\n",
    "ax.set_xlabel('Жанр')\n",
    "ax.set_ylabel('Продажи')\n",
    "plt.subplot(1, 3, 3)\n",
    "ax = sns.barplot(x='genre',\n",
    "                y=\"jp_sales\",\n",
    "                data=genre_data_top_5)\n",
    "ax.set_title('Продажи в Японии по жанрам')\n",
    "ax.set_xlabel('Жанр')\n",
    "ax.set_ylabel('Продажи')\n",
    "fig = plt.gcf()\n",
    "fig.set_size_inches(20, 8)\n",
    "fig.suptitle('Продажи по жанрам в разных регионах')\n",
    "plt.show()"
   ]
  },
  {
   "cell_type": "markdown",
   "metadata": {},
   "source": [
    "Наиболее популярный жанр в Северной Америке и Европе за последние 3 года - шутер. Вкусы Японцев немного отличаются, наиболее продаваемый жанр это Role-Playing"
   ]
  },
  {
   "cell_type": "markdown",
   "metadata": {},
   "source": [
    "#### Изучаем как влияет рейтинг игр по регионам"
   ]
  },
  {
   "cell_type": "code",
   "execution_count": 23,
   "metadata": {},
   "outputs": [
    {
     "data": {
      "image/png": "[encoded data removed]",
      "text/plain": [
       "<Figure size 432x288 with 1 Axes>"
      ]
     },
     "metadata": {
      "needs_background": "light"
     },
     "output_type": "display_data"
    }
   ],
   "source": [
    "#Строим график по количеству продаж в регионах, в зависимости от рейтинга\n",
    "games2014.pivot_table(index='rating', values=['na_sales', 'eu_sales', 'jp_sales'], aggfunc='sum')\\\n",
    ".plot(kind='bar',\n",
    "      title='Продажи по регионам по рейтингу',\n",
    "     xlabel='Рейтинг',\n",
    "     ylabel='Кол. продаж');"
   ]
  },
  {
   "cell_type": "markdown",
   "metadata": {},
   "source": [
    "В Северной Америке и Европе зависимость продаж в последние 3 года, так же зависит от рейтинга. Самые продаваемые игры - игры с пометкой \"Для взрослых\", третье по популярности \"Игры для всех\". В отличии от предыдущих двух регионов, в Японии продажи игр менее зависимы от рейтинга. Так же необходимо проверить пропуски в колонке рейтинг. Так как в регионах рейтинги или рейтинг, которые не были определенны,  имеют существенный вклад в продажи. Особенно большое влияние на регион Японии. Неопределенные рейтинг в Японии в 6 раз выше, рейтингов, которые были определенны. "
   ]
  },
  {
   "cell_type": "markdown",
   "metadata": {},
   "source": [
    "### Проверка гипотез"
   ]
  },
  {
   "cell_type": "markdown",
   "metadata": {},
   "source": [
    "#### Проверяем гипотизу 1"
   ]
  },
  {
   "cell_type": "markdown",
   "metadata": {},
   "source": [
    "Средние пользовательские рейтинги платформ Xbox One и PC одинаковые\n",
    "```\n",
    "H_0: Средний пользовательский рейтинг (user_score) пользователей \"Xbox\" = Средний пользовательский рейтинг (user_score) пользователей \"PC\"\n",
    "H_a: Средний пользовательский рейтинг (user_score) пользователей \"Xbox\" ≠ Средний пользовательский рейтинг (user_score) пользователей \"PC\"\n",
    "alpha = 0.05\n",
    "```"
   ]
  },
  {
   "cell_type": "code",
   "execution_count": 24,
   "metadata": {},
   "outputs": [
    {
     "name": "stdout",
     "output_type": "stream",
     "text": [
      "Вероятность получить такое же значение: 10.5%\n",
      "Не получилось отвергнуть нулевую гипотезу\n"
     ]
    }
   ],
   "source": [
    "games_user_score = games.query('user_score >= 1 and year_of_release >= 2014')\n",
    "# results = вызов метода для проверки гипотезы\n",
    "results = st.ttest_ind(games_user_score[games_user_score['platform']=='XOne']['user_score'], \\\n",
    "                       games_user_score[games_user_score['platform']=='PC']['user_score'])\n",
    "# alpha = задайте значение уровня значимости\n",
    "alpha = 0.05\n",
    "# вывод значения p-value на экран\n",
    "print(f'Вероятность получить такое же значение: {results.pvalue:.1%}')\n",
    "# условный оператор с выводом строки с ответом\n",
    "if results.pvalue < alpha:\n",
    "    print('Отвергаем нулевую гипотезу')\n",
    "else:\n",
    "    print('Не получилось отвергнуть нулевую гипотезу')"
   ]
  },
  {
   "cell_type": "markdown",
   "metadata": {},
   "source": [
    "#### Проверяем гипотизу 2"
   ]
  },
  {
   "cell_type": "markdown",
   "metadata": {},
   "source": [
    "Средние пользовательские рейтинги жанров Action и Sports разные.\n",
    "```\n",
    "H_0: Средний пользовательский рейтинг (user_score) жанров \"Action\" = Средний пользовательский рейтинг (user_score) пользователей \"Sports\"\n",
    "H_a: ССредний пользовательский рейтинг (user_score) жанров \"Action\" ≠ Средний пользовательский рейтинг (user_score) пользователей \"Sports\"\n",
    "alpha = 0.05\n",
    "```"
   ]
  },
  {
   "cell_type": "code",
   "execution_count": 25,
   "metadata": {},
   "outputs": [
    {
     "name": "stdout",
     "output_type": "stream",
     "text": [
      "Вероятность получить такое же значение: 0.0%\n",
      "Отвергаем нулевую гипотезу\n"
     ]
    }
   ],
   "source": [
    "# results = вызов метода для проверки гипотезы\n",
    "results = st.ttest_ind(games_user_score[games_user_score['genre']=='Action']['user_score'], \\\n",
    "                       games_user_score[games_user_score['genre']=='Sports']['user_score'])\n",
    "# alpha = задайте значение уровня значимости\n",
    "alpha = 0.05\n",
    "# вывод значения p-value на экран\n",
    "print(f'Вероятность получить такое же значение: {results.pvalue:.1%}')\n",
    "# условный оператор с выводом строки с ответом\n",
    "if results.pvalue < alpha:\n",
    "    print('Отвергаем нулевую гипотезу')\n",
    "else:\n",
    "    print('Не получилось отвергнуть нулевую гипотезу')"
   ]
  },
  {
   "cell_type": "markdown",
   "metadata": {},
   "source": [
    "В данном разделе было проведено два исследования. Перед исследованиями из колонки рейтинг пользователей было удалено значение 0, которым мы меняли значения tbd и пропуски, чтоб не исказить результаты. В обоих случаях мы сравнивали равны ли средние оценки пользователей. Гипотезы были проверены методом равенства средних двух генеральных совокупностей.\n",
    "Исследование показало, что средняя оценка пользователя платформы xbox отличается от оценки пользователей PC.\n",
    "В то же время, средняя оценка игроков игр в жанрах экшен и спорт примерно равны."
   ]
  },
  {
   "cell_type": "code",
   "execution_count": 26,
   "metadata": {},
   "outputs": [
    {
     "name": "stdout",
     "output_type": "stream",
     "text": [
      "p-значение: 0.1912450522572209\n",
      "Не получилось отвергнуть нулевую гипотезу\n"
     ]
    }
   ],
   "source": [
    "# Приведены два датасета: сумма покупок, совершённых за месяц посетителями ...\n",
    "\n",
    "sample_1 = [3071, 3636, 3454, 3151, 2185, 3259, 1727, 2263, 2015,\n",
    "2582, 4815, 633, 3186, 887, 2028, 3589, 2564, 1422, 1785,\n",
    "3180, 1770, 2716, 2546, 1848, 4644, 3134, 475, 2686,\n",
    "1838, 3352]\n",
    "sample_2 = [1211, 1228, 2157, 3699, 600, 1898, 1688, 1420, 5048, 3007,\n",
    "509, 3777, 5583, 3949, 121, 1674, 4300, 1338, 3066,\n",
    "3562, 1010, 2311, 462, 863, 2021, 528, 1849, 255,\n",
    "1740, 2596]\n",
    "alpha = .05 # критический уровень статистической значимости\n",
    "# если p-value окажется меньше него - отвергнем гипотезу\n",
    "results = st.ttest_ind(\n",
    "sample_1,\n",
    "sample_2)\n",
    "print('p-значение:', results.pvalue)\n",
    "if (results.pvalue < alpha):\n",
    "    print(\"Отвергаем нулевую гипотезу\")\n",
    "else:\n",
    "\n",
    "    print(\"Не получилось отвергнуть нулевую гипотезу\")"
   ]
  },
  {
   "cell_type": "markdown",
   "metadata": {},
   "source": [
    "### Общий вывод"
   ]
  },
  {
   "cell_type": "markdown",
   "metadata": {},
   "source": [
    "В данном проекты мы разбирали, какие факторы влияют на успещность игр.\n",
    "\n",
    "**Выдвинутые задачи**\n",
    "1. Выявить закономерности определяющие критерии успещности игры.\n",
    "2. На основе этих закономерностей дать рекоммендацию на что сделать ставку при выборе потенциально популярного продукта.\n",
    "3. Дать рекоммендацию при планировании рекламных компаний на следующий период.\n",
    "\n",
    "**В ходе исследования**\n",
    "\n",
    "Были изучены данные в данных были найдены пропуски. Пропуски в колонках игры, жанр, год релиза было решено удалить, так как общее количество значений в данных столбцах было незначительное менее 2%. В столбцах оценки пользователей, критиков и рейтинг, было много пропусков. Количество пропусков составляло более 40%. Чтоб не исказить результаты, пропуски были поменяны на 0 (в дальнейшем, где было необходимо, они удалялись). Так же в колонке оценки пользователь встречалось значение tbd (будет определено), они так же были заменены на значение 0. В столбце рейтинг пропуски были заменены на значение \"other\".\n",
    "\n",
    "**Были проведены исследования**\n",
    "1. Определено, что основной пик выхода игр был 2007 и 2008 год. За все время наиболее продаваемые были игры на платформах PS, X360, PS3, Wii, DS. Средний цикл существования платформ 10 лет. Наиболее успешное время существования платформы пятый год. На него приходится, как правило пик продаж у топовых платформ.\n",
    "2. Было решено, для наиболее близкого прогноза результатов на 2017год, взять данные за последние 3 года.\n",
    "3. Разобрали продажи по 10 топовым платформам за последние 6 лет. Увидили, что с 2013 года продажи по всем платформам падали. Наиболее перспективные платформы стали PS4, 3DS, XOne, WiiU, PC, с наибольшим количеством продаж. В перечень был включен, так же PC, так как за прошедщие годы уверенно держит свое количество клиентов.\n",
    "4. Так же был построен график по количеству продаж игр, каждой платформы. Из него видно, что средние игры у лидеров продаются в среднем по 0,4млн копий. Но так же много игр, которые выбиваются из средних показателей. Продажи по некоторым играм, которые можно назвать \"Локомативами\" достигают метки 20млн копий. Данные игры присутствуют на всех платформах.\n",
    "5. При проведении анализа взаимосвязи, было выявлено, оценки критиков взаимосвязаны с продажами игр. В то же время оценки пользователей почти не связаны с количеством проданных копий. Но не стоит сбрасывать со счетов мнение пользователей. Пользователи в данных случаях могут быть более требовательны к играм. Так же в данных мало информации, чтоб можно было смело сказать, что пользователи мало влияют на продажи. Предпложожение можно наблюдать на платформе WiiU, где количество продаж взаимосвязано с оценкой пользователей\n",
    "6. За последние 6 лет наиболее популярным жанром явился Shooter. Чуть менее популярны игры жанра Platorm, Sports, Role-Playing и и Misc с Simulation. Менее всего популярными стали жанры Adventure и Puzzle\n",
    "7. За последние 3 года приставки на платформе XOne стали наиболее популярны в Северной Америке, Европейцы отдали предпочтение PS4, а Японцы 3DS. По жанрам, Европейцы с Американцами свой взгляд остановили на жанр Shooter. Японцы их взгляд не разделили и отдали предпочтение Role-Playing\n",
    "8. Рейтинг для регионов Северной Америки и Европы, оказался немаловажным, наибольшее предпочтение они оставили играм для взрослых, второе по популярности стали игры для всех. В Японии продажи от рейтинга менее зависимы. Разница продаж не слишком велика, наиболее популярные у них игры для всех. Однако в Японии очень велики продажи от неопознаных рейтингов, которые почти в 6 раз превосходят остальные. Так же игры с неопределенным рейтингом заняли 2 место по продажам в  Северной Америке и Европе.\n",
    "\n",
    "**Были проверены гипотезы**\n",
    "- Средние пользовательские рейтинги платформ Xbox One и PC одинаковые. Данная гипотеза показала, что средняя оценка пользователя платформы xbox отличается от оценки пользователей PC\n",
    "- Средние пользовательские рейтинги жанров Action и Sports разные. Данная гипотеза показала, что средняя оценка игроков игр в жанрах экшен и спорт примерно равны\n",
    "\n",
    "**Общие рекомендации**\n",
    "- Наиболее популярные платформы в 2017 остануться PS4, 3DS, XOne, WiiU. Если делать среднестатестическую игру на топовых платформах, необходимо расчитывать в среднем на 0.4млн проданных копий. В тоже время при создании игры \"Бестселлера\" с высокой оценкой критиков, можно рассчитывать на более высокие продажи от 10млн проданных копий. В зависимости от региона продаж основной упор можно сделать в Северной Америке на игры жанра шутер на платформе xbox, для Европейцев на жанре шутер на платформе PS, для Японцев на ролевые игры на платформе нинтендо. Если охватывать продажи по всему миру, то упор можно сделать на шутере, на платформе PS4. Основываясь на рейтингах, лучше ориентироваться на игры для взрослых или на игры для всех категорий. \n",
    "- Так как в столбцах оценки пользователь и критиков, а так же в столбце рейтин, было более 40% пропусков, рекомендую дополнить выборку и провести повторное исследование\n",
    "- Много продаж ушло на рейтинги, которые не получилось определить, если собрать данные, и провести дополнительное исследование можно понять какие рейтинги наиболее влияют на игроманов Японии."
   ]
  }
 ],
 "metadata": {
  "ExecuteTimeLog": [
   {
    "duration": 571,
    "start_time": "2022-11-14T08:21:12.977Z"
   },
   {
    "duration": 57,
    "start_time": "2022-11-14T08:21:36.646Z"
   },
   {
    "duration": 63,
    "start_time": "2022-11-14T08:21:44.014Z"
   },
   {
    "duration": 14,
    "start_time": "2022-11-14T08:22:09.968Z"
   },
   {
    "duration": 480,
    "start_time": "2022-11-14T08:43:28.631Z"
   },
   {
    "duration": 12,
    "start_time": "2022-11-14T08:43:29.113Z"
   },
   {
    "duration": 3,
    "start_time": "2022-11-14T08:45:05.532Z"
   },
   {
    "duration": 45,
    "start_time": "2022-11-14T09:04:33.472Z"
   },
   {
    "duration": 449,
    "start_time": "2022-11-14T09:04:53.026Z"
   },
   {
    "duration": 12,
    "start_time": "2022-11-14T09:04:53.477Z"
   },
   {
    "duration": 1065,
    "start_time": "2022-11-14T09:04:53.490Z"
   },
   {
    "duration": 707,
    "start_time": "2022-11-14T09:05:00.569Z"
   },
   {
    "duration": 67,
    "start_time": "2022-11-14T09:06:56.864Z"
   },
   {
    "duration": 18,
    "start_time": "2022-11-14T09:07:02.962Z"
   },
   {
    "duration": 9,
    "start_time": "2022-11-14T09:07:11.590Z"
   },
   {
    "duration": 451,
    "start_time": "2022-11-14T09:08:17.584Z"
   },
   {
    "duration": 13,
    "start_time": "2022-11-14T09:08:18.037Z"
   },
   {
    "duration": 9,
    "start_time": "2022-11-14T09:08:18.051Z"
   },
   {
    "duration": 58,
    "start_time": "2022-11-14T09:08:35.862Z"
   },
   {
    "duration": 20,
    "start_time": "2022-11-14T09:11:24.824Z"
   },
   {
    "duration": 16,
    "start_time": "2022-11-14T09:11:43.780Z"
   },
   {
    "duration": 15,
    "start_time": "2022-11-14T09:11:49.468Z"
   },
   {
    "duration": 16,
    "start_time": "2022-11-14T09:11:55.311Z"
   },
   {
    "duration": 263,
    "start_time": "2022-11-14T09:13:55.311Z"
   },
   {
    "duration": 70,
    "start_time": "2022-11-14T09:17:54.386Z"
   },
   {
    "duration": 6,
    "start_time": "2022-11-14T09:18:25.028Z"
   },
   {
    "duration": 8,
    "start_time": "2022-11-14T09:18:34.964Z"
   },
   {
    "duration": 7,
    "start_time": "2022-11-14T09:18:39.973Z"
   },
   {
    "duration": 4,
    "start_time": "2022-11-14T09:18:46.872Z"
   },
   {
    "duration": 6,
    "start_time": "2022-11-14T09:19:18.902Z"
   },
   {
    "duration": 6,
    "start_time": "2022-11-14T09:19:33.304Z"
   },
   {
    "duration": 6,
    "start_time": "2022-11-14T09:20:18.276Z"
   },
   {
    "duration": 7,
    "start_time": "2022-11-14T09:20:32.144Z"
   },
   {
    "duration": 8,
    "start_time": "2022-11-14T09:20:49.685Z"
   },
   {
    "duration": 3,
    "start_time": "2022-11-14T09:23:17.740Z"
   },
   {
    "duration": 6,
    "start_time": "2022-11-14T09:23:26.810Z"
   },
   {
    "duration": 487,
    "start_time": "2022-11-14T09:24:34.484Z"
   },
   {
    "duration": 14,
    "start_time": "2022-11-14T09:24:34.973Z"
   },
   {
    "duration": 281,
    "start_time": "2022-11-14T09:24:34.989Z"
   },
   {
    "duration": 4,
    "start_time": "2022-11-14T09:24:35.272Z"
   },
   {
    "duration": 20,
    "start_time": "2022-11-14T09:30:35.340Z"
   },
   {
    "duration": 409,
    "start_time": "2022-11-14T09:34:41.915Z"
   },
   {
    "duration": 14,
    "start_time": "2022-11-14T09:34:42.326Z"
   },
   {
    "duration": 300,
    "start_time": "2022-11-14T09:34:42.341Z"
   },
   {
    "duration": 5,
    "start_time": "2022-11-14T09:34:42.643Z"
   },
   {
    "duration": 19,
    "start_time": "2022-11-14T09:36:19.700Z"
   },
   {
    "duration": 4,
    "start_time": "2022-11-14T09:38:12.158Z"
   },
   {
    "duration": 50,
    "start_time": "2022-11-14T12:54:06.786Z"
   },
   {
    "duration": 591,
    "start_time": "2022-11-14T12:54:16.105Z"
   },
   {
    "duration": 13,
    "start_time": "2022-11-14T12:54:16.698Z"
   },
   {
    "duration": 434,
    "start_time": "2022-11-14T12:54:16.713Z"
   },
   {
    "duration": 4,
    "start_time": "2022-11-14T12:54:17.149Z"
   },
   {
    "duration": 13,
    "start_time": "2022-11-14T12:54:17.155Z"
   },
   {
    "duration": 7,
    "start_time": "2022-11-14T12:55:27.781Z"
   },
   {
    "duration": 6,
    "start_time": "2022-11-14T12:56:28.009Z"
   },
   {
    "duration": 7,
    "start_time": "2022-11-14T12:56:37.696Z"
   },
   {
    "duration": 6,
    "start_time": "2022-11-14T12:56:59.672Z"
   },
   {
    "duration": 22,
    "start_time": "2022-11-14T12:57:57.514Z"
   },
   {
    "duration": 79,
    "start_time": "2022-11-14T13:01:33.832Z"
   },
   {
    "duration": 7,
    "start_time": "2022-11-14T13:01:47.748Z"
   },
   {
    "duration": 22,
    "start_time": "2022-11-14T13:01:54.344Z"
   },
   {
    "duration": 24,
    "start_time": "2022-11-14T13:08:38.298Z"
   },
   {
    "duration": 11,
    "start_time": "2022-11-14T13:10:19.319Z"
   },
   {
    "duration": 435,
    "start_time": "2022-11-14T13:10:37.302Z"
   },
   {
    "duration": 13,
    "start_time": "2022-11-14T13:10:37.739Z"
   },
   {
    "duration": 279,
    "start_time": "2022-11-14T13:10:37.754Z"
   },
   {
    "duration": 5,
    "start_time": "2022-11-14T13:10:38.203Z"
   },
   {
    "duration": 13,
    "start_time": "2022-11-14T13:10:38.210Z"
   },
   {
    "duration": 25,
    "start_time": "2022-11-14T13:10:38.224Z"
   },
   {
    "duration": 6,
    "start_time": "2022-11-14T13:11:00.458Z"
   },
   {
    "duration": 14,
    "start_time": "2022-11-14T13:11:13.224Z"
   },
   {
    "duration": 10,
    "start_time": "2022-11-14T13:11:36.536Z"
   },
   {
    "duration": 490,
    "start_time": "2022-11-14T13:11:46.060Z"
   },
   {
    "duration": 15,
    "start_time": "2022-11-14T13:11:46.552Z"
   },
   {
    "duration": 283,
    "start_time": "2022-11-14T13:11:46.569Z"
   },
   {
    "duration": 4,
    "start_time": "2022-11-14T13:11:46.854Z"
   },
   {
    "duration": 17,
    "start_time": "2022-11-14T13:11:46.860Z"
   },
   {
    "duration": 13,
    "start_time": "2022-11-14T13:11:46.879Z"
   },
   {
    "duration": 15,
    "start_time": "2022-11-14T13:12:00.730Z"
   },
   {
    "duration": 96,
    "start_time": "2022-11-14T13:12:33.473Z"
   },
   {
    "duration": 12,
    "start_time": "2022-11-14T13:12:50.032Z"
   },
   {
    "duration": 12,
    "start_time": "2022-11-14T13:13:50.541Z"
   },
   {
    "duration": 10,
    "start_time": "2022-11-14T13:14:09.061Z"
   },
   {
    "duration": 435,
    "start_time": "2022-11-14T13:14:32.629Z"
   },
   {
    "duration": 13,
    "start_time": "2022-11-14T13:14:33.067Z"
   },
   {
    "duration": 5267,
    "start_time": "2022-11-14T13:14:33.083Z"
   },
   {
    "duration": 4,
    "start_time": "2022-11-14T13:14:38.352Z"
   },
   {
    "duration": 33,
    "start_time": "2022-11-14T13:14:38.358Z"
   },
   {
    "duration": 24,
    "start_time": "2022-11-14T13:14:38.393Z"
   },
   {
    "duration": 25,
    "start_time": "2022-11-14T13:15:21.151Z"
   },
   {
    "duration": 523,
    "start_time": "2022-11-14T13:16:24.658Z"
   },
   {
    "duration": 15,
    "start_time": "2022-11-14T13:16:25.184Z"
   },
   {
    "duration": 315,
    "start_time": "2022-11-14T13:16:25.201Z"
   },
   {
    "duration": 5,
    "start_time": "2022-11-14T13:16:25.518Z"
   },
   {
    "duration": 31,
    "start_time": "2022-11-14T13:16:25.525Z"
   },
   {
    "duration": 31,
    "start_time": "2022-11-14T13:16:25.558Z"
   },
   {
    "duration": 26,
    "start_time": "2022-11-14T13:17:35.352Z"
   },
   {
    "duration": 467,
    "start_time": "2022-11-14T13:17:49.675Z"
   },
   {
    "duration": 13,
    "start_time": "2022-11-14T13:17:50.144Z"
   },
   {
    "duration": 275,
    "start_time": "2022-11-14T13:17:50.159Z"
   },
   {
    "duration": 4,
    "start_time": "2022-11-14T13:17:50.436Z"
   },
   {
    "duration": 37,
    "start_time": "2022-11-14T13:17:50.442Z"
   },
   {
    "duration": 29,
    "start_time": "2022-11-14T13:17:50.481Z"
   },
   {
    "duration": 22,
    "start_time": "2022-11-14T13:18:30.893Z"
   },
   {
    "duration": 31,
    "start_time": "2022-11-14T13:19:08.897Z"
   },
   {
    "duration": 461,
    "start_time": "2022-11-14T13:19:55.191Z"
   },
   {
    "duration": 13,
    "start_time": "2022-11-14T13:19:55.654Z"
   },
   {
    "duration": 284,
    "start_time": "2022-11-14T13:19:55.668Z"
   },
   {
    "duration": 5,
    "start_time": "2022-11-14T13:19:55.954Z"
   },
   {
    "duration": 35,
    "start_time": "2022-11-14T13:19:55.960Z"
   },
   {
    "duration": 8,
    "start_time": "2022-11-14T13:19:55.997Z"
   },
   {
    "duration": 21,
    "start_time": "2022-11-14T13:33:29.728Z"
   },
   {
    "duration": 24,
    "start_time": "2022-11-14T13:33:45.108Z"
   },
   {
    "duration": 63,
    "start_time": "2022-11-14T13:37:55.820Z"
   },
   {
    "duration": 741,
    "start_time": "2022-11-14T13:41:40.354Z"
   },
   {
    "duration": 442,
    "start_time": "2022-11-14T13:41:59.232Z"
   },
   {
    "duration": 12,
    "start_time": "2022-11-14T13:41:59.676Z"
   },
   {
    "duration": 291,
    "start_time": "2022-11-14T13:41:59.690Z"
   },
   {
    "duration": 4,
    "start_time": "2022-11-14T13:41:59.983Z"
   },
   {
    "duration": 29,
    "start_time": "2022-11-14T13:41:59.989Z"
   },
   {
    "duration": 26,
    "start_time": "2022-11-14T13:42:00.020Z"
   },
   {
    "duration": 29,
    "start_time": "2022-11-14T13:42:00.067Z"
   },
   {
    "duration": 22,
    "start_time": "2022-11-14T13:49:50.374Z"
   },
   {
    "duration": 13,
    "start_time": "2022-11-14T13:50:25.745Z"
   },
   {
    "duration": 8,
    "start_time": "2022-11-14T13:53:39.574Z"
   },
   {
    "duration": 23,
    "start_time": "2022-11-14T13:54:10.881Z"
   },
   {
    "duration": 19,
    "start_time": "2022-11-14T13:54:35.559Z"
   },
   {
    "duration": 76,
    "start_time": "2022-11-14T13:54:50.038Z"
   },
   {
    "duration": 9,
    "start_time": "2022-11-14T13:55:06.483Z"
   },
   {
    "duration": 7,
    "start_time": "2022-11-14T13:55:32.613Z"
   },
   {
    "duration": 8,
    "start_time": "2022-11-14T13:56:12.382Z"
   },
   {
    "duration": 9,
    "start_time": "2022-11-14T13:56:26.399Z"
   },
   {
    "duration": 8,
    "start_time": "2022-11-14T13:57:13.362Z"
   },
   {
    "duration": 9,
    "start_time": "2022-11-14T13:57:33.600Z"
   },
   {
    "duration": 7,
    "start_time": "2022-11-14T13:58:00.099Z"
   },
   {
    "duration": 14,
    "start_time": "2022-11-14T14:00:17.245Z"
   },
   {
    "duration": 15,
    "start_time": "2022-11-14T14:01:47.933Z"
   },
   {
    "duration": 16,
    "start_time": "2022-11-14T14:03:08.236Z"
   },
   {
    "duration": 414,
    "start_time": "2022-11-14T14:04:11.118Z"
   },
   {
    "duration": 56,
    "start_time": "2022-11-14T14:06:06.105Z"
   },
   {
    "duration": 60,
    "start_time": "2022-11-14T14:06:28.513Z"
   },
   {
    "duration": 15,
    "start_time": "2022-11-14T14:06:40.762Z"
   },
   {
    "duration": 14,
    "start_time": "2022-11-14T14:08:04.348Z"
   },
   {
    "duration": 439,
    "start_time": "2022-11-14T14:08:18.412Z"
   },
   {
    "duration": 16,
    "start_time": "2022-11-14T14:08:18.853Z"
   },
   {
    "duration": 326,
    "start_time": "2022-11-14T14:08:18.871Z"
   },
   {
    "duration": 6,
    "start_time": "2022-11-14T14:08:19.199Z"
   },
   {
    "duration": 29,
    "start_time": "2022-11-14T14:08:19.207Z"
   },
   {
    "duration": 32,
    "start_time": "2022-11-14T14:08:19.238Z"
   },
   {
    "duration": 15,
    "start_time": "2022-11-14T14:08:19.272Z"
   },
   {
    "duration": 24,
    "start_time": "2022-11-14T14:08:19.289Z"
   },
   {
    "duration": 15,
    "start_time": "2022-11-14T14:09:21.392Z"
   },
   {
    "duration": 14,
    "start_time": "2022-11-14T14:09:28.582Z"
   },
   {
    "duration": 20,
    "start_time": "2022-11-14T14:09:42.395Z"
   },
   {
    "duration": 78,
    "start_time": "2022-11-14T14:09:54.208Z"
   },
   {
    "duration": 19,
    "start_time": "2022-11-14T14:09:58.730Z"
   },
   {
    "duration": 30,
    "start_time": "2022-11-14T14:10:07.372Z"
   },
   {
    "duration": 23,
    "start_time": "2022-11-14T14:13:11.400Z"
   },
   {
    "duration": 433,
    "start_time": "2022-11-14T14:13:18.108Z"
   },
   {
    "duration": 13,
    "start_time": "2022-11-14T14:13:18.543Z"
   },
   {
    "duration": 263,
    "start_time": "2022-11-14T14:13:18.557Z"
   },
   {
    "duration": 5,
    "start_time": "2022-11-14T14:13:18.822Z"
   },
   {
    "duration": 49,
    "start_time": "2022-11-14T14:13:18.829Z"
   },
   {
    "duration": 28,
    "start_time": "2022-11-14T14:13:18.880Z"
   },
   {
    "duration": 20,
    "start_time": "2022-11-14T14:13:18.909Z"
   },
   {
    "duration": 43,
    "start_time": "2022-11-14T14:13:18.930Z"
   },
   {
    "duration": 25,
    "start_time": "2022-11-14T14:13:24.676Z"
   },
   {
    "duration": 20,
    "start_time": "2022-11-14T14:14:08.005Z"
   },
   {
    "duration": 483,
    "start_time": "2022-11-14T14:14:19.588Z"
   },
   {
    "duration": 14,
    "start_time": "2022-11-14T14:14:20.073Z"
   },
   {
    "duration": 304,
    "start_time": "2022-11-14T14:14:20.089Z"
   },
   {
    "duration": 5,
    "start_time": "2022-11-14T14:14:20.395Z"
   },
   {
    "duration": 26,
    "start_time": "2022-11-14T14:14:20.401Z"
   },
   {
    "duration": 44,
    "start_time": "2022-11-14T14:14:20.429Z"
   },
   {
    "duration": 31,
    "start_time": "2022-11-14T14:14:20.474Z"
   },
   {
    "duration": 23,
    "start_time": "2022-11-14T14:14:20.508Z"
   },
   {
    "duration": 15,
    "start_time": "2022-11-14T14:14:39.107Z"
   },
   {
    "duration": 24,
    "start_time": "2022-11-14T14:15:29.187Z"
   },
   {
    "duration": 268,
    "start_time": "2022-11-14T14:16:27.865Z"
   },
   {
    "duration": 17,
    "start_time": "2022-11-14T14:19:06.364Z"
   },
   {
    "duration": 22,
    "start_time": "2022-11-14T14:19:20.426Z"
   },
   {
    "duration": 33,
    "start_time": "2022-11-14T14:20:12.543Z"
   },
   {
    "duration": 10,
    "start_time": "2022-11-14T14:22:33.049Z"
   },
   {
    "duration": 34,
    "start_time": "2022-11-14T14:22:45.006Z"
   },
   {
    "duration": 24,
    "start_time": "2022-11-14T14:23:09.094Z"
   },
   {
    "duration": 9,
    "start_time": "2022-11-14T14:35:28.573Z"
   },
   {
    "duration": 22,
    "start_time": "2022-11-14T14:35:39.302Z"
   },
   {
    "duration": 21,
    "start_time": "2022-11-14T14:35:49.462Z"
   },
   {
    "duration": 478,
    "start_time": "2022-11-14T14:36:20.262Z"
   },
   {
    "duration": 15,
    "start_time": "2022-11-14T14:36:20.743Z"
   },
   {
    "duration": 287,
    "start_time": "2022-11-14T14:36:21.130Z"
   },
   {
    "duration": 5,
    "start_time": "2022-11-14T14:36:21.419Z"
   },
   {
    "duration": 25,
    "start_time": "2022-11-14T14:36:21.426Z"
   },
   {
    "duration": 47,
    "start_time": "2022-11-14T14:36:21.453Z"
   },
   {
    "duration": 13,
    "start_time": "2022-11-14T14:36:21.502Z"
   },
   {
    "duration": 24,
    "start_time": "2022-11-14T14:36:21.517Z"
   },
   {
    "duration": 20,
    "start_time": "2022-11-14T14:37:42.656Z"
   },
   {
    "duration": 69,
    "start_time": "2022-11-14T14:37:59.578Z"
   },
   {
    "duration": 18,
    "start_time": "2022-11-14T14:38:05.445Z"
   },
   {
    "duration": 460,
    "start_time": "2022-11-14T14:38:16.736Z"
   },
   {
    "duration": 14,
    "start_time": "2022-11-14T14:38:17.197Z"
   },
   {
    "duration": 303,
    "start_time": "2022-11-14T14:38:17.212Z"
   },
   {
    "duration": 4,
    "start_time": "2022-11-14T14:38:17.517Z"
   },
   {
    "duration": 25,
    "start_time": "2022-11-14T14:38:17.523Z"
   },
   {
    "duration": 29,
    "start_time": "2022-11-14T14:38:17.549Z"
   },
   {
    "duration": 18,
    "start_time": "2022-11-14T14:38:32.833Z"
   },
   {
    "duration": 455,
    "start_time": "2022-11-14T14:38:39.581Z"
   },
   {
    "duration": 16,
    "start_time": "2022-11-14T14:38:40.038Z"
   },
   {
    "duration": 279,
    "start_time": "2022-11-14T14:38:40.242Z"
   },
   {
    "duration": 5,
    "start_time": "2022-11-14T14:38:40.523Z"
   },
   {
    "duration": 39,
    "start_time": "2022-11-14T14:38:40.529Z"
   },
   {
    "duration": 19,
    "start_time": "2022-11-14T14:38:40.569Z"
   },
   {
    "duration": 18,
    "start_time": "2022-11-14T14:40:10.937Z"
   },
   {
    "duration": 434,
    "start_time": "2022-11-14T14:40:21.710Z"
   },
   {
    "duration": 16,
    "start_time": "2022-11-14T14:40:22.146Z"
   },
   {
    "duration": 290,
    "start_time": "2022-11-14T14:40:22.164Z"
   },
   {
    "duration": 5,
    "start_time": "2022-11-14T14:40:22.457Z"
   },
   {
    "duration": 29,
    "start_time": "2022-11-14T14:40:22.467Z"
   },
   {
    "duration": 22,
    "start_time": "2022-11-14T14:40:22.498Z"
   },
   {
    "duration": 7,
    "start_time": "2022-11-14T14:40:49.456Z"
   },
   {
    "duration": 8,
    "start_time": "2022-11-14T14:41:00.877Z"
   },
   {
    "duration": 23,
    "start_time": "2022-11-14T14:41:06.681Z"
   },
   {
    "duration": 23,
    "start_time": "2022-11-14T14:41:19.866Z"
   },
   {
    "duration": 4,
    "start_time": "2022-11-14T14:42:50.131Z"
   },
   {
    "duration": 12,
    "start_time": "2022-11-14T14:42:54.196Z"
   },
   {
    "duration": 10,
    "start_time": "2022-11-14T14:43:06.504Z"
   },
   {
    "duration": 10,
    "start_time": "2022-11-14T14:43:17.368Z"
   },
   {
    "duration": 15,
    "start_time": "2022-11-14T14:43:29.292Z"
   },
   {
    "duration": 70,
    "start_time": "2022-11-14T14:57:59.857Z"
   },
   {
    "duration": 172,
    "start_time": "2022-11-14T14:58:21.928Z"
   },
   {
    "duration": 12,
    "start_time": "2022-11-14T14:59:28.329Z"
   },
   {
    "duration": 3,
    "start_time": "2022-11-14T15:00:09.517Z"
   },
   {
    "duration": 48,
    "start_time": "2022-11-15T06:17:28.049Z"
   },
   {
    "duration": 6,
    "start_time": "2022-11-15T06:17:40.716Z"
   },
   {
    "duration": 649,
    "start_time": "2022-11-15T06:17:49.076Z"
   },
   {
    "duration": 13,
    "start_time": "2022-11-15T06:17:49.727Z"
   },
   {
    "duration": 415,
    "start_time": "2022-11-15T06:17:49.742Z"
   },
   {
    "duration": 5,
    "start_time": "2022-11-15T06:17:50.158Z"
   },
   {
    "duration": 28,
    "start_time": "2022-11-15T06:17:50.164Z"
   },
   {
    "duration": 19,
    "start_time": "2022-11-15T06:17:50.193Z"
   },
   {
    "duration": 21,
    "start_time": "2022-11-15T06:21:58.112Z"
   },
   {
    "duration": 12,
    "start_time": "2022-11-15T06:22:24.794Z"
   },
   {
    "duration": 11,
    "start_time": "2022-11-15T06:22:46.314Z"
   },
   {
    "duration": 9,
    "start_time": "2022-11-15T06:23:22.955Z"
   },
   {
    "duration": 15,
    "start_time": "2022-11-15T06:23:38.067Z"
   },
   {
    "duration": 11,
    "start_time": "2022-11-15T06:24:13.318Z"
   },
   {
    "duration": 10,
    "start_time": "2022-11-15T06:24:49.179Z"
   },
   {
    "duration": 451,
    "start_time": "2022-11-15T06:25:03.880Z"
   },
   {
    "duration": 12,
    "start_time": "2022-11-15T06:25:04.333Z"
   },
   {
    "duration": 280,
    "start_time": "2022-11-15T06:25:04.346Z"
   },
   {
    "duration": 4,
    "start_time": "2022-11-15T06:25:04.628Z"
   },
   {
    "duration": 36,
    "start_time": "2022-11-15T06:25:04.634Z"
   },
   {
    "duration": 12,
    "start_time": "2022-11-15T06:25:04.671Z"
   },
   {
    "duration": 24,
    "start_time": "2022-11-15T06:25:12.833Z"
   },
   {
    "duration": 53,
    "start_time": "2022-11-15T06:25:38.907Z"
   },
   {
    "duration": 21,
    "start_time": "2022-11-15T06:25:57.003Z"
   },
   {
    "duration": 8,
    "start_time": "2022-11-15T06:26:21.232Z"
   },
   {
    "duration": 486,
    "start_time": "2022-11-15T06:26:28.551Z"
   },
   {
    "duration": 15,
    "start_time": "2022-11-15T06:26:29.039Z"
   },
   {
    "duration": 265,
    "start_time": "2022-11-15T06:26:29.055Z"
   },
   {
    "duration": 5,
    "start_time": "2022-11-15T06:26:29.322Z"
   },
   {
    "duration": 43,
    "start_time": "2022-11-15T06:26:29.328Z"
   },
   {
    "duration": 10,
    "start_time": "2022-11-15T06:26:29.373Z"
   },
   {
    "duration": 10,
    "start_time": "2022-11-15T06:26:58.892Z"
   },
   {
    "duration": 8,
    "start_time": "2022-11-15T06:27:19.870Z"
   },
   {
    "duration": 13,
    "start_time": "2022-11-15T06:28:09.380Z"
   },
   {
    "duration": 485,
    "start_time": "2022-11-15T06:28:17.863Z"
   },
   {
    "duration": 14,
    "start_time": "2022-11-15T06:28:18.350Z"
   },
   {
    "duration": 279,
    "start_time": "2022-11-15T06:28:18.366Z"
   },
   {
    "duration": 4,
    "start_time": "2022-11-15T06:28:18.647Z"
   },
   {
    "duration": 30,
    "start_time": "2022-11-15T06:28:18.653Z"
   },
   {
    "duration": 13,
    "start_time": "2022-11-15T06:28:18.685Z"
   },
   {
    "duration": 14,
    "start_time": "2022-11-15T06:28:31.084Z"
   },
   {
    "duration": 13,
    "start_time": "2022-11-15T06:28:36.870Z"
   },
   {
    "duration": 22,
    "start_time": "2022-11-15T06:34:53.882Z"
   },
   {
    "duration": 290,
    "start_time": "2022-11-15T06:37:06.890Z"
   },
   {
    "duration": 19,
    "start_time": "2022-11-15T06:37:52.038Z"
   },
   {
    "duration": 21,
    "start_time": "2022-11-15T06:48:18.758Z"
   },
   {
    "duration": 26,
    "start_time": "2022-11-15T06:48:29.852Z"
   },
   {
    "duration": 22,
    "start_time": "2022-11-15T06:51:06.202Z"
   },
   {
    "duration": 162,
    "start_time": "2022-11-15T06:59:45.532Z"
   },
   {
    "duration": 132,
    "start_time": "2022-11-15T06:59:53.210Z"
   },
   {
    "duration": 111,
    "start_time": "2022-11-15T07:00:20.251Z"
   },
   {
    "duration": 167,
    "start_time": "2022-11-15T07:00:38.692Z"
   },
   {
    "duration": 123,
    "start_time": "2022-11-15T07:00:56.424Z"
   },
   {
    "duration": 125,
    "start_time": "2022-11-15T07:01:06.405Z"
   },
   {
    "duration": 172,
    "start_time": "2022-11-15T07:01:33.364Z"
   },
   {
    "duration": 173,
    "start_time": "2022-11-15T07:14:17.347Z"
   },
   {
    "duration": 73,
    "start_time": "2022-11-15T07:14:29.420Z"
   },
   {
    "duration": 154,
    "start_time": "2022-11-15T07:14:35.344Z"
   },
   {
    "duration": 160,
    "start_time": "2022-11-15T07:19:39.980Z"
   },
   {
    "duration": 168,
    "start_time": "2022-11-15T07:20:46.238Z"
   },
   {
    "duration": 166,
    "start_time": "2022-11-15T07:23:40.516Z"
   },
   {
    "duration": 220,
    "start_time": "2022-11-15T07:23:49.986Z"
   },
   {
    "duration": 206,
    "start_time": "2022-11-15T07:28:11.284Z"
   },
   {
    "duration": 234,
    "start_time": "2022-11-15T07:30:08.339Z"
   },
   {
    "duration": 188,
    "start_time": "2022-11-15T07:32:47.250Z"
   },
   {
    "duration": 246,
    "start_time": "2022-11-15T07:33:51.795Z"
   },
   {
    "duration": 177,
    "start_time": "2022-11-15T07:34:25.938Z"
   },
   {
    "duration": 187,
    "start_time": "2022-11-15T07:34:53.951Z"
   },
   {
    "duration": 176,
    "start_time": "2022-11-15T07:36:22.942Z"
   },
   {
    "duration": 209,
    "start_time": "2022-11-15T07:36:49.071Z"
   },
   {
    "duration": 187,
    "start_time": "2022-11-15T07:37:58.871Z"
   },
   {
    "duration": 234,
    "start_time": "2022-11-15T07:41:11.473Z"
   },
   {
    "duration": 217,
    "start_time": "2022-11-15T07:42:03.277Z"
   },
   {
    "duration": 50,
    "start_time": "2022-11-15T07:43:52.770Z"
   },
   {
    "duration": 189,
    "start_time": "2022-11-15T07:44:32.385Z"
   },
   {
    "duration": 332,
    "start_time": "2022-11-15T07:46:44.597Z"
   },
   {
    "duration": 196,
    "start_time": "2022-11-15T08:05:51.410Z"
   },
   {
    "duration": 16,
    "start_time": "2022-11-15T08:12:52.412Z"
   },
   {
    "duration": 12,
    "start_time": "2022-11-15T08:13:18.347Z"
   },
   {
    "duration": 10,
    "start_time": "2022-11-15T08:14:14.036Z"
   },
   {
    "duration": 13,
    "start_time": "2022-11-15T08:17:22.266Z"
   },
   {
    "duration": 12,
    "start_time": "2022-11-15T08:17:57.649Z"
   },
   {
    "duration": 7,
    "start_time": "2022-11-15T08:21:34.470Z"
   },
   {
    "duration": 11,
    "start_time": "2022-11-15T08:21:40.340Z"
   },
   {
    "duration": 65,
    "start_time": "2022-11-15T08:22:14.501Z"
   },
   {
    "duration": 7,
    "start_time": "2022-11-15T08:22:21.306Z"
   },
   {
    "duration": 11,
    "start_time": "2022-11-15T08:22:29.160Z"
   },
   {
    "duration": 13,
    "start_time": "2022-11-15T08:22:49.395Z"
   },
   {
    "duration": 11,
    "start_time": "2022-11-15T08:23:00.357Z"
   },
   {
    "duration": 8,
    "start_time": "2022-11-15T08:25:16.555Z"
   },
   {
    "duration": 12,
    "start_time": "2022-11-15T08:25:26.377Z"
   },
   {
    "duration": 11,
    "start_time": "2022-11-15T08:26:06.598Z"
   },
   {
    "duration": 11,
    "start_time": "2022-11-15T08:26:41.277Z"
   },
   {
    "duration": 11,
    "start_time": "2022-11-15T08:27:15.540Z"
   },
   {
    "duration": 8,
    "start_time": "2022-11-15T08:29:50.483Z"
   },
   {
    "duration": 10,
    "start_time": "2022-11-15T08:30:01.669Z"
   },
   {
    "duration": 7,
    "start_time": "2022-11-15T08:31:46.194Z"
   },
   {
    "duration": 12,
    "start_time": "2022-11-15T08:31:56.711Z"
   },
   {
    "duration": 9,
    "start_time": "2022-11-15T08:32:02.297Z"
   },
   {
    "duration": 7,
    "start_time": "2022-11-15T08:32:12.507Z"
   },
   {
    "duration": 8,
    "start_time": "2022-11-15T08:32:20.550Z"
   },
   {
    "duration": 13,
    "start_time": "2022-11-15T08:32:57.151Z"
   },
   {
    "duration": 9,
    "start_time": "2022-11-15T08:33:03.815Z"
   },
   {
    "duration": 9,
    "start_time": "2022-11-15T08:33:32.004Z"
   },
   {
    "duration": 437,
    "start_time": "2022-11-15T08:44:14.002Z"
   },
   {
    "duration": 14,
    "start_time": "2022-11-15T08:44:14.440Z"
   },
   {
    "duration": 274,
    "start_time": "2022-11-15T08:44:14.455Z"
   },
   {
    "duration": 4,
    "start_time": "2022-11-15T08:44:14.731Z"
   },
   {
    "duration": 24,
    "start_time": "2022-11-15T08:44:14.737Z"
   },
   {
    "duration": 32,
    "start_time": "2022-11-15T08:44:14.762Z"
   },
   {
    "duration": 219,
    "start_time": "2022-11-15T08:44:14.796Z"
   },
   {
    "duration": 139,
    "start_time": "2022-11-15T08:44:15.016Z"
   },
   {
    "duration": 144,
    "start_time": "2022-11-15T08:45:05.395Z"
   },
   {
    "duration": 175,
    "start_time": "2022-11-15T08:46:19.549Z"
   },
   {
    "duration": 125,
    "start_time": "2022-11-15T08:47:19.014Z"
   },
   {
    "duration": 509,
    "start_time": "2022-11-15T08:47:37.246Z"
   },
   {
    "duration": 13,
    "start_time": "2022-11-15T08:47:37.757Z"
   },
   {
    "duration": 290,
    "start_time": "2022-11-15T08:47:37.771Z"
   },
   {
    "duration": 5,
    "start_time": "2022-11-15T08:47:38.063Z"
   },
   {
    "duration": 30,
    "start_time": "2022-11-15T08:47:38.069Z"
   },
   {
    "duration": 23,
    "start_time": "2022-11-15T08:47:38.100Z"
   },
   {
    "duration": 233,
    "start_time": "2022-11-15T08:47:38.125Z"
   },
   {
    "duration": 135,
    "start_time": "2022-11-15T08:47:38.359Z"
   },
   {
    "duration": 203,
    "start_time": "2022-11-15T08:49:29.062Z"
   },
   {
    "duration": 183,
    "start_time": "2022-11-15T08:49:36.816Z"
   },
   {
    "duration": 192,
    "start_time": "2022-11-15T08:55:34.341Z"
   },
   {
    "duration": 552,
    "start_time": "2022-11-15T09:02:48.019Z"
   },
   {
    "duration": 13,
    "start_time": "2022-11-15T09:03:00.867Z"
   },
   {
    "duration": 19,
    "start_time": "2022-11-15T09:03:16.708Z"
   },
   {
    "duration": 125,
    "start_time": "2022-11-15T09:03:27.320Z"
   },
   {
    "duration": 144,
    "start_time": "2022-11-15T09:03:44.138Z"
   },
   {
    "duration": 57,
    "start_time": "2022-11-15T09:04:48.850Z"
   },
   {
    "duration": 244,
    "start_time": "2022-11-15T09:04:54.882Z"
   },
   {
    "duration": 147,
    "start_time": "2022-11-15T09:05:16.747Z"
   },
   {
    "duration": 144,
    "start_time": "2022-11-15T09:06:01.271Z"
   },
   {
    "duration": 139,
    "start_time": "2022-11-15T09:06:12.611Z"
   },
   {
    "duration": 157,
    "start_time": "2022-11-15T09:48:56.837Z"
   },
   {
    "duration": 144,
    "start_time": "2022-11-15T09:50:17.565Z"
   },
   {
    "duration": 120,
    "start_time": "2022-11-15T09:50:41.182Z"
   },
   {
    "duration": 116,
    "start_time": "2022-11-15T09:51:45.975Z"
   },
   {
    "duration": 116,
    "start_time": "2022-11-15T09:52:06.474Z"
   },
   {
    "duration": 160,
    "start_time": "2022-11-15T09:53:22.575Z"
   },
   {
    "duration": 141,
    "start_time": "2022-11-15T09:54:02.494Z"
   },
   {
    "duration": 117,
    "start_time": "2022-11-15T09:55:31.367Z"
   },
   {
    "duration": 138,
    "start_time": "2022-11-15T09:55:56.468Z"
   },
   {
    "duration": 173,
    "start_time": "2022-11-15T09:56:19.665Z"
   },
   {
    "duration": 116,
    "start_time": "2022-11-15T09:58:42.411Z"
   },
   {
    "duration": 177,
    "start_time": "2022-11-15T09:59:01.703Z"
   },
   {
    "duration": 207,
    "start_time": "2022-11-15T10:00:07.037Z"
   },
   {
    "duration": 111,
    "start_time": "2022-11-15T10:00:21.306Z"
   },
   {
    "duration": 178,
    "start_time": "2022-11-15T10:00:31.400Z"
   },
   {
    "duration": 53,
    "start_time": "2022-11-15T10:03:09.905Z"
   },
   {
    "duration": 8,
    "start_time": "2022-11-15T10:03:26.916Z"
   },
   {
    "duration": 143,
    "start_time": "2022-11-15T10:04:11.527Z"
   },
   {
    "duration": 500,
    "start_time": "2022-11-15T10:04:53.149Z"
   },
   {
    "duration": 175,
    "start_time": "2022-11-15T10:05:16.555Z"
   },
   {
    "duration": 160,
    "start_time": "2022-11-15T10:05:46.565Z"
   },
   {
    "duration": 134,
    "start_time": "2022-11-15T10:05:52.449Z"
   },
   {
    "duration": 18,
    "start_time": "2022-11-15T10:06:42.652Z"
   },
   {
    "duration": 13,
    "start_time": "2022-11-15T10:07:02.896Z"
   },
   {
    "duration": 18,
    "start_time": "2022-11-15T10:08:04.164Z"
   },
   {
    "duration": 126,
    "start_time": "2022-11-15T10:15:13.175Z"
   },
   {
    "duration": 128,
    "start_time": "2022-11-15T10:15:32.971Z"
   },
   {
    "duration": 77,
    "start_time": "2022-11-15T10:16:11.230Z"
   },
   {
    "duration": 109,
    "start_time": "2022-11-15T10:16:40.546Z"
   },
   {
    "duration": 84,
    "start_time": "2022-11-15T10:17:22.829Z"
   },
   {
    "duration": 179,
    "start_time": "2022-11-15T10:17:30.677Z"
   },
   {
    "duration": 139,
    "start_time": "2022-11-15T10:17:56.811Z"
   },
   {
    "duration": 138,
    "start_time": "2022-11-15T10:18:24.875Z"
   },
   {
    "duration": 154,
    "start_time": "2022-11-15T10:20:08.713Z"
   },
   {
    "duration": 167,
    "start_time": "2022-11-15T10:32:53.057Z"
   },
   {
    "duration": 179,
    "start_time": "2022-11-15T10:33:28.966Z"
   },
   {
    "duration": 170,
    "start_time": "2022-11-15T10:34:42.142Z"
   },
   {
    "duration": 176,
    "start_time": "2022-11-15T10:34:55.737Z"
   },
   {
    "duration": 222,
    "start_time": "2022-11-15T10:35:47.860Z"
   },
   {
    "duration": 64,
    "start_time": "2022-11-15T10:36:19.490Z"
   },
   {
    "duration": 216,
    "start_time": "2022-11-15T10:36:23.001Z"
   },
   {
    "duration": 50,
    "start_time": "2022-11-15T10:36:52.576Z"
   },
   {
    "duration": 221,
    "start_time": "2022-11-15T10:37:02.544Z"
   },
   {
    "duration": 199,
    "start_time": "2022-11-15T10:37:09.173Z"
   },
   {
    "duration": 208,
    "start_time": "2022-11-15T10:37:14.603Z"
   },
   {
    "duration": 304,
    "start_time": "2022-11-15T10:39:48.983Z"
   },
   {
    "duration": 315,
    "start_time": "2022-11-15T10:39:56.164Z"
   },
   {
    "duration": 446,
    "start_time": "2022-11-15T10:41:04.292Z"
   },
   {
    "duration": 321,
    "start_time": "2022-11-15T10:41:22.297Z"
   },
   {
    "duration": 204,
    "start_time": "2022-11-15T10:42:12.039Z"
   },
   {
    "duration": 183,
    "start_time": "2022-11-15T10:42:24.828Z"
   },
   {
    "duration": 445,
    "start_time": "2022-11-15T10:42:51.685Z"
   },
   {
    "duration": 12,
    "start_time": "2022-11-15T10:42:52.132Z"
   },
   {
    "duration": 260,
    "start_time": "2022-11-15T10:42:52.146Z"
   },
   {
    "duration": 4,
    "start_time": "2022-11-15T10:42:52.408Z"
   },
   {
    "duration": 34,
    "start_time": "2022-11-15T10:42:52.413Z"
   },
   {
    "duration": 42,
    "start_time": "2022-11-15T10:42:52.448Z"
   },
   {
    "duration": 237,
    "start_time": "2022-11-15T10:42:52.492Z"
   },
   {
    "duration": 186,
    "start_time": "2022-11-15T10:42:52.731Z"
   },
   {
    "duration": 206,
    "start_time": "2022-11-15T10:43:32.487Z"
   },
   {
    "duration": 391,
    "start_time": "2022-11-15T10:46:07.950Z"
   },
   {
    "duration": 198,
    "start_time": "2022-11-15T10:46:32.897Z"
   },
   {
    "duration": 250,
    "start_time": "2022-11-15T10:46:51.436Z"
   },
   {
    "duration": 25,
    "start_time": "2022-11-15T10:52:22.692Z"
   },
   {
    "duration": 5,
    "start_time": "2022-11-15T10:52:46.881Z"
   },
   {
    "duration": 20,
    "start_time": "2022-11-15T10:53:04.572Z"
   },
   {
    "duration": 14,
    "start_time": "2022-11-15T10:54:11.434Z"
   },
   {
    "duration": 11,
    "start_time": "2022-11-15T10:54:38.208Z"
   },
   {
    "duration": 132,
    "start_time": "2022-11-15T11:32:25.630Z"
   },
   {
    "duration": 23,
    "start_time": "2022-11-15T11:33:11.471Z"
   },
   {
    "duration": 3220,
    "start_time": "2022-11-15T11:38:11.319Z"
   },
   {
    "duration": 1948,
    "start_time": "2022-11-15T11:39:07.497Z"
   },
   {
    "duration": 2977,
    "start_time": "2022-11-15T11:39:44.349Z"
   },
   {
    "duration": 3295,
    "start_time": "2022-11-15T11:46:00.354Z"
   },
   {
    "duration": 2917,
    "start_time": "2022-11-15T11:51:10.404Z"
   },
   {
    "duration": 3161,
    "start_time": "2022-11-15T11:51:23.434Z"
   },
   {
    "duration": 3000,
    "start_time": "2022-11-15T11:52:43.497Z"
   },
   {
    "duration": 2984,
    "start_time": "2022-11-15T11:53:34.831Z"
   },
   {
    "duration": 3450,
    "start_time": "2022-11-15T11:54:10.717Z"
   },
   {
    "duration": 3079,
    "start_time": "2022-11-15T11:55:35.928Z"
   },
   {
    "duration": 3347,
    "start_time": "2022-11-15T11:55:44.240Z"
   },
   {
    "duration": 63,
    "start_time": "2022-11-15T11:56:05.272Z"
   },
   {
    "duration": 2971,
    "start_time": "2022-11-15T11:56:09.553Z"
   },
   {
    "duration": 3001,
    "start_time": "2022-11-15T11:56:46.346Z"
   },
   {
    "duration": 4409,
    "start_time": "2022-11-15T11:58:06.271Z"
   },
   {
    "duration": 3425,
    "start_time": "2022-11-15T11:59:24.135Z"
   },
   {
    "duration": 2989,
    "start_time": "2022-11-15T12:00:12.541Z"
   },
   {
    "duration": 2945,
    "start_time": "2022-11-15T12:00:21.323Z"
   },
   {
    "duration": 1788,
    "start_time": "2022-11-15T12:00:56.417Z"
   },
   {
    "duration": 15,
    "start_time": "2022-11-15T12:06:04.793Z"
   },
   {
    "duration": 435,
    "start_time": "2022-11-15T12:06:13.807Z"
   },
   {
    "duration": 13,
    "start_time": "2022-11-15T12:06:14.243Z"
   },
   {
    "duration": 269,
    "start_time": "2022-11-15T12:06:14.258Z"
   },
   {
    "duration": 4,
    "start_time": "2022-11-15T12:06:14.530Z"
   },
   {
    "duration": 41,
    "start_time": "2022-11-15T12:06:14.536Z"
   },
   {
    "duration": 24,
    "start_time": "2022-11-15T12:06:14.579Z"
   },
   {
    "duration": 216,
    "start_time": "2022-11-15T12:06:14.604Z"
   },
   {
    "duration": 271,
    "start_time": "2022-11-15T12:06:14.821Z"
   },
   {
    "duration": 498,
    "start_time": "2022-11-15T12:06:15.094Z"
   },
   {
    "duration": 14,
    "start_time": "2022-11-15T12:07:59.037Z"
   },
   {
    "duration": 636,
    "start_time": "2022-11-15T15:21:32.329Z"
   },
   {
    "duration": 623,
    "start_time": "2022-11-15T15:21:42.062Z"
   },
   {
    "duration": 14,
    "start_time": "2022-11-15T15:21:42.688Z"
   },
   {
    "duration": 297,
    "start_time": "2022-11-15T15:21:42.704Z"
   },
   {
    "duration": 11,
    "start_time": "2022-11-15T15:21:43.004Z"
   },
   {
    "duration": 34,
    "start_time": "2022-11-15T15:21:43.017Z"
   },
   {
    "duration": 34,
    "start_time": "2022-11-15T15:21:43.053Z"
   },
   {
    "duration": 267,
    "start_time": "2022-11-15T15:21:43.089Z"
   },
   {
    "duration": 238,
    "start_time": "2022-11-15T15:21:43.358Z"
   },
   {
    "duration": 580,
    "start_time": "2022-11-15T15:21:43.598Z"
   },
   {
    "duration": 14,
    "start_time": "2022-11-15T15:23:07.630Z"
   },
   {
    "duration": 18,
    "start_time": "2022-11-15T15:23:12.880Z"
   },
   {
    "duration": 17,
    "start_time": "2022-11-15T15:23:49.927Z"
   },
   {
    "duration": 19,
    "start_time": "2022-11-15T15:26:10.802Z"
   },
   {
    "duration": 29,
    "start_time": "2022-11-15T15:26:21.658Z"
   },
   {
    "duration": 104,
    "start_time": "2022-11-15T15:26:49.347Z"
   },
   {
    "duration": 122,
    "start_time": "2022-11-15T15:29:41.245Z"
   },
   {
    "duration": 24,
    "start_time": "2022-11-15T15:29:52.150Z"
   },
   {
    "duration": 16,
    "start_time": "2022-11-15T15:30:20.771Z"
   },
   {
    "duration": 18,
    "start_time": "2022-11-15T15:36:48.297Z"
   },
   {
    "duration": 25,
    "start_time": "2022-11-15T15:36:52.195Z"
   },
   {
    "duration": 507,
    "start_time": "2022-11-15T15:37:33.383Z"
   },
   {
    "duration": 15,
    "start_time": "2022-11-15T15:37:33.893Z"
   },
   {
    "duration": 330,
    "start_time": "2022-11-15T15:37:33.910Z"
   },
   {
    "duration": 5,
    "start_time": "2022-11-15T15:37:34.242Z"
   },
   {
    "duration": 31,
    "start_time": "2022-11-15T15:37:34.249Z"
   },
   {
    "duration": 33,
    "start_time": "2022-11-15T15:37:34.281Z"
   },
   {
    "duration": 227,
    "start_time": "2022-11-15T15:37:34.316Z"
   },
   {
    "duration": 240,
    "start_time": "2022-11-15T15:37:34.544Z"
   },
   {
    "duration": 683,
    "start_time": "2022-11-15T15:37:34.785Z"
   },
   {
    "duration": 15,
    "start_time": "2022-11-15T15:38:31.591Z"
   },
   {
    "duration": 52,
    "start_time": "2022-11-15T15:47:30.147Z"
   },
   {
    "duration": 22,
    "start_time": "2022-11-15T15:49:02.347Z"
   },
   {
    "duration": 16,
    "start_time": "2022-11-15T15:52:17.580Z"
   },
   {
    "duration": 32,
    "start_time": "2022-11-15T15:52:47.975Z"
   },
   {
    "duration": 47,
    "start_time": "2022-11-15T15:53:36.436Z"
   },
   {
    "duration": 45,
    "start_time": "2022-11-15T15:53:56.846Z"
   },
   {
    "duration": 34,
    "start_time": "2022-11-15T15:56:59.478Z"
   },
   {
    "duration": 40,
    "start_time": "2022-11-15T15:58:04.809Z"
   },
   {
    "duration": 35,
    "start_time": "2022-11-15T15:58:36.908Z"
   },
   {
    "duration": 49,
    "start_time": "2022-11-15T15:58:48.212Z"
   },
   {
    "duration": 35,
    "start_time": "2022-11-15T15:59:04.019Z"
   },
   {
    "duration": 1507,
    "start_time": "2022-11-15T16:01:41.612Z"
   },
   {
    "duration": 1510,
    "start_time": "2022-11-15T16:03:59.436Z"
   },
   {
    "duration": 1589,
    "start_time": "2022-11-15T16:04:10.007Z"
   },
   {
    "duration": 1668,
    "start_time": "2022-11-15T16:04:26.220Z"
   },
   {
    "duration": 1510,
    "start_time": "2022-11-15T16:04:39.406Z"
   },
   {
    "duration": 1515,
    "start_time": "2022-11-15T16:04:49.574Z"
   },
   {
    "duration": 1505,
    "start_time": "2022-11-15T16:05:02.080Z"
   },
   {
    "duration": 1718,
    "start_time": "2022-11-15T16:05:16.051Z"
   },
   {
    "duration": 1511,
    "start_time": "2022-11-15T16:05:21.447Z"
   },
   {
    "duration": 1149,
    "start_time": "2022-11-15T16:05:40.376Z"
   },
   {
    "duration": 1624,
    "start_time": "2022-11-15T16:06:06.275Z"
   },
   {
    "duration": 1536,
    "start_time": "2022-11-15T16:07:05.050Z"
   },
   {
    "duration": 1588,
    "start_time": "2022-11-15T16:07:16.044Z"
   },
   {
    "duration": 1659,
    "start_time": "2022-11-15T16:07:33.980Z"
   },
   {
    "duration": 1511,
    "start_time": "2022-11-15T16:08:14.367Z"
   },
   {
    "duration": 1097,
    "start_time": "2022-11-15T16:20:03.141Z"
   },
   {
    "duration": 1453,
    "start_time": "2022-11-15T16:21:52.539Z"
   },
   {
    "duration": 1460,
    "start_time": "2022-11-15T16:22:00.500Z"
   },
   {
    "duration": 1476,
    "start_time": "2022-11-15T16:24:27.160Z"
   },
   {
    "duration": 495,
    "start_time": "2022-11-15T16:24:50.814Z"
   },
   {
    "duration": 15,
    "start_time": "2022-11-15T16:24:51.311Z"
   },
   {
    "duration": 320,
    "start_time": "2022-11-15T16:24:51.328Z"
   },
   {
    "duration": 5,
    "start_time": "2022-11-15T16:24:51.651Z"
   },
   {
    "duration": 30,
    "start_time": "2022-11-15T16:24:51.658Z"
   },
   {
    "duration": 42,
    "start_time": "2022-11-15T16:24:51.691Z"
   },
   {
    "duration": 234,
    "start_time": "2022-11-15T16:24:51.735Z"
   },
   {
    "duration": 241,
    "start_time": "2022-11-15T16:24:51.971Z"
   },
   {
    "duration": 2098,
    "start_time": "2022-11-15T16:24:52.214Z"
   },
   {
    "duration": 1502,
    "start_time": "2022-11-15T16:28:32.849Z"
   },
   {
    "duration": 1266,
    "start_time": "2022-11-15T16:29:16.089Z"
   },
   {
    "duration": 1106,
    "start_time": "2022-11-15T16:30:05.025Z"
   },
   {
    "duration": 1590,
    "start_time": "2022-11-15T16:30:24.375Z"
   },
   {
    "duration": 488,
    "start_time": "2022-11-15T16:31:56.742Z"
   },
   {
    "duration": 16,
    "start_time": "2022-11-15T16:31:57.232Z"
   },
   {
    "duration": 331,
    "start_time": "2022-11-15T16:31:57.250Z"
   },
   {
    "duration": 5,
    "start_time": "2022-11-15T16:31:57.583Z"
   },
   {
    "duration": 38,
    "start_time": "2022-11-15T16:31:57.590Z"
   },
   {
    "duration": 23,
    "start_time": "2022-11-15T16:31:57.630Z"
   },
   {
    "duration": 242,
    "start_time": "2022-11-15T16:31:57.655Z"
   },
   {
    "duration": 242,
    "start_time": "2022-11-15T16:31:57.899Z"
   },
   {
    "duration": 2068,
    "start_time": "2022-11-15T16:31:58.143Z"
   },
   {
    "duration": 1551,
    "start_time": "2022-11-15T16:35:05.803Z"
   },
   {
    "duration": 1613,
    "start_time": "2022-11-15T16:44:33.812Z"
   },
   {
    "duration": 1457,
    "start_time": "2022-11-15T16:45:31.898Z"
   },
   {
    "duration": 1441,
    "start_time": "2022-11-15T16:45:40.793Z"
   },
   {
    "duration": 1739,
    "start_time": "2022-11-15T16:45:48.667Z"
   },
   {
    "duration": 1744,
    "start_time": "2022-11-15T16:46:56.234Z"
   },
   {
    "duration": 1851,
    "start_time": "2022-11-15T16:47:31.720Z"
   },
   {
    "duration": 1716,
    "start_time": "2022-11-15T16:47:47.886Z"
   },
   {
    "duration": 1639,
    "start_time": "2022-11-15T16:49:09.766Z"
   },
   {
    "duration": 1701,
    "start_time": "2022-11-15T16:49:19.976Z"
   },
   {
    "duration": 1731,
    "start_time": "2022-11-15T16:49:35.176Z"
   },
   {
    "duration": 1751,
    "start_time": "2022-11-15T16:52:25.143Z"
   },
   {
    "duration": 1934,
    "start_time": "2022-11-15T16:57:34.997Z"
   },
   {
    "duration": 1763,
    "start_time": "2022-11-15T16:57:51.864Z"
   },
   {
    "duration": 1763,
    "start_time": "2022-11-15T16:58:09.920Z"
   },
   {
    "duration": 1136,
    "start_time": "2022-11-15T16:59:30.753Z"
   },
   {
    "duration": 1773,
    "start_time": "2022-11-15T16:59:46.927Z"
   },
   {
    "duration": 1933,
    "start_time": "2022-11-15T17:00:08.870Z"
   },
   {
    "duration": 1800,
    "start_time": "2022-11-15T17:02:46.315Z"
   },
   {
    "duration": 1084,
    "start_time": "2022-11-15T17:03:02.667Z"
   },
   {
    "duration": 1647,
    "start_time": "2022-11-15T17:03:39.348Z"
   },
   {
    "duration": 1821,
    "start_time": "2022-11-15T17:03:55.779Z"
   },
   {
    "duration": 1736,
    "start_time": "2022-11-15T17:04:15.323Z"
   },
   {
    "duration": 1933,
    "start_time": "2022-11-15T17:04:23.094Z"
   },
   {
    "duration": 1769,
    "start_time": "2022-11-15T17:04:33.747Z"
   },
   {
    "duration": 1724,
    "start_time": "2022-11-15T17:04:52.088Z"
   },
   {
    "duration": 1856,
    "start_time": "2022-11-15T17:05:05.350Z"
   },
   {
    "duration": 1716,
    "start_time": "2022-11-15T17:06:02.065Z"
   },
   {
    "duration": 1950,
    "start_time": "2022-11-15T17:06:23.564Z"
   },
   {
    "duration": 22,
    "start_time": "2022-11-15T17:12:48.884Z"
   },
   {
    "duration": 25,
    "start_time": "2022-11-15T17:12:58.618Z"
   },
   {
    "duration": 1700,
    "start_time": "2022-11-15T17:13:07.468Z"
   },
   {
    "duration": 1672,
    "start_time": "2022-11-15T17:21:42.931Z"
   },
   {
    "duration": 1649,
    "start_time": "2022-11-15T17:21:52.740Z"
   },
   {
    "duration": 1894,
    "start_time": "2022-11-15T17:24:52.143Z"
   },
   {
    "duration": 1818,
    "start_time": "2022-11-15T17:25:23.085Z"
   },
   {
    "duration": 43,
    "start_time": "2022-11-16T08:17:55.824Z"
   },
   {
    "duration": 650,
    "start_time": "2022-11-16T08:18:05.197Z"
   },
   {
    "duration": 14,
    "start_time": "2022-11-16T08:18:05.849Z"
   },
   {
    "duration": 444,
    "start_time": "2022-11-16T08:18:05.864Z"
   },
   {
    "duration": 5,
    "start_time": "2022-11-16T08:18:06.311Z"
   },
   {
    "duration": 41,
    "start_time": "2022-11-16T08:18:06.318Z"
   },
   {
    "duration": 46,
    "start_time": "2022-11-16T08:18:06.362Z"
   },
   {
    "duration": 240,
    "start_time": "2022-11-16T08:18:06.410Z"
   },
   {
    "duration": 219,
    "start_time": "2022-11-16T08:18:06.652Z"
   },
   {
    "duration": 2210,
    "start_time": "2022-11-16T08:18:06.873Z"
   },
   {
    "duration": 135,
    "start_time": "2022-11-16T08:18:09.086Z"
   },
   {
    "duration": 127,
    "start_time": "2022-11-16T08:19:25.400Z"
   },
   {
    "duration": 119,
    "start_time": "2022-11-16T08:20:32.767Z"
   },
   {
    "duration": 220,
    "start_time": "2022-11-16T08:20:48.988Z"
   },
   {
    "duration": 8,
    "start_time": "2022-11-16T08:21:48.939Z"
   },
   {
    "duration": 113,
    "start_time": "2022-11-16T08:21:54.573Z"
   },
   {
    "duration": 94,
    "start_time": "2022-11-16T08:22:41.330Z"
   },
   {
    "duration": 19,
    "start_time": "2022-11-16T08:22:56.021Z"
   },
   {
    "duration": 126,
    "start_time": "2022-11-16T08:23:23.943Z"
   },
   {
    "duration": 460,
    "start_time": "2022-11-16T08:23:56.593Z"
   },
   {
    "duration": 15,
    "start_time": "2022-11-16T08:23:57.055Z"
   },
   {
    "duration": 301,
    "start_time": "2022-11-16T08:23:57.071Z"
   },
   {
    "duration": 5,
    "start_time": "2022-11-16T08:23:57.377Z"
   },
   {
    "duration": 24,
    "start_time": "2022-11-16T08:23:57.383Z"
   },
   {
    "duration": 34,
    "start_time": "2022-11-16T08:23:57.409Z"
   },
   {
    "duration": 249,
    "start_time": "2022-11-16T08:23:57.445Z"
   },
   {
    "duration": 219,
    "start_time": "2022-11-16T08:23:57.696Z"
   },
   {
    "duration": 2038,
    "start_time": "2022-11-16T08:23:57.917Z"
   },
   {
    "duration": 201,
    "start_time": "2022-11-16T08:23:59.958Z"
   },
   {
    "duration": 22,
    "start_time": "2022-11-16T08:24:04.803Z"
   },
   {
    "duration": 112,
    "start_time": "2022-11-16T08:24:34.937Z"
   },
   {
    "duration": 248,
    "start_time": "2022-11-16T08:24:59.234Z"
   },
   {
    "duration": 125,
    "start_time": "2022-11-16T08:25:27.257Z"
   },
   {
    "duration": 9,
    "start_time": "2022-11-16T08:30:53.170Z"
   },
   {
    "duration": 9,
    "start_time": "2022-11-16T08:31:05.365Z"
   },
   {
    "duration": 105,
    "start_time": "2022-11-16T08:31:13.061Z"
   },
   {
    "duration": 114,
    "start_time": "2022-11-16T08:31:33.680Z"
   },
   {
    "duration": 9,
    "start_time": "2022-11-16T08:32:23.610Z"
   },
   {
    "duration": 8,
    "start_time": "2022-11-16T08:33:30.848Z"
   },
   {
    "duration": 129,
    "start_time": "2022-11-16T08:33:38.576Z"
   },
   {
    "duration": 9,
    "start_time": "2022-11-16T08:33:53.127Z"
   },
   {
    "duration": 102,
    "start_time": "2022-11-16T08:33:59.611Z"
   },
   {
    "duration": 100,
    "start_time": "2022-11-16T08:34:13.063Z"
   },
   {
    "duration": 146,
    "start_time": "2022-11-16T08:34:25.094Z"
   },
   {
    "duration": 113,
    "start_time": "2022-11-16T08:34:36.517Z"
   },
   {
    "duration": 104,
    "start_time": "2022-11-16T08:34:48.187Z"
   },
   {
    "duration": 116,
    "start_time": "2022-11-16T08:35:01.042Z"
   },
   {
    "duration": 121,
    "start_time": "2022-11-16T08:35:06.870Z"
   },
   {
    "duration": 311,
    "start_time": "2022-11-16T08:35:52.469Z"
   },
   {
    "duration": 227,
    "start_time": "2022-11-16T08:37:06.914Z"
   },
   {
    "duration": 213,
    "start_time": "2022-11-16T08:37:32.697Z"
   },
   {
    "duration": 200,
    "start_time": "2022-11-16T08:38:10.508Z"
   },
   {
    "duration": 108,
    "start_time": "2022-11-16T08:38:35.592Z"
   },
   {
    "duration": 192,
    "start_time": "2022-11-16T08:38:47.589Z"
   },
   {
    "duration": 288,
    "start_time": "2022-11-16T08:39:48.245Z"
   },
   {
    "duration": 215,
    "start_time": "2022-11-16T08:40:01.977Z"
   },
   {
    "duration": 220,
    "start_time": "2022-11-16T08:40:14.361Z"
   },
   {
    "duration": 196,
    "start_time": "2022-11-16T08:42:21.155Z"
   },
   {
    "duration": 189,
    "start_time": "2022-11-16T08:42:40.778Z"
   },
   {
    "duration": 196,
    "start_time": "2022-11-16T08:43:52.390Z"
   },
   {
    "duration": 302,
    "start_time": "2022-11-16T08:43:59.961Z"
   },
   {
    "duration": 207,
    "start_time": "2022-11-16T08:44:17.896Z"
   },
   {
    "duration": 236,
    "start_time": "2022-11-16T08:44:44.353Z"
   },
   {
    "duration": 216,
    "start_time": "2022-11-16T08:45:11.072Z"
   },
   {
    "duration": 1354,
    "start_time": "2022-11-16T08:46:08.644Z"
   },
   {
    "duration": 1203,
    "start_time": "2022-11-16T08:46:28.702Z"
   },
   {
    "duration": 723,
    "start_time": "2022-11-16T08:46:56.210Z"
   },
   {
    "duration": 674,
    "start_time": "2022-11-16T08:47:18.651Z"
   },
   {
    "duration": 864,
    "start_time": "2022-11-16T08:47:31.350Z"
   },
   {
    "duration": 472,
    "start_time": "2022-11-16T08:48:54.048Z"
   },
   {
    "duration": 397,
    "start_time": "2022-11-16T08:49:37.050Z"
   },
   {
    "duration": 382,
    "start_time": "2022-11-16T08:49:43.917Z"
   },
   {
    "duration": 385,
    "start_time": "2022-11-16T08:49:59.653Z"
   },
   {
    "duration": 462,
    "start_time": "2022-11-16T08:50:33.358Z"
   },
   {
    "duration": 447,
    "start_time": "2022-11-16T08:50:38.522Z"
   },
   {
    "duration": 350,
    "start_time": "2022-11-16T08:50:50.216Z"
   },
   {
    "duration": 241,
    "start_time": "2022-11-16T08:52:07.709Z"
   },
   {
    "duration": 237,
    "start_time": "2022-11-16T08:53:07.353Z"
   },
   {
    "duration": 224,
    "start_time": "2022-11-16T08:53:20.491Z"
   },
   {
    "duration": 338,
    "start_time": "2022-11-16T08:53:34.038Z"
   },
   {
    "duration": 250,
    "start_time": "2022-11-16T08:53:49.662Z"
   },
   {
    "duration": 254,
    "start_time": "2022-11-16T08:56:33.138Z"
   },
   {
    "duration": 266,
    "start_time": "2022-11-16T09:02:03.924Z"
   },
   {
    "duration": 268,
    "start_time": "2022-11-16T09:08:43.402Z"
   },
   {
    "duration": 349,
    "start_time": "2022-11-16T09:13:37.414Z"
   },
   {
    "duration": 27,
    "start_time": "2022-11-16T09:23:20.353Z"
   },
   {
    "duration": 5,
    "start_time": "2022-11-16T09:23:32.307Z"
   },
   {
    "duration": 10,
    "start_time": "2022-11-16T09:23:38.284Z"
   },
   {
    "duration": 33,
    "start_time": "2022-11-16T09:24:02.241Z"
   },
   {
    "duration": 22,
    "start_time": "2022-11-16T09:24:47.857Z"
   },
   {
    "duration": 200,
    "start_time": "2022-11-16T09:27:46.959Z"
   },
   {
    "duration": 263,
    "start_time": "2022-11-16T09:28:22.540Z"
   },
   {
    "duration": 331,
    "start_time": "2022-11-16T09:30:15.733Z"
   },
   {
    "duration": 17,
    "start_time": "2022-11-16T09:30:38.850Z"
   },
   {
    "duration": 13,
    "start_time": "2022-11-16T09:30:42.820Z"
   },
   {
    "duration": 437,
    "start_time": "2022-11-16T09:31:41.920Z"
   },
   {
    "duration": 13,
    "start_time": "2022-11-16T09:31:42.359Z"
   },
   {
    "duration": 271,
    "start_time": "2022-11-16T09:31:42.373Z"
   },
   {
    "duration": 4,
    "start_time": "2022-11-16T09:31:42.646Z"
   },
   {
    "duration": 30,
    "start_time": "2022-11-16T09:31:42.652Z"
   },
   {
    "duration": 23,
    "start_time": "2022-11-16T09:31:42.684Z"
   },
   {
    "duration": 226,
    "start_time": "2022-11-16T09:31:42.709Z"
   },
   {
    "duration": 211,
    "start_time": "2022-11-16T09:31:42.937Z"
   },
   {
    "duration": 2165,
    "start_time": "2022-11-16T09:31:43.150Z"
   },
   {
    "duration": 297,
    "start_time": "2022-11-16T09:31:45.318Z"
   },
   {
    "duration": 16,
    "start_time": "2022-11-16T09:31:45.617Z"
   },
   {
    "duration": 17,
    "start_time": "2022-11-16T09:32:38.603Z"
   },
   {
    "duration": 23,
    "start_time": "2022-11-16T09:33:02.602Z"
   },
   {
    "duration": 19,
    "start_time": "2022-11-16T09:34:05.654Z"
   },
   {
    "duration": 95,
    "start_time": "2022-11-16T09:34:12.700Z"
   },
   {
    "duration": 437,
    "start_time": "2022-11-16T09:34:22.133Z"
   },
   {
    "duration": 15,
    "start_time": "2022-11-16T09:34:22.572Z"
   },
   {
    "duration": 323,
    "start_time": "2022-11-16T09:34:22.589Z"
   },
   {
    "duration": 4,
    "start_time": "2022-11-16T09:34:22.915Z"
   },
   {
    "duration": 30,
    "start_time": "2022-11-16T09:34:22.921Z"
   },
   {
    "duration": 45,
    "start_time": "2022-11-16T09:34:22.953Z"
   },
   {
    "duration": 220,
    "start_time": "2022-11-16T09:34:23.000Z"
   },
   {
    "duration": 213,
    "start_time": "2022-11-16T09:34:23.223Z"
   },
   {
    "duration": 2252,
    "start_time": "2022-11-16T09:34:23.438Z"
   },
   {
    "duration": 248,
    "start_time": "2022-11-16T09:34:25.692Z"
   },
   {
    "duration": 14,
    "start_time": "2022-11-16T09:34:25.941Z"
   },
   {
    "duration": 16,
    "start_time": "2022-11-16T09:35:03.233Z"
   },
   {
    "duration": 25,
    "start_time": "2022-11-16T09:35:20.046Z"
   },
   {
    "duration": 63,
    "start_time": "2022-11-16T09:39:55.408Z"
   },
   {
    "duration": 449,
    "start_time": "2022-11-16T09:40:18.293Z"
   },
   {
    "duration": 19,
    "start_time": "2022-11-16T09:40:18.746Z"
   },
   {
    "duration": 307,
    "start_time": "2022-11-16T09:40:18.766Z"
   },
   {
    "duration": 5,
    "start_time": "2022-11-16T09:40:19.075Z"
   },
   {
    "duration": 34,
    "start_time": "2022-11-16T09:40:19.082Z"
   },
   {
    "duration": 27,
    "start_time": "2022-11-16T09:40:19.117Z"
   },
   {
    "duration": 212,
    "start_time": "2022-11-16T09:40:19.146Z"
   },
   {
    "duration": 216,
    "start_time": "2022-11-16T09:40:19.360Z"
   },
   {
    "duration": 2078,
    "start_time": "2022-11-16T09:40:19.578Z"
   },
   {
    "duration": 258,
    "start_time": "2022-11-16T09:40:21.658Z"
   },
   {
    "duration": 74,
    "start_time": "2022-11-16T09:40:21.918Z"
   },
   {
    "duration": 33,
    "start_time": "2022-11-16T09:40:25.513Z"
   },
   {
    "duration": 27,
    "start_time": "2022-11-16T09:41:16.569Z"
   },
   {
    "duration": 56,
    "start_time": "2022-11-16T09:48:15.345Z"
   },
   {
    "duration": 235,
    "start_time": "2022-11-16T09:48:21.093Z"
   },
   {
    "duration": 161,
    "start_time": "2022-11-16T09:49:39.331Z"
   },
   {
    "duration": 154,
    "start_time": "2022-11-16T09:50:15.661Z"
   },
   {
    "duration": 168,
    "start_time": "2022-11-16T09:51:05.046Z"
   },
   {
    "duration": 190,
    "start_time": "2022-11-16T09:52:22.386Z"
   },
   {
    "duration": 164,
    "start_time": "2022-11-16T09:52:58.295Z"
   },
   {
    "duration": 319,
    "start_time": "2022-11-16T09:53:54.878Z"
   },
   {
    "duration": 275,
    "start_time": "2022-11-16T09:54:09.888Z"
   },
   {
    "duration": 1318,
    "start_time": "2022-11-16T10:08:05.868Z"
   },
   {
    "duration": 1523,
    "start_time": "2022-11-16T10:08:26.422Z"
   },
   {
    "duration": 2102,
    "start_time": "2022-11-16T10:08:36.572Z"
   },
   {
    "duration": 1567,
    "start_time": "2022-11-16T10:08:40.253Z"
   },
   {
    "duration": 1373,
    "start_time": "2022-11-16T10:08:45.661Z"
   },
   {
    "duration": 741,
    "start_time": "2022-11-16T10:09:09.014Z"
   },
   {
    "duration": 858,
    "start_time": "2022-11-16T10:09:17.639Z"
   },
   {
    "duration": 679,
    "start_time": "2022-11-16T10:09:43.804Z"
   },
   {
    "duration": 414,
    "start_time": "2022-11-16T10:20:28.018Z"
   },
   {
    "duration": 14,
    "start_time": "2022-11-16T10:20:28.433Z"
   },
   {
    "duration": 306,
    "start_time": "2022-11-16T10:20:28.448Z"
   },
   {
    "duration": 4,
    "start_time": "2022-11-16T10:20:28.756Z"
   },
   {
    "duration": 33,
    "start_time": "2022-11-16T10:20:28.762Z"
   },
   {
    "duration": 25,
    "start_time": "2022-11-16T10:20:28.797Z"
   },
   {
    "duration": 213,
    "start_time": "2022-11-16T10:20:28.823Z"
   },
   {
    "duration": 201,
    "start_time": "2022-11-16T10:20:29.038Z"
   },
   {
    "duration": 2136,
    "start_time": "2022-11-16T10:20:29.240Z"
   },
   {
    "duration": 282,
    "start_time": "2022-11-16T10:20:31.378Z"
   },
   {
    "duration": 367,
    "start_time": "2022-11-16T10:20:31.662Z"
   },
   {
    "duration": 457,
    "start_time": "2022-11-16T10:23:40.137Z"
   },
   {
    "duration": 15,
    "start_time": "2022-11-16T10:23:40.596Z"
   },
   {
    "duration": 342,
    "start_time": "2022-11-16T10:23:40.612Z"
   },
   {
    "duration": 5,
    "start_time": "2022-11-16T10:23:40.956Z"
   },
   {
    "duration": 35,
    "start_time": "2022-11-16T10:23:40.962Z"
   },
   {
    "duration": 22,
    "start_time": "2022-11-16T10:23:40.999Z"
   },
   {
    "duration": 213,
    "start_time": "2022-11-16T10:23:41.023Z"
   },
   {
    "duration": 206,
    "start_time": "2022-11-16T10:23:41.237Z"
   },
   {
    "duration": 2015,
    "start_time": "2022-11-16T10:23:42.765Z"
   },
   {
    "duration": 259,
    "start_time": "2022-11-16T10:23:44.782Z"
   },
   {
    "duration": 403,
    "start_time": "2022-11-16T10:23:45.044Z"
   },
   {
    "duration": 696,
    "start_time": "2022-11-16T10:23:45.449Z"
   },
   {
    "duration": 403,
    "start_time": "2022-11-16T11:28:23.749Z"
   },
   {
    "duration": 379,
    "start_time": "2022-11-16T11:29:12.797Z"
   },
   {
    "duration": 425,
    "start_time": "2022-11-16T11:32:38.409Z"
   },
   {
    "duration": 362,
    "start_time": "2022-11-16T11:33:20.271Z"
   },
   {
    "duration": 821,
    "start_time": "2022-11-16T11:33:37.038Z"
   },
   {
    "duration": 866,
    "start_time": "2022-11-16T11:34:00.487Z"
   },
   {
    "duration": 1103,
    "start_time": "2022-11-16T11:34:14.004Z"
   },
   {
    "duration": 1128,
    "start_time": "2022-11-16T11:35:47.872Z"
   },
   {
    "duration": 1256,
    "start_time": "2022-11-16T11:36:30.099Z"
   },
   {
    "duration": 1245,
    "start_time": "2022-11-16T11:36:37.171Z"
   },
   {
    "duration": 1074,
    "start_time": "2022-11-16T11:37:05.017Z"
   },
   {
    "duration": 484,
    "start_time": "2022-11-16T11:37:34.262Z"
   },
   {
    "duration": 14,
    "start_time": "2022-11-16T11:37:34.749Z"
   },
   {
    "duration": 321,
    "start_time": "2022-11-16T11:37:34.765Z"
   },
   {
    "duration": 5,
    "start_time": "2022-11-16T11:37:35.088Z"
   },
   {
    "duration": 29,
    "start_time": "2022-11-16T11:37:35.094Z"
   },
   {
    "duration": 22,
    "start_time": "2022-11-16T11:37:35.124Z"
   },
   {
    "duration": 234,
    "start_time": "2022-11-16T11:37:35.148Z"
   },
   {
    "duration": 230,
    "start_time": "2022-11-16T11:37:35.384Z"
   },
   {
    "duration": 2248,
    "start_time": "2022-11-16T11:37:35.616Z"
   },
   {
    "duration": 242,
    "start_time": "2022-11-16T11:37:37.867Z"
   },
   {
    "duration": 372,
    "start_time": "2022-11-16T11:37:38.111Z"
   },
   {
    "duration": 766,
    "start_time": "2022-11-16T11:37:38.485Z"
   },
   {
    "duration": 1033,
    "start_time": "2022-11-16T11:37:39.252Z"
   },
   {
    "duration": 1265,
    "start_time": "2022-11-16T11:37:40.287Z"
   },
   {
    "duration": 1218,
    "start_time": "2022-11-16T11:38:29.898Z"
   },
   {
    "duration": 15,
    "start_time": "2022-11-16T11:42:55.509Z"
   },
   {
    "duration": 12,
    "start_time": "2022-11-16T11:43:02.517Z"
   },
   {
    "duration": 23,
    "start_time": "2022-11-16T11:43:10.714Z"
   },
   {
    "duration": 18,
    "start_time": "2022-11-16T11:44:00.662Z"
   },
   {
    "duration": 540,
    "start_time": "2022-11-16T11:44:14.991Z"
   },
   {
    "duration": 18,
    "start_time": "2022-11-16T11:44:15.533Z"
   },
   {
    "duration": 330,
    "start_time": "2022-11-16T11:44:15.553Z"
   },
   {
    "duration": 5,
    "start_time": "2022-11-16T11:44:15.887Z"
   },
   {
    "duration": 44,
    "start_time": "2022-11-16T11:44:15.893Z"
   },
   {
    "duration": 24,
    "start_time": "2022-11-16T11:44:15.939Z"
   },
   {
    "duration": 206,
    "start_time": "2022-11-16T11:44:15.965Z"
   },
   {
    "duration": 205,
    "start_time": "2022-11-16T11:44:16.176Z"
   },
   {
    "duration": 1991,
    "start_time": "2022-11-16T11:44:16.383Z"
   },
   {
    "duration": 266,
    "start_time": "2022-11-16T11:44:18.376Z"
   },
   {
    "duration": 364,
    "start_time": "2022-11-16T11:44:18.644Z"
   },
   {
    "duration": 734,
    "start_time": "2022-11-16T11:44:19.010Z"
   },
   {
    "duration": 940,
    "start_time": "2022-11-16T11:44:19.746Z"
   },
   {
    "duration": 1151,
    "start_time": "2022-11-16T11:44:20.688Z"
   },
   {
    "duration": 17,
    "start_time": "2022-11-16T11:44:21.841Z"
   },
   {
    "duration": 39,
    "start_time": "2022-11-16T11:44:47.364Z"
   },
   {
    "duration": 21,
    "start_time": "2022-11-16T11:45:12.654Z"
   },
   {
    "duration": 98,
    "start_time": "2022-11-16T11:45:28.952Z"
   },
   {
    "duration": 7,
    "start_time": "2022-11-16T11:45:49.288Z"
   },
   {
    "duration": 6,
    "start_time": "2022-11-16T11:46:15.010Z"
   },
   {
    "duration": 27,
    "start_time": "2022-11-16T11:46:48.005Z"
   },
   {
    "duration": 24,
    "start_time": "2022-11-16T11:47:11.061Z"
   },
   {
    "duration": 32,
    "start_time": "2022-11-16T11:47:29.540Z"
   },
   {
    "duration": 25,
    "start_time": "2022-11-16T11:47:46.496Z"
   },
   {
    "duration": 9,
    "start_time": "2022-11-16T11:48:11.733Z"
   },
   {
    "duration": 7,
    "start_time": "2022-11-16T11:48:18.052Z"
   },
   {
    "duration": 30,
    "start_time": "2022-11-16T11:48:30.252Z"
   },
   {
    "duration": 8,
    "start_time": "2022-11-16T11:48:49.586Z"
   },
   {
    "duration": 8,
    "start_time": "2022-11-16T11:48:59.270Z"
   },
   {
    "duration": 9,
    "start_time": "2022-11-16T11:51:59.336Z"
   },
   {
    "duration": 11,
    "start_time": "2022-11-16T11:52:04.846Z"
   },
   {
    "duration": 7,
    "start_time": "2022-11-16T11:52:20.066Z"
   },
   {
    "duration": 8,
    "start_time": "2022-11-16T11:52:42.309Z"
   },
   {
    "duration": 10,
    "start_time": "2022-11-16T11:53:00.822Z"
   },
   {
    "duration": 7,
    "start_time": "2022-11-16T11:53:23.665Z"
   },
   {
    "duration": 16,
    "start_time": "2022-11-16T11:53:38.271Z"
   },
   {
    "duration": 143,
    "start_time": "2022-11-16T11:53:59.290Z"
   },
   {
    "duration": 217,
    "start_time": "2022-11-16T11:54:35.048Z"
   },
   {
    "duration": 156,
    "start_time": "2022-11-16T11:54:59.146Z"
   },
   {
    "duration": 222,
    "start_time": "2022-11-16T11:56:00.590Z"
   },
   {
    "duration": 167,
    "start_time": "2022-11-16T11:56:13.114Z"
   },
   {
    "duration": 128,
    "start_time": "2022-11-16T11:57:37.309Z"
   },
   {
    "duration": 167,
    "start_time": "2022-11-16T11:58:13.030Z"
   },
   {
    "duration": 174,
    "start_time": "2022-11-16T11:58:27.925Z"
   },
   {
    "duration": 9,
    "start_time": "2022-11-16T12:31:02.699Z"
   },
   {
    "duration": 3,
    "start_time": "2022-11-16T12:31:19.089Z"
   },
   {
    "duration": 23,
    "start_time": "2022-11-16T12:34:24.898Z"
   },
   {
    "duration": 9,
    "start_time": "2022-11-16T12:37:31.598Z"
   },
   {
    "duration": 9,
    "start_time": "2022-11-16T12:37:48.911Z"
   },
   {
    "duration": 9,
    "start_time": "2022-11-16T12:42:24.935Z"
   },
   {
    "duration": 24,
    "start_time": "2022-11-16T12:44:38.274Z"
   },
   {
    "duration": 30,
    "start_time": "2022-11-16T12:47:47.485Z"
   },
   {
    "duration": 28,
    "start_time": "2022-11-16T12:48:19.922Z"
   },
   {
    "duration": 29,
    "start_time": "2022-11-16T12:48:56.103Z"
   },
   {
    "duration": 30,
    "start_time": "2022-11-16T12:49:01.273Z"
   },
   {
    "duration": 17,
    "start_time": "2022-11-16T12:52:51.818Z"
   },
   {
    "duration": 151,
    "start_time": "2022-11-16T12:53:02.192Z"
   },
   {
    "duration": 202,
    "start_time": "2022-11-16T12:53:17.054Z"
   },
   {
    "duration": 112,
    "start_time": "2022-11-16T12:53:51.638Z"
   },
   {
    "duration": 225,
    "start_time": "2022-11-16T12:53:59.335Z"
   },
   {
    "duration": 267,
    "start_time": "2022-11-16T12:54:18.510Z"
   },
   {
    "duration": 12,
    "start_time": "2022-11-16T12:54:49.199Z"
   },
   {
    "duration": 8,
    "start_time": "2022-11-16T12:55:47.161Z"
   },
   {
    "duration": 8,
    "start_time": "2022-11-16T12:58:00.573Z"
   },
   {
    "duration": 10,
    "start_time": "2022-11-16T12:58:11.267Z"
   },
   {
    "duration": 9,
    "start_time": "2022-11-16T12:58:50.168Z"
   },
   {
    "duration": 469,
    "start_time": "2022-11-16T12:59:22.644Z"
   },
   {
    "duration": 12,
    "start_time": "2022-11-16T12:59:23.115Z"
   },
   {
    "duration": 276,
    "start_time": "2022-11-16T12:59:23.129Z"
   },
   {
    "duration": 4,
    "start_time": "2022-11-16T12:59:23.407Z"
   },
   {
    "duration": 30,
    "start_time": "2022-11-16T12:59:23.412Z"
   },
   {
    "duration": 32,
    "start_time": "2022-11-16T12:59:23.444Z"
   },
   {
    "duration": 204,
    "start_time": "2022-11-16T12:59:23.478Z"
   },
   {
    "duration": 212,
    "start_time": "2022-11-16T12:59:23.684Z"
   },
   {
    "duration": 2249,
    "start_time": "2022-11-16T12:59:23.898Z"
   },
   {
    "duration": 274,
    "start_time": "2022-11-16T12:59:26.150Z"
   },
   {
    "duration": 382,
    "start_time": "2022-11-16T12:59:26.425Z"
   },
   {
    "duration": 752,
    "start_time": "2022-11-16T12:59:26.809Z"
   },
   {
    "duration": 1014,
    "start_time": "2022-11-16T12:59:27.562Z"
   },
   {
    "duration": 1314,
    "start_time": "2022-11-16T12:59:28.578Z"
   },
   {
    "duration": 182,
    "start_time": "2022-11-16T12:59:29.894Z"
   },
   {
    "duration": 3,
    "start_time": "2022-11-16T12:59:30.077Z"
   },
   {
    "duration": 60,
    "start_time": "2022-11-16T12:59:30.082Z"
   },
   {
    "duration": 49,
    "start_time": "2022-11-16T12:59:30.144Z"
   },
   {
    "duration": 668,
    "start_time": "2022-11-16T13:10:28.893Z"
   },
   {
    "duration": 454,
    "start_time": "2022-11-16T14:15:46.706Z"
   },
   {
    "duration": 13,
    "start_time": "2022-11-16T14:15:47.161Z"
   },
   {
    "duration": 267,
    "start_time": "2022-11-16T14:15:47.175Z"
   },
   {
    "duration": 5,
    "start_time": "2022-11-16T14:15:47.444Z"
   },
   {
    "duration": 35,
    "start_time": "2022-11-16T14:15:47.450Z"
   },
   {
    "duration": 22,
    "start_time": "2022-11-16T14:15:47.487Z"
   },
   {
    "duration": 208,
    "start_time": "2022-11-16T14:15:47.510Z"
   },
   {
    "duration": 192,
    "start_time": "2022-11-16T14:15:47.720Z"
   },
   {
    "duration": 2031,
    "start_time": "2022-11-16T14:15:47.914Z"
   },
   {
    "duration": 250,
    "start_time": "2022-11-16T14:15:49.948Z"
   },
   {
    "duration": 349,
    "start_time": "2022-11-16T14:15:50.200Z"
   },
   {
    "duration": 692,
    "start_time": "2022-11-16T14:15:50.551Z"
   },
   {
    "duration": 978,
    "start_time": "2022-11-16T14:15:51.245Z"
   },
   {
    "duration": 1267,
    "start_time": "2022-11-16T14:15:52.225Z"
   },
   {
    "duration": 183,
    "start_time": "2022-11-16T14:15:53.494Z"
   },
   {
    "duration": 2,
    "start_time": "2022-11-16T14:15:53.679Z"
   },
   {
    "duration": 18,
    "start_time": "2022-11-16T14:15:53.682Z"
   },
   {
    "duration": 11,
    "start_time": "2022-11-16T14:15:53.702Z"
   },
   {
    "duration": 439,
    "start_time": "2022-11-16T14:48:14.422Z"
   },
   {
    "duration": 12,
    "start_time": "2022-11-16T14:48:14.863Z"
   },
   {
    "duration": 267,
    "start_time": "2022-11-16T14:48:14.877Z"
   },
   {
    "duration": 4,
    "start_time": "2022-11-16T14:48:15.146Z"
   },
   {
    "duration": 25,
    "start_time": "2022-11-16T14:48:15.151Z"
   },
   {
    "duration": 21,
    "start_time": "2022-11-16T14:48:15.178Z"
   },
   {
    "duration": 201,
    "start_time": "2022-11-16T14:48:15.200Z"
   },
   {
    "duration": 201,
    "start_time": "2022-11-16T14:48:15.403Z"
   },
   {
    "duration": 2033,
    "start_time": "2022-11-16T14:48:15.606Z"
   },
   {
    "duration": 244,
    "start_time": "2022-11-16T14:48:17.641Z"
   },
   {
    "duration": 339,
    "start_time": "2022-11-16T14:48:17.886Z"
   },
   {
    "duration": 656,
    "start_time": "2022-11-16T14:48:18.226Z"
   },
   {
    "duration": 1003,
    "start_time": "2022-11-16T14:48:18.884Z"
   },
   {
    "duration": 1262,
    "start_time": "2022-11-16T14:48:19.889Z"
   },
   {
    "duration": 171,
    "start_time": "2022-11-16T14:48:21.153Z"
   },
   {
    "duration": 2,
    "start_time": "2022-11-16T14:48:21.326Z"
   },
   {
    "duration": 11,
    "start_time": "2022-11-16T14:48:21.330Z"
   },
   {
    "duration": 7,
    "start_time": "2022-11-16T14:48:21.342Z"
   },
   {
    "duration": 422,
    "start_time": "2022-11-16T15:12:49.645Z"
   },
   {
    "duration": 13,
    "start_time": "2022-11-16T15:12:50.069Z"
   },
   {
    "duration": 304,
    "start_time": "2022-11-16T15:12:50.083Z"
   },
   {
    "duration": 6,
    "start_time": "2022-11-16T15:12:50.389Z"
   },
   {
    "duration": 36,
    "start_time": "2022-11-16T15:12:50.398Z"
   },
   {
    "duration": 23,
    "start_time": "2022-11-16T15:12:50.436Z"
   },
   {
    "duration": 206,
    "start_time": "2022-11-16T15:12:50.460Z"
   },
   {
    "duration": 207,
    "start_time": "2022-11-16T15:12:50.667Z"
   },
   {
    "duration": 2077,
    "start_time": "2022-11-16T15:12:50.876Z"
   },
   {
    "duration": 249,
    "start_time": "2022-11-16T15:12:52.955Z"
   },
   {
    "duration": 328,
    "start_time": "2022-11-16T15:12:53.206Z"
   },
   {
    "duration": 661,
    "start_time": "2022-11-16T15:12:53.536Z"
   },
   {
    "duration": 979,
    "start_time": "2022-11-16T15:12:54.198Z"
   },
   {
    "duration": 1193,
    "start_time": "2022-11-16T15:12:55.179Z"
   },
   {
    "duration": 168,
    "start_time": "2022-11-16T15:12:56.374Z"
   },
   {
    "duration": 3,
    "start_time": "2022-11-16T15:12:56.543Z"
   },
   {
    "duration": 12,
    "start_time": "2022-11-16T15:12:56.547Z"
   },
   {
    "duration": 8,
    "start_time": "2022-11-16T15:12:56.561Z"
   },
   {
    "duration": 253,
    "start_time": "2022-11-16T15:51:33.586Z"
   },
   {
    "duration": 466,
    "start_time": "2022-11-16T15:51:44.186Z"
   },
   {
    "duration": 13,
    "start_time": "2022-11-16T15:51:44.654Z"
   },
   {
    "duration": 257,
    "start_time": "2022-11-16T15:51:44.668Z"
   },
   {
    "duration": 4,
    "start_time": "2022-11-16T15:51:44.926Z"
   },
   {
    "duration": 24,
    "start_time": "2022-11-16T15:51:44.932Z"
   },
   {
    "duration": 40,
    "start_time": "2022-11-16T15:51:44.958Z"
   },
   {
    "duration": 200,
    "start_time": "2022-11-16T15:51:44.999Z"
   },
   {
    "duration": 259,
    "start_time": "2022-11-16T15:51:45.201Z"
   },
   {
    "duration": 2001,
    "start_time": "2022-11-16T15:51:45.463Z"
   },
   {
    "duration": 270,
    "start_time": "2022-11-16T15:51:47.466Z"
   },
   {
    "duration": 325,
    "start_time": "2022-11-16T15:51:47.738Z"
   },
   {
    "duration": 677,
    "start_time": "2022-11-16T15:51:48.065Z"
   },
   {
    "duration": 982,
    "start_time": "2022-11-16T15:51:48.744Z"
   },
   {
    "duration": 1185,
    "start_time": "2022-11-16T15:51:49.728Z"
   },
   {
    "duration": 178,
    "start_time": "2022-11-16T15:51:50.914Z"
   },
   {
    "duration": 3,
    "start_time": "2022-11-16T15:51:51.094Z"
   },
   {
    "duration": 21,
    "start_time": "2022-11-16T15:51:51.098Z"
   },
   {
    "duration": 26,
    "start_time": "2022-11-16T15:51:51.120Z"
   },
   {
    "duration": 281,
    "start_time": "2022-11-16T15:52:13.519Z"
   },
   {
    "duration": 313,
    "start_time": "2022-11-16T15:54:39.669Z"
   },
   {
    "duration": 1265,
    "start_time": "2022-11-17T06:30:33.054Z"
   },
   {
    "duration": 100,
    "start_time": "2022-11-17T06:30:34.321Z"
   },
   {
    "duration": 13,
    "start_time": "2022-11-17T06:30:34.423Z"
   },
   {
    "duration": 68,
    "start_time": "2022-11-17T06:30:34.438Z"
   },
   {
    "duration": 5,
    "start_time": "2022-11-17T06:30:34.507Z"
   },
   {
    "duration": 27,
    "start_time": "2022-11-17T06:30:34.514Z"
   },
   {
    "duration": 23,
    "start_time": "2022-11-17T06:30:34.542Z"
   },
   {
    "duration": 216,
    "start_time": "2022-11-17T06:30:34.566Z"
   },
   {
    "duration": 208,
    "start_time": "2022-11-17T06:30:34.784Z"
   },
   {
    "duration": 1682,
    "start_time": "2022-11-17T06:30:34.994Z"
   },
   {
    "duration": 267,
    "start_time": "2022-11-17T06:30:36.677Z"
   },
   {
    "duration": 367,
    "start_time": "2022-11-17T06:30:36.946Z"
   },
   {
    "duration": 744,
    "start_time": "2022-11-17T06:30:37.315Z"
   },
   {
    "duration": 972,
    "start_time": "2022-11-17T06:30:38.060Z"
   },
   {
    "duration": 1222,
    "start_time": "2022-11-17T06:30:39.033Z"
   },
   {
    "duration": 167,
    "start_time": "2022-11-17T06:30:40.256Z"
   },
   {
    "duration": 10,
    "start_time": "2022-11-17T06:30:40.424Z"
   },
   {
    "duration": 7,
    "start_time": "2022-11-17T06:30:40.435Z"
   },
   {
    "duration": 4,
    "start_time": "2022-11-17T06:33:59.745Z"
   },
   {
    "duration": 1156,
    "start_time": "2022-11-17T06:45:25.641Z"
   },
   {
    "duration": 64,
    "start_time": "2022-11-17T06:45:26.799Z"
   },
   {
    "duration": 15,
    "start_time": "2022-11-17T06:45:26.865Z"
   },
   {
    "duration": 60,
    "start_time": "2022-11-17T06:45:26.882Z"
   },
   {
    "duration": 5,
    "start_time": "2022-11-17T06:45:26.944Z"
   },
   {
    "duration": 24,
    "start_time": "2022-11-17T06:45:26.950Z"
   },
   {
    "duration": 46,
    "start_time": "2022-11-17T06:45:26.975Z"
   },
   {
    "duration": 212,
    "start_time": "2022-11-17T06:45:27.023Z"
   },
   {
    "duration": 271,
    "start_time": "2022-11-17T06:45:27.236Z"
   },
   {
    "duration": 1657,
    "start_time": "2022-11-17T06:45:27.510Z"
   },
   {
    "duration": 264,
    "start_time": "2022-11-17T06:45:29.169Z"
   },
   {
    "duration": 373,
    "start_time": "2022-11-17T06:45:29.435Z"
   },
   {
    "duration": 705,
    "start_time": "2022-11-17T06:45:29.809Z"
   },
   {
    "duration": 998,
    "start_time": "2022-11-17T06:45:30.517Z"
   },
   {
    "duration": 1262,
    "start_time": "2022-11-17T06:45:31.517Z"
   },
   {
    "duration": 180,
    "start_time": "2022-11-17T06:45:32.781Z"
   },
   {
    "duration": 11,
    "start_time": "2022-11-17T06:45:32.962Z"
   },
   {
    "duration": 14,
    "start_time": "2022-11-17T06:45:32.975Z"
   },
   {
    "duration": 115,
    "start_time": "2022-11-17T07:26:14.094Z"
   },
   {
    "duration": 1251,
    "start_time": "2022-11-17T07:26:26.202Z"
   },
   {
    "duration": 75,
    "start_time": "2022-11-17T07:26:27.455Z"
   },
   {
    "duration": 18,
    "start_time": "2022-11-17T07:26:27.532Z"
   },
   {
    "duration": 81,
    "start_time": "2022-11-17T07:26:27.552Z"
   },
   {
    "duration": 5,
    "start_time": "2022-11-17T07:26:27.634Z"
   },
   {
    "duration": 129,
    "start_time": "2022-11-17T07:26:27.640Z"
   },
   {
    "duration": 0,
    "start_time": "2022-11-17T07:26:27.771Z"
   },
   {
    "duration": 0,
    "start_time": "2022-11-17T07:26:27.772Z"
   },
   {
    "duration": 0,
    "start_time": "2022-11-17T07:26:27.773Z"
   },
   {
    "duration": 0,
    "start_time": "2022-11-17T07:26:27.774Z"
   },
   {
    "duration": 0,
    "start_time": "2022-11-17T07:26:27.775Z"
   },
   {
    "duration": 0,
    "start_time": "2022-11-17T07:26:27.776Z"
   },
   {
    "duration": 0,
    "start_time": "2022-11-17T07:26:27.777Z"
   },
   {
    "duration": 0,
    "start_time": "2022-11-17T07:26:27.778Z"
   },
   {
    "duration": 10,
    "start_time": "2022-11-17T07:26:27.846Z"
   },
   {
    "duration": 0,
    "start_time": "2022-11-17T07:26:27.858Z"
   },
   {
    "duration": 311,
    "start_time": "2022-11-17T07:26:28.766Z"
   },
   {
    "duration": 0,
    "start_time": "2022-11-17T07:26:29.079Z"
   },
   {
    "duration": 14,
    "start_time": "2022-11-17T07:27:10.955Z"
   },
   {
    "duration": 22,
    "start_time": "2022-11-17T07:28:29.580Z"
   },
   {
    "duration": 21,
    "start_time": "2022-11-17T07:28:45.680Z"
   },
   {
    "duration": 9,
    "start_time": "2022-11-17T07:28:58.172Z"
   },
   {
    "duration": 1061,
    "start_time": "2022-11-17T07:29:08.435Z"
   },
   {
    "duration": 61,
    "start_time": "2022-11-17T07:29:09.498Z"
   },
   {
    "duration": 13,
    "start_time": "2022-11-17T07:29:09.561Z"
   },
   {
    "duration": 53,
    "start_time": "2022-11-17T07:29:09.575Z"
   },
   {
    "duration": 5,
    "start_time": "2022-11-17T07:29:09.630Z"
   },
   {
    "duration": 37,
    "start_time": "2022-11-17T07:29:09.636Z"
   },
   {
    "duration": 104,
    "start_time": "2022-11-17T07:29:09.675Z"
   },
   {
    "duration": 0,
    "start_time": "2022-11-17T07:29:09.781Z"
   },
   {
    "duration": 0,
    "start_time": "2022-11-17T07:29:09.782Z"
   },
   {
    "duration": 0,
    "start_time": "2022-11-17T07:29:09.783Z"
   },
   {
    "duration": 0,
    "start_time": "2022-11-17T07:29:09.784Z"
   },
   {
    "duration": 0,
    "start_time": "2022-11-17T07:29:09.786Z"
   },
   {
    "duration": 0,
    "start_time": "2022-11-17T07:29:09.787Z"
   },
   {
    "duration": 0,
    "start_time": "2022-11-17T07:29:09.788Z"
   },
   {
    "duration": 0,
    "start_time": "2022-11-17T07:29:09.804Z"
   },
   {
    "duration": 0,
    "start_time": "2022-11-17T07:29:09.805Z"
   },
   {
    "duration": 0,
    "start_time": "2022-11-17T07:29:09.806Z"
   },
   {
    "duration": 0,
    "start_time": "2022-11-17T07:29:09.807Z"
   },
   {
    "duration": 7,
    "start_time": "2022-11-17T07:34:01.319Z"
   },
   {
    "duration": 5,
    "start_time": "2022-11-17T07:34:43.459Z"
   },
   {
    "duration": 25,
    "start_time": "2022-11-17T07:35:01.365Z"
   },
   {
    "duration": 20,
    "start_time": "2022-11-17T07:35:45.780Z"
   },
   {
    "duration": 7,
    "start_time": "2022-11-17T07:40:49.623Z"
   },
   {
    "duration": 9,
    "start_time": "2022-11-17T07:42:12.757Z"
   },
   {
    "duration": 10,
    "start_time": "2022-11-17T07:42:45.481Z"
   },
   {
    "duration": 7,
    "start_time": "2022-11-17T07:44:43.708Z"
   },
   {
    "duration": 71,
    "start_time": "2022-11-17T07:47:23.774Z"
   },
   {
    "duration": 77,
    "start_time": "2022-11-17T07:47:30.159Z"
   },
   {
    "duration": 71,
    "start_time": "2022-11-17T07:47:50.676Z"
   },
   {
    "duration": 7,
    "start_time": "2022-11-17T07:48:06.376Z"
   },
   {
    "duration": 7,
    "start_time": "2022-11-17T07:48:14.693Z"
   },
   {
    "duration": 7,
    "start_time": "2022-11-17T07:48:20.221Z"
   },
   {
    "duration": 10,
    "start_time": "2022-11-17T07:48:26.594Z"
   },
   {
    "duration": 1162,
    "start_time": "2022-11-17T07:56:25.100Z"
   },
   {
    "duration": 68,
    "start_time": "2022-11-17T07:56:26.264Z"
   },
   {
    "duration": 16,
    "start_time": "2022-11-17T07:56:26.334Z"
   },
   {
    "duration": 74,
    "start_time": "2022-11-17T07:56:26.353Z"
   },
   {
    "duration": 4,
    "start_time": "2022-11-17T07:56:26.428Z"
   },
   {
    "duration": 27,
    "start_time": "2022-11-17T07:56:26.434Z"
   },
   {
    "duration": 43,
    "start_time": "2022-11-17T07:56:26.463Z"
   },
   {
    "duration": 216,
    "start_time": "2022-11-17T07:56:26.508Z"
   },
   {
    "duration": 210,
    "start_time": "2022-11-17T07:56:26.725Z"
   },
   {
    "duration": 1633,
    "start_time": "2022-11-17T07:56:26.937Z"
   },
   {
    "duration": 249,
    "start_time": "2022-11-17T07:56:28.572Z"
   },
   {
    "duration": 348,
    "start_time": "2022-11-17T07:56:28.823Z"
   },
   {
    "duration": 690,
    "start_time": "2022-11-17T07:56:29.173Z"
   },
   {
    "duration": 1007,
    "start_time": "2022-11-17T07:56:29.864Z"
   },
   {
    "duration": 1218,
    "start_time": "2022-11-17T07:56:30.872Z"
   },
   {
    "duration": 221,
    "start_time": "2022-11-17T07:56:32.092Z"
   },
   {
    "duration": 11,
    "start_time": "2022-11-17T07:56:32.314Z"
   },
   {
    "duration": 7,
    "start_time": "2022-11-17T07:56:32.327Z"
   },
   {
    "duration": 302,
    "start_time": "2022-11-17T08:05:56.013Z"
   },
   {
    "duration": 201,
    "start_time": "2022-11-17T08:06:17.015Z"
   },
   {
    "duration": 20,
    "start_time": "2022-11-17T08:08:24.353Z"
   },
   {
    "duration": 14,
    "start_time": "2022-11-17T08:08:59.401Z"
   },
   {
    "duration": 22,
    "start_time": "2022-11-17T08:13:28.137Z"
   },
   {
    "duration": 19,
    "start_time": "2022-11-17T08:14:08.788Z"
   },
   {
    "duration": 17,
    "start_time": "2022-11-17T08:16:02.970Z"
   },
   {
    "duration": 17,
    "start_time": "2022-11-17T08:16:16.431Z"
   },
   {
    "duration": 1200,
    "start_time": "2022-11-17T08:17:38.685Z"
   },
   {
    "duration": 1145,
    "start_time": "2022-11-17T08:21:50.713Z"
   },
   {
    "duration": 1187,
    "start_time": "2022-11-17T08:22:09.912Z"
   },
   {
    "duration": 62,
    "start_time": "2022-11-17T08:22:11.101Z"
   },
   {
    "duration": 14,
    "start_time": "2022-11-17T08:22:11.165Z"
   },
   {
    "duration": 71,
    "start_time": "2022-11-17T08:22:11.181Z"
   },
   {
    "duration": 5,
    "start_time": "2022-11-17T08:22:11.253Z"
   },
   {
    "duration": 30,
    "start_time": "2022-11-17T08:22:11.259Z"
   },
   {
    "duration": 34,
    "start_time": "2022-11-17T08:22:11.291Z"
   },
   {
    "duration": 225,
    "start_time": "2022-11-17T08:22:11.326Z"
   },
   {
    "duration": 25,
    "start_time": "2022-11-17T08:22:11.552Z"
   },
   {
    "duration": 211,
    "start_time": "2022-11-17T08:22:11.579Z"
   },
   {
    "duration": 1630,
    "start_time": "2022-11-17T08:22:11.792Z"
   },
   {
    "duration": 268,
    "start_time": "2022-11-17T08:22:13.424Z"
   },
   {
    "duration": 384,
    "start_time": "2022-11-17T08:22:13.694Z"
   },
   {
    "duration": 696,
    "start_time": "2022-11-17T08:22:14.079Z"
   },
   {
    "duration": 971,
    "start_time": "2022-11-17T08:22:14.777Z"
   },
   {
    "duration": 2194,
    "start_time": "2022-11-17T08:22:15.750Z"
   },
   {
    "duration": 179,
    "start_time": "2022-11-17T08:22:17.946Z"
   },
   {
    "duration": 13,
    "start_time": "2022-11-17T08:22:18.127Z"
   },
   {
    "duration": 10,
    "start_time": "2022-11-17T08:22:18.142Z"
   },
   {
    "duration": 25,
    "start_time": "2022-11-17T08:23:11.150Z"
   },
   {
    "duration": 24,
    "start_time": "2022-11-17T08:23:33.321Z"
   },
   {
    "duration": 1197,
    "start_time": "2022-11-17T08:24:17.011Z"
   },
   {
    "duration": 64,
    "start_time": "2022-11-17T08:24:18.210Z"
   },
   {
    "duration": 14,
    "start_time": "2022-11-17T08:24:18.276Z"
   },
   {
    "duration": 56,
    "start_time": "2022-11-17T08:24:18.292Z"
   },
   {
    "duration": 5,
    "start_time": "2022-11-17T08:24:18.349Z"
   },
   {
    "duration": 24,
    "start_time": "2022-11-17T08:24:18.356Z"
   },
   {
    "duration": 48,
    "start_time": "2022-11-17T08:24:18.381Z"
   },
   {
    "duration": 217,
    "start_time": "2022-11-17T08:24:18.432Z"
   },
   {
    "duration": 24,
    "start_time": "2022-11-17T08:24:18.651Z"
   },
   {
    "duration": 218,
    "start_time": "2022-11-17T08:24:18.677Z"
   },
   {
    "duration": 1581,
    "start_time": "2022-11-17T08:24:18.896Z"
   },
   {
    "duration": 265,
    "start_time": "2022-11-17T08:24:20.479Z"
   },
   {
    "duration": 364,
    "start_time": "2022-11-17T08:24:20.746Z"
   },
   {
    "duration": 669,
    "start_time": "2022-11-17T08:24:21.112Z"
   },
   {
    "duration": 967,
    "start_time": "2022-11-17T08:24:21.783Z"
   },
   {
    "duration": 1231,
    "start_time": "2022-11-17T08:24:22.751Z"
   },
   {
    "duration": 191,
    "start_time": "2022-11-17T08:24:23.984Z"
   },
   {
    "duration": 11,
    "start_time": "2022-11-17T08:24:24.176Z"
   },
   {
    "duration": 19,
    "start_time": "2022-11-17T08:24:24.189Z"
   },
   {
    "duration": 23,
    "start_time": "2022-11-17T08:24:39.437Z"
   },
   {
    "duration": 22,
    "start_time": "2022-11-17T08:24:45.682Z"
   },
   {
    "duration": 24,
    "start_time": "2022-11-17T08:25:14.219Z"
   },
   {
    "duration": 14,
    "start_time": "2022-11-17T08:25:42.936Z"
   },
   {
    "duration": 11,
    "start_time": "2022-11-17T08:26:29.272Z"
   },
   {
    "duration": 108,
    "start_time": "2022-11-17T08:26:39.321Z"
   },
   {
    "duration": 16,
    "start_time": "2022-11-17T08:26:59.627Z"
   },
   {
    "duration": 10,
    "start_time": "2022-11-17T08:30:08.390Z"
   },
   {
    "duration": 10,
    "start_time": "2022-11-17T08:30:16.497Z"
   },
   {
    "duration": 1083,
    "start_time": "2022-11-17T08:30:25.151Z"
   },
   {
    "duration": 64,
    "start_time": "2022-11-17T08:30:26.236Z"
   },
   {
    "duration": 15,
    "start_time": "2022-11-17T08:30:26.302Z"
   },
   {
    "duration": 63,
    "start_time": "2022-11-17T08:30:26.319Z"
   },
   {
    "duration": 21,
    "start_time": "2022-11-17T08:30:26.384Z"
   },
   {
    "duration": 26,
    "start_time": "2022-11-17T08:30:26.407Z"
   },
   {
    "duration": 25,
    "start_time": "2022-11-17T08:30:26.435Z"
   },
   {
    "duration": 226,
    "start_time": "2022-11-17T08:30:26.462Z"
   },
   {
    "duration": 24,
    "start_time": "2022-11-17T08:30:26.689Z"
   },
   {
    "duration": 209,
    "start_time": "2022-11-17T08:30:26.715Z"
   },
   {
    "duration": 1658,
    "start_time": "2022-11-17T08:30:26.926Z"
   },
   {
    "duration": 261,
    "start_time": "2022-11-17T08:30:28.586Z"
   },
   {
    "duration": 368,
    "start_time": "2022-11-17T08:30:28.849Z"
   },
   {
    "duration": 670,
    "start_time": "2022-11-17T08:30:29.219Z"
   },
   {
    "duration": 992,
    "start_time": "2022-11-17T08:30:29.891Z"
   },
   {
    "duration": 1218,
    "start_time": "2022-11-17T08:30:30.884Z"
   },
   {
    "duration": 190,
    "start_time": "2022-11-17T08:30:32.103Z"
   },
   {
    "duration": 10,
    "start_time": "2022-11-17T08:30:32.295Z"
   },
   {
    "duration": 26,
    "start_time": "2022-11-17T08:30:32.307Z"
   },
   {
    "duration": 102,
    "start_time": "2022-11-17T08:31:13.380Z"
   },
   {
    "duration": 11,
    "start_time": "2022-11-17T08:31:33.570Z"
   },
   {
    "duration": 17,
    "start_time": "2022-11-17T08:32:00.206Z"
   },
   {
    "duration": 17,
    "start_time": "2022-11-17T08:32:57.393Z"
   },
   {
    "duration": 14,
    "start_time": "2022-11-17T08:33:18.163Z"
   },
   {
    "duration": 7,
    "start_time": "2022-11-17T08:37:14.307Z"
   },
   {
    "duration": 15,
    "start_time": "2022-11-17T08:37:21.351Z"
   },
   {
    "duration": 23,
    "start_time": "2022-11-17T08:37:52.105Z"
   },
   {
    "duration": 1086,
    "start_time": "2022-11-17T08:38:14.040Z"
   },
   {
    "duration": 64,
    "start_time": "2022-11-17T08:38:15.128Z"
   },
   {
    "duration": 14,
    "start_time": "2022-11-17T08:38:15.194Z"
   },
   {
    "duration": 59,
    "start_time": "2022-11-17T08:38:15.211Z"
   },
   {
    "duration": 5,
    "start_time": "2022-11-17T08:38:15.272Z"
   },
   {
    "duration": 46,
    "start_time": "2022-11-17T08:38:15.279Z"
   },
   {
    "duration": 24,
    "start_time": "2022-11-17T08:38:15.327Z"
   },
   {
    "duration": 209,
    "start_time": "2022-11-17T08:38:15.353Z"
   },
   {
    "duration": 26,
    "start_time": "2022-11-17T08:38:15.564Z"
   },
   {
    "duration": 211,
    "start_time": "2022-11-17T08:38:15.604Z"
   },
   {
    "duration": 1590,
    "start_time": "2022-11-17T08:38:15.817Z"
   },
   {
    "duration": 316,
    "start_time": "2022-11-17T08:38:17.409Z"
   },
   {
    "duration": 354,
    "start_time": "2022-11-17T08:38:17.727Z"
   },
   {
    "duration": 705,
    "start_time": "2022-11-17T08:38:18.083Z"
   },
   {
    "duration": 994,
    "start_time": "2022-11-17T08:38:18.790Z"
   },
   {
    "duration": 1234,
    "start_time": "2022-11-17T08:38:19.786Z"
   },
   {
    "duration": 180,
    "start_time": "2022-11-17T08:38:21.022Z"
   },
   {
    "duration": 10,
    "start_time": "2022-11-17T08:38:21.204Z"
   },
   {
    "duration": 7,
    "start_time": "2022-11-17T08:38:21.216Z"
   },
   {
    "duration": 24,
    "start_time": "2022-11-17T08:38:51.082Z"
   },
   {
    "duration": 25,
    "start_time": "2022-11-17T08:39:02.092Z"
   },
   {
    "duration": 107,
    "start_time": "2022-11-17T08:39:08.003Z"
   },
   {
    "duration": 1067,
    "start_time": "2022-11-17T08:39:13.641Z"
   },
   {
    "duration": 63,
    "start_time": "2022-11-17T08:39:14.710Z"
   },
   {
    "duration": 15,
    "start_time": "2022-11-17T08:39:14.775Z"
   },
   {
    "duration": 60,
    "start_time": "2022-11-17T08:39:14.792Z"
   },
   {
    "duration": 5,
    "start_time": "2022-11-17T08:39:14.854Z"
   },
   {
    "duration": 44,
    "start_time": "2022-11-17T08:39:14.861Z"
   },
   {
    "duration": 26,
    "start_time": "2022-11-17T08:39:14.906Z"
   },
   {
    "duration": 253,
    "start_time": "2022-11-17T08:39:14.936Z"
   },
   {
    "duration": 30,
    "start_time": "2022-11-17T08:39:15.191Z"
   },
   {
    "duration": 219,
    "start_time": "2022-11-17T08:39:15.223Z"
   },
   {
    "duration": 1609,
    "start_time": "2022-11-17T08:39:15.444Z"
   },
   {
    "duration": 260,
    "start_time": "2022-11-17T08:39:17.055Z"
   },
   {
    "duration": 400,
    "start_time": "2022-11-17T08:39:17.317Z"
   },
   {
    "duration": 775,
    "start_time": "2022-11-17T08:39:17.719Z"
   },
   {
    "duration": 998,
    "start_time": "2022-11-17T08:39:18.496Z"
   },
   {
    "duration": 1217,
    "start_time": "2022-11-17T08:39:19.496Z"
   },
   {
    "duration": 185,
    "start_time": "2022-11-17T08:39:20.715Z"
   },
   {
    "duration": 10,
    "start_time": "2022-11-17T08:39:20.905Z"
   },
   {
    "duration": 12,
    "start_time": "2022-11-17T08:39:20.916Z"
   },
   {
    "duration": 1065,
    "start_time": "2022-11-17T08:39:39.460Z"
   },
   {
    "duration": 61,
    "start_time": "2022-11-17T08:39:40.526Z"
   },
   {
    "duration": 13,
    "start_time": "2022-11-17T08:39:40.588Z"
   },
   {
    "duration": 53,
    "start_time": "2022-11-17T08:39:40.603Z"
   },
   {
    "duration": 5,
    "start_time": "2022-11-17T08:39:40.657Z"
   },
   {
    "duration": 41,
    "start_time": "2022-11-17T08:39:40.664Z"
   },
   {
    "duration": 23,
    "start_time": "2022-11-17T08:39:40.707Z"
   },
   {
    "duration": 218,
    "start_time": "2022-11-17T08:39:40.731Z"
   },
   {
    "duration": 26,
    "start_time": "2022-11-17T08:39:40.950Z"
   },
   {
    "duration": 218,
    "start_time": "2022-11-17T08:39:40.978Z"
   },
   {
    "duration": 1567,
    "start_time": "2022-11-17T08:39:41.204Z"
   },
   {
    "duration": 253,
    "start_time": "2022-11-17T08:39:42.772Z"
   },
   {
    "duration": 356,
    "start_time": "2022-11-17T08:39:43.027Z"
   },
   {
    "duration": 685,
    "start_time": "2022-11-17T08:39:43.386Z"
   },
   {
    "duration": 989,
    "start_time": "2022-11-17T08:39:44.073Z"
   },
   {
    "duration": 1235,
    "start_time": "2022-11-17T08:39:45.064Z"
   },
   {
    "duration": 180,
    "start_time": "2022-11-17T08:39:46.304Z"
   },
   {
    "duration": 10,
    "start_time": "2022-11-17T08:39:46.485Z"
   },
   {
    "duration": 8,
    "start_time": "2022-11-17T08:39:46.505Z"
   },
   {
    "duration": 1643,
    "start_time": "2022-11-17T08:40:36.002Z"
   },
   {
    "duration": 67,
    "start_time": "2022-11-17T08:40:37.647Z"
   },
   {
    "duration": 13,
    "start_time": "2022-11-17T08:40:37.715Z"
   },
   {
    "duration": 54,
    "start_time": "2022-11-17T08:40:37.730Z"
   },
   {
    "duration": 20,
    "start_time": "2022-11-17T08:40:37.786Z"
   },
   {
    "duration": 27,
    "start_time": "2022-11-17T08:40:37.807Z"
   },
   {
    "duration": 26,
    "start_time": "2022-11-17T08:40:37.836Z"
   },
   {
    "duration": 218,
    "start_time": "2022-11-17T08:40:37.864Z"
   },
   {
    "duration": 9,
    "start_time": "2022-11-17T08:40:38.084Z"
   },
   {
    "duration": 226,
    "start_time": "2022-11-17T08:40:38.105Z"
   },
   {
    "duration": 1531,
    "start_time": "2022-11-17T08:40:38.332Z"
   },
   {
    "duration": 256,
    "start_time": "2022-11-17T08:40:39.865Z"
   },
   {
    "duration": 363,
    "start_time": "2022-11-17T08:40:40.122Z"
   },
   {
    "duration": 692,
    "start_time": "2022-11-17T08:40:40.487Z"
   },
   {
    "duration": 973,
    "start_time": "2022-11-17T08:40:41.181Z"
   },
   {
    "duration": 1228,
    "start_time": "2022-11-17T08:40:42.156Z"
   },
   {
    "duration": 181,
    "start_time": "2022-11-17T08:40:43.386Z"
   },
   {
    "duration": 11,
    "start_time": "2022-11-17T08:40:43.568Z"
   },
   {
    "duration": 28,
    "start_time": "2022-11-17T08:40:43.581Z"
   },
   {
    "duration": 112,
    "start_time": "2022-11-17T08:41:56.556Z"
   },
   {
    "duration": 1183,
    "start_time": "2022-11-17T08:42:01.882Z"
   },
   {
    "duration": 66,
    "start_time": "2022-11-17T08:42:03.067Z"
   },
   {
    "duration": 13,
    "start_time": "2022-11-17T08:42:03.135Z"
   },
   {
    "duration": 71,
    "start_time": "2022-11-17T08:42:03.150Z"
   },
   {
    "duration": 4,
    "start_time": "2022-11-17T08:42:03.223Z"
   },
   {
    "duration": 25,
    "start_time": "2022-11-17T08:42:03.229Z"
   },
   {
    "duration": 25,
    "start_time": "2022-11-17T08:42:03.255Z"
   },
   {
    "duration": 217,
    "start_time": "2022-11-17T08:42:03.282Z"
   },
   {
    "duration": 11,
    "start_time": "2022-11-17T08:42:03.501Z"
   },
   {
    "duration": 226,
    "start_time": "2022-11-17T08:42:03.515Z"
   },
   {
    "duration": 1581,
    "start_time": "2022-11-17T08:42:03.743Z"
   },
   {
    "duration": 260,
    "start_time": "2022-11-17T08:42:05.326Z"
   },
   {
    "duration": 365,
    "start_time": "2022-11-17T08:42:05.588Z"
   },
   {
    "duration": 730,
    "start_time": "2022-11-17T08:42:05.955Z"
   },
   {
    "duration": 1949,
    "start_time": "2022-11-17T08:42:06.687Z"
   },
   {
    "duration": 1202,
    "start_time": "2022-11-17T08:42:08.638Z"
   },
   {
    "duration": 194,
    "start_time": "2022-11-17T08:42:09.842Z"
   },
   {
    "duration": 11,
    "start_time": "2022-11-17T08:42:10.037Z"
   },
   {
    "duration": 14,
    "start_time": "2022-11-17T08:42:10.050Z"
   },
   {
    "duration": 668,
    "start_time": "2022-11-17T09:49:24.793Z"
   },
   {
    "duration": 575,
    "start_time": "2022-11-17T09:51:05.049Z"
   },
   {
    "duration": 557,
    "start_time": "2022-11-17T09:51:50.554Z"
   },
   {
    "duration": 633,
    "start_time": "2022-11-17T09:52:02.664Z"
   },
   {
    "duration": 29,
    "start_time": "2022-11-17T10:02:55.233Z"
   },
   {
    "duration": 29,
    "start_time": "2022-11-17T10:03:33.479Z"
   },
   {
    "duration": 486,
    "start_time": "2022-11-17T10:04:15.912Z"
   },
   {
    "duration": 23,
    "start_time": "2022-11-17T10:06:21.482Z"
   },
   {
    "duration": 1156,
    "start_time": "2022-11-17T10:10:36.403Z"
   },
   {
    "duration": 63,
    "start_time": "2022-11-17T10:10:37.561Z"
   },
   {
    "duration": 13,
    "start_time": "2022-11-17T10:10:37.625Z"
   },
   {
    "duration": 52,
    "start_time": "2022-11-17T10:10:37.639Z"
   },
   {
    "duration": 14,
    "start_time": "2022-11-17T10:10:37.692Z"
   },
   {
    "duration": 27,
    "start_time": "2022-11-17T10:10:37.708Z"
   },
   {
    "duration": 22,
    "start_time": "2022-11-17T10:10:37.736Z"
   },
   {
    "duration": 216,
    "start_time": "2022-11-17T10:10:37.760Z"
   },
   {
    "duration": 10,
    "start_time": "2022-11-17T10:10:37.977Z"
   },
   {
    "duration": 229,
    "start_time": "2022-11-17T10:10:37.989Z"
   },
   {
    "duration": 1537,
    "start_time": "2022-11-17T10:10:38.220Z"
   },
   {
    "duration": 23,
    "start_time": "2022-11-17T10:10:39.759Z"
   },
   {
    "duration": 594,
    "start_time": "2022-11-17T10:10:39.783Z"
   },
   {
    "duration": 271,
    "start_time": "2022-11-17T10:10:40.379Z"
   },
   {
    "duration": 713,
    "start_time": "2022-11-17T10:10:40.652Z"
   },
   {
    "duration": 988,
    "start_time": "2022-11-17T10:10:41.367Z"
   },
   {
    "duration": 1201,
    "start_time": "2022-11-17T10:10:42.356Z"
   },
   {
    "duration": 183,
    "start_time": "2022-11-17T10:10:43.559Z"
   },
   {
    "duration": 12,
    "start_time": "2022-11-17T10:10:43.743Z"
   },
   {
    "duration": 8,
    "start_time": "2022-11-17T10:10:43.757Z"
   },
   {
    "duration": 386,
    "start_time": "2022-11-17T10:11:57.905Z"
   },
   {
    "duration": 30,
    "start_time": "2022-11-17T10:12:40.773Z"
   },
   {
    "duration": 29,
    "start_time": "2022-11-17T10:12:47.416Z"
   },
   {
    "duration": 1169,
    "start_time": "2022-11-17T10:12:58.027Z"
   },
   {
    "duration": 63,
    "start_time": "2022-11-17T10:12:59.198Z"
   },
   {
    "duration": 14,
    "start_time": "2022-11-17T10:12:59.262Z"
   },
   {
    "duration": 54,
    "start_time": "2022-11-17T10:12:59.278Z"
   },
   {
    "duration": 4,
    "start_time": "2022-11-17T10:12:59.334Z"
   },
   {
    "duration": 23,
    "start_time": "2022-11-17T10:12:59.339Z"
   },
   {
    "duration": 41,
    "start_time": "2022-11-17T10:12:59.364Z"
   },
   {
    "duration": 200,
    "start_time": "2022-11-17T10:12:59.406Z"
   },
   {
    "duration": 11,
    "start_time": "2022-11-17T10:12:59.608Z"
   },
   {
    "duration": 229,
    "start_time": "2022-11-17T10:12:59.621Z"
   },
   {
    "duration": 1659,
    "start_time": "2022-11-17T10:12:59.852Z"
   },
   {
    "duration": 25,
    "start_time": "2022-11-17T10:13:01.513Z"
   },
   {
    "duration": 623,
    "start_time": "2022-11-17T10:13:01.539Z"
   },
   {
    "duration": 296,
    "start_time": "2022-11-17T10:13:02.164Z"
   },
   {
    "duration": 713,
    "start_time": "2022-11-17T10:13:02.462Z"
   },
   {
    "duration": 977,
    "start_time": "2022-11-17T10:13:03.177Z"
   },
   {
    "duration": 1225,
    "start_time": "2022-11-17T10:13:04.155Z"
   },
   {
    "duration": 284,
    "start_time": "2022-11-17T10:13:05.382Z"
   },
   {
    "duration": 11,
    "start_time": "2022-11-17T10:13:05.667Z"
   },
   {
    "duration": 23,
    "start_time": "2022-11-17T10:13:05.680Z"
   },
   {
    "duration": 295,
    "start_time": "2022-11-17T11:02:39.919Z"
   },
   {
    "duration": 297,
    "start_time": "2022-11-17T11:04:13.399Z"
   },
   {
    "duration": 276,
    "start_time": "2022-11-17T11:06:13.649Z"
   },
   {
    "duration": 281,
    "start_time": "2022-11-17T11:08:01.464Z"
   },
   {
    "duration": 1238,
    "start_time": "2022-11-17T11:14:07.275Z"
   },
   {
    "duration": 72,
    "start_time": "2022-11-17T11:14:08.514Z"
   },
   {
    "duration": 14,
    "start_time": "2022-11-17T11:14:08.587Z"
   },
   {
    "duration": 61,
    "start_time": "2022-11-17T11:14:08.602Z"
   },
   {
    "duration": 4,
    "start_time": "2022-11-17T11:14:08.664Z"
   },
   {
    "duration": 36,
    "start_time": "2022-11-17T11:14:08.669Z"
   },
   {
    "duration": 23,
    "start_time": "2022-11-17T11:14:08.706Z"
   },
   {
    "duration": 217,
    "start_time": "2022-11-17T11:14:08.730Z"
   },
   {
    "duration": 11,
    "start_time": "2022-11-17T11:14:08.949Z"
   },
   {
    "duration": 227,
    "start_time": "2022-11-17T11:14:08.962Z"
   },
   {
    "duration": 1578,
    "start_time": "2022-11-17T11:14:09.191Z"
   },
   {
    "duration": 23,
    "start_time": "2022-11-17T11:14:10.770Z"
   },
   {
    "duration": 556,
    "start_time": "2022-11-17T11:14:10.804Z"
   },
   {
    "duration": 312,
    "start_time": "2022-11-17T11:14:11.361Z"
   },
   {
    "duration": 302,
    "start_time": "2022-11-17T11:14:11.674Z"
   },
   {
    "duration": 308,
    "start_time": "2022-11-17T11:14:11.978Z"
   },
   {
    "duration": 304,
    "start_time": "2022-11-17T11:14:12.287Z"
   },
   {
    "duration": 679,
    "start_time": "2022-11-17T11:14:12.593Z"
   },
   {
    "duration": 1056,
    "start_time": "2022-11-17T11:14:13.273Z"
   },
   {
    "duration": 1233,
    "start_time": "2022-11-17T11:14:14.330Z"
   },
   {
    "duration": 173,
    "start_time": "2022-11-17T11:14:15.565Z"
   },
   {
    "duration": 10,
    "start_time": "2022-11-17T11:14:15.739Z"
   },
   {
    "duration": 12,
    "start_time": "2022-11-17T11:14:15.750Z"
   },
   {
    "duration": 1076,
    "start_time": "2022-11-17T11:24:28.528Z"
   },
   {
    "duration": 61,
    "start_time": "2022-11-17T11:24:29.606Z"
   },
   {
    "duration": 13,
    "start_time": "2022-11-17T11:24:29.669Z"
   },
   {
    "duration": 58,
    "start_time": "2022-11-17T11:24:29.685Z"
   },
   {
    "duration": 4,
    "start_time": "2022-11-17T11:24:29.745Z"
   },
   {
    "duration": 28,
    "start_time": "2022-11-17T11:24:29.751Z"
   },
   {
    "duration": 38,
    "start_time": "2022-11-17T11:24:29.781Z"
   },
   {
    "duration": 202,
    "start_time": "2022-11-17T11:24:29.821Z"
   },
   {
    "duration": 11,
    "start_time": "2022-11-17T11:24:30.024Z"
   },
   {
    "duration": 216,
    "start_time": "2022-11-17T11:24:30.038Z"
   },
   {
    "duration": 1487,
    "start_time": "2022-11-17T11:24:30.256Z"
   },
   {
    "duration": 24,
    "start_time": "2022-11-17T11:24:31.745Z"
   },
   {
    "duration": 602,
    "start_time": "2022-11-17T11:24:31.770Z"
   },
   {
    "duration": 338,
    "start_time": "2022-11-17T11:24:32.374Z"
   },
   {
    "duration": 300,
    "start_time": "2022-11-17T11:24:32.714Z"
   },
   {
    "duration": 302,
    "start_time": "2022-11-17T11:24:33.016Z"
   },
   {
    "duration": 282,
    "start_time": "2022-11-17T11:24:33.320Z"
   },
   {
    "duration": 670,
    "start_time": "2022-11-17T11:24:33.605Z"
   },
   {
    "duration": 1080,
    "start_time": "2022-11-17T11:24:34.277Z"
   },
   {
    "duration": 1221,
    "start_time": "2022-11-17T11:24:35.358Z"
   },
   {
    "duration": 178,
    "start_time": "2022-11-17T11:24:36.581Z"
   },
   {
    "duration": 10,
    "start_time": "2022-11-17T11:24:36.760Z"
   },
   {
    "duration": 7,
    "start_time": "2022-11-17T11:24:36.771Z"
   },
   {
    "duration": 719,
    "start_time": "2022-11-17T12:34:50.353Z"
   },
   {
    "duration": 808,
    "start_time": "2022-11-17T12:36:11.517Z"
   },
   {
    "duration": 973,
    "start_time": "2022-11-17T12:36:44.047Z"
   },
   {
    "duration": 811,
    "start_time": "2022-11-17T12:37:00.055Z"
   },
   {
    "duration": 1004,
    "start_time": "2022-11-17T12:37:07.770Z"
   },
   {
    "duration": 1117,
    "start_time": "2022-11-17T12:38:47.931Z"
   },
   {
    "duration": 981,
    "start_time": "2022-11-17T12:38:53.428Z"
   },
   {
    "duration": 969,
    "start_time": "2022-11-17T12:39:14.587Z"
   },
   {
    "duration": 1142,
    "start_time": "2022-11-17T12:40:28.463Z"
   },
   {
    "duration": 63,
    "start_time": "2022-11-17T12:40:29.607Z"
   },
   {
    "duration": 15,
    "start_time": "2022-11-17T12:40:29.671Z"
   },
   {
    "duration": 58,
    "start_time": "2022-11-17T12:40:29.687Z"
   },
   {
    "duration": 5,
    "start_time": "2022-11-17T12:40:29.746Z"
   },
   {
    "duration": 27,
    "start_time": "2022-11-17T12:40:29.753Z"
   },
   {
    "duration": 45,
    "start_time": "2022-11-17T12:40:29.781Z"
   },
   {
    "duration": 232,
    "start_time": "2022-11-17T12:40:29.828Z"
   },
   {
    "duration": 13,
    "start_time": "2022-11-17T12:40:30.061Z"
   },
   {
    "duration": 241,
    "start_time": "2022-11-17T12:40:30.077Z"
   },
   {
    "duration": 1655,
    "start_time": "2022-11-17T12:40:30.320Z"
   },
   {
    "duration": 33,
    "start_time": "2022-11-17T12:40:31.976Z"
   },
   {
    "duration": 621,
    "start_time": "2022-11-17T12:40:32.011Z"
   },
   {
    "duration": 340,
    "start_time": "2022-11-17T12:40:32.633Z"
   },
   {
    "duration": 330,
    "start_time": "2022-11-17T12:40:32.975Z"
   },
   {
    "duration": 310,
    "start_time": "2022-11-17T12:40:33.307Z"
   },
   {
    "duration": 302,
    "start_time": "2022-11-17T12:40:33.619Z"
   },
   {
    "duration": 664,
    "start_time": "2022-11-17T12:40:33.923Z"
   },
   {
    "duration": 1008,
    "start_time": "2022-11-17T12:40:34.589Z"
   },
   {
    "duration": 1282,
    "start_time": "2022-11-17T12:40:35.599Z"
   },
   {
    "duration": 193,
    "start_time": "2022-11-17T12:40:36.882Z"
   },
   {
    "duration": 10,
    "start_time": "2022-11-17T12:40:37.078Z"
   },
   {
    "duration": 15,
    "start_time": "2022-11-17T12:40:37.090Z"
   },
   {
    "duration": 1106,
    "start_time": "2022-11-17T12:51:37.304Z"
   },
   {
    "duration": 76,
    "start_time": "2022-11-17T12:51:38.413Z"
   },
   {
    "duration": 17,
    "start_time": "2022-11-17T12:51:38.491Z"
   },
   {
    "duration": 57,
    "start_time": "2022-11-17T12:51:38.510Z"
   },
   {
    "duration": 4,
    "start_time": "2022-11-17T12:51:38.569Z"
   },
   {
    "duration": 45,
    "start_time": "2022-11-17T12:51:38.575Z"
   },
   {
    "duration": 24,
    "start_time": "2022-11-17T12:51:38.622Z"
   },
   {
    "duration": 208,
    "start_time": "2022-11-17T12:51:38.648Z"
   },
   {
    "duration": 10,
    "start_time": "2022-11-17T12:51:38.858Z"
   },
   {
    "duration": 214,
    "start_time": "2022-11-17T12:51:38.871Z"
   },
   {
    "duration": 1541,
    "start_time": "2022-11-17T12:51:39.087Z"
   },
   {
    "duration": 24,
    "start_time": "2022-11-17T12:51:40.629Z"
   },
   {
    "duration": 570,
    "start_time": "2022-11-17T12:51:40.654Z"
   },
   {
    "duration": 293,
    "start_time": "2022-11-17T12:51:41.225Z"
   },
   {
    "duration": 288,
    "start_time": "2022-11-17T12:51:41.520Z"
   },
   {
    "duration": 277,
    "start_time": "2022-11-17T12:51:41.809Z"
   },
   {
    "duration": 282,
    "start_time": "2022-11-17T12:51:42.087Z"
   },
   {
    "duration": 674,
    "start_time": "2022-11-17T12:51:42.371Z"
   },
   {
    "duration": 938,
    "start_time": "2022-11-17T12:51:43.047Z"
   },
   {
    "duration": 1172,
    "start_time": "2022-11-17T12:51:43.987Z"
   },
   {
    "duration": 184,
    "start_time": "2022-11-17T12:51:45.161Z"
   },
   {
    "duration": 9,
    "start_time": "2022-11-17T12:51:45.347Z"
   },
   {
    "duration": 7,
    "start_time": "2022-11-17T12:51:45.358Z"
   },
   {
    "duration": 24,
    "start_time": "2022-11-17T12:57:38.715Z"
   },
   {
    "duration": 35,
    "start_time": "2022-11-17T12:57:46.156Z"
   },
   {
    "duration": 1037,
    "start_time": "2022-11-17T12:58:28.129Z"
   },
   {
    "duration": 29,
    "start_time": "2022-11-17T12:59:27.293Z"
   },
   {
    "duration": 562,
    "start_time": "2022-11-17T12:59:32.139Z"
   },
   {
    "duration": 1192,
    "start_time": "2022-11-17T13:00:02.283Z"
   },
   {
    "duration": 75,
    "start_time": "2022-11-17T13:04:03.034Z"
   },
   {
    "duration": 657,
    "start_time": "2022-11-17T13:04:17.137Z"
   },
   {
    "duration": 566,
    "start_time": "2022-11-17T13:04:44.574Z"
   },
   {
    "duration": 646,
    "start_time": "2022-11-17T13:05:37.717Z"
   },
   {
    "duration": 569,
    "start_time": "2022-11-17T13:05:42.680Z"
   },
   {
    "duration": 516,
    "start_time": "2022-11-17T13:06:43.090Z"
   },
   {
    "duration": 531,
    "start_time": "2022-11-17T13:11:08.526Z"
   },
   {
    "duration": 574,
    "start_time": "2022-11-17T13:11:39.468Z"
   },
   {
    "duration": 685,
    "start_time": "2022-11-17T13:11:52.720Z"
   },
   {
    "duration": 554,
    "start_time": "2022-11-17T13:12:10.472Z"
   },
   {
    "duration": 605,
    "start_time": "2022-11-17T13:12:17.964Z"
   },
   {
    "duration": 110,
    "start_time": "2022-11-17T13:21:30.796Z"
   },
   {
    "duration": 23,
    "start_time": "2022-11-17T13:22:20.135Z"
   },
   {
    "duration": 847,
    "start_time": "2022-11-17T13:22:36.399Z"
   },
   {
    "duration": 69,
    "start_time": "2022-11-17T13:23:09.134Z"
   },
   {
    "duration": 896,
    "start_time": "2022-11-17T13:23:17.296Z"
   },
   {
    "duration": 898,
    "start_time": "2022-11-17T13:23:27.705Z"
   },
   {
    "duration": 74,
    "start_time": "2022-11-17T13:23:39.949Z"
   },
   {
    "duration": 72,
    "start_time": "2022-11-17T13:23:51.185Z"
   },
   {
    "duration": 74,
    "start_time": "2022-11-17T13:24:00.754Z"
   },
   {
    "duration": 79,
    "start_time": "2022-11-17T13:24:13.310Z"
   },
   {
    "duration": 875,
    "start_time": "2022-11-17T13:24:18.386Z"
   },
   {
    "duration": 849,
    "start_time": "2022-11-17T13:24:28.585Z"
   },
   {
    "duration": 17,
    "start_time": "2022-11-17T13:25:09.437Z"
   },
   {
    "duration": 19,
    "start_time": "2022-11-17T13:25:17.547Z"
   },
   {
    "duration": 144,
    "start_time": "2022-11-17T13:25:40.145Z"
   },
   {
    "duration": 18,
    "start_time": "2022-11-17T13:25:48.088Z"
   },
   {
    "duration": 13,
    "start_time": "2022-11-17T13:25:56.571Z"
   },
   {
    "duration": 15,
    "start_time": "2022-11-17T13:28:31.082Z"
   },
   {
    "duration": 15,
    "start_time": "2022-11-17T13:35:44.344Z"
   },
   {
    "duration": 22,
    "start_time": "2022-11-17T13:36:31.990Z"
   },
   {
    "duration": 24,
    "start_time": "2022-11-17T13:36:57.570Z"
   },
   {
    "duration": 20,
    "start_time": "2022-11-17T13:38:24.421Z"
   },
   {
    "duration": 14,
    "start_time": "2022-11-17T13:38:46.912Z"
   },
   {
    "duration": 19,
    "start_time": "2022-11-17T13:38:55.782Z"
   },
   {
    "duration": 18,
    "start_time": "2022-11-17T13:39:26.215Z"
   },
   {
    "duration": 14,
    "start_time": "2022-11-17T13:42:54.964Z"
   },
   {
    "duration": 26,
    "start_time": "2022-11-17T13:48:02.280Z"
   },
   {
    "duration": 22,
    "start_time": "2022-11-17T13:48:43.658Z"
   },
   {
    "duration": 22,
    "start_time": "2022-11-17T13:49:10.427Z"
   },
   {
    "duration": 20,
    "start_time": "2022-11-17T14:04:01.868Z"
   },
   {
    "duration": 73,
    "start_time": "2022-11-17T14:14:12.924Z"
   },
   {
    "duration": 40,
    "start_time": "2022-11-17T14:14:20.801Z"
   },
   {
    "duration": 11,
    "start_time": "2022-11-17T14:15:31.313Z"
   },
   {
    "duration": 33,
    "start_time": "2022-11-17T14:19:09.125Z"
   },
   {
    "duration": 32,
    "start_time": "2022-11-17T14:19:21.823Z"
   },
   {
    "duration": 17,
    "start_time": "2022-11-17T14:21:26.614Z"
   },
   {
    "duration": 104,
    "start_time": "2022-11-17T14:21:26.800Z"
   },
   {
    "duration": 14,
    "start_time": "2022-11-17T14:21:36.742Z"
   },
   {
    "duration": 32,
    "start_time": "2022-11-17T14:21:41.832Z"
   },
   {
    "duration": 90,
    "start_time": "2022-11-17T14:33:19.439Z"
   },
   {
    "duration": 12,
    "start_time": "2022-11-17T14:33:40.606Z"
   },
   {
    "duration": 610,
    "start_time": "2022-11-17T14:33:46.167Z"
   },
   {
    "duration": 598,
    "start_time": "2022-11-17T14:34:20.851Z"
   },
   {
    "duration": 1094,
    "start_time": "2022-11-17T14:35:35.504Z"
   },
   {
    "duration": 999,
    "start_time": "2022-11-17T14:35:50.563Z"
   },
   {
    "duration": 1088,
    "start_time": "2022-11-17T14:36:17.945Z"
   },
   {
    "duration": 1111,
    "start_time": "2022-11-17T14:36:24.812Z"
   },
   {
    "duration": 1229,
    "start_time": "2022-11-17T14:36:30.503Z"
   },
   {
    "duration": 14,
    "start_time": "2022-11-17T14:38:31.272Z"
   },
   {
    "duration": 566,
    "start_time": "2022-11-17T14:38:35.193Z"
   },
   {
    "duration": 586,
    "start_time": "2022-11-17T14:39:00.015Z"
   },
   {
    "duration": 1087,
    "start_time": "2022-11-17T14:39:10.018Z"
   },
   {
    "duration": 64,
    "start_time": "2022-11-17T14:39:11.106Z"
   },
   {
    "duration": 14,
    "start_time": "2022-11-17T14:39:11.171Z"
   },
   {
    "duration": 60,
    "start_time": "2022-11-17T14:39:11.187Z"
   },
   {
    "duration": 5,
    "start_time": "2022-11-17T14:39:11.249Z"
   },
   {
    "duration": 41,
    "start_time": "2022-11-17T14:39:11.256Z"
   },
   {
    "duration": 28,
    "start_time": "2022-11-17T14:39:11.298Z"
   },
   {
    "duration": 211,
    "start_time": "2022-11-17T14:39:11.327Z"
   },
   {
    "duration": 10,
    "start_time": "2022-11-17T14:39:11.540Z"
   },
   {
    "duration": 201,
    "start_time": "2022-11-17T14:39:11.552Z"
   },
   {
    "duration": 1642,
    "start_time": "2022-11-17T14:39:11.755Z"
   },
   {
    "duration": 28,
    "start_time": "2022-11-17T14:39:13.399Z"
   },
   {
    "duration": 596,
    "start_time": "2022-11-17T14:39:13.429Z"
   },
   {
    "duration": 313,
    "start_time": "2022-11-17T14:39:14.027Z"
   },
   {
    "duration": 295,
    "start_time": "2022-11-17T14:39:14.342Z"
   },
   {
    "duration": 303,
    "start_time": "2022-11-17T14:39:14.639Z"
   },
   {
    "duration": 305,
    "start_time": "2022-11-17T14:39:14.944Z"
   },
   {
    "duration": 727,
    "start_time": "2022-11-17T14:39:15.251Z"
   },
   {
    "duration": 114,
    "start_time": "2022-11-17T14:39:15.980Z"
   },
   {
    "duration": 0,
    "start_time": "2022-11-17T14:39:16.095Z"
   },
   {
    "duration": 0,
    "start_time": "2022-11-17T14:39:16.105Z"
   },
   {
    "duration": 0,
    "start_time": "2022-11-17T14:39:16.106Z"
   },
   {
    "duration": 0,
    "start_time": "2022-11-17T14:39:16.107Z"
   },
   {
    "duration": 0,
    "start_time": "2022-11-17T14:39:16.108Z"
   },
   {
    "duration": 15,
    "start_time": "2022-11-17T14:40:06.906Z"
   },
   {
    "duration": 619,
    "start_time": "2022-11-17T14:40:14.156Z"
   },
   {
    "duration": 80,
    "start_time": "2022-11-17T14:43:12.727Z"
   },
   {
    "duration": 14,
    "start_time": "2022-11-17T14:43:24.884Z"
   },
   {
    "duration": 679,
    "start_time": "2022-11-17T14:43:28.688Z"
   },
   {
    "duration": 654,
    "start_time": "2022-11-17T14:43:44.824Z"
   },
   {
    "duration": 611,
    "start_time": "2022-11-17T14:44:10.511Z"
   },
   {
    "duration": 714,
    "start_time": "2022-11-17T14:44:40.579Z"
   },
   {
    "duration": 633,
    "start_time": "2022-11-17T14:45:11.924Z"
   },
   {
    "duration": 647,
    "start_time": "2022-11-17T14:45:19.857Z"
   },
   {
    "duration": 611,
    "start_time": "2022-11-17T14:45:32.410Z"
   },
   {
    "duration": 141,
    "start_time": "2022-11-17T14:47:47.691Z"
   },
   {
    "duration": 72,
    "start_time": "2022-11-17T14:57:03.410Z"
   },
   {
    "duration": 13,
    "start_time": "2022-11-17T15:11:21.616Z"
   },
   {
    "duration": 14,
    "start_time": "2022-11-17T15:11:27.900Z"
   },
   {
    "duration": 18,
    "start_time": "2022-11-17T15:11:40.225Z"
   },
   {
    "duration": 18,
    "start_time": "2022-11-17T15:12:11.327Z"
   },
   {
    "duration": 24,
    "start_time": "2022-11-17T15:12:57.493Z"
   },
   {
    "duration": 21,
    "start_time": "2022-11-17T15:15:03.240Z"
   },
   {
    "duration": 20,
    "start_time": "2022-11-17T15:15:20.303Z"
   },
   {
    "duration": 18,
    "start_time": "2022-11-17T15:16:08.002Z"
   },
   {
    "duration": 19,
    "start_time": "2022-11-17T15:16:24.986Z"
   },
   {
    "duration": 20,
    "start_time": "2022-11-17T15:16:45.724Z"
   },
   {
    "duration": 22,
    "start_time": "2022-11-17T15:20:45.953Z"
   },
   {
    "duration": 35,
    "start_time": "2022-11-17T15:21:12.590Z"
   },
   {
    "duration": 46,
    "start_time": "2022-11-17T15:21:47.381Z"
   },
   {
    "duration": 1184,
    "start_time": "2022-11-17T15:22:56.458Z"
   },
   {
    "duration": 61,
    "start_time": "2022-11-17T15:22:57.644Z"
   },
   {
    "duration": 13,
    "start_time": "2022-11-17T15:22:57.706Z"
   },
   {
    "duration": 52,
    "start_time": "2022-11-17T15:22:57.721Z"
   },
   {
    "duration": 4,
    "start_time": "2022-11-17T15:22:57.775Z"
   },
   {
    "duration": 24,
    "start_time": "2022-11-17T15:22:57.805Z"
   },
   {
    "duration": 23,
    "start_time": "2022-11-17T15:22:57.830Z"
   },
   {
    "duration": 210,
    "start_time": "2022-11-17T15:22:57.855Z"
   },
   {
    "duration": 10,
    "start_time": "2022-11-17T15:22:58.067Z"
   },
   {
    "duration": 232,
    "start_time": "2022-11-17T15:22:58.079Z"
   },
   {
    "duration": 1608,
    "start_time": "2022-11-17T15:22:58.312Z"
   },
   {
    "duration": 24,
    "start_time": "2022-11-17T15:22:59.922Z"
   },
   {
    "duration": 590,
    "start_time": "2022-11-17T15:22:59.948Z"
   },
   {
    "duration": 329,
    "start_time": "2022-11-17T15:23:00.539Z"
   },
   {
    "duration": 311,
    "start_time": "2022-11-17T15:23:00.870Z"
   },
   {
    "duration": 327,
    "start_time": "2022-11-17T15:23:01.182Z"
   },
   {
    "duration": 320,
    "start_time": "2022-11-17T15:23:01.511Z"
   },
   {
    "duration": 762,
    "start_time": "2022-11-17T15:23:01.832Z"
   },
   {
    "duration": 43,
    "start_time": "2022-11-17T15:23:02.596Z"
   },
   {
    "duration": 14,
    "start_time": "2022-11-17T15:23:02.641Z"
   },
   {
    "duration": 209,
    "start_time": "2022-11-17T15:23:02.656Z"
   },
   {
    "duration": 0,
    "start_time": "2022-11-17T15:23:02.866Z"
   },
   {
    "duration": 0,
    "start_time": "2022-11-17T15:23:02.868Z"
   },
   {
    "duration": 0,
    "start_time": "2022-11-17T15:23:02.869Z"
   },
   {
    "duration": 0,
    "start_time": "2022-11-17T15:23:02.871Z"
   },
   {
    "duration": 13,
    "start_time": "2022-11-17T15:25:25.440Z"
   },
   {
    "duration": 28,
    "start_time": "2022-11-17T15:27:24.031Z"
   },
   {
    "duration": 16,
    "start_time": "2022-11-17T15:28:23.090Z"
   },
   {
    "duration": 32,
    "start_time": "2022-11-17T15:28:36.543Z"
   },
   {
    "duration": 31,
    "start_time": "2022-11-17T15:28:53.923Z"
   },
   {
    "duration": 37,
    "start_time": "2022-11-17T15:29:25.248Z"
   },
   {
    "duration": 33,
    "start_time": "2022-11-17T15:30:06.811Z"
   },
   {
    "duration": 1152,
    "start_time": "2022-11-17T16:04:53.589Z"
   },
   {
    "duration": 66,
    "start_time": "2022-11-17T16:04:54.743Z"
   },
   {
    "duration": 14,
    "start_time": "2022-11-17T16:04:54.811Z"
   },
   {
    "duration": 59,
    "start_time": "2022-11-17T16:04:54.827Z"
   },
   {
    "duration": 19,
    "start_time": "2022-11-17T16:04:54.887Z"
   },
   {
    "duration": 28,
    "start_time": "2022-11-17T16:04:54.907Z"
   },
   {
    "duration": 26,
    "start_time": "2022-11-17T16:04:54.941Z"
   },
   {
    "duration": 231,
    "start_time": "2022-11-17T16:04:54.968Z"
   },
   {
    "duration": 11,
    "start_time": "2022-11-17T16:04:55.204Z"
   },
   {
    "duration": 226,
    "start_time": "2022-11-17T16:04:55.217Z"
   },
   {
    "duration": 1796,
    "start_time": "2022-11-17T16:04:55.445Z"
   },
   {
    "duration": 74,
    "start_time": "2022-11-17T16:04:57.242Z"
   },
   {
    "duration": 1387,
    "start_time": "2022-11-17T16:04:57.318Z"
   },
   {
    "duration": 419,
    "start_time": "2022-11-17T16:04:58.707Z"
   },
   {
    "duration": 306,
    "start_time": "2022-11-17T16:04:59.128Z"
   },
   {
    "duration": 316,
    "start_time": "2022-11-17T16:04:59.436Z"
   },
   {
    "duration": 298,
    "start_time": "2022-11-17T16:04:59.753Z"
   },
   {
    "duration": 703,
    "start_time": "2022-11-17T16:05:00.052Z"
   },
   {
    "duration": 32,
    "start_time": "2022-11-17T16:05:00.757Z"
   },
   {
    "duration": 25,
    "start_time": "2022-11-17T16:05:00.791Z"
   },
   {
    "duration": 189,
    "start_time": "2022-11-17T16:05:00.818Z"
   },
   {
    "duration": 0,
    "start_time": "2022-11-17T16:05:01.009Z"
   },
   {
    "duration": 0,
    "start_time": "2022-11-17T16:05:01.010Z"
   },
   {
    "duration": 0,
    "start_time": "2022-11-17T16:05:01.011Z"
   },
   {
    "duration": 0,
    "start_time": "2022-11-17T16:05:01.013Z"
   },
   {
    "duration": 31,
    "start_time": "2022-11-17T16:05:53.835Z"
   },
   {
    "duration": 1151,
    "start_time": "2022-11-17T16:06:00.564Z"
   },
   {
    "duration": 64,
    "start_time": "2022-11-17T16:06:01.717Z"
   },
   {
    "duration": 14,
    "start_time": "2022-11-17T16:06:01.783Z"
   },
   {
    "duration": 57,
    "start_time": "2022-11-17T16:06:01.800Z"
   },
   {
    "duration": 5,
    "start_time": "2022-11-17T16:06:01.859Z"
   },
   {
    "duration": 46,
    "start_time": "2022-11-17T16:06:01.866Z"
   },
   {
    "duration": 26,
    "start_time": "2022-11-17T16:06:01.914Z"
   },
   {
    "duration": 232,
    "start_time": "2022-11-17T16:06:01.942Z"
   },
   {
    "duration": 10,
    "start_time": "2022-11-17T16:06:02.176Z"
   },
   {
    "duration": 235,
    "start_time": "2022-11-17T16:06:02.189Z"
   },
   {
    "duration": 1633,
    "start_time": "2022-11-17T16:06:02.426Z"
   },
   {
    "duration": 26,
    "start_time": "2022-11-17T16:06:04.061Z"
   },
   {
    "duration": 582,
    "start_time": "2022-11-17T16:06:04.089Z"
   },
   {
    "duration": 306,
    "start_time": "2022-11-17T16:06:04.672Z"
   },
   {
    "duration": 294,
    "start_time": "2022-11-17T16:06:04.980Z"
   },
   {
    "duration": 294,
    "start_time": "2022-11-17T16:06:05.275Z"
   },
   {
    "duration": 292,
    "start_time": "2022-11-17T16:06:05.571Z"
   },
   {
    "duration": 1573,
    "start_time": "2022-11-17T16:06:05.864Z"
   },
   {
    "duration": 280,
    "start_time": "2022-11-17T16:06:07.441Z"
   },
   {
    "duration": 0,
    "start_time": "2022-11-17T16:06:07.723Z"
   },
   {
    "duration": 0,
    "start_time": "2022-11-17T16:06:07.724Z"
   },
   {
    "duration": 0,
    "start_time": "2022-11-17T16:06:07.726Z"
   },
   {
    "duration": 0,
    "start_time": "2022-11-17T16:06:07.727Z"
   },
   {
    "duration": 0,
    "start_time": "2022-11-17T16:06:07.728Z"
   },
   {
    "duration": 0,
    "start_time": "2022-11-17T16:06:07.730Z"
   },
   {
    "duration": 19,
    "start_time": "2022-11-17T16:06:21.157Z"
   },
   {
    "duration": 18,
    "start_time": "2022-11-17T16:06:35.376Z"
   },
   {
    "duration": 1151,
    "start_time": "2022-11-17T16:06:41.293Z"
   },
   {
    "duration": 63,
    "start_time": "2022-11-17T16:06:42.445Z"
   },
   {
    "duration": 13,
    "start_time": "2022-11-17T16:06:42.510Z"
   },
   {
    "duration": 58,
    "start_time": "2022-11-17T16:06:42.525Z"
   },
   {
    "duration": 22,
    "start_time": "2022-11-17T16:06:42.584Z"
   },
   {
    "duration": 26,
    "start_time": "2022-11-17T16:06:42.608Z"
   },
   {
    "duration": 23,
    "start_time": "2022-11-17T16:06:42.636Z"
   },
   {
    "duration": 220,
    "start_time": "2022-11-17T16:06:42.661Z"
   },
   {
    "duration": 10,
    "start_time": "2022-11-17T16:06:42.883Z"
   },
   {
    "duration": 221,
    "start_time": "2022-11-17T16:06:42.904Z"
   },
   {
    "duration": 1665,
    "start_time": "2022-11-17T16:06:43.127Z"
   },
   {
    "duration": 33,
    "start_time": "2022-11-17T16:06:44.793Z"
   },
   {
    "duration": 588,
    "start_time": "2022-11-17T16:06:44.828Z"
   },
   {
    "duration": 296,
    "start_time": "2022-11-17T16:06:45.417Z"
   },
   {
    "duration": 290,
    "start_time": "2022-11-17T16:06:45.715Z"
   },
   {
    "duration": 319,
    "start_time": "2022-11-17T16:06:46.007Z"
   },
   {
    "duration": 297,
    "start_time": "2022-11-17T16:06:46.327Z"
   },
   {
    "duration": 696,
    "start_time": "2022-11-17T16:06:46.626Z"
   },
   {
    "duration": 183,
    "start_time": "2022-11-17T16:06:47.323Z"
   },
   {
    "duration": 0,
    "start_time": "2022-11-17T16:06:47.508Z"
   },
   {
    "duration": 0,
    "start_time": "2022-11-17T16:06:47.510Z"
   },
   {
    "duration": 0,
    "start_time": "2022-11-17T16:06:47.511Z"
   },
   {
    "duration": 0,
    "start_time": "2022-11-17T16:06:47.513Z"
   },
   {
    "duration": 0,
    "start_time": "2022-11-17T16:06:47.515Z"
   },
   {
    "duration": 0,
    "start_time": "2022-11-17T16:06:47.517Z"
   },
   {
    "duration": 15,
    "start_time": "2022-11-17T16:07:20.148Z"
   },
   {
    "duration": 1233,
    "start_time": "2022-11-17T16:07:29.790Z"
   },
   {
    "duration": 65,
    "start_time": "2022-11-17T16:07:31.025Z"
   },
   {
    "duration": 15,
    "start_time": "2022-11-17T16:07:31.091Z"
   },
   {
    "duration": 70,
    "start_time": "2022-11-17T16:07:31.108Z"
   },
   {
    "duration": 5,
    "start_time": "2022-11-17T16:07:31.180Z"
   },
   {
    "duration": 46,
    "start_time": "2022-11-17T16:07:31.186Z"
   },
   {
    "duration": 28,
    "start_time": "2022-11-17T16:07:31.233Z"
   },
   {
    "duration": 223,
    "start_time": "2022-11-17T16:07:31.263Z"
   },
   {
    "duration": 20,
    "start_time": "2022-11-17T16:07:31.487Z"
   },
   {
    "duration": 246,
    "start_time": "2022-11-17T16:07:31.510Z"
   },
   {
    "duration": 1602,
    "start_time": "2022-11-17T16:07:31.757Z"
   },
   {
    "duration": 25,
    "start_time": "2022-11-17T16:07:33.361Z"
   },
   {
    "duration": 632,
    "start_time": "2022-11-17T16:07:33.387Z"
   },
   {
    "duration": 368,
    "start_time": "2022-11-17T16:07:34.021Z"
   },
   {
    "duration": 301,
    "start_time": "2022-11-17T16:07:34.391Z"
   },
   {
    "duration": 329,
    "start_time": "2022-11-17T16:07:34.694Z"
   },
   {
    "duration": 307,
    "start_time": "2022-11-17T16:07:35.025Z"
   },
   {
    "duration": 725,
    "start_time": "2022-11-17T16:07:35.335Z"
   },
   {
    "duration": 17,
    "start_time": "2022-11-17T16:07:36.062Z"
   },
   {
    "duration": 29,
    "start_time": "2022-11-17T16:07:36.081Z"
   },
   {
    "duration": 759,
    "start_time": "2022-11-17T16:07:36.113Z"
   },
   {
    "duration": 1049,
    "start_time": "2022-11-17T16:07:36.873Z"
   },
   {
    "duration": 322,
    "start_time": "2022-11-17T16:07:37.924Z"
   },
   {
    "duration": 64,
    "start_time": "2022-11-17T16:07:38.249Z"
   },
   {
    "duration": 15,
    "start_time": "2022-11-17T16:07:38.315Z"
   },
   {
    "duration": 16,
    "start_time": "2022-11-17T16:10:09.535Z"
   },
   {
    "duration": 17,
    "start_time": "2022-11-17T16:11:31.120Z"
   },
   {
    "duration": 1122,
    "start_time": "2022-11-17T16:11:48.784Z"
   },
   {
    "duration": 72,
    "start_time": "2022-11-17T16:11:49.908Z"
   },
   {
    "duration": 14,
    "start_time": "2022-11-17T16:11:49.982Z"
   },
   {
    "duration": 63,
    "start_time": "2022-11-17T16:11:49.998Z"
   },
   {
    "duration": 4,
    "start_time": "2022-11-17T16:11:50.063Z"
   },
   {
    "duration": 24,
    "start_time": "2022-11-17T16:11:50.069Z"
   },
   {
    "duration": 23,
    "start_time": "2022-11-17T16:11:50.105Z"
   },
   {
    "duration": 201,
    "start_time": "2022-11-17T16:11:50.130Z"
   },
   {
    "duration": 10,
    "start_time": "2022-11-17T16:11:50.333Z"
   },
   {
    "duration": 221,
    "start_time": "2022-11-17T16:11:50.346Z"
   },
   {
    "duration": 1486,
    "start_time": "2022-11-17T16:11:50.568Z"
   },
   {
    "duration": 25,
    "start_time": "2022-11-17T16:11:52.055Z"
   },
   {
    "duration": 629,
    "start_time": "2022-11-17T16:11:52.081Z"
   },
   {
    "duration": 322,
    "start_time": "2022-11-17T16:11:52.712Z"
   },
   {
    "duration": 287,
    "start_time": "2022-11-17T16:11:53.036Z"
   },
   {
    "duration": 299,
    "start_time": "2022-11-17T16:11:53.324Z"
   },
   {
    "duration": 300,
    "start_time": "2022-11-17T16:11:53.625Z"
   },
   {
    "duration": 673,
    "start_time": "2022-11-17T16:11:53.926Z"
   },
   {
    "duration": 16,
    "start_time": "2022-11-17T16:11:54.604Z"
   },
   {
    "duration": 12,
    "start_time": "2022-11-17T16:11:54.622Z"
   },
   {
    "duration": 676,
    "start_time": "2022-11-17T16:11:54.636Z"
   },
   {
    "duration": 642,
    "start_time": "2022-11-17T16:11:55.313Z"
   },
   {
    "duration": 181,
    "start_time": "2022-11-17T16:11:55.957Z"
   },
   {
    "duration": 12,
    "start_time": "2022-11-17T16:11:56.140Z"
   },
   {
    "duration": 20,
    "start_time": "2022-11-17T16:11:56.154Z"
   },
   {
    "duration": 15,
    "start_time": "2022-11-17T16:12:06.883Z"
   },
   {
    "duration": 1145,
    "start_time": "2022-11-17T16:12:19.579Z"
   },
   {
    "duration": 64,
    "start_time": "2022-11-17T16:12:20.726Z"
   },
   {
    "duration": 13,
    "start_time": "2022-11-17T16:12:20.791Z"
   },
   {
    "duration": 52,
    "start_time": "2022-11-17T16:12:20.805Z"
   },
   {
    "duration": 4,
    "start_time": "2022-11-17T16:12:20.859Z"
   },
   {
    "duration": 41,
    "start_time": "2022-11-17T16:12:20.864Z"
   },
   {
    "duration": 25,
    "start_time": "2022-11-17T16:12:20.907Z"
   },
   {
    "duration": 209,
    "start_time": "2022-11-17T16:12:20.933Z"
   },
   {
    "duration": 9,
    "start_time": "2022-11-17T16:12:21.144Z"
   },
   {
    "duration": 215,
    "start_time": "2022-11-17T16:12:21.156Z"
   },
   {
    "duration": 1608,
    "start_time": "2022-11-17T16:12:21.372Z"
   },
   {
    "duration": 27,
    "start_time": "2022-11-17T16:12:22.982Z"
   },
   {
    "duration": 568,
    "start_time": "2022-11-17T16:12:23.010Z"
   },
   {
    "duration": 296,
    "start_time": "2022-11-17T16:12:23.580Z"
   },
   {
    "duration": 315,
    "start_time": "2022-11-17T16:12:23.877Z"
   },
   {
    "duration": 307,
    "start_time": "2022-11-17T16:12:24.193Z"
   },
   {
    "duration": 609,
    "start_time": "2022-11-17T16:12:24.505Z"
   },
   {
    "duration": 1346,
    "start_time": "2022-11-17T16:12:25.116Z"
   },
   {
    "duration": 14,
    "start_time": "2022-11-17T16:12:26.463Z"
   },
   {
    "duration": 14,
    "start_time": "2022-11-17T16:12:26.479Z"
   },
   {
    "duration": 658,
    "start_time": "2022-11-17T16:12:26.494Z"
   },
   {
    "duration": 657,
    "start_time": "2022-11-17T16:12:27.154Z"
   },
   {
    "duration": 169,
    "start_time": "2022-11-17T16:12:27.813Z"
   },
   {
    "duration": 21,
    "start_time": "2022-11-17T16:12:27.984Z"
   },
   {
    "duration": 8,
    "start_time": "2022-11-17T16:12:28.006Z"
   },
   {
    "duration": 15,
    "start_time": "2022-11-17T16:14:35.029Z"
   },
   {
    "duration": 1121,
    "start_time": "2022-11-17T16:14:46.090Z"
   },
   {
    "duration": 62,
    "start_time": "2022-11-17T16:14:47.213Z"
   },
   {
    "duration": 13,
    "start_time": "2022-11-17T16:14:47.277Z"
   },
   {
    "duration": 64,
    "start_time": "2022-11-17T16:14:47.291Z"
   },
   {
    "duration": 5,
    "start_time": "2022-11-17T16:14:47.356Z"
   },
   {
    "duration": 44,
    "start_time": "2022-11-17T16:14:47.362Z"
   },
   {
    "duration": 30,
    "start_time": "2022-11-17T16:14:47.408Z"
   },
   {
    "duration": 250,
    "start_time": "2022-11-17T16:14:47.440Z"
   },
   {
    "duration": 18,
    "start_time": "2022-11-17T16:14:47.692Z"
   },
   {
    "duration": 208,
    "start_time": "2022-11-17T16:14:47.712Z"
   },
   {
    "duration": 1648,
    "start_time": "2022-11-17T16:14:47.922Z"
   },
   {
    "duration": 32,
    "start_time": "2022-11-17T16:14:49.573Z"
   },
   {
    "duration": 582,
    "start_time": "2022-11-17T16:14:49.607Z"
   },
   {
    "duration": 306,
    "start_time": "2022-11-17T16:14:50.191Z"
   },
   {
    "duration": 286,
    "start_time": "2022-11-17T16:14:50.498Z"
   },
   {
    "duration": 297,
    "start_time": "2022-11-17T16:14:50.785Z"
   },
   {
    "duration": 299,
    "start_time": "2022-11-17T16:14:51.084Z"
   },
   {
    "duration": 704,
    "start_time": "2022-11-17T16:14:51.385Z"
   },
   {
    "duration": 23,
    "start_time": "2022-11-17T16:14:52.090Z"
   },
   {
    "duration": 14,
    "start_time": "2022-11-17T16:14:52.114Z"
   },
   {
    "duration": 683,
    "start_time": "2022-11-17T16:14:52.129Z"
   },
   {
    "duration": 1069,
    "start_time": "2022-11-17T16:14:52.813Z"
   },
   {
    "duration": 172,
    "start_time": "2022-11-17T16:14:53.884Z"
   },
   {
    "duration": 10,
    "start_time": "2022-11-17T16:14:54.057Z"
   },
   {
    "duration": 8,
    "start_time": "2022-11-17T16:14:54.069Z"
   },
   {
    "duration": 1153,
    "start_time": "2022-11-17T16:17:56.672Z"
   },
   {
    "duration": 63,
    "start_time": "2022-11-17T16:17:57.827Z"
   },
   {
    "duration": 14,
    "start_time": "2022-11-17T16:17:57.891Z"
   },
   {
    "duration": 57,
    "start_time": "2022-11-17T16:17:57.906Z"
   },
   {
    "duration": 4,
    "start_time": "2022-11-17T16:17:57.965Z"
   },
   {
    "duration": 40,
    "start_time": "2022-11-17T16:17:57.971Z"
   },
   {
    "duration": 24,
    "start_time": "2022-11-17T16:17:58.012Z"
   },
   {
    "duration": 251,
    "start_time": "2022-11-17T16:17:58.037Z"
   },
   {
    "duration": 19,
    "start_time": "2022-11-17T16:17:58.290Z"
   },
   {
    "duration": 240,
    "start_time": "2022-11-17T16:17:58.312Z"
   },
   {
    "duration": 1648,
    "start_time": "2022-11-17T16:17:58.554Z"
   },
   {
    "duration": 24,
    "start_time": "2022-11-17T16:18:00.204Z"
   },
   {
    "duration": 593,
    "start_time": "2022-11-17T16:18:00.229Z"
   },
   {
    "duration": 322,
    "start_time": "2022-11-17T16:18:00.824Z"
   },
   {
    "duration": 329,
    "start_time": "2022-11-17T16:18:01.147Z"
   },
   {
    "duration": 314,
    "start_time": "2022-11-17T16:18:01.478Z"
   },
   {
    "duration": 301,
    "start_time": "2022-11-17T16:18:01.793Z"
   },
   {
    "duration": 943,
    "start_time": "2022-11-17T16:18:02.096Z"
   },
   {
    "duration": 73,
    "start_time": "2022-11-17T16:18:03.041Z"
   },
   {
    "duration": 17,
    "start_time": "2022-11-17T16:18:03.116Z"
   },
   {
    "duration": 1324,
    "start_time": "2022-11-17T16:18:03.134Z"
   },
   {
    "duration": 1110,
    "start_time": "2022-11-17T16:18:04.460Z"
   },
   {
    "duration": 167,
    "start_time": "2022-11-17T16:18:05.572Z"
   },
   {
    "duration": 10,
    "start_time": "2022-11-17T16:18:05.741Z"
   },
   {
    "duration": 21,
    "start_time": "2022-11-17T16:18:05.752Z"
   },
   {
    "duration": 1080,
    "start_time": "2022-11-17T16:19:11.632Z"
   },
   {
    "duration": 64,
    "start_time": "2022-11-17T16:19:12.714Z"
   },
   {
    "duration": 14,
    "start_time": "2022-11-17T16:19:12.779Z"
   },
   {
    "duration": 58,
    "start_time": "2022-11-17T16:19:12.795Z"
   },
   {
    "duration": 4,
    "start_time": "2022-11-17T16:19:12.855Z"
   },
   {
    "duration": 25,
    "start_time": "2022-11-17T16:19:12.861Z"
   },
   {
    "duration": 39,
    "start_time": "2022-11-17T16:19:12.887Z"
   },
   {
    "duration": 221,
    "start_time": "2022-11-17T16:19:12.928Z"
   },
   {
    "duration": 9,
    "start_time": "2022-11-17T16:19:13.151Z"
   },
   {
    "duration": 241,
    "start_time": "2022-11-17T16:19:13.163Z"
   },
   {
    "duration": 1584,
    "start_time": "2022-11-17T16:19:13.406Z"
   },
   {
    "duration": 31,
    "start_time": "2022-11-17T16:19:14.992Z"
   },
   {
    "duration": 585,
    "start_time": "2022-11-17T16:19:15.025Z"
   },
   {
    "duration": 307,
    "start_time": "2022-11-17T16:19:15.612Z"
   },
   {
    "duration": 319,
    "start_time": "2022-11-17T16:19:15.921Z"
   },
   {
    "duration": 301,
    "start_time": "2022-11-17T16:19:16.242Z"
   },
   {
    "duration": 301,
    "start_time": "2022-11-17T16:19:16.545Z"
   },
   {
    "duration": 736,
    "start_time": "2022-11-17T16:19:16.847Z"
   },
   {
    "duration": 22,
    "start_time": "2022-11-17T16:19:17.584Z"
   },
   {
    "duration": 12,
    "start_time": "2022-11-17T16:19:17.608Z"
   },
   {
    "duration": 809,
    "start_time": "2022-11-17T16:19:17.622Z"
   },
   {
    "duration": 1223,
    "start_time": "2022-11-17T16:19:18.433Z"
   },
   {
    "duration": 175,
    "start_time": "2022-11-17T16:19:19.658Z"
   },
   {
    "duration": 11,
    "start_time": "2022-11-17T16:19:19.835Z"
   },
   {
    "duration": 58,
    "start_time": "2022-11-17T16:19:19.848Z"
   },
   {
    "duration": 1093,
    "start_time": "2022-11-17T16:20:31.454Z"
   },
   {
    "duration": 64,
    "start_time": "2022-11-17T16:20:32.549Z"
   },
   {
    "duration": 15,
    "start_time": "2022-11-17T16:20:32.615Z"
   },
   {
    "duration": 54,
    "start_time": "2022-11-17T16:20:32.632Z"
   },
   {
    "duration": 18,
    "start_time": "2022-11-17T16:20:32.688Z"
   },
   {
    "duration": 26,
    "start_time": "2022-11-17T16:20:32.708Z"
   },
   {
    "duration": 24,
    "start_time": "2022-11-17T16:20:32.736Z"
   },
   {
    "duration": 227,
    "start_time": "2022-11-17T16:20:32.762Z"
   },
   {
    "duration": 19,
    "start_time": "2022-11-17T16:20:32.990Z"
   },
   {
    "duration": 199,
    "start_time": "2022-11-17T16:20:33.011Z"
   },
   {
    "duration": 1548,
    "start_time": "2022-11-17T16:20:33.211Z"
   },
   {
    "duration": 23,
    "start_time": "2022-11-17T16:20:34.761Z"
   },
   {
    "duration": 569,
    "start_time": "2022-11-17T16:20:34.786Z"
   },
   {
    "duration": 301,
    "start_time": "2022-11-17T16:20:35.356Z"
   },
   {
    "duration": 304,
    "start_time": "2022-11-17T16:20:35.659Z"
   },
   {
    "duration": 345,
    "start_time": "2022-11-17T16:20:35.965Z"
   },
   {
    "duration": 341,
    "start_time": "2022-11-17T16:20:36.312Z"
   },
   {
    "duration": 701,
    "start_time": "2022-11-17T16:20:36.654Z"
   },
   {
    "duration": 13,
    "start_time": "2022-11-17T16:20:37.357Z"
   },
   {
    "duration": 11,
    "start_time": "2022-11-17T16:20:37.371Z"
   },
   {
    "duration": 707,
    "start_time": "2022-11-17T16:20:37.383Z"
   },
   {
    "duration": 1066,
    "start_time": "2022-11-17T16:20:38.092Z"
   },
   {
    "duration": 159,
    "start_time": "2022-11-17T16:20:39.160Z"
   },
   {
    "duration": 10,
    "start_time": "2022-11-17T16:20:39.321Z"
   },
   {
    "duration": 8,
    "start_time": "2022-11-17T16:20:39.333Z"
   },
   {
    "duration": 1096,
    "start_time": "2022-11-17T16:21:30.908Z"
   },
   {
    "duration": 64,
    "start_time": "2022-11-17T16:21:32.006Z"
   },
   {
    "duration": 12,
    "start_time": "2022-11-17T16:21:32.072Z"
   },
   {
    "duration": 54,
    "start_time": "2022-11-17T16:21:32.086Z"
   },
   {
    "duration": 5,
    "start_time": "2022-11-17T16:21:32.141Z"
   },
   {
    "duration": 29,
    "start_time": "2022-11-17T16:21:32.147Z"
   },
   {
    "duration": 45,
    "start_time": "2022-11-17T16:21:32.178Z"
   },
   {
    "duration": 200,
    "start_time": "2022-11-17T16:21:32.225Z"
   },
   {
    "duration": 12,
    "start_time": "2022-11-17T16:21:32.427Z"
   },
   {
    "duration": 232,
    "start_time": "2022-11-17T16:21:32.442Z"
   },
   {
    "duration": 1610,
    "start_time": "2022-11-17T16:21:32.676Z"
   },
   {
    "duration": 33,
    "start_time": "2022-11-17T16:21:34.288Z"
   },
   {
    "duration": 594,
    "start_time": "2022-11-17T16:21:34.323Z"
   },
   {
    "duration": 315,
    "start_time": "2022-11-17T16:21:34.919Z"
   },
   {
    "duration": 313,
    "start_time": "2022-11-17T16:21:35.236Z"
   },
   {
    "duration": 311,
    "start_time": "2022-11-17T16:21:35.550Z"
   },
   {
    "duration": 321,
    "start_time": "2022-11-17T16:21:35.862Z"
   },
   {
    "duration": 728,
    "start_time": "2022-11-17T16:21:36.185Z"
   },
   {
    "duration": 14,
    "start_time": "2022-11-17T16:21:36.915Z"
   },
   {
    "duration": 12,
    "start_time": "2022-11-17T16:21:36.931Z"
   },
   {
    "duration": 761,
    "start_time": "2022-11-17T16:21:36.945Z"
   },
   {
    "duration": 358,
    "start_time": "2022-11-17T16:21:37.708Z"
   },
   {
    "duration": 192,
    "start_time": "2022-11-17T16:21:38.068Z"
   },
   {
    "duration": 10,
    "start_time": "2022-11-17T16:21:38.262Z"
   },
   {
    "duration": 11,
    "start_time": "2022-11-17T16:21:38.274Z"
   },
   {
    "duration": 24,
    "start_time": "2022-11-17T16:22:17.600Z"
   },
   {
    "duration": 18,
    "start_time": "2022-11-17T16:22:43.484Z"
   },
   {
    "duration": 1083,
    "start_time": "2022-11-17T16:22:52.112Z"
   },
   {
    "duration": 65,
    "start_time": "2022-11-17T16:22:53.196Z"
   },
   {
    "duration": 13,
    "start_time": "2022-11-17T16:22:53.262Z"
   },
   {
    "duration": 63,
    "start_time": "2022-11-17T16:22:53.277Z"
   },
   {
    "duration": 4,
    "start_time": "2022-11-17T16:22:53.342Z"
   },
   {
    "duration": 27,
    "start_time": "2022-11-17T16:22:53.347Z"
   },
   {
    "duration": 40,
    "start_time": "2022-11-17T16:22:53.375Z"
   },
   {
    "duration": 205,
    "start_time": "2022-11-17T16:22:53.416Z"
   },
   {
    "duration": 10,
    "start_time": "2022-11-17T16:22:53.622Z"
   },
   {
    "duration": 228,
    "start_time": "2022-11-17T16:22:53.635Z"
   },
   {
    "duration": 1603,
    "start_time": "2022-11-17T16:22:53.864Z"
   },
   {
    "duration": 26,
    "start_time": "2022-11-17T16:22:55.468Z"
   },
   {
    "duration": 618,
    "start_time": "2022-11-17T16:22:55.504Z"
   },
   {
    "duration": 357,
    "start_time": "2022-11-17T16:22:56.123Z"
   },
   {
    "duration": 324,
    "start_time": "2022-11-17T16:22:56.482Z"
   },
   {
    "duration": 327,
    "start_time": "2022-11-17T16:22:56.807Z"
   },
   {
    "duration": 327,
    "start_time": "2022-11-17T16:22:57.135Z"
   },
   {
    "duration": 800,
    "start_time": "2022-11-17T16:22:57.465Z"
   },
   {
    "duration": 16,
    "start_time": "2022-11-17T16:22:58.268Z"
   },
   {
    "duration": 33,
    "start_time": "2022-11-17T16:22:58.286Z"
   },
   {
    "duration": 695,
    "start_time": "2022-11-17T16:22:58.321Z"
   },
   {
    "duration": 674,
    "start_time": "2022-11-17T16:22:59.018Z"
   },
   {
    "duration": 159,
    "start_time": "2022-11-17T16:22:59.693Z"
   },
   {
    "duration": 10,
    "start_time": "2022-11-17T16:22:59.853Z"
   },
   {
    "duration": 6,
    "start_time": "2022-11-17T16:22:59.864Z"
   },
   {
    "duration": 41,
    "start_time": "2022-11-17T16:28:52.148Z"
   },
   {
    "duration": 1146,
    "start_time": "2022-11-17T16:29:42.312Z"
   },
   {
    "duration": 64,
    "start_time": "2022-11-17T16:29:43.460Z"
   },
   {
    "duration": 14,
    "start_time": "2022-11-17T16:29:43.525Z"
   },
   {
    "duration": 76,
    "start_time": "2022-11-17T16:29:43.542Z"
   },
   {
    "duration": 5,
    "start_time": "2022-11-17T16:29:43.619Z"
   },
   {
    "duration": 29,
    "start_time": "2022-11-17T16:29:43.625Z"
   },
   {
    "duration": 26,
    "start_time": "2022-11-17T16:29:43.656Z"
   },
   {
    "duration": 206,
    "start_time": "2022-11-17T16:29:43.704Z"
   },
   {
    "duration": 9,
    "start_time": "2022-11-17T16:29:43.912Z"
   },
   {
    "duration": 210,
    "start_time": "2022-11-17T16:29:43.924Z"
   },
   {
    "duration": 1492,
    "start_time": "2022-11-17T16:29:44.135Z"
   },
   {
    "duration": 23,
    "start_time": "2022-11-17T16:29:45.629Z"
   },
   {
    "duration": 621,
    "start_time": "2022-11-17T16:29:45.653Z"
   },
   {
    "duration": 334,
    "start_time": "2022-11-17T16:29:46.276Z"
   },
   {
    "duration": 319,
    "start_time": "2022-11-17T16:29:46.612Z"
   },
   {
    "duration": 310,
    "start_time": "2022-11-17T16:29:46.933Z"
   },
   {
    "duration": 315,
    "start_time": "2022-11-17T16:29:47.245Z"
   },
   {
    "duration": 768,
    "start_time": "2022-11-17T16:29:47.563Z"
   },
   {
    "duration": 13,
    "start_time": "2022-11-17T16:29:48.333Z"
   },
   {
    "duration": 35,
    "start_time": "2022-11-17T16:29:48.348Z"
   },
   {
    "duration": 704,
    "start_time": "2022-11-17T16:29:48.384Z"
   },
   {
    "duration": 1056,
    "start_time": "2022-11-17T16:29:49.090Z"
   },
   {
    "duration": 373,
    "start_time": "2022-11-17T16:29:50.148Z"
   },
   {
    "duration": 44,
    "start_time": "2022-11-17T16:29:50.523Z"
   },
   {
    "duration": 0,
    "start_time": "2022-11-17T16:29:50.605Z"
   },
   {
    "duration": 119,
    "start_time": "2022-11-17T16:30:17.133Z"
   },
   {
    "duration": 12,
    "start_time": "2022-11-17T16:30:38.466Z"
   },
   {
    "duration": 14,
    "start_time": "2022-11-17T16:34:54.148Z"
   },
   {
    "duration": 12,
    "start_time": "2022-11-17T16:35:02.771Z"
   },
   {
    "duration": 7,
    "start_time": "2022-11-17T16:36:42.653Z"
   },
   {
    "duration": 8,
    "start_time": "2022-11-17T16:38:03.978Z"
   },
   {
    "duration": 11,
    "start_time": "2022-11-17T16:38:24.085Z"
   },
   {
    "duration": 1150,
    "start_time": "2022-11-17T16:58:06.276Z"
   },
   {
    "duration": 73,
    "start_time": "2022-11-17T16:58:07.428Z"
   },
   {
    "duration": 14,
    "start_time": "2022-11-17T16:58:07.502Z"
   },
   {
    "duration": 55,
    "start_time": "2022-11-17T16:58:07.518Z"
   },
   {
    "duration": 4,
    "start_time": "2022-11-17T16:58:07.574Z"
   },
   {
    "duration": 24,
    "start_time": "2022-11-17T16:58:07.604Z"
   },
   {
    "duration": 22,
    "start_time": "2022-11-17T16:58:07.629Z"
   },
   {
    "duration": 223,
    "start_time": "2022-11-17T16:58:07.653Z"
   },
   {
    "duration": 10,
    "start_time": "2022-11-17T16:58:07.877Z"
   },
   {
    "duration": 230,
    "start_time": "2022-11-17T16:58:07.890Z"
   },
   {
    "duration": 1638,
    "start_time": "2022-11-17T16:58:08.122Z"
   },
   {
    "duration": 23,
    "start_time": "2022-11-17T16:58:09.762Z"
   },
   {
    "duration": 591,
    "start_time": "2022-11-17T16:58:09.786Z"
   },
   {
    "duration": 311,
    "start_time": "2022-11-17T16:58:10.379Z"
   },
   {
    "duration": 294,
    "start_time": "2022-11-17T16:58:10.691Z"
   },
   {
    "duration": 294,
    "start_time": "2022-11-17T16:58:10.987Z"
   },
   {
    "duration": 292,
    "start_time": "2022-11-17T16:58:11.282Z"
   },
   {
    "duration": 686,
    "start_time": "2022-11-17T16:58:11.576Z"
   },
   {
    "duration": 14,
    "start_time": "2022-11-17T16:58:12.263Z"
   },
   {
    "duration": 33,
    "start_time": "2022-11-17T16:58:12.278Z"
   },
   {
    "duration": 655,
    "start_time": "2022-11-17T16:58:12.313Z"
   },
   {
    "duration": 697,
    "start_time": "2022-11-17T16:58:12.970Z"
   },
   {
    "duration": 168,
    "start_time": "2022-11-17T16:58:13.669Z"
   },
   {
    "duration": 11,
    "start_time": "2022-11-17T16:58:13.840Z"
   },
   {
    "duration": 24,
    "start_time": "2022-11-17T16:58:13.853Z"
   },
   {
    "duration": 46,
    "start_time": "2022-11-18T05:31:56.669Z"
   },
   {
    "duration": 1102,
    "start_time": "2022-11-18T05:32:39.501Z"
   },
   {
    "duration": 104,
    "start_time": "2022-11-18T05:32:40.605Z"
   },
   {
    "duration": 12,
    "start_time": "2022-11-18T05:32:40.711Z"
   },
   {
    "duration": 71,
    "start_time": "2022-11-18T05:32:40.725Z"
   },
   {
    "duration": 4,
    "start_time": "2022-11-18T05:32:40.798Z"
   },
   {
    "duration": 66,
    "start_time": "2022-11-18T05:32:40.803Z"
   },
   {
    "duration": 21,
    "start_time": "2022-11-18T05:32:40.871Z"
   },
   {
    "duration": 200,
    "start_time": "2022-11-18T05:32:40.894Z"
   },
   {
    "duration": 9,
    "start_time": "2022-11-18T05:32:41.096Z"
   },
   {
    "duration": 220,
    "start_time": "2022-11-18T05:32:41.108Z"
   },
   {
    "duration": 1622,
    "start_time": "2022-11-18T05:32:41.330Z"
   },
   {
    "duration": 24,
    "start_time": "2022-11-18T05:32:42.954Z"
   },
   {
    "duration": 602,
    "start_time": "2022-11-18T05:32:42.980Z"
   },
   {
    "duration": 320,
    "start_time": "2022-11-18T05:32:43.584Z"
   },
   {
    "duration": 363,
    "start_time": "2022-11-18T05:32:43.905Z"
   },
   {
    "duration": 324,
    "start_time": "2022-11-18T05:32:44.270Z"
   },
   {
    "duration": 299,
    "start_time": "2022-11-18T05:32:44.596Z"
   },
   {
    "duration": 752,
    "start_time": "2022-11-18T05:32:44.897Z"
   },
   {
    "duration": 15,
    "start_time": "2022-11-18T05:32:45.650Z"
   },
   {
    "duration": 18,
    "start_time": "2022-11-18T05:32:45.668Z"
   },
   {
    "duration": 761,
    "start_time": "2022-11-18T05:32:45.688Z"
   },
   {
    "duration": 718,
    "start_time": "2022-11-18T05:32:46.451Z"
   },
   {
    "duration": 167,
    "start_time": "2022-11-18T05:32:47.171Z"
   },
   {
    "duration": 11,
    "start_time": "2022-11-18T05:32:47.340Z"
   },
   {
    "duration": 32,
    "start_time": "2022-11-18T05:32:47.352Z"
   },
   {
    "duration": 18,
    "start_time": "2022-11-18T05:32:47.386Z"
   },
   {
    "duration": 76,
    "start_time": "2022-11-18T05:32:47.406Z"
   },
   {
    "duration": 3,
    "start_time": "2022-11-18T05:32:47.485Z"
   },
   {
    "duration": 22,
    "start_time": "2022-11-18T05:32:47.489Z"
   },
   {
    "duration": 113,
    "start_time": "2022-11-18T05:32:47.512Z"
   },
   {
    "duration": 0,
    "start_time": "2022-11-18T05:32:47.627Z"
   },
   {
    "duration": 0,
    "start_time": "2022-11-18T05:32:47.628Z"
   },
   {
    "duration": 0,
    "start_time": "2022-11-18T05:32:47.629Z"
   },
   {
    "duration": 0,
    "start_time": "2022-11-18T05:32:47.630Z"
   },
   {
    "duration": 0,
    "start_time": "2022-11-18T05:32:47.632Z"
   },
   {
    "duration": 0,
    "start_time": "2022-11-18T05:32:47.633Z"
   },
   {
    "duration": 4,
    "start_time": "2022-11-18T05:33:24.173Z"
   },
   {
    "duration": 6,
    "start_time": "2022-11-18T05:33:24.580Z"
   },
   {
    "duration": 7,
    "start_time": "2022-11-18T05:33:24.870Z"
   },
   {
    "duration": 589,
    "start_time": "2022-11-18T05:33:25.148Z"
   },
   {
    "duration": 602,
    "start_time": "2022-11-18T05:33:25.739Z"
   },
   {
    "duration": 707,
    "start_time": "2022-11-18T05:33:26.343Z"
   },
   {
    "duration": 1148,
    "start_time": "2022-11-18T05:33:37.091Z"
   },
   {
    "duration": 61,
    "start_time": "2022-11-18T05:33:38.240Z"
   },
   {
    "duration": 13,
    "start_time": "2022-11-18T05:33:38.303Z"
   },
   {
    "duration": 59,
    "start_time": "2022-11-18T05:33:38.318Z"
   },
   {
    "duration": 4,
    "start_time": "2022-11-18T05:33:38.378Z"
   },
   {
    "duration": 42,
    "start_time": "2022-11-18T05:33:38.384Z"
   },
   {
    "duration": 23,
    "start_time": "2022-11-18T05:33:38.428Z"
   },
   {
    "duration": 218,
    "start_time": "2022-11-18T05:33:38.452Z"
   },
   {
    "duration": 10,
    "start_time": "2022-11-18T05:33:38.672Z"
   },
   {
    "duration": 241,
    "start_time": "2022-11-18T05:33:38.683Z"
   },
   {
    "duration": 2121,
    "start_time": "2022-11-18T05:33:38.925Z"
   },
   {
    "duration": 24,
    "start_time": "2022-11-18T05:33:41.048Z"
   },
   {
    "duration": 1284,
    "start_time": "2022-11-18T05:33:41.074Z"
   },
   {
    "duration": 680,
    "start_time": "2022-11-18T05:33:42.361Z"
   },
   {
    "duration": 910,
    "start_time": "2022-11-18T05:33:43.043Z"
   },
   {
    "duration": 1207,
    "start_time": "2022-11-18T05:33:44.024Z"
   },
   {
    "duration": 1118,
    "start_time": "2022-11-18T05:33:45.233Z"
   },
   {
    "duration": 2273,
    "start_time": "2022-11-18T05:33:46.353Z"
   },
   {
    "duration": 15,
    "start_time": "2022-11-18T05:33:48.628Z"
   },
   {
    "duration": 91,
    "start_time": "2022-11-18T05:33:48.644Z"
   },
   {
    "duration": 3086,
    "start_time": "2022-11-18T05:33:48.736Z"
   },
   {
    "duration": 2519,
    "start_time": "2022-11-18T05:33:51.825Z"
   },
   {
    "duration": 505,
    "start_time": "2022-11-18T05:33:54.345Z"
   },
   {
    "duration": 10,
    "start_time": "2022-11-18T05:33:54.923Z"
   },
   {
    "duration": 90,
    "start_time": "2022-11-18T05:33:54.934Z"
   },
   {
    "duration": 99,
    "start_time": "2022-11-18T05:33:55.025Z"
   },
   {
    "duration": 145,
    "start_time": "2022-11-18T05:33:55.125Z"
   },
   {
    "duration": 3,
    "start_time": "2022-11-18T05:33:55.321Z"
   },
   {
    "duration": 104,
    "start_time": "2022-11-18T05:33:55.326Z"
   },
   {
    "duration": 16,
    "start_time": "2022-11-18T05:33:55.433Z"
   },
   {
    "duration": 74,
    "start_time": "2022-11-18T05:33:55.451Z"
   },
   {
    "duration": 14,
    "start_time": "2022-11-18T05:33:55.527Z"
   },
   {
    "duration": 1681,
    "start_time": "2022-11-18T05:33:55.542Z"
   },
   {
    "duration": 1605,
    "start_time": "2022-11-18T05:33:57.225Z"
   },
   {
    "duration": 2019,
    "start_time": "2022-11-18T05:33:58.833Z"
   }
  ],
  "kernelspec": {
   "display_name": "Python 3 (ipykernel)",
   "language": "python",
   "name": "python3"
  },
  "language_info": {
   "codemirror_mode": {
    "name": "ipython",
    "version": 3
   },
   "file_extension": ".py",
   "mimetype": "text/x-python",
   "name": "python",
   "nbconvert_exporter": "python",
   "pygments_lexer": "ipython3",
   "version": "3.9.13"
  },
  "toc": {
   "base_numbering": 1,
   "nav_menu": {},
   "number_sections": true,
   "sideBar": true,
   "skip_h1_title": true,
   "title_cell": "Table of Contents",
   "title_sidebar": "Contents",
   "toc_cell": false,
   "toc_position": {
    "height": "calc(100% - 180px)",
    "left": "10px",
    "top": "150px",
    "width": "310.99px"
   },
   "toc_section_display": true,
   "toc_window_display": true
  }
 },
 "nbformat": 4,
 "nbformat_minor": 2
}
