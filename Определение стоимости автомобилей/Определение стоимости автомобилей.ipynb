{
 "cells": [
  {
   "cell_type": "markdown",
   "metadata": {},
   "source": [
    "# Определение стоимости автомобилей"
   ]
  },
  {
   "cell_type": "markdown",
   "metadata": {},
   "source": [
    "Сервис по продаже автомобилей с пробегом «Не бит, не крашен» разрабатывает приложение для привлечения новых клиентов. В нём можно быстро узнать рыночную стоимость своего автомобиля. В вашем распоряжении исторические данные: технические характеристики, комплектации и цены автомобилей. Нужно построить модель для определения стоимости. \n",
    "\n",
    "Заказчику важны:\n",
    "\n",
    "- качество предсказания;\n",
    "- скорость предсказания;\n",
    "- время обучения."
   ]
  },
  {
   "cell_type": "markdown",
   "metadata": {},
   "source": [
    "## Подготовка данных"
   ]
  },
  {
   "cell_type": "markdown",
   "metadata": {},
   "source": [
    "### Загружаем библиотеки"
   ]
  },
  {
   "cell_type": "code",
   "execution_count": 1,
   "metadata": {},
   "outputs": [],
   "source": [
    "import pandas as pd\n",
    "import matplotlib.pyplot as plt\n",
    "from sklearn.preprocessing import OrdinalEncoder\n",
    "import seaborn as sns\n",
    "from sklearn.model_selection import train_test_split\n",
    "import time\n",
    "from sklearn.linear_model import LinearRegression\n",
    "from sklearn.metrics import mean_squared_error\n",
    "from sklearn.ensemble import RandomForestRegressor\n",
    "from catboost import CatBoostRegressor\n",
    "from sklearn.model_selection import GridSearchCV\n",
    "from sklearn.metrics import make_scorer\n",
    "from lightgbm import LGBMRegressor"
   ]
  },
  {
   "cell_type": "markdown",
   "metadata": {},
   "source": [
    "### Загружаем данные и смтрим общую информацию"
   ]
  },
  {
   "cell_type": "code",
   "execution_count": 2,
   "metadata": {},
   "outputs": [
    {
     "data": {
      "text/html": [
       "<div>\n",
       "<style scoped>\n",
       "    .dataframe tbody tr th:only-of-type {\n",
       "        vertical-align: middle;\n",
       "    }\n",
       "\n",
       "    .dataframe tbody tr th {\n",
       "        vertical-align: top;\n",
       "    }\n",
       "\n",
       "    .dataframe thead th {\n",
       "        text-align: right;\n",
       "    }\n",
       "</style>\n",
       "<table border=\"1\" class=\"dataframe\">\n",
       "  <thead>\n",
       "    <tr style=\"text-align: right;\">\n",
       "      <th></th>\n",
       "      <th>DateCrawled</th>\n",
       "      <th>Price</th>\n",
       "      <th>VehicleType</th>\n",
       "      <th>RegistrationYear</th>\n",
       "      <th>Gearbox</th>\n",
       "      <th>Power</th>\n",
       "      <th>Model</th>\n",
       "      <th>Kilometer</th>\n",
       "      <th>RegistrationMonth</th>\n",
       "      <th>FuelType</th>\n",
       "      <th>Brand</th>\n",
       "      <th>Repaired</th>\n",
       "      <th>DateCreated</th>\n",
       "      <th>NumberOfPictures</th>\n",
       "      <th>PostalCode</th>\n",
       "      <th>LastSeen</th>\n",
       "    </tr>\n",
       "  </thead>\n",
       "  <tbody>\n",
       "    <tr>\n",
       "      <th>0</th>\n",
       "      <td>2016-03-24 11:52:17</td>\n",
       "      <td>480</td>\n",
       "      <td>NaN</td>\n",
       "      <td>1993</td>\n",
       "      <td>manual</td>\n",
       "      <td>0</td>\n",
       "      <td>golf</td>\n",
       "      <td>150000</td>\n",
       "      <td>0</td>\n",
       "      <td>petrol</td>\n",
       "      <td>volkswagen</td>\n",
       "      <td>NaN</td>\n",
       "      <td>2016-03-24 00:00:00</td>\n",
       "      <td>0</td>\n",
       "      <td>70435</td>\n",
       "      <td>2016-04-07 03:16:57</td>\n",
       "    </tr>\n",
       "    <tr>\n",
       "      <th>1</th>\n",
       "      <td>2016-03-24 10:58:45</td>\n",
       "      <td>18300</td>\n",
       "      <td>coupe</td>\n",
       "      <td>2011</td>\n",
       "      <td>manual</td>\n",
       "      <td>190</td>\n",
       "      <td>NaN</td>\n",
       "      <td>125000</td>\n",
       "      <td>5</td>\n",
       "      <td>gasoline</td>\n",
       "      <td>audi</td>\n",
       "      <td>yes</td>\n",
       "      <td>2016-03-24 00:00:00</td>\n",
       "      <td>0</td>\n",
       "      <td>66954</td>\n",
       "      <td>2016-04-07 01:46:50</td>\n",
       "    </tr>\n",
       "    <tr>\n",
       "      <th>2</th>\n",
       "      <td>2016-03-14 12:52:21</td>\n",
       "      <td>9800</td>\n",
       "      <td>suv</td>\n",
       "      <td>2004</td>\n",
       "      <td>auto</td>\n",
       "      <td>163</td>\n",
       "      <td>grand</td>\n",
       "      <td>125000</td>\n",
       "      <td>8</td>\n",
       "      <td>gasoline</td>\n",
       "      <td>jeep</td>\n",
       "      <td>NaN</td>\n",
       "      <td>2016-03-14 00:00:00</td>\n",
       "      <td>0</td>\n",
       "      <td>90480</td>\n",
       "      <td>2016-04-05 12:47:46</td>\n",
       "    </tr>\n",
       "    <tr>\n",
       "      <th>3</th>\n",
       "      <td>2016-03-17 16:54:04</td>\n",
       "      <td>1500</td>\n",
       "      <td>small</td>\n",
       "      <td>2001</td>\n",
       "      <td>manual</td>\n",
       "      <td>75</td>\n",
       "      <td>golf</td>\n",
       "      <td>150000</td>\n",
       "      <td>6</td>\n",
       "      <td>petrol</td>\n",
       "      <td>volkswagen</td>\n",
       "      <td>no</td>\n",
       "      <td>2016-03-17 00:00:00</td>\n",
       "      <td>0</td>\n",
       "      <td>91074</td>\n",
       "      <td>2016-03-17 17:40:17</td>\n",
       "    </tr>\n",
       "    <tr>\n",
       "      <th>4</th>\n",
       "      <td>2016-03-31 17:25:20</td>\n",
       "      <td>3600</td>\n",
       "      <td>small</td>\n",
       "      <td>2008</td>\n",
       "      <td>manual</td>\n",
       "      <td>69</td>\n",
       "      <td>fabia</td>\n",
       "      <td>90000</td>\n",
       "      <td>7</td>\n",
       "      <td>gasoline</td>\n",
       "      <td>skoda</td>\n",
       "      <td>no</td>\n",
       "      <td>2016-03-31 00:00:00</td>\n",
       "      <td>0</td>\n",
       "      <td>60437</td>\n",
       "      <td>2016-04-06 10:17:21</td>\n",
       "    </tr>\n",
       "  </tbody>\n",
       "</table>\n",
       "</div>"
      ],
      "text/plain": [
       "           DateCrawled  Price VehicleType  RegistrationYear Gearbox  Power  \\\n",
       "0  2016-03-24 11:52:17    480         NaN              1993  manual      0   \n",
       "1  2016-03-24 10:58:45  18300       coupe              2011  manual    190   \n",
       "2  2016-03-14 12:52:21   9800         suv              2004    auto    163   \n",
       "3  2016-03-17 16:54:04   1500       small              2001  manual     75   \n",
       "4  2016-03-31 17:25:20   3600       small              2008  manual     69   \n",
       "\n",
       "   Model  Kilometer  RegistrationMonth  FuelType       Brand Repaired  \\\n",
       "0   golf     150000                  0    petrol  volkswagen      NaN   \n",
       "1    NaN     125000                  5  gasoline        audi      yes   \n",
       "2  grand     125000                  8  gasoline        jeep      NaN   \n",
       "3   golf     150000                  6    petrol  volkswagen       no   \n",
       "4  fabia      90000                  7  gasoline       skoda       no   \n",
       "\n",
       "           DateCreated  NumberOfPictures  PostalCode             LastSeen  \n",
       "0  2016-03-24 00:00:00                 0       70435  2016-04-07 03:16:57  \n",
       "1  2016-03-24 00:00:00                 0       66954  2016-04-07 01:46:50  \n",
       "2  2016-03-14 00:00:00                 0       90480  2016-04-05 12:47:46  \n",
       "3  2016-03-17 00:00:00                 0       91074  2016-03-17 17:40:17  \n",
       "4  2016-03-31 00:00:00                 0       60437  2016-04-06 10:17:21  "
      ]
     },
     "execution_count": 2,
     "metadata": {},
     "output_type": "execute_result"
    }
   ],
   "source": [
    "try:\n",
    "    df = pd.read_csv('F:\\\\autos.csv')\n",
    "except:\n",
    "    df = pd.read_csv('/datasets/autos.csv')\n",
    "\n",
    "df.head()"
   ]
  },
  {
   "cell_type": "code",
   "execution_count": 3,
   "metadata": {
    "scrolled": false
   },
   "outputs": [
    {
     "name": "stdout",
     "output_type": "stream",
     "text": [
      "<class 'pandas.core.frame.DataFrame'>\n",
      "RangeIndex: 354369 entries, 0 to 354368\n",
      "Data columns (total 16 columns):\n",
      " #   Column             Non-Null Count   Dtype \n",
      "---  ------             --------------   ----- \n",
      " 0   DateCrawled        354369 non-null  object\n",
      " 1   Price              354369 non-null  int64 \n",
      " 2   VehicleType        316879 non-null  object\n",
      " 3   RegistrationYear   354369 non-null  int64 \n",
      " 4   Gearbox            334536 non-null  object\n",
      " 5   Power              354369 non-null  int64 \n",
      " 6   Model              334664 non-null  object\n",
      " 7   Kilometer          354369 non-null  int64 \n",
      " 8   RegistrationMonth  354369 non-null  int64 \n",
      " 9   FuelType           321474 non-null  object\n",
      " 10  Brand              354369 non-null  object\n",
      " 11  Repaired           283215 non-null  object\n",
      " 12  DateCreated        354369 non-null  object\n",
      " 13  NumberOfPictures   354369 non-null  int64 \n",
      " 14  PostalCode         354369 non-null  int64 \n",
      " 15  LastSeen           354369 non-null  object\n",
      "dtypes: int64(7), object(9)\n",
      "memory usage: 43.3+ MB\n"
     ]
    }
   ],
   "source": [
    "df.info()"
   ]
  },
  {
   "cell_type": "code",
   "execution_count": 4,
   "metadata": {},
   "outputs": [
    {
     "name": "stdout",
     "output_type": "stream",
     "text": [
      "DateCrawled              0\n",
      "Price                    0\n",
      "VehicleType          37490\n",
      "RegistrationYear         0\n",
      "Gearbox              19833\n",
      "Power                    0\n",
      "Model                19705\n",
      "Kilometer                0\n",
      "RegistrationMonth        0\n",
      "FuelType             32895\n",
      "Brand                    0\n",
      "Repaired             71154\n",
      "DateCreated              0\n",
      "NumberOfPictures         0\n",
      "PostalCode               0\n",
      "LastSeen                 0\n",
      "dtype: int64\n"
     ]
    },
    {
     "data": {
      "text/html": [
       "<style  type=\"text/css\" >\n",
       "#T_20afe_row0_col0,#T_20afe_row1_col0,#T_20afe_row3_col0,#T_20afe_row5_col0,#T_20afe_row7_col0,#T_20afe_row8_col0,#T_20afe_row10_col0,#T_20afe_row12_col0,#T_20afe_row13_col0,#T_20afe_row14_col0,#T_20afe_row15_col0{\n",
       "            background-color:  #3b4cc0;\n",
       "            color:  #f1f1f1;\n",
       "        }#T_20afe_row2_col0{\n",
       "            background-color:  #e9d5cb;\n",
       "            color:  #000000;\n",
       "        }#T_20afe_row4_col0,#T_20afe_row6_col0{\n",
       "            background-color:  #9ebeff;\n",
       "            color:  #000000;\n",
       "        }#T_20afe_row9_col0{\n",
       "            background-color:  #cfdaea;\n",
       "            color:  #000000;\n",
       "        }#T_20afe_row11_col0{\n",
       "            background-color:  #b40426;\n",
       "            color:  #f1f1f1;\n",
       "        }</style><table id=\"T_20afe_\" ><thead>    <tr>        <th class=\"blank level0\" ></th>        <th class=\"col_heading level0 col0\" >0</th>    </tr></thead><tbody>\n",
       "                <tr>\n",
       "                        <th id=\"T_20afe_level0_row0\" class=\"row_heading level0 row0\" >DateCrawled</th>\n",
       "                        <td id=\"T_20afe_row0_col0\" class=\"data row0 col0\" >0.000000</td>\n",
       "            </tr>\n",
       "            <tr>\n",
       "                        <th id=\"T_20afe_level0_row1\" class=\"row_heading level0 row1\" >Price</th>\n",
       "                        <td id=\"T_20afe_row1_col0\" class=\"data row1 col0\" >0.000000</td>\n",
       "            </tr>\n",
       "            <tr>\n",
       "                        <th id=\"T_20afe_level0_row2\" class=\"row_heading level0 row2\" >VehicleType</th>\n",
       "                        <td id=\"T_20afe_row2_col0\" class=\"data row2 col0\" >11.000000</td>\n",
       "            </tr>\n",
       "            <tr>\n",
       "                        <th id=\"T_20afe_level0_row3\" class=\"row_heading level0 row3\" >RegistrationYear</th>\n",
       "                        <td id=\"T_20afe_row3_col0\" class=\"data row3 col0\" >0.000000</td>\n",
       "            </tr>\n",
       "            <tr>\n",
       "                        <th id=\"T_20afe_level0_row4\" class=\"row_heading level0 row4\" >Gearbox</th>\n",
       "                        <td id=\"T_20afe_row4_col0\" class=\"data row4 col0\" >6.000000</td>\n",
       "            </tr>\n",
       "            <tr>\n",
       "                        <th id=\"T_20afe_level0_row5\" class=\"row_heading level0 row5\" >Power</th>\n",
       "                        <td id=\"T_20afe_row5_col0\" class=\"data row5 col0\" >0.000000</td>\n",
       "            </tr>\n",
       "            <tr>\n",
       "                        <th id=\"T_20afe_level0_row6\" class=\"row_heading level0 row6\" >Model</th>\n",
       "                        <td id=\"T_20afe_row6_col0\" class=\"data row6 col0\" >6.000000</td>\n",
       "            </tr>\n",
       "            <tr>\n",
       "                        <th id=\"T_20afe_level0_row7\" class=\"row_heading level0 row7\" >Kilometer</th>\n",
       "                        <td id=\"T_20afe_row7_col0\" class=\"data row7 col0\" >0.000000</td>\n",
       "            </tr>\n",
       "            <tr>\n",
       "                        <th id=\"T_20afe_level0_row8\" class=\"row_heading level0 row8\" >RegistrationMonth</th>\n",
       "                        <td id=\"T_20afe_row8_col0\" class=\"data row8 col0\" >0.000000</td>\n",
       "            </tr>\n",
       "            <tr>\n",
       "                        <th id=\"T_20afe_level0_row9\" class=\"row_heading level0 row9\" >FuelType</th>\n",
       "                        <td id=\"T_20afe_row9_col0\" class=\"data row9 col0\" >9.000000</td>\n",
       "            </tr>\n",
       "            <tr>\n",
       "                        <th id=\"T_20afe_level0_row10\" class=\"row_heading level0 row10\" >Brand</th>\n",
       "                        <td id=\"T_20afe_row10_col0\" class=\"data row10 col0\" >0.000000</td>\n",
       "            </tr>\n",
       "            <tr>\n",
       "                        <th id=\"T_20afe_level0_row11\" class=\"row_heading level0 row11\" >Repaired</th>\n",
       "                        <td id=\"T_20afe_row11_col0\" class=\"data row11 col0\" >20.000000</td>\n",
       "            </tr>\n",
       "            <tr>\n",
       "                        <th id=\"T_20afe_level0_row12\" class=\"row_heading level0 row12\" >DateCreated</th>\n",
       "                        <td id=\"T_20afe_row12_col0\" class=\"data row12 col0\" >0.000000</td>\n",
       "            </tr>\n",
       "            <tr>\n",
       "                        <th id=\"T_20afe_level0_row13\" class=\"row_heading level0 row13\" >NumberOfPictures</th>\n",
       "                        <td id=\"T_20afe_row13_col0\" class=\"data row13 col0\" >0.000000</td>\n",
       "            </tr>\n",
       "            <tr>\n",
       "                        <th id=\"T_20afe_level0_row14\" class=\"row_heading level0 row14\" >PostalCode</th>\n",
       "                        <td id=\"T_20afe_row14_col0\" class=\"data row14 col0\" >0.000000</td>\n",
       "            </tr>\n",
       "            <tr>\n",
       "                        <th id=\"T_20afe_level0_row15\" class=\"row_heading level0 row15\" >LastSeen</th>\n",
       "                        <td id=\"T_20afe_row15_col0\" class=\"data row15 col0\" >0.000000</td>\n",
       "            </tr>\n",
       "    </tbody></table>"
      ],
      "text/plain": [
       "<pandas.io.formats.style.Styler at 0x2284fab9610>"
      ]
     },
     "execution_count": 4,
     "metadata": {},
     "output_type": "execute_result"
    }
   ],
   "source": [
    "print(df.isna().sum())\n",
    "pd.DataFrame(round(df.isna().mean()*100,)).style.background_gradient('coolwarm')"
   ]
  },
  {
   "cell_type": "code",
   "execution_count": 5,
   "metadata": {},
   "outputs": [
    {
     "data": {
      "image/png": "[encoded data removed]",
      "text/plain": [
       "<Figure size 1500x2000 with 9 Axes>"
      ]
     },
     "metadata": {},
     "output_type": "display_data"
    }
   ],
   "source": [
    "df.hist(figsize=(15, 20), bins=20);"
   ]
  },
  {
   "cell_type": "markdown",
   "metadata": {},
   "source": [
    "Из общего анализа данных мы видим, что в данных присутствует очень много пропусков. В некоторых столбцах пропуски достигают 20%. Так же неоходимо некоторые столбцы привести в соответсвующий тип."
   ]
  },
  {
   "cell_type": "markdown",
   "metadata": {},
   "source": [
    "### Обработка данных"
   ]
  },
  {
   "cell_type": "markdown",
   "metadata": {},
   "source": [
    "#### Приводим все название столбцов к нижнему регистру"
   ]
  },
  {
   "cell_type": "code",
   "execution_count": 7,
   "metadata": {},
   "outputs": [
    {
     "name": "stdout",
     "output_type": "stream",
     "text": [
      "<class 'pandas.core.frame.DataFrame'>\n",
      "RangeIndex: 354369 entries, 0 to 354368\n",
      "Data columns (total 16 columns):\n",
      " #   Column              Non-Null Count   Dtype \n",
      "---  ------              --------------   ----- \n",
      " 0   date_crawled        354369 non-null  object\n",
      " 1   price               354369 non-null  int64 \n",
      " 2   vehicle_type        316879 non-null  object\n",
      " 3   registration_year   354369 non-null  int64 \n",
      " 4   gearbox             334536 non-null  object\n",
      " 5   power               354369 non-null  int64 \n",
      " 6   model               334664 non-null  object\n",
      " 7   kilometer           354369 non-null  int64 \n",
      " 8   registration_month  354369 non-null  int64 \n",
      " 9   fuel_type           321474 non-null  object\n",
      " 10  brand               354369 non-null  object\n",
      " 11  repaired            283215 non-null  object\n",
      " 12  date_created        354369 non-null  object\n",
      " 13  number_of_pictures  354369 non-null  int64 \n",
      " 14  postal_code         354369 non-null  int64 \n",
      " 15  last_seen           354369 non-null  object\n",
      "dtypes: int64(7), object(9)\n",
      "memory usage: 43.3+ MB\n"
     ]
    }
   ],
   "source": [
    "df.columns = df.columns.str.lower()\n",
    "df.info()"
   ]
  },
  {
   "cell_type": "markdown",
   "metadata": {},
   "source": [
    "#### Переводим столбцы в формат времени"
   ]
  },
  {
   "cell_type": "code",
   "execution_count": 7,
   "metadata": {},
   "outputs": [],
   "source": [
    "df['datecrawled'] = df['datecrawled'].astype('datetime64[s]')\n",
    "df['lastseen'] = df['lastseen'].astype('datetime64[s]')\n",
    "df['datecreated'] = df['datecreated'].astype('datetime64[D]')"
   ]
  },
  {
   "cell_type": "code",
   "execution_count": 8,
   "metadata": {},
   "outputs": [
    {
     "name": "stdout",
     "output_type": "stream",
     "text": [
      "<class 'pandas.core.frame.DataFrame'>\n",
      "RangeIndex: 354369 entries, 0 to 354368\n",
      "Data columns (total 16 columns):\n",
      " #   Column             Non-Null Count   Dtype         \n",
      "---  ------             --------------   -----         \n",
      " 0   datecrawled        354369 non-null  datetime64[ns]\n",
      " 1   price              354369 non-null  int64         \n",
      " 2   vehicletype        316879 non-null  object        \n",
      " 3   registrationyear   354369 non-null  int64         \n",
      " 4   gearbox            334536 non-null  object        \n",
      " 5   power              354369 non-null  int64         \n",
      " 6   model              334664 non-null  object        \n",
      " 7   kilometer          354369 non-null  int64         \n",
      " 8   registrationmonth  354369 non-null  int64         \n",
      " 9   fueltype           321474 non-null  object        \n",
      " 10  brand              354369 non-null  object        \n",
      " 11  repaired           283215 non-null  object        \n",
      " 12  datecreated        354369 non-null  datetime64[ns]\n",
      " 13  numberofpictures   354369 non-null  int64         \n",
      " 14  postalcode         354369 non-null  int64         \n",
      " 15  lastseen           354369 non-null  datetime64[ns]\n",
      "dtypes: datetime64[ns](3), int64(7), object(6)\n",
      "memory usage: 43.3+ MB\n"
     ]
    }
   ],
   "source": [
    "df.info()"
   ]
  },
  {
   "cell_type": "code",
   "execution_count": 9,
   "metadata": {},
   "outputs": [
    {
     "data": {
      "text/html": [
       "<div>\n",
       "<style scoped>\n",
       "    .dataframe tbody tr th:only-of-type {\n",
       "        vertical-align: middle;\n",
       "    }\n",
       "\n",
       "    .dataframe tbody tr th {\n",
       "        vertical-align: top;\n",
       "    }\n",
       "\n",
       "    .dataframe thead th {\n",
       "        text-align: right;\n",
       "    }\n",
       "</style>\n",
       "<table border=\"1\" class=\"dataframe\">\n",
       "  <thead>\n",
       "    <tr style=\"text-align: right;\">\n",
       "      <th></th>\n",
       "      <th>datecrawled</th>\n",
       "      <th>price</th>\n",
       "      <th>vehicletype</th>\n",
       "      <th>registrationyear</th>\n",
       "      <th>gearbox</th>\n",
       "      <th>power</th>\n",
       "      <th>model</th>\n",
       "      <th>kilometer</th>\n",
       "      <th>registrationmonth</th>\n",
       "      <th>fueltype</th>\n",
       "      <th>brand</th>\n",
       "      <th>repaired</th>\n",
       "      <th>datecreated</th>\n",
       "      <th>numberofpictures</th>\n",
       "      <th>postalcode</th>\n",
       "      <th>lastseen</th>\n",
       "    </tr>\n",
       "  </thead>\n",
       "  <tbody>\n",
       "    <tr>\n",
       "      <th>0</th>\n",
       "      <td>2016-03-24 11:52:17</td>\n",
       "      <td>480</td>\n",
       "      <td>NaN</td>\n",
       "      <td>1993</td>\n",
       "      <td>manual</td>\n",
       "      <td>0</td>\n",
       "      <td>golf</td>\n",
       "      <td>150000</td>\n",
       "      <td>0</td>\n",
       "      <td>petrol</td>\n",
       "      <td>volkswagen</td>\n",
       "      <td>NaN</td>\n",
       "      <td>2016-03-24</td>\n",
       "      <td>0</td>\n",
       "      <td>70435</td>\n",
       "      <td>2016-04-07 03:16:57</td>\n",
       "    </tr>\n",
       "    <tr>\n",
       "      <th>1</th>\n",
       "      <td>2016-03-24 10:58:45</td>\n",
       "      <td>18300</td>\n",
       "      <td>coupe</td>\n",
       "      <td>2011</td>\n",
       "      <td>manual</td>\n",
       "      <td>190</td>\n",
       "      <td>NaN</td>\n",
       "      <td>125000</td>\n",
       "      <td>5</td>\n",
       "      <td>gasoline</td>\n",
       "      <td>audi</td>\n",
       "      <td>yes</td>\n",
       "      <td>2016-03-24</td>\n",
       "      <td>0</td>\n",
       "      <td>66954</td>\n",
       "      <td>2016-04-07 01:46:50</td>\n",
       "    </tr>\n",
       "    <tr>\n",
       "      <th>2</th>\n",
       "      <td>2016-03-14 12:52:21</td>\n",
       "      <td>9800</td>\n",
       "      <td>suv</td>\n",
       "      <td>2004</td>\n",
       "      <td>auto</td>\n",
       "      <td>163</td>\n",
       "      <td>grand</td>\n",
       "      <td>125000</td>\n",
       "      <td>8</td>\n",
       "      <td>gasoline</td>\n",
       "      <td>jeep</td>\n",
       "      <td>NaN</td>\n",
       "      <td>2016-03-14</td>\n",
       "      <td>0</td>\n",
       "      <td>90480</td>\n",
       "      <td>2016-04-05 12:47:46</td>\n",
       "    </tr>\n",
       "    <tr>\n",
       "      <th>3</th>\n",
       "      <td>2016-03-17 16:54:04</td>\n",
       "      <td>1500</td>\n",
       "      <td>small</td>\n",
       "      <td>2001</td>\n",
       "      <td>manual</td>\n",
       "      <td>75</td>\n",
       "      <td>golf</td>\n",
       "      <td>150000</td>\n",
       "      <td>6</td>\n",
       "      <td>petrol</td>\n",
       "      <td>volkswagen</td>\n",
       "      <td>no</td>\n",
       "      <td>2016-03-17</td>\n",
       "      <td>0</td>\n",
       "      <td>91074</td>\n",
       "      <td>2016-03-17 17:40:17</td>\n",
       "    </tr>\n",
       "    <tr>\n",
       "      <th>4</th>\n",
       "      <td>2016-03-31 17:25:20</td>\n",
       "      <td>3600</td>\n",
       "      <td>small</td>\n",
       "      <td>2008</td>\n",
       "      <td>manual</td>\n",
       "      <td>69</td>\n",
       "      <td>fabia</td>\n",
       "      <td>90000</td>\n",
       "      <td>7</td>\n",
       "      <td>gasoline</td>\n",
       "      <td>skoda</td>\n",
       "      <td>no</td>\n",
       "      <td>2016-03-31</td>\n",
       "      <td>0</td>\n",
       "      <td>60437</td>\n",
       "      <td>2016-04-06 10:17:21</td>\n",
       "    </tr>\n",
       "  </tbody>\n",
       "</table>\n",
       "</div>"
      ],
      "text/plain": [
       "          datecrawled  price vehicletype  registrationyear gearbox  power  \\\n",
       "0 2016-03-24 11:52:17    480         NaN              1993  manual      0   \n",
       "1 2016-03-24 10:58:45  18300       coupe              2011  manual    190   \n",
       "2 2016-03-14 12:52:21   9800         suv              2004    auto    163   \n",
       "3 2016-03-17 16:54:04   1500       small              2001  manual     75   \n",
       "4 2016-03-31 17:25:20   3600       small              2008  manual     69   \n",
       "\n",
       "   model  kilometer  registrationmonth  fueltype       brand repaired  \\\n",
       "0   golf     150000                  0    petrol  volkswagen      NaN   \n",
       "1    NaN     125000                  5  gasoline        audi      yes   \n",
       "2  grand     125000                  8  gasoline        jeep      NaN   \n",
       "3   golf     150000                  6    petrol  volkswagen       no   \n",
       "4  fabia      90000                  7  gasoline       skoda       no   \n",
       "\n",
       "  datecreated  numberofpictures  postalcode            lastseen  \n",
       "0  2016-03-24                 0       70435 2016-04-07 03:16:57  \n",
       "1  2016-03-24                 0       66954 2016-04-07 01:46:50  \n",
       "2  2016-03-14                 0       90480 2016-04-05 12:47:46  \n",
       "3  2016-03-17                 0       91074 2016-03-17 17:40:17  \n",
       "4  2016-03-31                 0       60437 2016-04-06 10:17:21  "
      ]
     },
     "execution_count": 9,
     "metadata": {},
     "output_type": "execute_result"
    }
   ],
   "source": [
    "df.head()"
   ]
  },
  {
   "cell_type": "markdown",
   "metadata": {},
   "source": [
    "#### Работаем со столбцом цена"
   ]
  },
  {
   "cell_type": "code",
   "execution_count": 10,
   "metadata": {},
   "outputs": [
    {
     "data": {
      "image/png": "[encoded data removed]",
      "text/plain": [
       "<Figure size 720x360 with 1 Axes>"
      ]
     },
     "metadata": {
      "needs_background": "light"
     },
     "output_type": "display_data"
    }
   ],
   "source": [
    "df['price'].hist(figsize=(10, 5), bins=40);"
   ]
  },
  {
   "cell_type": "code",
   "execution_count": 11,
   "metadata": {},
   "outputs": [
    {
     "data": {
      "image/png": "[encoded data removed]",
      "text/plain": [
       "<Figure size 432x288 with 1 Axes>"
      ]
     },
     "metadata": {
      "needs_background": "light"
     },
     "output_type": "display_data"
    }
   ],
   "source": [
    "df['price'].plot(kind='box', grid=True)\n",
    "plt.title('Цена', fontsize = 15, fontweight='bold')\n",
    "plt.ylim(-100, 21000);"
   ]
  },
  {
   "cell_type": "code",
   "execution_count": 12,
   "metadata": {},
   "outputs": [
    {
     "data": {
      "text/html": [
       "<div>\n",
       "<style scoped>\n",
       "    .dataframe tbody tr th:only-of-type {\n",
       "        vertical-align: middle;\n",
       "    }\n",
       "\n",
       "    .dataframe tbody tr th {\n",
       "        vertical-align: top;\n",
       "    }\n",
       "\n",
       "    .dataframe thead th {\n",
       "        text-align: right;\n",
       "    }\n",
       "</style>\n",
       "<table border=\"1\" class=\"dataframe\">\n",
       "  <thead>\n",
       "    <tr style=\"text-align: right;\">\n",
       "      <th></th>\n",
       "      <th>datecrawled</th>\n",
       "      <th>price</th>\n",
       "      <th>vehicletype</th>\n",
       "      <th>registrationyear</th>\n",
       "      <th>gearbox</th>\n",
       "      <th>power</th>\n",
       "      <th>model</th>\n",
       "      <th>kilometer</th>\n",
       "      <th>registrationmonth</th>\n",
       "      <th>fueltype</th>\n",
       "      <th>brand</th>\n",
       "      <th>repaired</th>\n",
       "      <th>datecreated</th>\n",
       "      <th>numberofpictures</th>\n",
       "      <th>postalcode</th>\n",
       "      <th>lastseen</th>\n",
       "    </tr>\n",
       "  </thead>\n",
       "  <tbody>\n",
       "    <tr>\n",
       "      <th>7</th>\n",
       "      <td>2016-03-21 18:54:38</td>\n",
       "      <td>0</td>\n",
       "      <td>sedan</td>\n",
       "      <td>1980</td>\n",
       "      <td>manual</td>\n",
       "      <td>50</td>\n",
       "      <td>other</td>\n",
       "      <td>40000</td>\n",
       "      <td>7</td>\n",
       "      <td>petrol</td>\n",
       "      <td>volkswagen</td>\n",
       "      <td>no</td>\n",
       "      <td>2016-03-21</td>\n",
       "      <td>0</td>\n",
       "      <td>19348</td>\n",
       "      <td>2016-03-25 16:47:58</td>\n",
       "    </tr>\n",
       "    <tr>\n",
       "      <th>40</th>\n",
       "      <td>2016-03-26 22:06:17</td>\n",
       "      <td>0</td>\n",
       "      <td>NaN</td>\n",
       "      <td>1990</td>\n",
       "      <td>NaN</td>\n",
       "      <td>0</td>\n",
       "      <td>corsa</td>\n",
       "      <td>150000</td>\n",
       "      <td>1</td>\n",
       "      <td>petrol</td>\n",
       "      <td>opel</td>\n",
       "      <td>NaN</td>\n",
       "      <td>2016-03-26</td>\n",
       "      <td>0</td>\n",
       "      <td>56412</td>\n",
       "      <td>2016-03-27 17:43:34</td>\n",
       "    </tr>\n",
       "    <tr>\n",
       "      <th>59</th>\n",
       "      <td>2016-03-29 15:48:15</td>\n",
       "      <td>1</td>\n",
       "      <td>suv</td>\n",
       "      <td>1994</td>\n",
       "      <td>manual</td>\n",
       "      <td>286</td>\n",
       "      <td>NaN</td>\n",
       "      <td>150000</td>\n",
       "      <td>11</td>\n",
       "      <td>NaN</td>\n",
       "      <td>sonstige_autos</td>\n",
       "      <td>NaN</td>\n",
       "      <td>2016-03-29</td>\n",
       "      <td>0</td>\n",
       "      <td>53721</td>\n",
       "      <td>2016-04-06 01:44:38</td>\n",
       "    </tr>\n",
       "    <tr>\n",
       "      <th>89</th>\n",
       "      <td>2016-03-28 09:37:01</td>\n",
       "      <td>1</td>\n",
       "      <td>sedan</td>\n",
       "      <td>1995</td>\n",
       "      <td>manual</td>\n",
       "      <td>113</td>\n",
       "      <td>e_klasse</td>\n",
       "      <td>150000</td>\n",
       "      <td>4</td>\n",
       "      <td>gasoline</td>\n",
       "      <td>mercedes_benz</td>\n",
       "      <td>no</td>\n",
       "      <td>2016-03-28</td>\n",
       "      <td>0</td>\n",
       "      <td>40589</td>\n",
       "      <td>2016-04-06 12:15:54</td>\n",
       "    </tr>\n",
       "    <tr>\n",
       "      <th>111</th>\n",
       "      <td>2016-03-19 18:40:12</td>\n",
       "      <td>0</td>\n",
       "      <td>NaN</td>\n",
       "      <td>2017</td>\n",
       "      <td>manual</td>\n",
       "      <td>0</td>\n",
       "      <td>golf</td>\n",
       "      <td>5000</td>\n",
       "      <td>12</td>\n",
       "      <td>petrol</td>\n",
       "      <td>volkswagen</td>\n",
       "      <td>NaN</td>\n",
       "      <td>2016-03-19</td>\n",
       "      <td>0</td>\n",
       "      <td>21698</td>\n",
       "      <td>2016-04-01 08:47:05</td>\n",
       "    </tr>\n",
       "    <tr>\n",
       "      <th>...</th>\n",
       "      <td>...</td>\n",
       "      <td>...</td>\n",
       "      <td>...</td>\n",
       "      <td>...</td>\n",
       "      <td>...</td>\n",
       "      <td>...</td>\n",
       "      <td>...</td>\n",
       "      <td>...</td>\n",
       "      <td>...</td>\n",
       "      <td>...</td>\n",
       "      <td>...</td>\n",
       "      <td>...</td>\n",
       "      <td>...</td>\n",
       "      <td>...</td>\n",
       "      <td>...</td>\n",
       "      <td>...</td>\n",
       "    </tr>\n",
       "    <tr>\n",
       "      <th>354205</th>\n",
       "      <td>2016-03-09 15:56:30</td>\n",
       "      <td>0</td>\n",
       "      <td>NaN</td>\n",
       "      <td>2000</td>\n",
       "      <td>manual</td>\n",
       "      <td>65</td>\n",
       "      <td>corsa</td>\n",
       "      <td>150000</td>\n",
       "      <td>0</td>\n",
       "      <td>NaN</td>\n",
       "      <td>opel</td>\n",
       "      <td>yes</td>\n",
       "      <td>2016-03-09</td>\n",
       "      <td>0</td>\n",
       "      <td>23758</td>\n",
       "      <td>2016-03-30 11:16:08</td>\n",
       "    </tr>\n",
       "    <tr>\n",
       "      <th>354238</th>\n",
       "      <td>2016-03-20 14:55:07</td>\n",
       "      <td>0</td>\n",
       "      <td>small</td>\n",
       "      <td>2002</td>\n",
       "      <td>manual</td>\n",
       "      <td>60</td>\n",
       "      <td>fiesta</td>\n",
       "      <td>150000</td>\n",
       "      <td>3</td>\n",
       "      <td>petrol</td>\n",
       "      <td>ford</td>\n",
       "      <td>NaN</td>\n",
       "      <td>2016-03-20</td>\n",
       "      <td>0</td>\n",
       "      <td>33659</td>\n",
       "      <td>2016-04-06 18:45:23</td>\n",
       "    </tr>\n",
       "    <tr>\n",
       "      <th>354248</th>\n",
       "      <td>2016-03-24 13:48:05</td>\n",
       "      <td>0</td>\n",
       "      <td>small</td>\n",
       "      <td>1999</td>\n",
       "      <td>manual</td>\n",
       "      <td>53</td>\n",
       "      <td>swift</td>\n",
       "      <td>150000</td>\n",
       "      <td>3</td>\n",
       "      <td>petrol</td>\n",
       "      <td>suzuki</td>\n",
       "      <td>NaN</td>\n",
       "      <td>2016-03-24</td>\n",
       "      <td>0</td>\n",
       "      <td>42329</td>\n",
       "      <td>2016-04-07 05:17:24</td>\n",
       "    </tr>\n",
       "    <tr>\n",
       "      <th>354277</th>\n",
       "      <td>2016-03-10 22:55:50</td>\n",
       "      <td>0</td>\n",
       "      <td>small</td>\n",
       "      <td>1999</td>\n",
       "      <td>manual</td>\n",
       "      <td>37</td>\n",
       "      <td>arosa</td>\n",
       "      <td>150000</td>\n",
       "      <td>7</td>\n",
       "      <td>petrol</td>\n",
       "      <td>seat</td>\n",
       "      <td>yes</td>\n",
       "      <td>2016-03-10</td>\n",
       "      <td>0</td>\n",
       "      <td>22559</td>\n",
       "      <td>2016-03-12 23:46:32</td>\n",
       "    </tr>\n",
       "    <tr>\n",
       "      <th>354364</th>\n",
       "      <td>2016-03-21 09:50:58</td>\n",
       "      <td>0</td>\n",
       "      <td>NaN</td>\n",
       "      <td>2005</td>\n",
       "      <td>manual</td>\n",
       "      <td>0</td>\n",
       "      <td>colt</td>\n",
       "      <td>150000</td>\n",
       "      <td>7</td>\n",
       "      <td>petrol</td>\n",
       "      <td>mitsubishi</td>\n",
       "      <td>yes</td>\n",
       "      <td>2016-03-21</td>\n",
       "      <td>0</td>\n",
       "      <td>2694</td>\n",
       "      <td>2016-03-21 10:42:49</td>\n",
       "    </tr>\n",
       "  </tbody>\n",
       "</table>\n",
       "<p>12423 rows × 16 columns</p>\n",
       "</div>"
      ],
      "text/plain": [
       "               datecrawled  price vehicletype  registrationyear gearbox  \\\n",
       "7      2016-03-21 18:54:38      0       sedan              1980  manual   \n",
       "40     2016-03-26 22:06:17      0         NaN              1990     NaN   \n",
       "59     2016-03-29 15:48:15      1         suv              1994  manual   \n",
       "89     2016-03-28 09:37:01      1       sedan              1995  manual   \n",
       "111    2016-03-19 18:40:12      0         NaN              2017  manual   \n",
       "...                    ...    ...         ...               ...     ...   \n",
       "354205 2016-03-09 15:56:30      0         NaN              2000  manual   \n",
       "354238 2016-03-20 14:55:07      0       small              2002  manual   \n",
       "354248 2016-03-24 13:48:05      0       small              1999  manual   \n",
       "354277 2016-03-10 22:55:50      0       small              1999  manual   \n",
       "354364 2016-03-21 09:50:58      0         NaN              2005  manual   \n",
       "\n",
       "        power     model  kilometer  registrationmonth  fueltype  \\\n",
       "7          50     other      40000                  7    petrol   \n",
       "40          0     corsa     150000                  1    petrol   \n",
       "59        286       NaN     150000                 11       NaN   \n",
       "89        113  e_klasse     150000                  4  gasoline   \n",
       "111         0      golf       5000                 12    petrol   \n",
       "...       ...       ...        ...                ...       ...   \n",
       "354205     65     corsa     150000                  0       NaN   \n",
       "354238     60    fiesta     150000                  3    petrol   \n",
       "354248     53     swift     150000                  3    petrol   \n",
       "354277     37     arosa     150000                  7    petrol   \n",
       "354364      0      colt     150000                  7    petrol   \n",
       "\n",
       "                 brand repaired datecreated  numberofpictures  postalcode  \\\n",
       "7           volkswagen       no  2016-03-21                 0       19348   \n",
       "40                opel      NaN  2016-03-26                 0       56412   \n",
       "59      sonstige_autos      NaN  2016-03-29                 0       53721   \n",
       "89       mercedes_benz       no  2016-03-28                 0       40589   \n",
       "111         volkswagen      NaN  2016-03-19                 0       21698   \n",
       "...                ...      ...         ...               ...         ...   \n",
       "354205            opel      yes  2016-03-09                 0       23758   \n",
       "354238            ford      NaN  2016-03-20                 0       33659   \n",
       "354248          suzuki      NaN  2016-03-24                 0       42329   \n",
       "354277            seat      yes  2016-03-10                 0       22559   \n",
       "354364      mitsubishi      yes  2016-03-21                 0        2694   \n",
       "\n",
       "                  lastseen  \n",
       "7      2016-03-25 16:47:58  \n",
       "40     2016-03-27 17:43:34  \n",
       "59     2016-04-06 01:44:38  \n",
       "89     2016-04-06 12:15:54  \n",
       "111    2016-04-01 08:47:05  \n",
       "...                    ...  \n",
       "354205 2016-03-30 11:16:08  \n",
       "354238 2016-04-06 18:45:23  \n",
       "354248 2016-04-07 05:17:24  \n",
       "354277 2016-03-12 23:46:32  \n",
       "354364 2016-03-21 10:42:49  \n",
       "\n",
       "[12423 rows x 16 columns]"
      ]
     },
     "execution_count": 12,
     "metadata": {},
     "output_type": "execute_result"
    }
   ],
   "source": [
    "df[df['price']>14000]\n",
    "df[df['price']<50]"
   ]
  },
  {
   "cell_type": "code",
   "execution_count": 13,
   "metadata": {},
   "outputs": [],
   "source": [
    "df = df.query('price > 50')"
   ]
  },
  {
   "cell_type": "code",
   "execution_count": 14,
   "metadata": {},
   "outputs": [
    {
     "data": {
      "text/html": [
       "<div>\n",
       "<style scoped>\n",
       "    .dataframe tbody tr th:only-of-type {\n",
       "        vertical-align: middle;\n",
       "    }\n",
       "\n",
       "    .dataframe tbody tr th {\n",
       "        vertical-align: top;\n",
       "    }\n",
       "\n",
       "    .dataframe thead th {\n",
       "        text-align: right;\n",
       "    }\n",
       "</style>\n",
       "<table border=\"1\" class=\"dataframe\">\n",
       "  <thead>\n",
       "    <tr style=\"text-align: right;\">\n",
       "      <th></th>\n",
       "      <th>datecrawled</th>\n",
       "      <th>price</th>\n",
       "      <th>vehicletype</th>\n",
       "      <th>registrationyear</th>\n",
       "      <th>gearbox</th>\n",
       "      <th>power</th>\n",
       "      <th>model</th>\n",
       "      <th>kilometer</th>\n",
       "      <th>registrationmonth</th>\n",
       "      <th>fueltype</th>\n",
       "      <th>brand</th>\n",
       "      <th>repaired</th>\n",
       "      <th>datecreated</th>\n",
       "      <th>numberofpictures</th>\n",
       "      <th>postalcode</th>\n",
       "      <th>lastseen</th>\n",
       "    </tr>\n",
       "  </thead>\n",
       "  <tbody>\n",
       "  </tbody>\n",
       "</table>\n",
       "</div>"
      ],
      "text/plain": [
       "Empty DataFrame\n",
       "Columns: [datecrawled, price, vehicletype, registrationyear, gearbox, power, model, kilometer, registrationmonth, fueltype, brand, repaired, datecreated, numberofpictures, postalcode, lastseen]\n",
       "Index: []"
      ]
     },
     "execution_count": 14,
     "metadata": {},
     "output_type": "execute_result"
    }
   ],
   "source": [
    "df[df['price']<50]"
   ]
  },
  {
   "cell_type": "markdown",
   "metadata": {},
   "source": [
    "В столбце с нашим целевым признаком, пропусков не было. При построении гистограммы мы видим, что много объектов находятся ближе к значению ноль. Объявления в которых цена ниже 50 евро, решено было убрать, так как данные объявления или фейк, или машина в разбитом состоянии. Цены, которые выше 15000 евро решено было оставить, так как это могут быть эксклюзивные машины, значительно отличающиеся стоимостью."
   ]
  },
  {
   "cell_type": "markdown",
   "metadata": {},
   "source": [
    "#### Работаем со столбцом модель"
   ]
  },
  {
   "cell_type": "code",
   "execution_count": 15,
   "metadata": {},
   "outputs": [],
   "source": [
    "df.loc[df['model'].isna(), 'model'] = 'other'"
   ]
  },
  {
   "cell_type": "code",
   "execution_count": 16,
   "metadata": {},
   "outputs": [
    {
     "data": {
      "text/plain": [
       "datecrawled              0\n",
       "price                    0\n",
       "vehicletype          32844\n",
       "registrationyear         0\n",
       "gearbox              16547\n",
       "power                    0\n",
       "model                    0\n",
       "kilometer                0\n",
       "registrationmonth        0\n",
       "fueltype             28578\n",
       "brand                    0\n",
       "repaired             64689\n",
       "datecreated              0\n",
       "numberofpictures         0\n",
       "postalcode               0\n",
       "lastseen                 0\n",
       "dtype: int64"
      ]
     },
     "execution_count": 16,
     "metadata": {},
     "output_type": "execute_result"
    }
   ],
   "source": [
    "df['model'].unique()\n",
    "df.isna().sum()"
   ]
  },
  {
   "cell_type": "markdown",
   "metadata": {},
   "source": [
    "Так как модель сложно с точностью определить, а для модели данные признаки важны, данные пропуски было решено заменить значением другое. Можно было бы заменить аналогичными значениями в других столбцах отталкиваясь от года регистрации и бренда машины, но точность была бы низкая в правильности указания, так как зарегистрировать машину могли в любое время новый хозяин. "
   ]
  },
  {
   "cell_type": "markdown",
   "metadata": {},
   "source": [
    "#### Работаем со столбцом тип кузова"
   ]
  },
  {
   "cell_type": "code",
   "execution_count": 17,
   "metadata": {},
   "outputs": [
    {
     "data": {
      "text/plain": [
       "array([nan, 'coupe', 'suv', 'small', 'sedan', 'convertible', 'bus',\n",
       "       'wagon', 'other'], dtype=object)"
      ]
     },
     "execution_count": 17,
     "metadata": {},
     "output_type": "execute_result"
    }
   ],
   "source": [
    "df['vehicletype'].unique()"
   ]
  },
  {
   "cell_type": "code",
   "execution_count": 18,
   "metadata": {},
   "outputs": [],
   "source": [
    "df.loc[df['vehicletype'].isna(), 'vehicletype'] = 'other'"
   ]
  },
  {
   "cell_type": "code",
   "execution_count": 19,
   "metadata": {},
   "outputs": [
    {
     "data": {
      "text/plain": [
       "0"
      ]
     },
     "execution_count": 19,
     "metadata": {},
     "output_type": "execute_result"
    }
   ],
   "source": [
    "df['vehicletype'].unique()\n",
    "df['vehicletype'].isna().sum()"
   ]
  },
  {
   "cell_type": "markdown",
   "metadata": {},
   "source": [
    "В данном столбце пропуски были заменены на значение другое. Была мысль заменить значение отталкиваясь от модели машины. Но допустим в модели golf присутствуют почти все типы кузова, поэтому от этого способа было решено отказаться."
   ]
  },
  {
   "cell_type": "markdown",
   "metadata": {},
   "source": [
    "#### Работаем со столбцом тип год регистрации"
   ]
  },
  {
   "cell_type": "code",
   "execution_count": 20,
   "metadata": {},
   "outputs": [
    {
     "data": {
      "image/png": "[encoded data removed]",
      "text/plain": [
       "<Figure size 432x288 with 1 Axes>"
      ]
     },
     "metadata": {
      "needs_background": "light"
     },
     "output_type": "display_data"
    }
   ],
   "source": [
    "df['registrationyear'].plot(kind='box', grid=True)\n",
    "plt.title('Год регистрации', fontsize = 15, fontweight='bold')\n",
    "plt.ylim(200, 10000);"
   ]
  },
  {
   "cell_type": "code",
   "execution_count": 21,
   "metadata": {},
   "outputs": [
    {
     "data": {
      "image/png": "[encoded data removed]",
      "text/plain": [
       "<Figure size 432x288 with 1 Axes>"
      ]
     },
     "metadata": {
      "needs_background": "light"
     },
     "output_type": "display_data"
    }
   ],
   "source": [
    "df['registrationyear'].plot(kind='box', grid=True)\n",
    "plt.title('Год регистрации', fontsize = 15, fontweight='bold')\n",
    "plt.ylim(1900, 2200);"
   ]
  },
  {
   "cell_type": "code",
   "execution_count": 22,
   "metadata": {},
   "outputs": [
    {
     "data": {
      "text/plain": [
       "array([1993, 2011, 2004, 2001, 2008, 1995, 2014, 1998, 2005, 1910, 2016,\n",
       "       2007, 2009, 2002, 2018, 1997, 1990, 2017, 1981, 2003, 1994, 1991,\n",
       "       1984, 2006, 1999, 2012, 2010, 2000, 1992, 2013, 1996, 1985, 1989,\n",
       "       2015, 1982, 1976, 1983, 1973, 1969, 1971, 1987, 1986, 1988, 1980,\n",
       "       1970, 1965, 1945, 1925, 1974, 1979, 1955, 1978, 1972, 1968, 1977,\n",
       "       1961, 1966, 1975, 1963, 1964, 1960, 1958, 1967, 1956, 3200, 1000,\n",
       "       1941, 9999, 8888, 1500, 2200, 4100, 1962, 1929, 1957, 1940, 3000,\n",
       "       2066, 1949, 2019, 1937, 1951, 1800, 1959, 1953, 1954, 1234, 8000,\n",
       "       5300, 9000, 2900, 6000, 5900, 5911, 1400, 5000, 1950, 4000, 1948,\n",
       "       1952, 8500, 1932, 1255, 3700, 3800, 4800, 1942, 7000, 1935, 1933,\n",
       "       1936, 1923, 2290, 1930, 1001, 9450, 1944, 2500, 1943, 1938, 1934,\n",
       "       1928, 5555, 5600, 1600, 1111, 2222, 1039, 1300, 2800, 1931, 4500,\n",
       "       1602, 7800, 1947, 1927, 7100, 8200, 1946])"
      ]
     },
     "execution_count": 22,
     "metadata": {},
     "output_type": "execute_result"
    }
   ],
   "source": [
    "df['registrationyear'].unique()"
   ]
  },
  {
   "cell_type": "code",
   "execution_count": 23,
   "metadata": {},
   "outputs": [
    {
     "data": {
      "text/plain": [
       "Timestamp('2016-04-07 14:36:58')"
      ]
     },
     "execution_count": 23,
     "metadata": {},
     "output_type": "execute_result"
    }
   ],
   "source": [
    "df['datecrawled'].max()"
   ]
  },
  {
   "cell_type": "code",
   "execution_count": 24,
   "metadata": {},
   "outputs": [],
   "source": [
    "df = df.query('registrationyear < 2016 & registrationyear > 1966')"
   ]
  },
  {
   "cell_type": "code",
   "execution_count": 25,
   "metadata": {},
   "outputs": [
    {
     "data": {
      "text/plain": [
       "array([1993, 2011, 2004, 2001, 2008, 1995, 2014, 1998, 2005, 2007, 2009,\n",
       "       2002, 1997, 1990, 1981, 2003, 1994, 1991, 1984, 2006, 1999, 2012,\n",
       "       2010, 2000, 1992, 2013, 1996, 1985, 1989, 2015, 1982, 1976, 1983,\n",
       "       1973, 1969, 1971, 1987, 1986, 1988, 1980, 1970, 1974, 1979, 1978,\n",
       "       1972, 1968, 1977, 1975, 1967])"
      ]
     },
     "execution_count": 25,
     "metadata": {},
     "output_type": "execute_result"
    }
   ],
   "source": [
    "df['registrationyear'].unique()"
   ]
  },
  {
   "cell_type": "markdown",
   "metadata": {},
   "source": [
    "В данных в регистрации автомобиля были аномалии. Владельцы видимо указывали просто набор данных в окошке дата. Так же были удаленны значения автомобилей старше 50 лет. Из выгрузки анкет видим, что данные были выгруженны до 2016, соответственно этот год мы ставим максимальным"
   ]
  },
  {
   "cell_type": "markdown",
   "metadata": {},
   "source": [
    "#### Работаем со столбцом тип коробки передач"
   ]
  },
  {
   "cell_type": "code",
   "execution_count": 26,
   "metadata": {},
   "outputs": [
    {
     "data": {
      "text/plain": [
       "array(['manual', 'auto', nan], dtype=object)"
      ]
     },
     "execution_count": 26,
     "metadata": {},
     "output_type": "execute_result"
    }
   ],
   "source": [
    "df['gearbox'].unique()"
   ]
  },
  {
   "cell_type": "code",
   "execution_count": 27,
   "metadata": {},
   "outputs": [],
   "source": [
    "df.dropna(subset=['gearbox'], inplace=True)"
   ]
  },
  {
   "cell_type": "code",
   "execution_count": 28,
   "metadata": {},
   "outputs": [
    {
     "data": {
      "text/plain": [
       "datecrawled              0\n",
       "price                    0\n",
       "vehicletype              0\n",
       "registrationyear         0\n",
       "gearbox                  0\n",
       "power                    0\n",
       "model                    0\n",
       "kilometer                0\n",
       "registrationmonth        0\n",
       "fueltype             14663\n",
       "brand                    0\n",
       "repaired             46640\n",
       "datecreated              0\n",
       "numberofpictures         0\n",
       "postalcode               0\n",
       "lastseen                 0\n",
       "dtype: int64"
      ]
     },
     "execution_count": 28,
     "metadata": {},
     "output_type": "execute_result"
    }
   ],
   "source": [
    "df.isna().sum()"
   ]
  },
  {
   "cell_type": "markdown",
   "metadata": {},
   "source": [
    "Так как выяснить какая коробка была на автомобиле почти, что не реально, мной было решено удалить данные с пропусками, так как общее количество пропусков от общего датасета состовляет 6 процентов."
   ]
  },
  {
   "cell_type": "markdown",
   "metadata": {},
   "source": [
    "#### Работаем со столбцом мощность"
   ]
  },
  {
   "cell_type": "code",
   "execution_count": 29,
   "metadata": {
    "scrolled": false
   },
   "outputs": [
    {
     "data": {
      "image/png": "[encoded data removed]",
      "text/plain": [
       "<Figure size 432x288 with 1 Axes>"
      ]
     },
     "metadata": {
      "needs_background": "light"
     },
     "output_type": "display_data"
    }
   ],
   "source": [
    "df['power'].plot(kind='box', grid=True)\n",
    "plt.title('Мощность', fontsize = 15, fontweight='bold')\n",
    "plt.ylim(-100, 2050);"
   ]
  },
  {
   "cell_type": "code",
   "execution_count": 30,
   "metadata": {},
   "outputs": [],
   "source": [
    "df = df.query('power < 320 & power > 20')"
   ]
  },
  {
   "cell_type": "markdown",
   "metadata": {},
   "source": [
    "Так как машины с объемом мощности свыше 320 почти не встречаются, то мной было решено удалить все машины у которых мощность свыше 320л.с. Так же были удалены машины мощностью менее 20л.с."
   ]
  },
  {
   "cell_type": "markdown",
   "metadata": {},
   "source": [
    "#### Работаем со столбцом тип топлива"
   ]
  },
  {
   "cell_type": "code",
   "execution_count": 31,
   "metadata": {},
   "outputs": [
    {
     "data": {
      "text/plain": [
       "array(['gasoline', 'petrol', nan, 'lpg', 'other', 'hybrid', 'cng',\n",
       "       'electric'], dtype=object)"
      ]
     },
     "execution_count": 31,
     "metadata": {},
     "output_type": "execute_result"
    }
   ],
   "source": [
    "df['fueltype'].unique()"
   ]
  },
  {
   "cell_type": "code",
   "execution_count": 32,
   "metadata": {},
   "outputs": [],
   "source": [
    "df.loc[df['fueltype'].isna(), 'fueltype'] = 'other'"
   ]
  },
  {
   "cell_type": "code",
   "execution_count": 33,
   "metadata": {},
   "outputs": [
    {
     "data": {
      "text/plain": [
       "array(['gasoline', 'petrol', 'other', 'lpg', 'hybrid', 'cng', 'electric'],\n",
       "      dtype=object)"
      ]
     },
     "execution_count": 33,
     "metadata": {},
     "output_type": "execute_result"
    }
   ],
   "source": [
    "df['fueltype'].unique()"
   ]
  },
  {
   "cell_type": "markdown",
   "metadata": {},
   "source": [
    "Чтобы не терять данные, пропуски в тип топлево были заменены на другое."
   ]
  },
  {
   "cell_type": "markdown",
   "metadata": {},
   "source": [
    "#### Работаем со столбцом тип топлива"
   ]
  },
  {
   "cell_type": "code",
   "execution_count": 34,
   "metadata": {},
   "outputs": [
    {
     "data": {
      "text/plain": [
       "array(['yes', nan, 'no'], dtype=object)"
      ]
     },
     "execution_count": 34,
     "metadata": {},
     "output_type": "execute_result"
    }
   ],
   "source": [
    "df['repaired'].unique()"
   ]
  },
  {
   "cell_type": "code",
   "execution_count": 35,
   "metadata": {},
   "outputs": [],
   "source": [
    "df.loc[df['repaired'].isna(), 'repaired'] = 'no'"
   ]
  },
  {
   "cell_type": "code",
   "execution_count": 36,
   "metadata": {},
   "outputs": [
    {
     "data": {
      "text/plain": [
       "array(['yes', 'no'], dtype=object)"
      ]
     },
     "execution_count": 36,
     "metadata": {},
     "output_type": "execute_result"
    }
   ],
   "source": [
    "df['repaired'].unique()"
   ]
  },
  {
   "cell_type": "markdown",
   "metadata": {},
   "source": [
    "В данном столбце данные решено было заменить на значение нет. Так как если человек решил не указывать был ли ремонт, то скорее всего для него этот параметр в заполнении был не важет, так как ремонта не было."
   ]
  },
  {
   "cell_type": "markdown",
   "metadata": {},
   "source": [
    "#### Итоговая обработка данных и подготовки их к обучению модели"
   ]
  },
  {
   "cell_type": "code",
   "execution_count": 37,
   "metadata": {},
   "outputs": [],
   "source": [
    "df.drop(['datecrawled', 'registrationmonth', 'datecreated', 'postalcode', 'lastseen', 'numberofpictures'], axis=1, inplace=True)"
   ]
  },
  {
   "cell_type": "markdown",
   "metadata": {},
   "source": [
    "Из датасета были удалены столбцы, которые незначимы для предсказания модели, такие как дата скачивания анкеты, почтовый индекс пользователя, так же был удален столбец количество фото, так как там было везде значение 0. Данные признаки могли наоборот негативно повлиять на модели, а так же на скорость предсказания и обучения модели."
   ]
  },
  {
   "cell_type": "code",
   "execution_count": 38,
   "metadata": {},
   "outputs": [],
   "source": [
    "df.drop_duplicates(inplace=True)"
   ]
  },
  {
   "cell_type": "markdown",
   "metadata": {},
   "source": [
    "Из получившегося датасета, удаляем все дупликаты, что так же повлияет на скорость работы модели, не теряя качество."
   ]
  },
  {
   "cell_type": "code",
   "execution_count": 39,
   "metadata": {
    "scrolled": false
   },
   "outputs": [
    {
     "name": "stdout",
     "output_type": "stream",
     "text": [
      "price               0\n",
      "vehicletype         0\n",
      "registrationyear    0\n",
      "gearbox             0\n",
      "power               0\n",
      "model               0\n",
      "kilometer           0\n",
      "fueltype            0\n",
      "brand               0\n",
      "repaired            0\n",
      "dtype: int64\n"
     ]
    },
    {
     "data": {
      "text/html": [
       "<div>\n",
       "<style scoped>\n",
       "    .dataframe tbody tr th:only-of-type {\n",
       "        vertical-align: middle;\n",
       "    }\n",
       "\n",
       "    .dataframe tbody tr th {\n",
       "        vertical-align: top;\n",
       "    }\n",
       "\n",
       "    .dataframe thead th {\n",
       "        text-align: right;\n",
       "    }\n",
       "</style>\n",
       "<table border=\"1\" class=\"dataframe\">\n",
       "  <thead>\n",
       "    <tr style=\"text-align: right;\">\n",
       "      <th></th>\n",
       "      <th>price</th>\n",
       "      <th>vehicletype</th>\n",
       "      <th>registrationyear</th>\n",
       "      <th>gearbox</th>\n",
       "      <th>power</th>\n",
       "      <th>model</th>\n",
       "      <th>kilometer</th>\n",
       "      <th>fueltype</th>\n",
       "      <th>brand</th>\n",
       "      <th>repaired</th>\n",
       "    </tr>\n",
       "  </thead>\n",
       "  <tbody>\n",
       "    <tr>\n",
       "      <th>1</th>\n",
       "      <td>18300</td>\n",
       "      <td>coupe</td>\n",
       "      <td>2011</td>\n",
       "      <td>manual</td>\n",
       "      <td>190</td>\n",
       "      <td>other</td>\n",
       "      <td>125000</td>\n",
       "      <td>gasoline</td>\n",
       "      <td>audi</td>\n",
       "      <td>yes</td>\n",
       "    </tr>\n",
       "    <tr>\n",
       "      <th>2</th>\n",
       "      <td>9800</td>\n",
       "      <td>suv</td>\n",
       "      <td>2004</td>\n",
       "      <td>auto</td>\n",
       "      <td>163</td>\n",
       "      <td>grand</td>\n",
       "      <td>125000</td>\n",
       "      <td>gasoline</td>\n",
       "      <td>jeep</td>\n",
       "      <td>no</td>\n",
       "    </tr>\n",
       "    <tr>\n",
       "      <th>3</th>\n",
       "      <td>1500</td>\n",
       "      <td>small</td>\n",
       "      <td>2001</td>\n",
       "      <td>manual</td>\n",
       "      <td>75</td>\n",
       "      <td>golf</td>\n",
       "      <td>150000</td>\n",
       "      <td>petrol</td>\n",
       "      <td>volkswagen</td>\n",
       "      <td>no</td>\n",
       "    </tr>\n",
       "    <tr>\n",
       "      <th>4</th>\n",
       "      <td>3600</td>\n",
       "      <td>small</td>\n",
       "      <td>2008</td>\n",
       "      <td>manual</td>\n",
       "      <td>69</td>\n",
       "      <td>fabia</td>\n",
       "      <td>90000</td>\n",
       "      <td>gasoline</td>\n",
       "      <td>skoda</td>\n",
       "      <td>no</td>\n",
       "    </tr>\n",
       "    <tr>\n",
       "      <th>5</th>\n",
       "      <td>650</td>\n",
       "      <td>sedan</td>\n",
       "      <td>1995</td>\n",
       "      <td>manual</td>\n",
       "      <td>102</td>\n",
       "      <td>3er</td>\n",
       "      <td>150000</td>\n",
       "      <td>petrol</td>\n",
       "      <td>bmw</td>\n",
       "      <td>yes</td>\n",
       "    </tr>\n",
       "    <tr>\n",
       "      <th>...</th>\n",
       "      <td>...</td>\n",
       "      <td>...</td>\n",
       "      <td>...</td>\n",
       "      <td>...</td>\n",
       "      <td>...</td>\n",
       "      <td>...</td>\n",
       "      <td>...</td>\n",
       "      <td>...</td>\n",
       "      <td>...</td>\n",
       "      <td>...</td>\n",
       "    </tr>\n",
       "    <tr>\n",
       "      <th>354357</th>\n",
       "      <td>1690</td>\n",
       "      <td>wagon</td>\n",
       "      <td>2004</td>\n",
       "      <td>manual</td>\n",
       "      <td>55</td>\n",
       "      <td>fabia</td>\n",
       "      <td>150000</td>\n",
       "      <td>petrol</td>\n",
       "      <td>skoda</td>\n",
       "      <td>no</td>\n",
       "    </tr>\n",
       "    <tr>\n",
       "      <th>354362</th>\n",
       "      <td>3200</td>\n",
       "      <td>sedan</td>\n",
       "      <td>2004</td>\n",
       "      <td>manual</td>\n",
       "      <td>225</td>\n",
       "      <td>leon</td>\n",
       "      <td>150000</td>\n",
       "      <td>petrol</td>\n",
       "      <td>seat</td>\n",
       "      <td>yes</td>\n",
       "    </tr>\n",
       "    <tr>\n",
       "      <th>354366</th>\n",
       "      <td>1199</td>\n",
       "      <td>convertible</td>\n",
       "      <td>2000</td>\n",
       "      <td>auto</td>\n",
       "      <td>101</td>\n",
       "      <td>fortwo</td>\n",
       "      <td>125000</td>\n",
       "      <td>petrol</td>\n",
       "      <td>smart</td>\n",
       "      <td>no</td>\n",
       "    </tr>\n",
       "    <tr>\n",
       "      <th>354367</th>\n",
       "      <td>9200</td>\n",
       "      <td>bus</td>\n",
       "      <td>1996</td>\n",
       "      <td>manual</td>\n",
       "      <td>102</td>\n",
       "      <td>transporter</td>\n",
       "      <td>150000</td>\n",
       "      <td>gasoline</td>\n",
       "      <td>volkswagen</td>\n",
       "      <td>no</td>\n",
       "    </tr>\n",
       "    <tr>\n",
       "      <th>354368</th>\n",
       "      <td>3400</td>\n",
       "      <td>wagon</td>\n",
       "      <td>2002</td>\n",
       "      <td>manual</td>\n",
       "      <td>100</td>\n",
       "      <td>golf</td>\n",
       "      <td>150000</td>\n",
       "      <td>gasoline</td>\n",
       "      <td>volkswagen</td>\n",
       "      <td>no</td>\n",
       "    </tr>\n",
       "  </tbody>\n",
       "</table>\n",
       "<p>237465 rows × 10 columns</p>\n",
       "</div>"
      ],
      "text/plain": [
       "        price  vehicletype  registrationyear gearbox  power        model  \\\n",
       "1       18300        coupe              2011  manual    190        other   \n",
       "2        9800          suv              2004    auto    163        grand   \n",
       "3        1500        small              2001  manual     75         golf   \n",
       "4        3600        small              2008  manual     69        fabia   \n",
       "5         650        sedan              1995  manual    102          3er   \n",
       "...       ...          ...               ...     ...    ...          ...   \n",
       "354357   1690        wagon              2004  manual     55        fabia   \n",
       "354362   3200        sedan              2004  manual    225         leon   \n",
       "354366   1199  convertible              2000    auto    101       fortwo   \n",
       "354367   9200          bus              1996  manual    102  transporter   \n",
       "354368   3400        wagon              2002  manual    100         golf   \n",
       "\n",
       "        kilometer  fueltype       brand repaired  \n",
       "1          125000  gasoline        audi      yes  \n",
       "2          125000  gasoline        jeep       no  \n",
       "3          150000    petrol  volkswagen       no  \n",
       "4           90000  gasoline       skoda       no  \n",
       "5          150000    petrol         bmw      yes  \n",
       "...           ...       ...         ...      ...  \n",
       "354357     150000    petrol       skoda       no  \n",
       "354362     150000    petrol        seat      yes  \n",
       "354366     125000    petrol       smart       no  \n",
       "354367     150000  gasoline  volkswagen       no  \n",
       "354368     150000  gasoline  volkswagen       no  \n",
       "\n",
       "[237465 rows x 10 columns]"
      ]
     },
     "execution_count": 39,
     "metadata": {},
     "output_type": "execute_result"
    }
   ],
   "source": [
    "df.head()\n",
    "print(df.isna().sum())\n",
    "df"
   ]
  },
  {
   "cell_type": "markdown",
   "metadata": {},
   "source": [
    "#### Подготовка данных для модели"
   ]
  },
  {
   "cell_type": "code",
   "execution_count": 40,
   "metadata": {},
   "outputs": [],
   "source": [
    "features = df.drop('price', axis=1)\n",
    "target = df['price']"
   ]
  },
  {
   "cell_type": "code",
   "execution_count": 41,
   "metadata": {},
   "outputs": [],
   "source": [
    "train_features, features_40, train_target, target_40 = \\\n",
    "train_test_split(features, target, test_size=0.40, random_state=12345)\n",
    "test_features, valid_features, test_target, valid_target = \\\n",
    "train_test_split(features_40, target_40, test_size=0.50, random_state=12345)"
   ]
  },
  {
   "cell_type": "code",
   "execution_count": 42,
   "metadata": {},
   "outputs": [
    {
     "data": {
      "text/html": [
       "<div>\n",
       "<style scoped>\n",
       "    .dataframe tbody tr th:only-of-type {\n",
       "        vertical-align: middle;\n",
       "    }\n",
       "\n",
       "    .dataframe tbody tr th {\n",
       "        vertical-align: top;\n",
       "    }\n",
       "\n",
       "    .dataframe thead th {\n",
       "        text-align: right;\n",
       "    }\n",
       "</style>\n",
       "<table border=\"1\" class=\"dataframe\">\n",
       "  <thead>\n",
       "    <tr style=\"text-align: right;\">\n",
       "      <th></th>\n",
       "      <th>vehicletype</th>\n",
       "      <th>registrationyear</th>\n",
       "      <th>gearbox</th>\n",
       "      <th>power</th>\n",
       "      <th>model</th>\n",
       "      <th>kilometer</th>\n",
       "      <th>fueltype</th>\n",
       "      <th>brand</th>\n",
       "      <th>repaired</th>\n",
       "    </tr>\n",
       "  </thead>\n",
       "  <tbody>\n",
       "    <tr>\n",
       "      <th>183875</th>\n",
       "      <td>small</td>\n",
       "      <td>2002</td>\n",
       "      <td>manual</td>\n",
       "      <td>60</td>\n",
       "      <td>punto</td>\n",
       "      <td>125000</td>\n",
       "      <td>petrol</td>\n",
       "      <td>fiat</td>\n",
       "      <td>no</td>\n",
       "    </tr>\n",
       "    <tr>\n",
       "      <th>125980</th>\n",
       "      <td>small</td>\n",
       "      <td>2007</td>\n",
       "      <td>manual</td>\n",
       "      <td>64</td>\n",
       "      <td>polo</td>\n",
       "      <td>80000</td>\n",
       "      <td>petrol</td>\n",
       "      <td>volkswagen</td>\n",
       "      <td>no</td>\n",
       "    </tr>\n",
       "    <tr>\n",
       "      <th>280773</th>\n",
       "      <td>small</td>\n",
       "      <td>2000</td>\n",
       "      <td>manual</td>\n",
       "      <td>54</td>\n",
       "      <td>corsa</td>\n",
       "      <td>20000</td>\n",
       "      <td>petrol</td>\n",
       "      <td>opel</td>\n",
       "      <td>no</td>\n",
       "    </tr>\n",
       "    <tr>\n",
       "      <th>256654</th>\n",
       "      <td>wagon</td>\n",
       "      <td>2006</td>\n",
       "      <td>manual</td>\n",
       "      <td>192</td>\n",
       "      <td>5er</td>\n",
       "      <td>150000</td>\n",
       "      <td>petrol</td>\n",
       "      <td>bmw</td>\n",
       "      <td>no</td>\n",
       "    </tr>\n",
       "    <tr>\n",
       "      <th>247864</th>\n",
       "      <td>wagon</td>\n",
       "      <td>2001</td>\n",
       "      <td>auto</td>\n",
       "      <td>136</td>\n",
       "      <td>galaxy</td>\n",
       "      <td>150000</td>\n",
       "      <td>gasoline</td>\n",
       "      <td>ford</td>\n",
       "      <td>yes</td>\n",
       "    </tr>\n",
       "    <tr>\n",
       "      <th>...</th>\n",
       "      <td>...</td>\n",
       "      <td>...</td>\n",
       "      <td>...</td>\n",
       "      <td>...</td>\n",
       "      <td>...</td>\n",
       "      <td>...</td>\n",
       "      <td>...</td>\n",
       "      <td>...</td>\n",
       "      <td>...</td>\n",
       "    </tr>\n",
       "    <tr>\n",
       "      <th>115273</th>\n",
       "      <td>bus</td>\n",
       "      <td>2006</td>\n",
       "      <td>manual</td>\n",
       "      <td>115</td>\n",
       "      <td>sharan</td>\n",
       "      <td>150000</td>\n",
       "      <td>gasoline</td>\n",
       "      <td>volkswagen</td>\n",
       "      <td>no</td>\n",
       "    </tr>\n",
       "    <tr>\n",
       "      <th>185706</th>\n",
       "      <td>convertible</td>\n",
       "      <td>2006</td>\n",
       "      <td>manual</td>\n",
       "      <td>136</td>\n",
       "      <td>2_reihe</td>\n",
       "      <td>100000</td>\n",
       "      <td>petrol</td>\n",
       "      <td>peugeot</td>\n",
       "      <td>no</td>\n",
       "    </tr>\n",
       "    <tr>\n",
       "      <th>181257</th>\n",
       "      <td>small</td>\n",
       "      <td>1985</td>\n",
       "      <td>auto</td>\n",
       "      <td>75</td>\n",
       "      <td>golf</td>\n",
       "      <td>150000</td>\n",
       "      <td>petrol</td>\n",
       "      <td>volkswagen</td>\n",
       "      <td>yes</td>\n",
       "    </tr>\n",
       "    <tr>\n",
       "      <th>103532</th>\n",
       "      <td>sedan</td>\n",
       "      <td>2007</td>\n",
       "      <td>manual</td>\n",
       "      <td>116</td>\n",
       "      <td>a_klasse</td>\n",
       "      <td>80000</td>\n",
       "      <td>petrol</td>\n",
       "      <td>mercedes_benz</td>\n",
       "      <td>no</td>\n",
       "    </tr>\n",
       "    <tr>\n",
       "      <th>320557</th>\n",
       "      <td>wagon</td>\n",
       "      <td>2007</td>\n",
       "      <td>manual</td>\n",
       "      <td>245</td>\n",
       "      <td>a6</td>\n",
       "      <td>150000</td>\n",
       "      <td>petrol</td>\n",
       "      <td>audi</td>\n",
       "      <td>no</td>\n",
       "    </tr>\n",
       "  </tbody>\n",
       "</table>\n",
       "<p>142479 rows × 9 columns</p>\n",
       "</div>"
      ],
      "text/plain": [
       "        vehicletype  registrationyear gearbox  power     model  kilometer  \\\n",
       "183875        small              2002  manual     60     punto     125000   \n",
       "125980        small              2007  manual     64      polo      80000   \n",
       "280773        small              2000  manual     54     corsa      20000   \n",
       "256654        wagon              2006  manual    192       5er     150000   \n",
       "247864        wagon              2001    auto    136    galaxy     150000   \n",
       "...             ...               ...     ...    ...       ...        ...   \n",
       "115273          bus              2006  manual    115    sharan     150000   \n",
       "185706  convertible              2006  manual    136   2_reihe     100000   \n",
       "181257        small              1985    auto     75      golf     150000   \n",
       "103532        sedan              2007  manual    116  a_klasse      80000   \n",
       "320557        wagon              2007  manual    245        a6     150000   \n",
       "\n",
       "        fueltype          brand repaired  \n",
       "183875    petrol           fiat       no  \n",
       "125980    petrol     volkswagen       no  \n",
       "280773    petrol           opel       no  \n",
       "256654    petrol            bmw       no  \n",
       "247864  gasoline           ford      yes  \n",
       "...          ...            ...      ...  \n",
       "115273  gasoline     volkswagen       no  \n",
       "185706    petrol        peugeot       no  \n",
       "181257    petrol     volkswagen      yes  \n",
       "103532    petrol  mercedes_benz       no  \n",
       "320557    petrol           audi       no  \n",
       "\n",
       "[142479 rows x 9 columns]"
      ]
     },
     "execution_count": 42,
     "metadata": {},
     "output_type": "execute_result"
    }
   ],
   "source": [
    "train_features"
   ]
  },
  {
   "cell_type": "code",
   "execution_count": 43,
   "metadata": {},
   "outputs": [],
   "source": [
    "train_features = train_features.reset_index(drop=True)\n",
    "valid_features = valid_features.reset_index(drop=True)\n",
    "test_features = test_features.reset_index(drop=True)"
   ]
  },
  {
   "cell_type": "code",
   "execution_count": 44,
   "metadata": {},
   "outputs": [
    {
     "name": "stdout",
     "output_type": "stream",
     "text": [
      "Размер тренировочной выборки: (142479, 9) (142479,)\n",
      "Размер проверочной выборки: (47493, 9) (47493,)\n",
      "Размер тестовой выборки: (47493, 9) (47493,)\n"
     ]
    }
   ],
   "source": [
    "print('Размер тренировочной выборки:', train_features.shape, train_target.shape)\n",
    "print('Размер проверочной выборки:', valid_features.shape, valid_target.shape)\n",
    "print('Размер тестовой выборки:', test_features.shape, test_target.shape)"
   ]
  },
  {
   "cell_type": "markdown",
   "metadata": {},
   "source": [
    "Делим данные на целевой признак и признаки. Так же делим данные на 3 части, на той которую будем модель обучать 60%, на проверочную 20% и тестовую 20%."
   ]
  },
  {
   "cell_type": "code",
   "execution_count": 45,
   "metadata": {},
   "outputs": [],
   "source": [
    "cat_col = ['vehicletype', 'gearbox', 'model', 'fueltype', 'brand', 'repaired']"
   ]
  },
  {
   "cell_type": "code",
   "execution_count": 46,
   "metadata": {},
   "outputs": [],
   "source": [
    "encoder = OrdinalEncoder()\n",
    "encoder.fit(train_features[cat_col])\n",
    "features_ordinal_train = train_features\n",
    "features_ordinal_train[cat_col] = pd.DataFrame(encoder.transform(train_features[cat_col]), columns=train_features[cat_col].columns)"
   ]
  },
  {
   "cell_type": "code",
   "execution_count": 47,
   "metadata": {},
   "outputs": [],
   "source": [
    "encoder.fit(valid_features[cat_col])\n",
    "features_ordinal_valid = valid_features\n",
    "features_ordinal_valid[cat_col] = pd.DataFrame(encoder.transform(valid_features[cat_col]), columns=valid_features[cat_col].columns)"
   ]
  },
  {
   "cell_type": "code",
   "execution_count": 48,
   "metadata": {},
   "outputs": [],
   "source": [
    "encoder.fit(test_features[cat_col])\n",
    "features_ordinal_test = test_features\n",
    "features_ordinal_test[cat_col] = pd.DataFrame(encoder.transform(test_features[cat_col]), columns=test_features[cat_col].columns)"
   ]
  },
  {
   "cell_type": "markdown",
   "metadata": {},
   "source": [
    "Переводим категориальные признаки в количественные, для обучения модели."
   ]
  },
  {
   "cell_type": "code",
   "execution_count": 49,
   "metadata": {},
   "outputs": [
    {
     "data": {
      "text/html": [
       "<div>\n",
       "<style scoped>\n",
       "    .dataframe tbody tr th:only-of-type {\n",
       "        vertical-align: middle;\n",
       "    }\n",
       "\n",
       "    .dataframe tbody tr th {\n",
       "        vertical-align: top;\n",
       "    }\n",
       "\n",
       "    .dataframe thead th {\n",
       "        text-align: right;\n",
       "    }\n",
       "</style>\n",
       "<table border=\"1\" class=\"dataframe\">\n",
       "  <thead>\n",
       "    <tr style=\"text-align: right;\">\n",
       "      <th></th>\n",
       "      <th>vehicletype</th>\n",
       "      <th>registrationyear</th>\n",
       "      <th>gearbox</th>\n",
       "      <th>power</th>\n",
       "      <th>model</th>\n",
       "      <th>kilometer</th>\n",
       "      <th>fueltype</th>\n",
       "      <th>brand</th>\n",
       "      <th>repaired</th>\n",
       "    </tr>\n",
       "  </thead>\n",
       "  <tbody>\n",
       "    <tr>\n",
       "      <th>vehicletype</th>\n",
       "      <td>1.000000</td>\n",
       "      <td>0.051833</td>\n",
       "      <td>-0.041063</td>\n",
       "      <td>-0.018617</td>\n",
       "      <td>-0.146043</td>\n",
       "      <td>0.043837</td>\n",
       "      <td>-0.046188</td>\n",
       "      <td>-0.052071</td>\n",
       "      <td>0.027756</td>\n",
       "    </tr>\n",
       "    <tr>\n",
       "      <th>registrationyear</th>\n",
       "      <td>0.051833</td>\n",
       "      <td>1.000000</td>\n",
       "      <td>-0.038452</td>\n",
       "      <td>0.152847</td>\n",
       "      <td>-0.029176</td>\n",
       "      <td>-0.337062</td>\n",
       "      <td>-0.275805</td>\n",
       "      <td>-0.028093</td>\n",
       "      <td>-0.114046</td>\n",
       "    </tr>\n",
       "    <tr>\n",
       "      <th>gearbox</th>\n",
       "      <td>-0.041063</td>\n",
       "      <td>-0.038452</td>\n",
       "      <td>1.000000</td>\n",
       "      <td>-0.412549</td>\n",
       "      <td>0.041354</td>\n",
       "      <td>-0.040241</td>\n",
       "      <td>0.133699</td>\n",
       "      <td>0.093945</td>\n",
       "      <td>0.023619</td>\n",
       "    </tr>\n",
       "    <tr>\n",
       "      <th>power</th>\n",
       "      <td>-0.018617</td>\n",
       "      <td>0.152847</td>\n",
       "      <td>-0.412549</td>\n",
       "      <td>1.000000</td>\n",
       "      <td>-0.129136</td>\n",
       "      <td>0.131102</td>\n",
       "      <td>-0.202756</td>\n",
       "      <td>-0.315126</td>\n",
       "      <td>-0.056029</td>\n",
       "    </tr>\n",
       "    <tr>\n",
       "      <th>model</th>\n",
       "      <td>-0.146043</td>\n",
       "      <td>-0.029176</td>\n",
       "      <td>0.041354</td>\n",
       "      <td>-0.129136</td>\n",
       "      <td>1.000000</td>\n",
       "      <td>-0.031844</td>\n",
       "      <td>-0.026376</td>\n",
       "      <td>0.450922</td>\n",
       "      <td>0.009569</td>\n",
       "    </tr>\n",
       "    <tr>\n",
       "      <th>kilometer</th>\n",
       "      <td>0.043837</td>\n",
       "      <td>-0.337062</td>\n",
       "      <td>-0.040241</td>\n",
       "      <td>0.131102</td>\n",
       "      <td>-0.031844</td>\n",
       "      <td>1.000000</td>\n",
       "      <td>-0.171086</td>\n",
       "      <td>-0.058741</td>\n",
       "      <td>0.087851</td>\n",
       "    </tr>\n",
       "    <tr>\n",
       "      <th>fueltype</th>\n",
       "      <td>-0.046188</td>\n",
       "      <td>-0.275805</td>\n",
       "      <td>0.133699</td>\n",
       "      <td>-0.202756</td>\n",
       "      <td>-0.026376</td>\n",
       "      <td>-0.171086</td>\n",
       "      <td>1.000000</td>\n",
       "      <td>0.027570</td>\n",
       "      <td>0.030638</td>\n",
       "    </tr>\n",
       "    <tr>\n",
       "      <th>brand</th>\n",
       "      <td>-0.052071</td>\n",
       "      <td>-0.028093</td>\n",
       "      <td>0.093945</td>\n",
       "      <td>-0.315126</td>\n",
       "      <td>0.450922</td>\n",
       "      <td>-0.058741</td>\n",
       "      <td>0.027570</td>\n",
       "      <td>1.000000</td>\n",
       "      <td>-0.002957</td>\n",
       "    </tr>\n",
       "    <tr>\n",
       "      <th>repaired</th>\n",
       "      <td>0.027756</td>\n",
       "      <td>-0.114046</td>\n",
       "      <td>0.023619</td>\n",
       "      <td>-0.056029</td>\n",
       "      <td>0.009569</td>\n",
       "      <td>0.087851</td>\n",
       "      <td>0.030638</td>\n",
       "      <td>-0.002957</td>\n",
       "      <td>1.000000</td>\n",
       "    </tr>\n",
       "  </tbody>\n",
       "</table>\n",
       "</div>"
      ],
      "text/plain": [
       "                  vehicletype  registrationyear   gearbox     power     model  \\\n",
       "vehicletype          1.000000          0.051833 -0.041063 -0.018617 -0.146043   \n",
       "registrationyear     0.051833          1.000000 -0.038452  0.152847 -0.029176   \n",
       "gearbox             -0.041063         -0.038452  1.000000 -0.412549  0.041354   \n",
       "power               -0.018617          0.152847 -0.412549  1.000000 -0.129136   \n",
       "model               -0.146043         -0.029176  0.041354 -0.129136  1.000000   \n",
       "kilometer            0.043837         -0.337062 -0.040241  0.131102 -0.031844   \n",
       "fueltype            -0.046188         -0.275805  0.133699 -0.202756 -0.026376   \n",
       "brand               -0.052071         -0.028093  0.093945 -0.315126  0.450922   \n",
       "repaired             0.027756         -0.114046  0.023619 -0.056029  0.009569   \n",
       "\n",
       "                  kilometer  fueltype     brand  repaired  \n",
       "vehicletype        0.043837 -0.046188 -0.052071  0.027756  \n",
       "registrationyear  -0.337062 -0.275805 -0.028093 -0.114046  \n",
       "gearbox           -0.040241  0.133699  0.093945  0.023619  \n",
       "power              0.131102 -0.202756 -0.315126 -0.056029  \n",
       "model             -0.031844 -0.026376  0.450922  0.009569  \n",
       "kilometer          1.000000 -0.171086 -0.058741  0.087851  \n",
       "fueltype          -0.171086  1.000000  0.027570  0.030638  \n",
       "brand             -0.058741  0.027570  1.000000 -0.002957  \n",
       "repaired           0.087851  0.030638 -0.002957  1.000000  "
      ]
     },
     "execution_count": 49,
     "metadata": {},
     "output_type": "execute_result"
    }
   ],
   "source": [
    "corr = features_ordinal_train.corr()\n",
    "corr"
   ]
  },
  {
   "cell_type": "code",
   "execution_count": 50,
   "metadata": {
    "scrolled": false
   },
   "outputs": [
    {
     "data": {
      "image/png": "[encoded data removed]",
      "text/plain": [
       "<Figure size 432x288 with 2 Axes>"
      ]
     },
     "metadata": {
      "needs_background": "light"
     },
     "output_type": "display_data"
    }
   ],
   "source": [
    "sns.heatmap(corr, \n",
    "        xticklabels=corr.columns,\n",
    "        yticklabels=corr.columns);"
   ]
  },
  {
   "cell_type": "markdown",
   "metadata": {},
   "source": [
    "Видим что наиболее коррелируют между собой бранд и модель, что и понятно, так как у определенного бренда идут свои модели. Отрицательная корреляция наблюдается от мощности и типа коробки. Из данных мы не наблюдаем сильной корреляции признаков, а только умеренную."
   ]
  },
  {
   "cell_type": "markdown",
   "metadata": {},
   "source": [
    "**Вывод**\n",
    "\n",
    "На данном этапе мы максимально очистили данные от выбросов, таких как цена слишком маленькая и слишком большая, мощности машины. Так же на данном этапе мы максимально постарались заполнить пропуски. А там где не возможно было заполнить пропуски, удалили. Были разделены выборки на три части, обучающую, проверочную и тестовую."
   ]
  },
  {
   "cell_type": "markdown",
   "metadata": {},
   "source": [
    "## Обучение моделей"
   ]
  },
  {
   "cell_type": "markdown",
   "metadata": {},
   "source": [
    "### Пишем функцию для подсчета RMSE"
   ]
  },
  {
   "cell_type": "code",
   "execution_count": 51,
   "metadata": {},
   "outputs": [],
   "source": [
    "def rmse(target, predict):\n",
    "    rmse = ((mean_squared_error(target, predict))**0.5).round(2)\n",
    "    return rmse\n",
    "\n",
    "rmse_scorer = make_scorer(\n",
    "    rmse,\n",
    "    greater_is_better=False\n",
    ")"
   ]
  },
  {
   "cell_type": "markdown",
   "metadata": {},
   "source": [
    "### Обучение модели линейной регрессии"
   ]
  },
  {
   "cell_type": "code",
   "execution_count": 52,
   "metadata": {},
   "outputs": [
    {
     "name": "stdout",
     "output_type": "stream",
     "text": [
      "CPU times: user 38.3 ms, sys: 3.75 ms, total: 42 ms\n",
      "Wall time: 45.7 ms\n"
     ]
    }
   ],
   "source": [
    "%%time\n",
    "start = time.time()\n",
    "model_lr=LinearRegression()\n",
    "model_lr.fit(features_ordinal_train, train_target)\n",
    "end = time.time()\n",
    "t_lr=round(end-start,2)"
   ]
  },
  {
   "cell_type": "code",
   "execution_count": 53,
   "metadata": {},
   "outputs": [
    {
     "name": "stdout",
     "output_type": "stream",
     "text": [
      "CPU times: user 22.8 ms, sys: 36.2 ms, total: 59 ms\n",
      "Wall time: 25.8 ms\n"
     ]
    }
   ],
   "source": [
    "%%time\n",
    "start = time.time()\n",
    "predict_lr=model_lr.predict(features_ordinal_valid)\n",
    "end = time.time()\n",
    "t_lr_p=round(end-start,2)"
   ]
  },
  {
   "cell_type": "code",
   "execution_count": 54,
   "metadata": {},
   "outputs": [
    {
     "name": "stdout",
     "output_type": "stream",
     "text": [
      "RMSE модели Линейная Регрессия равна: 2889.51\n"
     ]
    }
   ],
   "source": [
    "rmse_lr=(mean_squared_error(valid_target, predict_lr))**0.5\n",
    "print('RMSE модели Линейная Регрессия равна:', rmse_lr.round(2))"
   ]
  },
  {
   "cell_type": "markdown",
   "metadata": {},
   "source": [
    "### Обучаем и ищем лучшие параметры для модели леса"
   ]
  },
  {
   "cell_type": "code",
   "execution_count": 55,
   "metadata": {},
   "outputs": [],
   "source": [
    "rfr = RandomForestRegressor()"
   ]
  },
  {
   "cell_type": "code",
   "execution_count": 56,
   "metadata": {},
   "outputs": [],
   "source": [
    "parametrs = {'n_estimators': range (10, 150, 10),\n",
    "            'max_depth': range (1, 10, 2)}"
   ]
  },
  {
   "cell_type": "code",
   "execution_count": 57,
   "metadata": {},
   "outputs": [
    {
     "data": {
      "text/plain": [
       "GridSearchCV(cv=2, estimator=RandomForestRegressor(),\n",
       "             param_grid={'max_depth': range(1, 10, 2),\n",
       "                         'n_estimators': range(10, 150, 10)},\n",
       "             scoring=make_scorer(rmse, greater_is_better=False))"
      ]
     },
     "execution_count": 57,
     "metadata": {},
     "output_type": "execute_result"
    }
   ],
   "source": [
    "grid_rfr = GridSearchCV(rfr, param_grid = parametrs, scoring = rmse_scorer, cv=2)\n",
    "grid_rfr.fit(features_ordinal_train, train_target)"
   ]
  },
  {
   "cell_type": "code",
   "execution_count": 58,
   "metadata": {},
   "outputs": [
    {
     "data": {
      "text/plain": [
       "{'max_depth': 9, 'n_estimators': 120}"
      ]
     },
     "execution_count": 58,
     "metadata": {},
     "output_type": "execute_result"
    }
   ],
   "source": [
    "grid_rfr.best_params_"
   ]
  },
  {
   "cell_type": "code",
   "execution_count": 59,
   "metadata": {},
   "outputs": [
    {
     "data": {
      "text/plain": [
       "-1913.27"
      ]
     },
     "execution_count": 59,
     "metadata": {},
     "output_type": "execute_result"
    }
   ],
   "source": [
    "grid_rfr.best_score_"
   ]
  },
  {
   "cell_type": "markdown",
   "metadata": {},
   "source": [
    "### Обучаем и ищем лучшие параметры для модели кота"
   ]
  },
  {
   "cell_type": "code",
   "execution_count": 60,
   "metadata": {},
   "outputs": [],
   "source": [
    "cb = CatBoostRegressor()"
   ]
  },
  {
   "cell_type": "code",
   "execution_count": 61,
   "metadata": {},
   "outputs": [],
   "source": [
    "parametrs_cb = {'max_depth': range (1, 13, 2),\n",
    "            'iterations' : [50, 100, 150, 250, 300]}"
   ]
  },
  {
   "cell_type": "code",
   "execution_count": 62,
   "metadata": {},
   "outputs": [
    {
     "name": "stdout",
     "output_type": "stream",
     "text": [
      "Learning rate set to 0.5\n",
      "0:\tlearn: 3850.8487994\ttotal: 66.1ms\tremaining: 3.24s\n",
      "49:\tlearn: 2312.0259718\ttotal: 354ms\tremaining: 0us\n",
      "Learning rate set to 0.5\n",
      "0:\tlearn: 3874.0829655\ttotal: 7.41ms\tremaining: 363ms\n",
      "49:\tlearn: 2335.1537369\ttotal: 304ms\tremaining: 0us\n",
      "Learning rate set to 0.5\n",
      "0:\tlearn: 3436.2922998\ttotal: 8.66ms\tremaining: 424ms\n",
      "49:\tlearn: 1816.6242319\ttotal: 423ms\tremaining: 0us\n",
      "Learning rate set to 0.5\n",
      "0:\tlearn: 3456.3001173\ttotal: 7.25ms\tremaining: 355ms\n",
      "49:\tlearn: 1838.6815167\ttotal: 404ms\tremaining: 0us\n",
      "Learning rate set to 0.5\n",
      "0:\tlearn: 3317.5936160\ttotal: 10ms\tremaining: 490ms\n",
      "49:\tlearn: 1686.0206974\ttotal: 497ms\tremaining: 0us\n",
      "Learning rate set to 0.5\n",
      "0:\tlearn: 3327.6009717\ttotal: 8.57ms\tremaining: 420ms\n",
      "49:\tlearn: 1713.2432868\ttotal: 494ms\tremaining: 0us\n",
      "Learning rate set to 0.5\n",
      "0:\tlearn: 3210.7393876\ttotal: 17.4ms\tremaining: 853ms\n",
      "49:\tlearn: 1598.6010216\ttotal: 730ms\tremaining: 0us\n",
      "Learning rate set to 0.5\n",
      "0:\tlearn: 3226.3992144\ttotal: 14.2ms\tremaining: 697ms\n",
      "49:\tlearn: 1620.5564568\ttotal: 624ms\tremaining: 0us\n",
      "Learning rate set to 0.5\n",
      "0:\tlearn: 3141.5967067\ttotal: 24.1ms\tremaining: 1.18s\n",
      "49:\tlearn: 1513.8952924\ttotal: 1.1s\tremaining: 0us\n",
      "Learning rate set to 0.5\n",
      "0:\tlearn: 3166.9966837\ttotal: 19.7ms\tremaining: 963ms\n",
      "49:\tlearn: 1538.4716856\ttotal: 853ms\tremaining: 0us\n",
      "Learning rate set to 0.5\n",
      "0:\tlearn: 3074.9841144\ttotal: 40.2ms\tremaining: 1.97s\n",
      "49:\tlearn: 1424.6678881\ttotal: 1.87s\tremaining: 0us\n",
      "Learning rate set to 0.5\n",
      "0:\tlearn: 3105.7069080\ttotal: 51.7ms\tremaining: 2.53s\n",
      "49:\tlearn: 1444.7575787\ttotal: 1.98s\tremaining: 0us\n",
      "Learning rate set to 0.5\n",
      "0:\tlearn: 3850.8487994\ttotal: 5.76ms\tremaining: 571ms\n",
      "50:\tlearn: 2309.4377460\ttotal: 315ms\tremaining: 303ms\n",
      "99:\tlearn: 2230.7692197\ttotal: 608ms\tremaining: 0us\n",
      "Learning rate set to 0.5\n",
      "0:\tlearn: 3874.0829655\ttotal: 5.77ms\tremaining: 571ms\n",
      "50:\tlearn: 2332.5550862\ttotal: 327ms\tremaining: 314ms\n",
      "99:\tlearn: 2256.2274035\ttotal: 641ms\tremaining: 0us\n",
      "Learning rate set to 0.5\n",
      "0:\tlearn: 3436.2922998\ttotal: 8.18ms\tremaining: 809ms\n",
      "50:\tlearn: 1813.1575209\ttotal: 429ms\tremaining: 412ms\n",
      "99:\tlearn: 1726.3844309\ttotal: 826ms\tremaining: 0us\n",
      "Learning rate set to 0.5\n",
      "0:\tlearn: 3456.3001173\ttotal: 7.81ms\tremaining: 773ms\n",
      "50:\tlearn: 1837.2131171\ttotal: 422ms\tremaining: 405ms\n",
      "99:\tlearn: 1743.7496281\ttotal: 823ms\tremaining: 0us\n",
      "Learning rate set to 0.5\n",
      "0:\tlearn: 3317.5936160\ttotal: 14ms\tremaining: 1.39s\n",
      "50:\tlearn: 1683.6825372\ttotal: 494ms\tremaining: 474ms\n",
      "99:\tlearn: 1596.5349387\ttotal: 1.01s\tremaining: 0us\n",
      "Learning rate set to 0.5\n",
      "0:\tlearn: 3327.6009717\ttotal: 9.35ms\tremaining: 926ms\n",
      "50:\tlearn: 1710.7287216\ttotal: 472ms\tremaining: 453ms\n",
      "99:\tlearn: 1623.4075792\ttotal: 976ms\tremaining: 0us\n",
      "Learning rate set to 0.5\n",
      "0:\tlearn: 3210.7393876\ttotal: 11.3ms\tremaining: 1.12s\n",
      "50:\tlearn: 1595.5500686\ttotal: 578ms\tremaining: 555ms\n",
      "99:\tlearn: 1501.8262669\ttotal: 1.13s\tremaining: 0us\n",
      "Learning rate set to 0.5\n",
      "0:\tlearn: 3226.3992144\ttotal: 13.6ms\tremaining: 1.35s\n",
      "50:\tlearn: 1617.7226411\ttotal: 664ms\tremaining: 638ms\n",
      "99:\tlearn: 1516.5321326\ttotal: 1.32s\tremaining: 0us\n",
      "Learning rate set to 0.5\n",
      "0:\tlearn: 3141.5967067\ttotal: 24.3ms\tremaining: 2.41s\n",
      "50:\tlearn: 1512.3457673\ttotal: 921ms\tremaining: 885ms\n",
      "99:\tlearn: 1400.2278321\ttotal: 1.76s\tremaining: 0us\n",
      "Learning rate set to 0.5\n",
      "0:\tlearn: 3166.9966837\ttotal: 18.2ms\tremaining: 1.8s\n",
      "50:\tlearn: 1535.6704411\ttotal: 877ms\tremaining: 842ms\n",
      "99:\tlearn: 1424.5832788\ttotal: 1.72s\tremaining: 0us\n",
      "Learning rate set to 0.5\n",
      "0:\tlearn: 3074.9841144\ttotal: 54.9ms\tremaining: 5.44s\n",
      "50:\tlearn: 1421.1295379\ttotal: 1.92s\tremaining: 1.84s\n",
      "99:\tlearn: 1290.2206059\ttotal: 3.82s\tremaining: 0us\n",
      "Learning rate set to 0.5\n",
      "0:\tlearn: 3105.7069080\ttotal: 53.4ms\tremaining: 5.28s\n",
      "50:\tlearn: 1442.1668851\ttotal: 1.9s\tremaining: 1.82s\n",
      "99:\tlearn: 1307.9241722\ttotal: 3.69s\tremaining: 0us\n",
      "Learning rate set to 0.375618\n",
      "0:\tlearn: 4010.9762956\ttotal: 5.79ms\tremaining: 863ms\n",
      "50:\tlearn: 2298.0136436\ttotal: 375ms\tremaining: 729ms\n",
      "100:\tlearn: 2226.1378656\ttotal: 705ms\tremaining: 342ms\n",
      "149:\tlearn: 2187.7029928\ttotal: 1.04s\tremaining: 0us\n",
      "Learning rate set to 0.375619\n",
      "0:\tlearn: 4036.1091515\ttotal: 5.98ms\tremaining: 892ms\n",
      "50:\tlearn: 2317.5667457\ttotal: 311ms\tremaining: 605ms\n",
      "100:\tlearn: 2246.9412459\ttotal: 607ms\tremaining: 294ms\n",
      "149:\tlearn: 2208.6121311\ttotal: 906ms\tremaining: 0us\n",
      "Learning rate set to 0.375618\n",
      "0:\tlearn: 3691.9787901\ttotal: 8.23ms\tremaining: 1.23s\n",
      "50:\tlearn: 1832.7943949\ttotal: 380ms\tremaining: 738ms\n",
      "100:\tlearn: 1745.4229797\ttotal: 855ms\tremaining: 415ms\n",
      "149:\tlearn: 1700.6441401\ttotal: 1.26s\tremaining: 0us\n",
      "Learning rate set to 0.375619\n",
      "0:\tlearn: 3714.7252294\ttotal: 7.34ms\tremaining: 1.09s\n",
      "50:\tlearn: 1852.0103868\ttotal: 377ms\tremaining: 732ms\n",
      "100:\tlearn: 1767.9625505\ttotal: 763ms\tremaining: 370ms\n",
      "149:\tlearn: 1719.2802677\ttotal: 1.13s\tremaining: 0us\n",
      "Learning rate set to 0.375618\n",
      "0:\tlearn: 3602.7017776\ttotal: 14.1ms\tremaining: 2.09s\n",
      "50:\tlearn: 1705.8168854\ttotal: 518ms\tremaining: 1s\n",
      "100:\tlearn: 1618.2911392\ttotal: 1.11s\tremaining: 540ms\n",
      "149:\tlearn: 1570.4361852\ttotal: 1.55s\tremaining: 0us\n",
      "Learning rate set to 0.375619\n",
      "0:\tlearn: 3617.9282858\ttotal: 9.49ms\tremaining: 1.41s\n",
      "50:\tlearn: 1722.4116943\ttotal: 530ms\tremaining: 1.03s\n",
      "100:\tlearn: 1643.5430481\ttotal: 1.03s\tremaining: 499ms\n",
      "149:\tlearn: 1596.1103072\ttotal: 1.59s\tremaining: 0us\n",
      "Learning rate set to 0.375618\n",
      "0:\tlearn: 3523.3029277\ttotal: 11.5ms\tremaining: 1.72s\n",
      "50:\tlearn: 1619.8906779\ttotal: 632ms\tremaining: 1.23s\n",
      "100:\tlearn: 1528.4828055\ttotal: 1.22s\tremaining: 592ms\n",
      "149:\tlearn: 1475.8508973\ttotal: 1.78s\tremaining: 0us\n",
      "Learning rate set to 0.375619\n",
      "0:\tlearn: 3542.9021491\ttotal: 11.1ms\tremaining: 1.65s\n",
      "50:\tlearn: 1648.0685390\ttotal: 591ms\tremaining: 1.15s\n",
      "100:\tlearn: 1550.2495333\ttotal: 1.16s\tremaining: 561ms\n",
      "149:\tlearn: 1492.7353766\ttotal: 1.73s\tremaining: 0us\n",
      "Learning rate set to 0.375618\n",
      "0:\tlearn: 3472.6684958\ttotal: 25.6ms\tremaining: 3.81s\n",
      "50:\tlearn: 1543.9053478\ttotal: 868ms\tremaining: 1.68s\n",
      "100:\tlearn: 1434.4873232\ttotal: 1.7s\tremaining: 823ms\n",
      "149:\tlearn: 1369.9500735\ttotal: 2.52s\tremaining: 0us\n",
      "Learning rate set to 0.375619\n",
      "0:\tlearn: 3499.4658846\ttotal: 22.4ms\tremaining: 3.34s\n",
      "50:\tlearn: 1565.8981171\ttotal: 953ms\tremaining: 1.85s\n",
      "100:\tlearn: 1455.9846190\ttotal: 1.83s\tremaining: 887ms\n",
      "149:\tlearn: 1386.5859058\ttotal: 2.67s\tremaining: 0us\n",
      "Learning rate set to 0.375618\n",
      "0:\tlearn: 3424.1739642\ttotal: 54.8ms\tremaining: 8.16s\n",
      "50:\tlearn: 1460.0594159\ttotal: 2.07s\tremaining: 4.01s\n",
      "100:\tlearn: 1338.9818533\ttotal: 4.04s\tremaining: 1.96s\n",
      "149:\tlearn: 1271.7715848\ttotal: 6.43s\tremaining: 0us\n",
      "Learning rate set to 0.375619\n",
      "0:\tlearn: 3454.7876635\ttotal: 53.9ms\tremaining: 8.03s\n",
      "50:\tlearn: 1483.0019837\ttotal: 2s\tremaining: 3.89s\n",
      "100:\tlearn: 1354.6401989\ttotal: 3.86s\tremaining: 1.87s\n",
      "149:\tlearn: 1280.3134428\ttotal: 5.61s\tremaining: 0us\n",
      "Learning rate set to 0.247961\n",
      "0:\tlearn: 4203.5153584\ttotal: 5.83ms\tremaining: 1.45s\n",
      "50:\tlearn: 2339.1080819\ttotal: 314ms\tremaining: 1.23s\n",
      "100:\tlearn: 2256.4544419\ttotal: 620ms\tremaining: 915ms\n",
      "150:\tlearn: 2219.4338151\ttotal: 939ms\tremaining: 615ms\n",
      "200:\tlearn: 2194.3985241\ttotal: 1.24s\tremaining: 302ms\n",
      "249:\tlearn: 2175.4577081\ttotal: 1.54s\tremaining: 0us\n",
      "Learning rate set to 0.247962\n",
      "0:\tlearn: 4230.8863181\ttotal: 7.08ms\tremaining: 1.76s\n",
      "50:\tlearn: 2353.6188228\ttotal: 323ms\tremaining: 1.26s\n",
      "100:\tlearn: 2270.2935989\ttotal: 628ms\tremaining: 926ms\n",
      "150:\tlearn: 2232.9931941\ttotal: 956ms\tremaining: 627ms\n",
      "200:\tlearn: 2208.0232923\ttotal: 1.28s\tremaining: 312ms\n",
      "249:\tlearn: 2189.6814181\ttotal: 1.59s\tremaining: 0us\n",
      "Learning rate set to 0.247961\n",
      "0:\tlearn: 3990.0117616\ttotal: 11.9ms\tremaining: 2.97s\n",
      "50:\tlearn: 1885.4190898\ttotal: 442ms\tremaining: 1.72s\n",
      "100:\tlearn: 1780.6496591\ttotal: 836ms\tremaining: 1.23s\n",
      "150:\tlearn: 1731.8062922\ttotal: 1.25s\tremaining: 821ms\n",
      "200:\tlearn: 1697.7283069\ttotal: 1.74s\tremaining: 424ms\n",
      "249:\tlearn: 1674.3846308\ttotal: 2.19s\tremaining: 0us\n",
      "Learning rate set to 0.247962\n",
      "0:\tlearn: 4015.8486905\ttotal: 7.88ms\tremaining: 1.96s\n",
      "50:\tlearn: 1918.2875581\ttotal: 399ms\tremaining: 1.56s\n",
      "100:\tlearn: 1804.2277799\ttotal: 820ms\tremaining: 1.21s\n",
      "150:\tlearn: 1759.9752147\ttotal: 1.23s\tremaining: 804ms\n",
      "200:\tlearn: 1729.5900216\ttotal: 1.64s\tremaining: 399ms\n",
      "249:\tlearn: 1704.2583884\ttotal: 2.04s\tremaining: 0us\n",
      "Learning rate set to 0.247961\n",
      "0:\tlearn: 3931.5494439\ttotal: 8.79ms\tremaining: 2.19s\n",
      "50:\tlearn: 1748.9862402\ttotal: 482ms\tremaining: 1.88s\n",
      "100:\tlearn: 1656.4767614\ttotal: 953ms\tremaining: 1.41s\n",
      "150:\tlearn: 1612.1580962\ttotal: 1.56s\tremaining: 1.02s\n",
      "200:\tlearn: 1581.8901556\ttotal: 2.58s\tremaining: 630ms\n",
      "249:\tlearn: 1556.5366547\ttotal: 3.3s\tremaining: 0us\n",
      "Learning rate set to 0.247962\n",
      "0:\tlearn: 3952.4646286\ttotal: 15.5ms\tremaining: 3.85s\n",
      "50:\tlearn: 1786.6876304\ttotal: 501ms\tremaining: 1.95s\n",
      "100:\tlearn: 1696.2831011\ttotal: 1.09s\tremaining: 1.61s\n",
      "150:\tlearn: 1644.5323607\ttotal: 1.56s\tremaining: 1.02s\n",
      "200:\tlearn: 1608.3128509\ttotal: 2.04s\tremaining: 498ms\n",
      "249:\tlearn: 1578.4843587\ttotal: 2.51s\tremaining: 0us\n",
      "Learning rate set to 0.247961\n",
      "0:\tlearn: 3880.1145761\ttotal: 16.2ms\tremaining: 4.03s\n",
      "50:\tlearn: 1661.7507075\ttotal: 606ms\tremaining: 2.37s\n",
      "100:\tlearn: 1575.2946580\ttotal: 1.22s\tremaining: 1.8s\n",
      "150:\tlearn: 1523.4926654\ttotal: 1.84s\tremaining: 1.2s\n",
      "200:\tlearn: 1486.6168565\ttotal: 2.39s\tremaining: 583ms\n",
      "249:\tlearn: 1456.7522284\ttotal: 2.96s\tremaining: 0us\n",
      "Learning rate set to 0.247962\n",
      "0:\tlearn: 3903.9610016\ttotal: 11.5ms\tremaining: 2.86s\n",
      "50:\tlearn: 1695.7557579\ttotal: 617ms\tremaining: 2.41s\n",
      "100:\tlearn: 1599.5194550\ttotal: 1.24s\tremaining: 1.83s\n",
      "150:\tlearn: 1544.4862721\ttotal: 1.82s\tremaining: 1.19s\n",
      "200:\tlearn: 1503.1198305\ttotal: 2.39s\tremaining: 582ms\n",
      "249:\tlearn: 1471.4108185\ttotal: 3.03s\tremaining: 0us\n",
      "Learning rate set to 0.247961\n",
      "0:\tlearn: 3847.7255167\ttotal: 17.1ms\tremaining: 4.27s\n",
      "50:\tlearn: 1594.4266531\ttotal: 904ms\tremaining: 3.53s\n",
      "100:\tlearn: 1493.9921236\ttotal: 1.73s\tremaining: 2.55s\n",
      "150:\tlearn: 1429.6688076\ttotal: 2.56s\tremaining: 1.68s\n",
      "200:\tlearn: 1385.8569798\ttotal: 3.39s\tremaining: 828ms\n",
      "249:\tlearn: 1348.1588104\ttotal: 4.21s\tremaining: 0us\n",
      "Learning rate set to 0.247962\n",
      "0:\tlearn: 3876.2133778\ttotal: 16.1ms\tremaining: 4.02s\n",
      "50:\tlearn: 1622.7017557\ttotal: 858ms\tremaining: 3.35s\n",
      "100:\tlearn: 1518.8872684\ttotal: 1.84s\tremaining: 2.71s\n",
      "150:\tlearn: 1452.1689042\ttotal: 2.75s\tremaining: 1.8s\n",
      "200:\tlearn: 1405.0906557\ttotal: 3.59s\tremaining: 876ms\n",
      "249:\tlearn: 1368.5983874\ttotal: 4.41s\tremaining: 0us\n",
      "Learning rate set to 0.247961\n",
      "0:\tlearn: 3816.8530687\ttotal: 44.8ms\tremaining: 11.2s\n",
      "50:\tlearn: 1518.6395701\ttotal: 1.95s\tremaining: 7.59s\n",
      "100:\tlearn: 1410.1228371\ttotal: 3.75s\tremaining: 5.53s\n",
      "150:\tlearn: 1338.9172318\ttotal: 5.5s\tremaining: 3.61s\n",
      "200:\tlearn: 1290.8788527\ttotal: 7.38s\tremaining: 1.8s\n",
      "249:\tlearn: 1251.4556056\ttotal: 9.39s\tremaining: 0us\n",
      "Learning rate set to 0.247962\n",
      "0:\tlearn: 3847.7384975\ttotal: 49.1ms\tremaining: 12.2s\n",
      "50:\tlearn: 1544.4037882\ttotal: 2.06s\tremaining: 8.06s\n",
      "100:\tlearn: 1425.2117924\ttotal: 3.92s\tremaining: 5.78s\n",
      "150:\tlearn: 1352.3851916\ttotal: 5.73s\tremaining: 3.76s\n",
      "200:\tlearn: 1303.4213336\ttotal: 7.51s\tremaining: 1.83s\n",
      "249:\tlearn: 1263.2798661\ttotal: 9.39s\tremaining: 0us\n",
      "Learning rate set to 0.213801\n",
      "0:\tlearn: 4259.4033027\ttotal: 6.46ms\tremaining: 1.93s\n",
      "50:\tlearn: 2368.8068752\ttotal: 316ms\tremaining: 1.54s\n",
      "100:\tlearn: 2269.6011767\ttotal: 662ms\tremaining: 1.3s\n",
      "150:\tlearn: 2229.9935451\ttotal: 963ms\tremaining: 950ms\n",
      "200:\tlearn: 2204.2205358\ttotal: 1.28s\tremaining: 630ms\n",
      "250:\tlearn: 2184.0784404\ttotal: 1.58s\tremaining: 309ms\n",
      "299:\tlearn: 2168.4603799\ttotal: 1.9s\tremaining: 0us\n",
      "Learning rate set to 0.213801\n",
      "0:\tlearn: 4287.4170406\ttotal: 13.5ms\tremaining: 4.02s\n",
      "50:\tlearn: 2384.6118266\ttotal: 338ms\tremaining: 1.65s\n",
      "100:\tlearn: 2286.0767229\ttotal: 653ms\tremaining: 1.29s\n",
      "150:\tlearn: 2246.2807660\ttotal: 980ms\tremaining: 967ms\n",
      "200:\tlearn: 2220.1894345\ttotal: 1.28s\tremaining: 632ms\n",
      "250:\tlearn: 2200.2086116\ttotal: 1.57s\tremaining: 307ms\n",
      "299:\tlearn: 2185.1187556\ttotal: 1.87s\tremaining: 0us\n",
      "Learning rate set to 0.213801\n",
      "0:\tlearn: 4074.8999189\ttotal: 14.1ms\tremaining: 4.2s\n",
      "50:\tlearn: 1913.3658063\ttotal: 551ms\tremaining: 2.69s\n",
      "100:\tlearn: 1802.0297920\ttotal: 939ms\tremaining: 1.85s\n",
      "150:\tlearn: 1750.5878700\ttotal: 1.31s\tremaining: 1.3s\n",
      "200:\tlearn: 1718.2927647\ttotal: 1.77s\tremaining: 872ms\n",
      "250:\tlearn: 1692.5913777\ttotal: 2.15s\tremaining: 421ms\n",
      "299:\tlearn: 1674.8908684\ttotal: 2.65s\tremaining: 0us\n",
      "Learning rate set to 0.213801\n",
      "0:\tlearn: 4101.6026535\ttotal: 6.99ms\tremaining: 2.09s\n",
      "50:\tlearn: 1934.6940329\ttotal: 423ms\tremaining: 2.06s\n",
      "100:\tlearn: 1818.9405970\ttotal: 833ms\tremaining: 1.64s\n",
      "150:\tlearn: 1772.6381800\ttotal: 1.2s\tremaining: 1.19s\n",
      "200:\tlearn: 1739.5373656\ttotal: 1.63s\tremaining: 803ms\n",
      "250:\tlearn: 1717.0518898\ttotal: 2.01s\tremaining: 392ms\n",
      "299:\tlearn: 1696.4817408\ttotal: 2.39s\tremaining: 0us\n",
      "Learning rate set to 0.213801\n",
      "0:\tlearn: 4024.6536534\ttotal: 22.3ms\tremaining: 6.68s\n",
      "50:\tlearn: 1772.1702027\ttotal: 516ms\tremaining: 2.52s\n",
      "100:\tlearn: 1673.6079457\ttotal: 998ms\tremaining: 1.97s\n",
      "150:\tlearn: 1623.8572883\ttotal: 1.48s\tremaining: 1.46s\n",
      "200:\tlearn: 1591.3527288\ttotal: 1.93s\tremaining: 952ms\n",
      "250:\tlearn: 1566.2571157\ttotal: 2.45s\tremaining: 478ms\n",
      "299:\tlearn: 1544.7729164\ttotal: 2.95s\tremaining: 0us\n",
      "Learning rate set to 0.213801\n",
      "0:\tlearn: 4047.1270745\ttotal: 9.01ms\tremaining: 2.69s\n",
      "50:\tlearn: 1803.1214111\ttotal: 599ms\tremaining: 2.92s\n",
      "100:\tlearn: 1708.3333956\ttotal: 1.08s\tremaining: 2.13s\n",
      "150:\tlearn: 1658.2924065\ttotal: 1.61s\tremaining: 1.59s\n",
      "200:\tlearn: 1624.0289033\ttotal: 2.1s\tremaining: 1.03s\n",
      "250:\tlearn: 1596.1834525\ttotal: 2.6s\tremaining: 508ms\n",
      "299:\tlearn: 1572.2776253\ttotal: 3.07s\tremaining: 0us\n",
      "Learning rate set to 0.213801\n",
      "0:\tlearn: 3980.5616475\ttotal: 10.9ms\tremaining: 3.27s\n",
      "50:\tlearn: 1692.6220250\ttotal: 594ms\tremaining: 2.9s\n",
      "100:\tlearn: 1595.5498148\ttotal: 1.17s\tremaining: 2.31s\n",
      "150:\tlearn: 1544.7269278\ttotal: 1.78s\tremaining: 1.75s\n",
      "200:\tlearn: 1504.5935988\ttotal: 2.34s\tremaining: 1.15s\n",
      "250:\tlearn: 1474.5561781\ttotal: 2.92s\tremaining: 571ms\n",
      "299:\tlearn: 1449.0828924\ttotal: 3.49s\tremaining: 0us\n",
      "Learning rate set to 0.213801\n",
      "0:\tlearn: 4005.5684186\ttotal: 16.7ms\tremaining: 5s\n",
      "50:\tlearn: 1706.2742390\ttotal: 639ms\tremaining: 3.12s\n",
      "100:\tlearn: 1614.7062279\ttotal: 1.22s\tremaining: 2.41s\n",
      "150:\tlearn: 1561.6021548\ttotal: 1.79s\tremaining: 1.77s\n",
      "200:\tlearn: 1521.3185367\ttotal: 2.4s\tremaining: 1.18s\n",
      "250:\tlearn: 1490.1597934\ttotal: 3.02s\tremaining: 590ms\n",
      "299:\tlearn: 1463.7022951\ttotal: 3.67s\tremaining: 0us\n",
      "Learning rate set to 0.213801\n",
      "0:\tlearn: 3952.8799319\ttotal: 19.6ms\tremaining: 5.84s\n",
      "50:\tlearn: 1615.3620218\ttotal: 860ms\tremaining: 4.2s\n",
      "100:\tlearn: 1514.3153725\ttotal: 1.74s\tremaining: 3.42s\n",
      "150:\tlearn: 1451.9399499\ttotal: 2.62s\tremaining: 2.58s\n",
      "200:\tlearn: 1409.2527098\ttotal: 3.44s\tremaining: 1.7s\n",
      "250:\tlearn: 1375.9142930\ttotal: 4.3s\tremaining: 839ms\n",
      "299:\tlearn: 1346.3801918\ttotal: 5.11s\tremaining: 0us\n",
      "Learning rate set to 0.213801\n",
      "0:\tlearn: 3981.8613933\ttotal: 15.7ms\tremaining: 4.68s\n",
      "50:\tlearn: 1640.1184165\ttotal: 916ms\tremaining: 4.47s\n",
      "100:\tlearn: 1535.9149040\ttotal: 1.78s\tremaining: 3.52s\n",
      "150:\tlearn: 1470.4374712\ttotal: 2.77s\tremaining: 2.73s\n",
      "200:\tlearn: 1424.7106886\ttotal: 3.65s\tremaining: 1.79s\n",
      "250:\tlearn: 1387.3862570\ttotal: 4.48s\tremaining: 875ms\n",
      "299:\tlearn: 1362.4691030\ttotal: 5.47s\tremaining: 0us\n",
      "Learning rate set to 0.213801\n",
      "0:\tlearn: 3926.5226774\ttotal: 54ms\tremaining: 16.1s\n",
      "50:\tlearn: 1546.9687681\ttotal: 1.91s\tremaining: 9.32s\n",
      "100:\tlearn: 1431.9920721\ttotal: 3.71s\tremaining: 7.3s\n",
      "150:\tlearn: 1361.0846060\ttotal: 5.5s\tremaining: 5.43s\n",
      "200:\tlearn: 1310.4072944\ttotal: 7.41s\tremaining: 3.65s\n",
      "250:\tlearn: 1269.1074129\ttotal: 9.23s\tremaining: 1.8s\n",
      "299:\tlearn: 1235.7996665\ttotal: 12.3s\tremaining: 0us\n",
      "Learning rate set to 0.213801\n",
      "0:\tlearn: 3957.5447040\ttotal: 32.8ms\tremaining: 9.82s\n",
      "50:\tlearn: 1566.4206303\ttotal: 1.9s\tremaining: 9.29s\n",
      "100:\tlearn: 1453.5056267\ttotal: 3.85s\tremaining: 7.59s\n",
      "150:\tlearn: 1377.8591573\ttotal: 5.72s\tremaining: 5.64s\n",
      "200:\tlearn: 1323.2972003\ttotal: 7.62s\tremaining: 3.75s\n",
      "250:\tlearn: 1283.8471635\ttotal: 9.5s\tremaining: 1.85s\n",
      "299:\tlearn: 1250.3315430\ttotal: 11.3s\tremaining: 0us\n",
      "Learning rate set to 0.238546\n",
      "0:\tlearn: 3884.3268649\ttotal: 41.3ms\tremaining: 12.3s\n",
      "50:\tlearn: 1627.8210608\ttotal: 2.89s\tremaining: 14.1s\n",
      "100:\tlearn: 1540.1514972\ttotal: 4.43s\tremaining: 8.72s\n",
      "150:\tlearn: 1487.8541313\ttotal: 5.87s\tremaining: 5.79s\n",
      "200:\tlearn: 1451.9591840\ttotal: 7.5s\tremaining: 3.69s\n",
      "250:\tlearn: 1422.6610710\ttotal: 9.02s\tremaining: 1.76s\n",
      "299:\tlearn: 1400.6104751\ttotal: 10.5s\tremaining: 0us\n"
     ]
    },
    {
     "data": {
      "text/plain": [
       "GridSearchCV(cv=2,\n",
       "             estimator=<catboost.core.CatBoostRegressor object at 0x7f840b8ce5b0>,\n",
       "             param_grid={'iterations': [50, 100, 150, 250, 300],\n",
       "                         'max_depth': range(1, 13, 2)},\n",
       "             scoring=make_scorer(rmse, greater_is_better=False))"
      ]
     },
     "execution_count": 62,
     "metadata": {},
     "output_type": "execute_result"
    }
   ],
   "source": [
    "grid_cb = GridSearchCV(cb, param_grid = parametrs_cb, scoring = rmse_scorer, cv=2)\n",
    "grid_cb.fit(features_ordinal_train, train_target, verbose=50)"
   ]
  },
  {
   "cell_type": "code",
   "execution_count": 63,
   "metadata": {},
   "outputs": [
    {
     "data": {
      "text/plain": [
       "{'iterations': 300, 'max_depth': 9}"
      ]
     },
     "execution_count": 63,
     "metadata": {},
     "output_type": "execute_result"
    }
   ],
   "source": [
    "grid_cb.best_params_"
   ]
  },
  {
   "cell_type": "code",
   "execution_count": 64,
   "metadata": {},
   "outputs": [
    {
     "data": {
      "text/plain": [
       "-1600.2600000000002"
      ]
     },
     "execution_count": 64,
     "metadata": {},
     "output_type": "execute_result"
    }
   ],
   "source": [
    "grid_cb.best_score_"
   ]
  },
  {
   "cell_type": "markdown",
   "metadata": {},
   "source": [
    "### Обучаем и ищем лучшие параметры для модели ЛГБМ"
   ]
  },
  {
   "cell_type": "code",
   "execution_count": 65,
   "metadata": {},
   "outputs": [],
   "source": [
    "parametrs_lgbm = {'n_estimators': range [50, 100, 150],\n",
    "            'max_depth': range (10, 13, 1)}"
   ]
  },
  {
   "cell_type": "code",
   "execution_count": 66,
   "metadata": {},
   "outputs": [],
   "source": [
    "lgbm = LGBMRegressor()"
   ]
  },
  {
   "cell_type": "code",
   "execution_count": 67,
   "metadata": {},
   "outputs": [
    {
     "data": {
      "text/plain": [
       "GridSearchCV(cv=2, estimator=LGBMRegressor(),\n",
       "             param_grid={'max_depth': range(1, 16, 4),\n",
       "                         'n_estimators': range(50, 150, 50)},\n",
       "             scoring=make_scorer(rmse, greater_is_better=False))"
      ]
     },
     "execution_count": 67,
     "metadata": {},
     "output_type": "execute_result"
    }
   ],
   "source": [
    "grid_lgbm = GridSearchCV(lgbm, param_grid = parametrs_lgbm, scoring = rmse_scorer, cv=2)\n",
    "grid_lgbm.fit(features_ordinal_train, train_target)"
   ]
  },
  {
   "cell_type": "code",
   "execution_count": 68,
   "metadata": {},
   "outputs": [
    {
     "data": {
      "text/plain": [
       "{'max_depth': 13, 'n_estimators': 100}"
      ]
     },
     "execution_count": 68,
     "metadata": {},
     "output_type": "execute_result"
    }
   ],
   "source": [
    "grid_lgbm.best_params_"
   ]
  },
  {
   "cell_type": "code",
   "execution_count": 69,
   "metadata": {},
   "outputs": [
    {
     "data": {
      "text/plain": [
       "-1678.815"
      ]
     },
     "execution_count": 69,
     "metadata": {},
     "output_type": "execute_result"
    }
   ],
   "source": [
    "grid_lgbm.best_score_"
   ]
  },
  {
   "cell_type": "markdown",
   "metadata": {},
   "source": [
    "**Вывод**\n",
    "\n",
    "В данном разделе нашел модели с лучшими параметрами для дальнейщего анализа. Модель леса будем анализировать с параметрами глубиной леса 9, количеством деревьев 140. Модель кота будем анализировать глубиной 9 и итерациями 300. Модель ЛГБМ будем тестировать с количеством оценщиков и клубиной . Модель линейной регрессии показала себя плохо для данной задачи, рмсе у нее больше 2500, что уже не подходит для дальнейшего анализа данной модели."
   ]
  },
  {
   "cell_type": "markdown",
   "metadata": {},
   "source": [
    "## Анализ моделей"
   ]
  },
  {
   "cell_type": "markdown",
   "metadata": {},
   "source": [
    "### Считаем время для обучения и предсказания для каждой модели"
   ]
  },
  {
   "cell_type": "markdown",
   "metadata": {},
   "source": [
    "#### Для модели леса"
   ]
  },
  {
   "cell_type": "code",
   "execution_count": 70,
   "metadata": {},
   "outputs": [
    {
     "name": "stdout",
     "output_type": "stream",
     "text": [
      "CPU times: user 9.64 s, sys: 2.4 ms, total: 9.64 s\n",
      "Wall time: 9.64 s\n"
     ]
    }
   ],
   "source": [
    "%%time\n",
    "start = time.time()\n",
    "model_rfr=RandomForestRegressor(n_estimators=120, max_depth=9, random_state=12345)\n",
    "model_rfr.fit(features_ordinal_train, train_target)\n",
    "end = time.time()\n",
    "t_rfr=round(end-start,2)"
   ]
  },
  {
   "cell_type": "code",
   "execution_count": 71,
   "metadata": {},
   "outputs": [
    {
     "name": "stdout",
     "output_type": "stream",
     "text": [
      "CPU times: user 212 ms, sys: 0 ns, total: 212 ms\n",
      "Wall time: 211 ms\n"
     ]
    }
   ],
   "source": [
    "%%time\n",
    "start = time.time()\n",
    "predict_rfr=model_rfr.predict(features_ordinal_valid)\n",
    "end = time.time()\n",
    "t_rfr_p=round(end-start,2)"
   ]
  },
  {
   "cell_type": "code",
   "execution_count": 72,
   "metadata": {},
   "outputs": [
    {
     "name": "stdout",
     "output_type": "stream",
     "text": [
      "RMSE модели леса: 1930.49\n"
     ]
    }
   ],
   "source": [
    "rmse_rfr=(mean_squared_error(valid_target, predict_rfr))**0.5\n",
    "print('RMSE модели леса:', rmse_rfr.round(2))"
   ]
  },
  {
   "cell_type": "markdown",
   "metadata": {},
   "source": [
    "#### Для модели кота"
   ]
  },
  {
   "cell_type": "code",
   "execution_count": 73,
   "metadata": {},
   "outputs": [
    {
     "name": "stdout",
     "output_type": "stream",
     "text": [
      "Learning rate set to 0.238546\n",
      "0:\tlearn: 3877.7654528\ttotal: 27.7ms\tremaining: 8.29s\n",
      "1:\tlearn: 3309.5862432\ttotal: 55.2ms\tremaining: 8.23s\n",
      "2:\tlearn: 2901.6824289\ttotal: 89ms\tremaining: 8.81s\n",
      "3:\tlearn: 2607.9277500\ttotal: 118ms\tremaining: 8.74s\n",
      "4:\tlearn: 2398.5513583\ttotal: 145ms\tremaining: 8.54s\n",
      "5:\tlearn: 2249.9572923\ttotal: 176ms\tremaining: 8.61s\n",
      "6:\tlearn: 2149.1387360\ttotal: 201ms\tremaining: 8.42s\n",
      "7:\tlearn: 2064.9730623\ttotal: 228ms\tremaining: 8.34s\n",
      "8:\tlearn: 2011.1736755\ttotal: 256ms\tremaining: 8.26s\n",
      "9:\tlearn: 1968.2910047\ttotal: 282ms\tremaining: 8.18s\n",
      "10:\tlearn: 1930.1189335\ttotal: 307ms\tremaining: 8.07s\n",
      "11:\tlearn: 1892.1518487\ttotal: 336ms\tremaining: 8.05s\n",
      "12:\tlearn: 1861.1365693\ttotal: 372ms\tremaining: 8.21s\n",
      "13:\tlearn: 1841.1663697\ttotal: 395ms\tremaining: 8.07s\n",
      "14:\tlearn: 1827.5337011\ttotal: 420ms\tremaining: 7.98s\n",
      "15:\tlearn: 1807.4527052\ttotal: 453ms\tremaining: 8.05s\n",
      "16:\tlearn: 1793.5559322\ttotal: 485ms\tremaining: 8.08s\n",
      "17:\tlearn: 1780.5193271\ttotal: 511ms\tremaining: 8.01s\n",
      "18:\tlearn: 1770.2699236\ttotal: 540ms\tremaining: 7.98s\n",
      "19:\tlearn: 1760.6609389\ttotal: 568ms\tremaining: 7.95s\n",
      "20:\tlearn: 1753.7529786\ttotal: 595ms\tremaining: 7.91s\n",
      "21:\tlearn: 1745.8887460\ttotal: 622ms\tremaining: 7.87s\n",
      "22:\tlearn: 1741.5014822\ttotal: 655ms\tremaining: 7.89s\n",
      "23:\tlearn: 1732.5968635\ttotal: 680ms\tremaining: 7.82s\n",
      "24:\tlearn: 1722.7311399\ttotal: 708ms\tremaining: 7.78s\n",
      "25:\tlearn: 1717.0270257\ttotal: 737ms\tremaining: 7.77s\n",
      "26:\tlearn: 1712.7729310\ttotal: 761ms\tremaining: 7.69s\n",
      "27:\tlearn: 1707.9233029\ttotal: 785ms\tremaining: 7.63s\n",
      "28:\tlearn: 1704.7480359\ttotal: 809ms\tremaining: 7.56s\n",
      "29:\tlearn: 1697.4900707\ttotal: 841ms\tremaining: 7.57s\n",
      "30:\tlearn: 1693.2044943\ttotal: 867ms\tremaining: 7.52s\n",
      "31:\tlearn: 1689.7361955\ttotal: 891ms\tremaining: 7.46s\n",
      "32:\tlearn: 1687.1788434\ttotal: 916ms\tremaining: 7.41s\n",
      "33:\tlearn: 1683.2705241\ttotal: 947ms\tremaining: 7.41s\n",
      "34:\tlearn: 1677.4734890\ttotal: 975ms\tremaining: 7.38s\n",
      "35:\tlearn: 1673.2267160\ttotal: 1s\tremaining: 7.34s\n",
      "36:\tlearn: 1669.0409007\ttotal: 1.03s\tremaining: 7.36s\n",
      "37:\tlearn: 1665.8236082\ttotal: 1.06s\tremaining: 7.31s\n",
      "38:\tlearn: 1662.2979431\ttotal: 1.09s\tremaining: 7.27s\n",
      "39:\tlearn: 1660.2523652\ttotal: 1.11s\tremaining: 7.23s\n",
      "40:\tlearn: 1657.5246537\ttotal: 1.14s\tremaining: 7.21s\n",
      "41:\tlearn: 1653.9790443\ttotal: 1.17s\tremaining: 7.17s\n",
      "42:\tlearn: 1651.0341186\ttotal: 1.19s\tremaining: 7.13s\n",
      "43:\tlearn: 1648.2700207\ttotal: 1.22s\tremaining: 7.12s\n",
      "44:\tlearn: 1645.0266920\ttotal: 1.25s\tremaining: 7.09s\n",
      "45:\tlearn: 1642.0484489\ttotal: 1.28s\tremaining: 7.06s\n",
      "46:\tlearn: 1639.8825351\ttotal: 1.3s\tremaining: 7.01s\n",
      "47:\tlearn: 1637.9836791\ttotal: 1.33s\tremaining: 7s\n",
      "48:\tlearn: 1635.0926527\ttotal: 1.36s\tremaining: 6.96s\n",
      "49:\tlearn: 1631.6953069\ttotal: 1.38s\tremaining: 6.92s\n",
      "50:\tlearn: 1629.8124387\ttotal: 1.41s\tremaining: 6.9s\n",
      "51:\tlearn: 1627.6066662\ttotal: 1.44s\tremaining: 6.89s\n",
      "52:\tlearn: 1626.1170677\ttotal: 1.47s\tremaining: 6.84s\n",
      "53:\tlearn: 1623.3588860\ttotal: 1.5s\tremaining: 6.81s\n",
      "54:\tlearn: 1620.0914707\ttotal: 1.53s\tremaining: 6.81s\n",
      "55:\tlearn: 1618.4753747\ttotal: 1.55s\tremaining: 6.77s\n",
      "56:\tlearn: 1615.3787945\ttotal: 1.58s\tremaining: 6.74s\n",
      "57:\tlearn: 1613.2520610\ttotal: 1.61s\tremaining: 6.72s\n",
      "58:\tlearn: 1611.0375639\ttotal: 1.64s\tremaining: 6.7s\n",
      "59:\tlearn: 1608.7945216\ttotal: 1.67s\tremaining: 6.66s\n",
      "60:\tlearn: 1606.8266930\ttotal: 1.7s\tremaining: 6.64s\n",
      "61:\tlearn: 1605.0376120\ttotal: 1.73s\tremaining: 6.62s\n",
      "62:\tlearn: 1603.3309943\ttotal: 1.75s\tremaining: 6.59s\n",
      "63:\tlearn: 1601.7478171\ttotal: 1.78s\tremaining: 6.55s\n",
      "64:\tlearn: 1599.2375928\ttotal: 1.81s\tremaining: 6.54s\n",
      "65:\tlearn: 1596.4626832\ttotal: 1.83s\tremaining: 6.5s\n",
      "66:\tlearn: 1594.2838177\ttotal: 1.86s\tremaining: 6.48s\n",
      "67:\tlearn: 1592.2391641\ttotal: 1.89s\tremaining: 6.45s\n",
      "68:\tlearn: 1590.3775743\ttotal: 1.92s\tremaining: 6.42s\n",
      "69:\tlearn: 1589.1305431\ttotal: 1.94s\tremaining: 6.39s\n",
      "70:\tlearn: 1588.0024980\ttotal: 1.97s\tremaining: 6.35s\n",
      "71:\tlearn: 1586.1882851\ttotal: 2s\tremaining: 6.33s\n",
      "72:\tlearn: 1584.0367917\ttotal: 2.03s\tremaining: 6.31s\n",
      "73:\tlearn: 1581.9893941\ttotal: 2.05s\tremaining: 6.28s\n",
      "74:\tlearn: 1580.3247582\ttotal: 2.08s\tremaining: 6.24s\n",
      "75:\tlearn: 1579.1748037\ttotal: 2.11s\tremaining: 6.22s\n",
      "76:\tlearn: 1577.5441381\ttotal: 2.13s\tremaining: 6.18s\n",
      "77:\tlearn: 1575.3674997\ttotal: 2.16s\tremaining: 6.15s\n",
      "78:\tlearn: 1573.1678236\ttotal: 2.19s\tremaining: 6.13s\n",
      "79:\tlearn: 1571.6676930\ttotal: 2.22s\tremaining: 6.09s\n",
      "80:\tlearn: 1570.1275489\ttotal: 2.24s\tremaining: 6.06s\n",
      "81:\tlearn: 1568.8960415\ttotal: 2.27s\tremaining: 6.02s\n",
      "82:\tlearn: 1567.1536505\ttotal: 2.3s\tremaining: 6s\n",
      "83:\tlearn: 1565.0786529\ttotal: 2.32s\tremaining: 5.97s\n",
      "84:\tlearn: 1563.5314788\ttotal: 2.35s\tremaining: 5.94s\n",
      "85:\tlearn: 1562.0311658\ttotal: 2.38s\tremaining: 5.92s\n",
      "86:\tlearn: 1561.1667072\ttotal: 2.4s\tremaining: 5.89s\n",
      "87:\tlearn: 1560.2002983\ttotal: 2.43s\tremaining: 5.85s\n",
      "88:\tlearn: 1559.4772225\ttotal: 2.46s\tremaining: 5.82s\n",
      "89:\tlearn: 1557.9669348\ttotal: 2.49s\tremaining: 5.8s\n",
      "90:\tlearn: 1556.1534691\ttotal: 2.51s\tremaining: 5.78s\n",
      "91:\tlearn: 1553.9249087\ttotal: 2.54s\tremaining: 5.75s\n",
      "92:\tlearn: 1552.5184352\ttotal: 2.57s\tremaining: 5.73s\n",
      "93:\tlearn: 1551.0707355\ttotal: 2.6s\tremaining: 5.7s\n",
      "94:\tlearn: 1549.4441103\ttotal: 2.63s\tremaining: 5.67s\n",
      "95:\tlearn: 1548.5994175\ttotal: 2.65s\tremaining: 5.64s\n",
      "96:\tlearn: 1547.9584216\ttotal: 2.68s\tremaining: 5.61s\n",
      "97:\tlearn: 1547.0944868\ttotal: 2.71s\tremaining: 5.58s\n",
      "98:\tlearn: 1544.9500803\ttotal: 2.73s\tremaining: 5.55s\n",
      "99:\tlearn: 1544.2130658\ttotal: 2.76s\tremaining: 5.53s\n",
      "100:\tlearn: 1542.6502887\ttotal: 2.79s\tremaining: 5.5s\n",
      "101:\tlearn: 1541.3959680\ttotal: 2.81s\tremaining: 5.47s\n",
      "102:\tlearn: 1539.6451621\ttotal: 2.84s\tremaining: 5.43s\n",
      "103:\tlearn: 1538.7685696\ttotal: 2.87s\tremaining: 5.41s\n",
      "104:\tlearn: 1537.6740699\ttotal: 2.89s\tremaining: 5.37s\n",
      "105:\tlearn: 1536.0314331\ttotal: 2.92s\tremaining: 5.34s\n",
      "106:\tlearn: 1534.6490970\ttotal: 2.95s\tremaining: 5.32s\n",
      "107:\tlearn: 1534.0195842\ttotal: 2.97s\tremaining: 5.29s\n",
      "108:\tlearn: 1532.9023311\ttotal: 3s\tremaining: 5.25s\n",
      "109:\tlearn: 1531.7679980\ttotal: 3.02s\tremaining: 5.22s\n",
      "110:\tlearn: 1530.9228258\ttotal: 3.05s\tremaining: 5.2s\n",
      "111:\tlearn: 1529.7831249\ttotal: 3.08s\tremaining: 5.16s\n",
      "112:\tlearn: 1528.7024376\ttotal: 3.1s\tremaining: 5.13s\n",
      "113:\tlearn: 1527.1800711\ttotal: 3.13s\tremaining: 5.11s\n",
      "114:\tlearn: 1526.1742773\ttotal: 3.16s\tremaining: 5.08s\n",
      "115:\tlearn: 1525.0671497\ttotal: 3.18s\tremaining: 5.05s\n",
      "116:\tlearn: 1523.8141265\ttotal: 3.21s\tremaining: 5.02s\n",
      "117:\tlearn: 1522.3402890\ttotal: 3.23s\tremaining: 4.99s\n",
      "118:\tlearn: 1521.2833660\ttotal: 3.26s\tremaining: 4.96s\n",
      "119:\tlearn: 1519.6438714\ttotal: 3.29s\tremaining: 4.93s\n",
      "120:\tlearn: 1517.7982703\ttotal: 3.31s\tremaining: 4.9s\n",
      "121:\tlearn: 1517.0376308\ttotal: 3.34s\tremaining: 4.88s\n",
      "122:\tlearn: 1516.5681454\ttotal: 3.36s\tremaining: 4.84s\n",
      "123:\tlearn: 1515.4218449\ttotal: 3.39s\tremaining: 4.81s\n",
      "124:\tlearn: 1514.4306499\ttotal: 3.41s\tremaining: 4.78s\n",
      "125:\tlearn: 1512.9569423\ttotal: 3.45s\tremaining: 4.76s\n",
      "126:\tlearn: 1512.2399987\ttotal: 3.48s\tremaining: 4.74s\n",
      "127:\tlearn: 1511.1240718\ttotal: 3.5s\tremaining: 4.71s\n",
      "128:\tlearn: 1510.4503554\ttotal: 3.53s\tremaining: 4.68s\n",
      "129:\tlearn: 1508.4494257\ttotal: 3.56s\tremaining: 4.66s\n",
      "130:\tlearn: 1507.2723818\ttotal: 3.59s\tremaining: 4.63s\n",
      "131:\tlearn: 1505.6590669\ttotal: 3.62s\tremaining: 4.61s\n",
      "132:\tlearn: 1504.5061730\ttotal: 3.65s\tremaining: 4.58s\n",
      "133:\tlearn: 1503.7654007\ttotal: 3.68s\tremaining: 4.55s\n",
      "134:\tlearn: 1502.7041825\ttotal: 3.71s\tremaining: 4.53s\n",
      "135:\tlearn: 1502.0207913\ttotal: 3.74s\tremaining: 4.51s\n",
      "136:\tlearn: 1500.7563687\ttotal: 3.77s\tremaining: 4.49s\n",
      "137:\tlearn: 1499.8666681\ttotal: 3.8s\tremaining: 4.46s\n",
      "138:\tlearn: 1499.1436353\ttotal: 3.82s\tremaining: 4.43s\n",
      "139:\tlearn: 1497.7389193\ttotal: 3.86s\tremaining: 4.41s\n",
      "140:\tlearn: 1496.6911257\ttotal: 3.88s\tremaining: 4.38s\n",
      "141:\tlearn: 1495.7488418\ttotal: 3.91s\tremaining: 4.35s\n",
      "142:\tlearn: 1495.1909925\ttotal: 3.94s\tremaining: 4.32s\n",
      "143:\tlearn: 1494.5085025\ttotal: 3.96s\tremaining: 4.29s\n",
      "144:\tlearn: 1493.8166567\ttotal: 3.99s\tremaining: 4.26s\n",
      "145:\tlearn: 1492.9567808\ttotal: 4.02s\tremaining: 4.24s\n",
      "146:\tlearn: 1492.0486796\ttotal: 4.04s\tremaining: 4.21s\n",
      "147:\tlearn: 1490.9196102\ttotal: 4.07s\tremaining: 4.18s\n",
      "148:\tlearn: 1489.7977908\ttotal: 4.1s\tremaining: 4.16s\n",
      "149:\tlearn: 1488.9311079\ttotal: 4.13s\tremaining: 4.13s\n",
      "150:\tlearn: 1488.1915389\ttotal: 4.15s\tremaining: 4.1s\n",
      "151:\tlearn: 1487.0823260\ttotal: 4.18s\tremaining: 4.07s\n",
      "152:\tlearn: 1486.4500328\ttotal: 4.21s\tremaining: 4.04s\n",
      "153:\tlearn: 1485.7698584\ttotal: 4.23s\tremaining: 4.01s\n",
      "154:\tlearn: 1485.3449557\ttotal: 4.26s\tremaining: 3.98s\n",
      "155:\tlearn: 1484.0599017\ttotal: 4.28s\tremaining: 3.95s\n",
      "156:\tlearn: 1483.5139313\ttotal: 4.31s\tremaining: 3.93s\n",
      "157:\tlearn: 1482.7205105\ttotal: 4.34s\tremaining: 3.9s\n",
      "158:\tlearn: 1482.3708688\ttotal: 4.36s\tremaining: 3.87s\n",
      "159:\tlearn: 1481.4361366\ttotal: 4.38s\tremaining: 3.84s\n",
      "160:\tlearn: 1480.4802423\ttotal: 4.42s\tremaining: 3.81s\n",
      "161:\tlearn: 1479.8878336\ttotal: 4.44s\tremaining: 3.79s\n",
      "162:\tlearn: 1479.3483733\ttotal: 4.47s\tremaining: 3.76s\n",
      "163:\tlearn: 1478.7166025\ttotal: 4.5s\tremaining: 3.73s\n",
      "164:\tlearn: 1478.1971147\ttotal: 4.53s\tremaining: 3.7s\n",
      "165:\tlearn: 1477.2410792\ttotal: 4.55s\tremaining: 3.67s\n",
      "166:\tlearn: 1476.3148127\ttotal: 4.58s\tremaining: 3.65s\n",
      "167:\tlearn: 1475.5415872\ttotal: 4.61s\tremaining: 3.62s\n",
      "168:\tlearn: 1474.6331450\ttotal: 4.63s\tremaining: 3.59s\n",
      "169:\tlearn: 1474.1724207\ttotal: 4.66s\tremaining: 3.56s\n",
      "170:\tlearn: 1473.6090956\ttotal: 4.69s\tremaining: 3.54s\n",
      "171:\tlearn: 1473.1444562\ttotal: 4.72s\tremaining: 3.51s\n",
      "172:\tlearn: 1472.1371293\ttotal: 4.75s\tremaining: 3.48s\n",
      "173:\tlearn: 1471.4230886\ttotal: 4.77s\tremaining: 3.46s\n",
      "174:\tlearn: 1470.9289600\ttotal: 4.8s\tremaining: 3.43s\n",
      "175:\tlearn: 1470.1397881\ttotal: 4.83s\tremaining: 3.4s\n",
      "176:\tlearn: 1469.4891029\ttotal: 4.85s\tremaining: 3.37s\n",
      "177:\tlearn: 1468.6450903\ttotal: 4.88s\tremaining: 3.35s\n",
      "178:\tlearn: 1467.9428986\ttotal: 4.91s\tremaining: 3.32s\n",
      "179:\tlearn: 1467.1328229\ttotal: 4.94s\tremaining: 3.29s\n",
      "180:\tlearn: 1466.5689826\ttotal: 4.96s\tremaining: 3.26s\n",
      "181:\tlearn: 1465.5394821\ttotal: 5s\tremaining: 3.24s\n",
      "182:\tlearn: 1464.3978987\ttotal: 5.02s\tremaining: 3.21s\n",
      "183:\tlearn: 1463.8345199\ttotal: 5.05s\tremaining: 3.18s\n",
      "184:\tlearn: 1462.9805370\ttotal: 5.08s\tremaining: 3.16s\n",
      "185:\tlearn: 1462.2461285\ttotal: 5.11s\tremaining: 3.13s\n",
      "186:\tlearn: 1461.5414745\ttotal: 5.13s\tremaining: 3.1s\n",
      "187:\tlearn: 1460.9399695\ttotal: 5.16s\tremaining: 3.07s\n",
      "188:\tlearn: 1459.7139735\ttotal: 5.19s\tremaining: 3.05s\n",
      "189:\tlearn: 1458.8271035\ttotal: 5.22s\tremaining: 3.02s\n",
      "190:\tlearn: 1457.9420667\ttotal: 5.24s\tremaining: 2.99s\n",
      "191:\tlearn: 1457.2291496\ttotal: 5.28s\tremaining: 2.97s\n",
      "192:\tlearn: 1456.6361417\ttotal: 5.3s\tremaining: 2.94s\n",
      "193:\tlearn: 1455.9388440\ttotal: 5.33s\tremaining: 2.91s\n",
      "194:\tlearn: 1455.5147180\ttotal: 5.35s\tremaining: 2.88s\n",
      "195:\tlearn: 1454.9759098\ttotal: 5.38s\tremaining: 2.85s\n",
      "196:\tlearn: 1454.3386352\ttotal: 5.41s\tremaining: 2.83s\n",
      "197:\tlearn: 1453.7722646\ttotal: 5.43s\tremaining: 2.8s\n",
      "198:\tlearn: 1453.3340926\ttotal: 5.46s\tremaining: 2.77s\n",
      "199:\tlearn: 1452.6368060\ttotal: 5.49s\tremaining: 2.74s\n",
      "200:\tlearn: 1451.9060105\ttotal: 5.51s\tremaining: 2.71s\n",
      "201:\tlearn: 1451.2170961\ttotal: 5.54s\tremaining: 2.69s\n",
      "202:\tlearn: 1450.2963535\ttotal: 5.57s\tremaining: 2.66s\n",
      "203:\tlearn: 1449.7089421\ttotal: 5.59s\tremaining: 2.63s\n",
      "204:\tlearn: 1448.8942048\ttotal: 5.62s\tremaining: 2.6s\n",
      "205:\tlearn: 1448.4748658\ttotal: 5.65s\tremaining: 2.58s\n",
      "206:\tlearn: 1447.5872229\ttotal: 5.67s\tremaining: 2.55s\n",
      "207:\tlearn: 1447.0555674\ttotal: 5.7s\tremaining: 2.52s\n",
      "208:\tlearn: 1446.3418401\ttotal: 5.73s\tremaining: 2.49s\n",
      "209:\tlearn: 1445.5783402\ttotal: 5.75s\tremaining: 2.46s\n",
      "210:\tlearn: 1444.9514612\ttotal: 5.78s\tremaining: 2.44s\n",
      "211:\tlearn: 1444.2597447\ttotal: 5.81s\tremaining: 2.41s\n",
      "212:\tlearn: 1443.7213668\ttotal: 5.84s\tremaining: 2.38s\n",
      "213:\tlearn: 1443.3230432\ttotal: 5.86s\tremaining: 2.36s\n",
      "214:\tlearn: 1442.8650365\ttotal: 5.89s\tremaining: 2.33s\n",
      "215:\tlearn: 1441.9259694\ttotal: 5.92s\tremaining: 2.3s\n",
      "216:\tlearn: 1441.4870020\ttotal: 5.94s\tremaining: 2.27s\n",
      "217:\tlearn: 1440.8627701\ttotal: 5.97s\tremaining: 2.24s\n",
      "218:\tlearn: 1439.9928277\ttotal: 6s\tremaining: 2.22s\n",
      "219:\tlearn: 1439.5642800\ttotal: 6.02s\tremaining: 2.19s\n",
      "220:\tlearn: 1438.9498371\ttotal: 6.05s\tremaining: 2.16s\n",
      "221:\tlearn: 1438.3867473\ttotal: 6.08s\tremaining: 2.13s\n",
      "222:\tlearn: 1437.7191717\ttotal: 6.1s\tremaining: 2.11s\n",
      "223:\tlearn: 1437.3058444\ttotal: 6.13s\tremaining: 2.08s\n",
      "224:\tlearn: 1436.5053661\ttotal: 6.16s\tremaining: 2.05s\n",
      "225:\tlearn: 1436.1773895\ttotal: 6.18s\tremaining: 2.02s\n",
      "226:\tlearn: 1435.5539601\ttotal: 6.21s\tremaining: 2s\n",
      "227:\tlearn: 1435.0540524\ttotal: 6.23s\tremaining: 1.97s\n",
      "228:\tlearn: 1434.5158665\ttotal: 6.26s\tremaining: 1.94s\n",
      "229:\tlearn: 1434.0726159\ttotal: 6.29s\tremaining: 1.91s\n",
      "230:\tlearn: 1433.3940557\ttotal: 6.32s\tremaining: 1.89s\n",
      "231:\tlearn: 1432.4738252\ttotal: 6.35s\tremaining: 1.86s\n",
      "232:\tlearn: 1431.9944512\ttotal: 6.38s\tremaining: 1.83s\n",
      "233:\tlearn: 1431.4603086\ttotal: 6.41s\tremaining: 1.81s\n",
      "234:\tlearn: 1431.0353602\ttotal: 6.43s\tremaining: 1.78s\n",
      "235:\tlearn: 1430.6132124\ttotal: 6.47s\tremaining: 1.75s\n",
      "236:\tlearn: 1430.0550569\ttotal: 6.5s\tremaining: 1.73s\n",
      "237:\tlearn: 1429.6071610\ttotal: 6.54s\tremaining: 1.7s\n",
      "238:\tlearn: 1428.7941455\ttotal: 6.58s\tremaining: 1.68s\n",
      "239:\tlearn: 1428.0497624\ttotal: 6.61s\tremaining: 1.65s\n",
      "240:\tlearn: 1427.4627148\ttotal: 6.64s\tremaining: 1.62s\n",
      "241:\tlearn: 1427.1478323\ttotal: 6.67s\tremaining: 1.6s\n",
      "242:\tlearn: 1426.7758357\ttotal: 6.7s\tremaining: 1.57s\n",
      "243:\tlearn: 1426.3011665\ttotal: 6.73s\tremaining: 1.54s\n",
      "244:\tlearn: 1425.7961118\ttotal: 6.76s\tremaining: 1.52s\n",
      "245:\tlearn: 1425.3957346\ttotal: 6.79s\tremaining: 1.49s\n",
      "246:\tlearn: 1424.8857098\ttotal: 6.82s\tremaining: 1.46s\n",
      "247:\tlearn: 1424.4717838\ttotal: 6.85s\tremaining: 1.44s\n",
      "248:\tlearn: 1423.8286132\ttotal: 6.88s\tremaining: 1.41s\n",
      "249:\tlearn: 1423.3691050\ttotal: 6.91s\tremaining: 1.38s\n",
      "250:\tlearn: 1422.9525990\ttotal: 6.93s\tremaining: 1.35s\n",
      "251:\tlearn: 1422.2638959\ttotal: 6.96s\tremaining: 1.32s\n",
      "252:\tlearn: 1421.8991711\ttotal: 6.99s\tremaining: 1.3s\n",
      "253:\tlearn: 1421.1805962\ttotal: 7.02s\tremaining: 1.27s\n",
      "254:\tlearn: 1420.8326676\ttotal: 7.04s\tremaining: 1.24s\n",
      "255:\tlearn: 1420.3094208\ttotal: 7.07s\tremaining: 1.21s\n",
      "256:\tlearn: 1419.8922823\ttotal: 7.1s\tremaining: 1.19s\n",
      "257:\tlearn: 1419.3845842\ttotal: 7.12s\tremaining: 1.16s\n",
      "258:\tlearn: 1418.7254534\ttotal: 7.15s\tremaining: 1.13s\n",
      "259:\tlearn: 1418.3731665\ttotal: 7.18s\tremaining: 1.1s\n",
      "260:\tlearn: 1418.1145733\ttotal: 7.21s\tremaining: 1.08s\n",
      "261:\tlearn: 1417.7960531\ttotal: 7.23s\tremaining: 1.05s\n",
      "262:\tlearn: 1417.2723662\ttotal: 7.25s\tremaining: 1.02s\n",
      "263:\tlearn: 1416.6682336\ttotal: 7.29s\tremaining: 994ms\n",
      "264:\tlearn: 1416.2514058\ttotal: 7.31s\tremaining: 966ms\n",
      "265:\tlearn: 1415.7813021\ttotal: 7.34s\tremaining: 938ms\n",
      "266:\tlearn: 1415.3378931\ttotal: 7.37s\tremaining: 911ms\n",
      "267:\tlearn: 1414.5631082\ttotal: 7.4s\tremaining: 883ms\n",
      "268:\tlearn: 1413.9996485\ttotal: 7.42s\tremaining: 856ms\n",
      "269:\tlearn: 1413.3268560\ttotal: 7.46s\tremaining: 829ms\n",
      "270:\tlearn: 1412.8014865\ttotal: 7.49s\tremaining: 801ms\n",
      "271:\tlearn: 1412.2989907\ttotal: 7.51s\tremaining: 773ms\n",
      "272:\tlearn: 1412.0340421\ttotal: 7.54s\tremaining: 745ms\n",
      "273:\tlearn: 1411.7298612\ttotal: 7.57s\tremaining: 718ms\n",
      "274:\tlearn: 1411.4112176\ttotal: 7.59s\tremaining: 690ms\n",
      "275:\tlearn: 1411.0498966\ttotal: 7.62s\tremaining: 662ms\n",
      "276:\tlearn: 1410.6189355\ttotal: 7.64s\tremaining: 635ms\n",
      "277:\tlearn: 1410.2078756\ttotal: 7.67s\tremaining: 607ms\n",
      "278:\tlearn: 1409.6213933\ttotal: 7.7s\tremaining: 580ms\n",
      "279:\tlearn: 1409.1838445\ttotal: 7.72s\tremaining: 552ms\n",
      "280:\tlearn: 1409.0399459\ttotal: 7.75s\tremaining: 524ms\n",
      "281:\tlearn: 1408.6904319\ttotal: 7.78s\tremaining: 497ms\n",
      "282:\tlearn: 1408.2382837\ttotal: 7.81s\tremaining: 469ms\n",
      "283:\tlearn: 1407.7745954\ttotal: 7.83s\tremaining: 441ms\n",
      "284:\tlearn: 1407.6357944\ttotal: 7.86s\tremaining: 414ms\n",
      "285:\tlearn: 1407.2982863\ttotal: 7.89s\tremaining: 386ms\n",
      "286:\tlearn: 1406.9609305\ttotal: 7.91s\tremaining: 358ms\n",
      "287:\tlearn: 1406.4971004\ttotal: 7.94s\tremaining: 331ms\n",
      "288:\tlearn: 1406.2894107\ttotal: 7.97s\tremaining: 303ms\n",
      "289:\tlearn: 1405.4297579\ttotal: 8s\tremaining: 276ms\n",
      "290:\tlearn: 1405.0503717\ttotal: 8.02s\tremaining: 248ms\n",
      "291:\tlearn: 1404.4137340\ttotal: 8.06s\tremaining: 221ms\n",
      "292:\tlearn: 1404.1547596\ttotal: 8.08s\tremaining: 193ms\n",
      "293:\tlearn: 1403.4971417\ttotal: 8.11s\tremaining: 165ms\n",
      "294:\tlearn: 1403.1085195\ttotal: 8.13s\tremaining: 138ms\n",
      "295:\tlearn: 1402.6819895\ttotal: 8.16s\tremaining: 110ms\n",
      "296:\tlearn: 1402.4556063\ttotal: 8.19s\tremaining: 82.7ms\n",
      "297:\tlearn: 1401.8481778\ttotal: 8.21s\tremaining: 55.1ms\n",
      "298:\tlearn: 1401.3635863\ttotal: 8.25s\tremaining: 27.6ms\n",
      "299:\tlearn: 1401.0339102\ttotal: 8.27s\tremaining: 0us\n",
      "CPU times: user 8.44 s, sys: 63.9 ms, total: 8.5 s\n",
      "Wall time: 9.25 s\n"
     ]
    }
   ],
   "source": [
    "%%time\n",
    "start = time.time()\n",
    "model_cb=CatBoostRegressor(iterations=300, max_depth=9, random_state=12345)\n",
    "model_cb.fit(features_ordinal_train, train_target)\n",
    "end = time.time()\n",
    "t_cb=round(end-start,2)"
   ]
  },
  {
   "cell_type": "code",
   "execution_count": 74,
   "metadata": {},
   "outputs": [
    {
     "name": "stdout",
     "output_type": "stream",
     "text": [
      "CPU times: user 51.4 ms, sys: 0 ns, total: 51.4 ms\n",
      "Wall time: 49.7 ms\n"
     ]
    }
   ],
   "source": [
    "%%time\n",
    "start = time.time()\n",
    "predict_cb=model_cb.predict(features_ordinal_valid)\n",
    "end = time.time()\n",
    "t_cb_p=round(end-start,2)"
   ]
  },
  {
   "cell_type": "code",
   "execution_count": 75,
   "metadata": {},
   "outputs": [
    {
     "name": "stdout",
     "output_type": "stream",
     "text": [
      "RMSE модели кота: 1628.58\n"
     ]
    }
   ],
   "source": [
    "rmse_cb=(mean_squared_error(valid_target, predict_cb))**0.5\n",
    "print('RMSE модели кота:', rmse_cb.round(2))"
   ]
  },
  {
   "cell_type": "markdown",
   "metadata": {},
   "source": [
    "#### Для модели лгбм"
   ]
  },
  {
   "cell_type": "code",
   "execution_count": 80,
   "metadata": {},
   "outputs": [
    {
     "name": "stdout",
     "output_type": "stream",
     "text": [
      "CPU times: user 6min 31s, sys: 4.28 s, total: 6min 35s\n",
      "Wall time: 6min 37s\n"
     ]
    }
   ],
   "source": [
    "%%time\n",
    "start = time.time()\n",
    "model_lgbm=LGBMRegressor(max_depth=13, n_estimators=100, random_state=12345)\n",
    "model_lgbm.fit(features_ordinal_train, train_target)\n",
    "end = time.time()\n",
    "t_lgbm=round(end-start,2)"
   ]
  },
  {
   "cell_type": "code",
   "execution_count": 82,
   "metadata": {},
   "outputs": [
    {
     "name": "stdout",
     "output_type": "stream",
     "text": [
      "CPU times: user 413 ms, sys: 3.82 ms, total: 417 ms\n",
      "Wall time: 342 ms\n"
     ]
    }
   ],
   "source": [
    "%%time\n",
    "start = time.time()\n",
    "predict_lgbm=model_lgbm.predict(features_ordinal_valid)\n",
    "end = time.time()\n",
    "t_lgbm_p=round(end-start,2)"
   ]
  },
  {
   "cell_type": "code",
   "execution_count": 83,
   "metadata": {},
   "outputs": [
    {
     "name": "stdout",
     "output_type": "stream",
     "text": [
      "RMSE модели лгбм: 1711.59\n"
     ]
    }
   ],
   "source": [
    "rmse_lgbm=(mean_squared_error(valid_target, predict_lgbm))**0.5\n",
    "print('RMSE модели лгбм:', rmse_lgbm.round(2))"
   ]
  },
  {
   "cell_type": "code",
   "execution_count": 94,
   "metadata": {},
   "outputs": [
    {
     "data": {
      "text/html": [
       "<div>\n",
       "<style scoped>\n",
       "    .dataframe tbody tr th:only-of-type {\n",
       "        vertical-align: middle;\n",
       "    }\n",
       "\n",
       "    .dataframe tbody tr th {\n",
       "        vertical-align: top;\n",
       "    }\n",
       "\n",
       "    .dataframe thead th {\n",
       "        text-align: right;\n",
       "    }\n",
       "</style>\n",
       "<table border=\"1\" class=\"dataframe\">\n",
       "  <thead>\n",
       "    <tr style=\"text-align: right;\">\n",
       "      <th></th>\n",
       "      <th>Лес</th>\n",
       "      <th>Кот</th>\n",
       "      <th>ЛГБМ</th>\n",
       "    </tr>\n",
       "  </thead>\n",
       "  <tbody>\n",
       "    <tr>\n",
       "      <th>Время обучения</th>\n",
       "      <td>9.640000</td>\n",
       "      <td>9.250000</td>\n",
       "      <td>397.930000</td>\n",
       "    </tr>\n",
       "    <tr>\n",
       "      <th>Время предсказаний</th>\n",
       "      <td>0.210000</td>\n",
       "      <td>0.050000</td>\n",
       "      <td>0.340000</td>\n",
       "    </tr>\n",
       "    <tr>\n",
       "      <th>РМСЕ</th>\n",
       "      <td>1930.490837</td>\n",
       "      <td>1628.576485</td>\n",
       "      <td>1711.590307</td>\n",
       "    </tr>\n",
       "  </tbody>\n",
       "</table>\n",
       "</div>"
      ],
      "text/plain": [
       "                            Лес          Кот         ЛГБМ\n",
       "Время обучения         9.640000     9.250000   397.930000\n",
       "Время предсказаний     0.210000     0.050000     0.340000\n",
       "РМСЕ                1930.490837  1628.576485  1711.590307"
      ]
     },
     "execution_count": 94,
     "metadata": {},
     "output_type": "execute_result"
    }
   ],
   "source": [
    "table = pd.DataFrame({'Лес':[t_rfr, t_rfr_p, rmse_rfr],\n",
    "        'Кот':[t_cb, t_cb_p, rmse_cb],\n",
    "        'ЛГБМ':[t_lgbm, t_lgbm_p, rmse_lgbm]})\n",
    "table.index = ['Время обучения', 'Время предсказаний', 'РМСЕ']\n",
    "table"
   ]
  },
  {
   "cell_type": "markdown",
   "metadata": {},
   "source": [
    "**Вывод**\n",
    "\n",
    "Наилучший результат как по времени так и по предсказаниям показала модель кота. Наихудший вариант по времени показала модель лгбм, в то время как по RMSE наихучшей оказалась модель леса"
   ]
  },
  {
   "cell_type": "markdown",
   "metadata": {},
   "source": [
    "### Тестируем лучшую модель"
   ]
  },
  {
   "cell_type": "code",
   "execution_count": 95,
   "metadata": {},
   "outputs": [
    {
     "name": "stdout",
     "output_type": "stream",
     "text": [
      "CPU times: user 52.4 ms, sys: 0 ns, total: 52.4 ms\n",
      "Wall time: 50.3 ms\n"
     ]
    }
   ],
   "source": [
    "%%time\n",
    "start = time.time()\n",
    "predict_test=model_cb.predict(features_ordinal_test)\n",
    "end = time.time()\n",
    "t_test_p=round(end-start,2)"
   ]
  },
  {
   "cell_type": "code",
   "execution_count": 96,
   "metadata": {},
   "outputs": [
    {
     "name": "stdout",
     "output_type": "stream",
     "text": [
      "RMSE модели кота: 1643.52\n"
     ]
    }
   ],
   "source": [
    "rmse_cb=(mean_squared_error(test_target, predict_test))**0.5\n",
    "print('RMSE модели кота:', rmse_cb.round(2))"
   ]
  },
  {
   "cell_type": "markdown",
   "metadata": {},
   "source": [
    "## Общий вывод"
   ]
  },
  {
   "cell_type": "markdown",
   "metadata": {},
   "source": [
    "**В ходе исследования**\n",
    "\n",
    "1. Изучил датасет на наличие пропусков, подготовили данные дальнейщего исследования\n",
    "- Привел данные времени в нужный нам формат\n",
    "- В целевом признаке цена, убрал цены, которые были ниже 50 евро, так как это машины либо для продажи на разбор, или фейковые объявления.\n",
    "- Пропуски в столбцах модель, тип кузова, тип топлива заменил на other так как, эти данные необходимы для дальнейщего обучения модели, а заменить нет возможности, на наиболее правильное значение.\n",
    "- В год регистрации машины были удаленны все выбросы которые были свыше 2016, так как анкеты были выгруженны до этого времени, так же были взяты машины не старше 50лет. Так как это уже металлолом, или реставрация, но рестоврация встречается очень редко.\n",
    "- Пропуски в столбце механики были удалены, так как невозможно определить тип трансмиссии, что в дальнейщем может повлиять на предсказания, так как это один из вожных признаков.\n",
    "- По мощности решил оставить машины от 20 до 320, так как мощность меньше не реальна, а мощность свыше 320 встречается редко.\n",
    "- Поделены данные на обучающую, проверяющую и тестовые выборки, размерами 60-20-20, что является наиболее оптимальным вариантом.\n",
    "- Были удалены столбцы с регистрацией анкеты, месяцем регистрации, почтовым индексом, количеством фото(так как там были только нули), данные столбцы, повлияли на время обучения, и в тоже время испортили качество модели.\n",
    "- Категориальные признаки были переведены в численные.\n",
    "2. Были обучены и найдены наилучшие параметры у 4 моделей, линейной регрессии, леса, кота, лгбм.\n",
    "3. Было проведен анализ, где сравнили время обучения и качество предсказаний 3 моделей.\n",
    "4. Проверили качество на тестовой выборке.\n",
    "\n",
    "\n",
    "**Из исследования получены результаты:**\n",
    "\n",
    "1. Модель линейной регрессии на этапе обучения мы сразу исключили, так как ее показания рмсе были выше 2500, а именно 2889.\n",
    "2. Было выделено 3 модели у которых значение рмсе нас удовлетворяло. Эти модели леса, кота, лгбм. \n",
    "- На модели леса лучшие параметры оказались глубина 9 и количество деревьев 120.\n",
    "- Модель кота лучшие параметры глубина 9, итераций 300\n",
    "- Модель лгбм 100 итераций с глубиной 13\n",
    "3. При проверке лучших моделей на проверочной выборке время обучения и показатели рмсе оказались:\n",
    "- Модель леса время обучения 9.6с, время предсказания 0.21с, RMSE 1930\n",
    "- Модель кота время обучения 9.25с, время предсказания 0.05с, RMSE 1628\n",
    "- Модель лгбм время обучения 398с, время предсказания 0.34с, RMSE 1711\n",
    "4. Из моделей было решено в дальнейшем работать с моделью кота, на тестовой выборке рмсе показало 1643, скорость предсказания 0.05c.\n",
    "\n",
    "**Общие рекомендации**\n",
    "\n",
    "В данных оказалось очень много пропусков и выбросов. Стоит более тщательней проверять создание данных. Можно ввести в сервис функцию обязательного поля для заполнения. Так же стоит уделить внимание на выбросы, так как много нереальных значений, например таких как цена 0, или год регистрации машины 5555. Можно поставить огранечения в полях заполнения.\n",
    "Рекоммендую использовать модель кота, так как в ней идет оптимальное время обучения и предсказания, в то время, так же RMSE наименьшее."
   ]
  }
 ],
 "metadata": {
  "ExecuteTimeLog": [
   {
    "duration": 464,
    "start_time": "2023-02-18T09:24:41.353Z"
   },
   {
    "duration": 3215,
    "start_time": "2023-02-18T09:25:11.879Z"
   },
   {
    "duration": 1055,
    "start_time": "2023-02-18T09:25:18.468Z"
   },
   {
    "duration": 962,
    "start_time": "2023-02-18T09:25:27.529Z"
   },
   {
    "duration": 103,
    "start_time": "2023-02-18T09:25:51.275Z"
   },
   {
    "duration": 146,
    "start_time": "2023-02-18T09:25:54.131Z"
   },
   {
    "duration": 44,
    "start_time": "2023-02-28T08:15:20.763Z"
   },
   {
    "duration": 381,
    "start_time": "2023-02-28T08:15:26.066Z"
   },
   {
    "duration": 1124,
    "start_time": "2023-02-28T08:15:26.452Z"
   },
   {
    "duration": 116,
    "start_time": "2023-02-28T08:15:27.578Z"
   },
   {
    "duration": 711,
    "start_time": "2023-02-28T08:15:27.696Z"
   },
   {
    "duration": 7,
    "start_time": "2023-02-28T08:20:54.415Z"
   },
   {
    "duration": 170,
    "start_time": "2023-02-28T08:21:01.033Z"
   },
   {
    "duration": 109,
    "start_time": "2023-02-28T08:21:25.878Z"
   },
   {
    "duration": 1154,
    "start_time": "2023-02-28T08:29:01.865Z"
   },
   {
    "duration": 1029,
    "start_time": "2023-02-28T08:29:36.488Z"
   },
   {
    "duration": 21,
    "start_time": "2023-02-28T08:34:44.491Z"
   },
   {
    "duration": 304,
    "start_time": "2023-02-28T08:35:48.945Z"
   },
   {
    "duration": 14,
    "start_time": "2023-02-28T08:35:58.819Z"
   },
   {
    "duration": 72,
    "start_time": "2023-02-28T08:36:18.936Z"
   },
   {
    "duration": 14,
    "start_time": "2023-02-28T08:36:38.384Z"
   },
   {
    "duration": 72,
    "start_time": "2023-02-28T08:37:05.147Z"
   },
   {
    "duration": 73,
    "start_time": "2023-02-28T08:37:39.075Z"
   },
   {
    "duration": 14,
    "start_time": "2023-02-28T08:37:57.355Z"
   },
   {
    "duration": 2034,
    "start_time": "2023-02-28T08:38:41.885Z"
   },
   {
    "duration": 1672,
    "start_time": "2023-02-28T08:38:48.562Z"
   },
   {
    "duration": 74,
    "start_time": "2023-02-28T08:38:59.177Z"
   },
   {
    "duration": 253,
    "start_time": "2023-02-28T08:39:05.208Z"
   },
   {
    "duration": 327,
    "start_time": "2023-02-28T08:39:15.990Z"
   },
   {
    "duration": 198,
    "start_time": "2023-02-28T08:39:30.579Z"
   },
   {
    "duration": 203,
    "start_time": "2023-02-28T08:39:37.494Z"
   },
   {
    "duration": 177,
    "start_time": "2023-02-28T08:39:45.397Z"
   },
   {
    "duration": 137,
    "start_time": "2023-02-28T08:45:54.099Z"
   },
   {
    "duration": 3,
    "start_time": "2023-02-28T08:46:39.175Z"
   },
   {
    "duration": 115,
    "start_time": "2023-02-28T08:46:47.164Z"
   },
   {
    "duration": 113,
    "start_time": "2023-02-28T08:47:02.173Z"
   },
   {
    "duration": 130,
    "start_time": "2023-02-28T08:47:14.294Z"
   },
   {
    "duration": 149,
    "start_time": "2023-02-28T08:47:33.284Z"
   },
   {
    "duration": 121,
    "start_time": "2023-02-28T08:47:51.463Z"
   },
   {
    "duration": 125,
    "start_time": "2023-02-28T08:48:23.316Z"
   },
   {
    "duration": 208,
    "start_time": "2023-02-28T08:48:39.628Z"
   },
   {
    "duration": 134,
    "start_time": "2023-02-28T08:48:48.737Z"
   },
   {
    "duration": 748,
    "start_time": "2023-02-28T08:49:34.775Z"
   },
   {
    "duration": 27,
    "start_time": "2023-02-28T08:49:42.091Z"
   },
   {
    "duration": 144,
    "start_time": "2023-02-28T08:54:13.720Z"
   },
   {
    "duration": 38,
    "start_time": "2023-02-28T08:54:45.332Z"
   },
   {
    "duration": 31,
    "start_time": "2023-02-28T08:55:16.384Z"
   },
   {
    "duration": 11,
    "start_time": "2023-02-28T08:57:09.486Z"
   },
   {
    "duration": 26,
    "start_time": "2023-02-28T08:57:24.655Z"
   },
   {
    "duration": 589,
    "start_time": "2023-02-28T08:57:41.781Z"
   },
   {
    "duration": 879,
    "start_time": "2023-02-28T08:57:42.371Z"
   },
   {
    "duration": 114,
    "start_time": "2023-02-28T08:57:43.252Z"
   },
   {
    "duration": 260,
    "start_time": "2023-02-28T08:57:43.368Z"
   },
   {
    "duration": 1149,
    "start_time": "2023-02-28T08:57:43.630Z"
   },
   {
    "duration": 117,
    "start_time": "2023-02-28T08:57:44.781Z"
   },
   {
    "duration": 582,
    "start_time": "2023-02-28T08:57:44.900Z"
   },
   {
    "duration": 181,
    "start_time": "2023-02-28T08:57:45.483Z"
   },
   {
    "duration": 14,
    "start_time": "2023-02-28T08:57:45.666Z"
   },
   {
    "duration": 458,
    "start_time": "2023-02-28T08:57:45.682Z"
   },
   {
    "duration": 314,
    "start_time": "2023-02-28T08:57:46.142Z"
   },
   {
    "duration": 93,
    "start_time": "2023-02-28T08:57:46.458Z"
   },
   {
    "duration": 36,
    "start_time": "2023-02-28T08:57:46.552Z"
   },
   {
    "duration": 571,
    "start_time": "2023-02-28T08:58:05.108Z"
   },
   {
    "duration": 774,
    "start_time": "2023-02-28T08:58:05.681Z"
   },
   {
    "duration": 117,
    "start_time": "2023-02-28T08:58:06.456Z"
   },
   {
    "duration": 247,
    "start_time": "2023-02-28T08:58:06.575Z"
   },
   {
    "duration": 1114,
    "start_time": "2023-02-28T08:58:06.823Z"
   },
   {
    "duration": 114,
    "start_time": "2023-02-28T08:58:07.939Z"
   },
   {
    "duration": 316,
    "start_time": "2023-02-28T08:58:08.054Z"
   },
   {
    "duration": 75,
    "start_time": "2023-02-28T08:58:08.372Z"
   },
   {
    "duration": 14,
    "start_time": "2023-02-28T08:58:08.448Z"
   },
   {
    "duration": 182,
    "start_time": "2023-02-28T08:58:08.465Z"
   },
   {
    "duration": 153,
    "start_time": "2023-02-28T08:58:08.648Z"
   },
   {
    "duration": 43,
    "start_time": "2023-02-28T08:58:08.803Z"
   },
   {
    "duration": 13,
    "start_time": "2023-02-28T08:58:08.848Z"
   },
   {
    "duration": 22,
    "start_time": "2023-02-28T08:58:08.862Z"
   },
   {
    "duration": 7,
    "start_time": "2023-02-28T08:58:40.278Z"
   },
   {
    "duration": 6,
    "start_time": "2023-02-28T08:59:08.111Z"
   },
   {
    "duration": 9,
    "start_time": "2023-02-28T08:59:09.187Z"
   },
   {
    "duration": 588,
    "start_time": "2023-02-28T08:59:15.052Z"
   },
   {
    "duration": 756,
    "start_time": "2023-02-28T08:59:15.642Z"
   },
   {
    "duration": 113,
    "start_time": "2023-02-28T08:59:16.400Z"
   },
   {
    "duration": 281,
    "start_time": "2023-02-28T08:59:16.515Z"
   },
   {
    "duration": 1115,
    "start_time": "2023-02-28T08:59:16.798Z"
   },
   {
    "duration": 102,
    "start_time": "2023-02-28T08:59:17.915Z"
   },
   {
    "duration": 310,
    "start_time": "2023-02-28T08:59:18.019Z"
   },
   {
    "duration": 72,
    "start_time": "2023-02-28T08:59:18.331Z"
   },
   {
    "duration": 13,
    "start_time": "2023-02-28T08:59:18.404Z"
   },
   {
    "duration": 185,
    "start_time": "2023-02-28T08:59:18.418Z"
   },
   {
    "duration": 135,
    "start_time": "2023-02-28T08:59:18.604Z"
   },
   {
    "duration": 36,
    "start_time": "2023-02-28T08:59:18.740Z"
   },
   {
    "duration": 44,
    "start_time": "2023-02-28T08:59:18.777Z"
   },
   {
    "duration": 33,
    "start_time": "2023-02-28T08:59:18.823Z"
   },
   {
    "duration": 94,
    "start_time": "2023-02-28T09:07:44.188Z"
   },
   {
    "duration": 18,
    "start_time": "2023-02-28T09:07:49.100Z"
   },
   {
    "duration": 15,
    "start_time": "2023-02-28T09:18:35.429Z"
   },
   {
    "duration": 40,
    "start_time": "2023-02-28T09:18:45.780Z"
   },
   {
    "duration": 62,
    "start_time": "2023-02-28T10:08:59.165Z"
   },
   {
    "duration": 7,
    "start_time": "2023-02-28T10:14:01.583Z"
   },
   {
    "duration": 21,
    "start_time": "2023-02-28T10:14:09.339Z"
   },
   {
    "duration": 26,
    "start_time": "2023-02-28T10:14:33.088Z"
   },
   {
    "duration": 81,
    "start_time": "2023-02-28T10:15:24.351Z"
   },
   {
    "duration": 606,
    "start_time": "2023-02-28T10:22:07.392Z"
   },
   {
    "duration": 782,
    "start_time": "2023-02-28T10:22:08.000Z"
   },
   {
    "duration": 109,
    "start_time": "2023-02-28T10:22:08.783Z"
   },
   {
    "duration": 257,
    "start_time": "2023-02-28T10:22:08.894Z"
   },
   {
    "duration": 1167,
    "start_time": "2023-02-28T10:22:09.153Z"
   },
   {
    "duration": 114,
    "start_time": "2023-02-28T10:22:10.321Z"
   },
   {
    "duration": 326,
    "start_time": "2023-02-28T10:22:10.440Z"
   },
   {
    "duration": 76,
    "start_time": "2023-02-28T10:22:10.768Z"
   },
   {
    "duration": 14,
    "start_time": "2023-02-28T10:22:10.845Z"
   },
   {
    "duration": 194,
    "start_time": "2023-02-28T10:22:10.861Z"
   },
   {
    "duration": 148,
    "start_time": "2023-02-28T10:22:11.056Z"
   },
   {
    "duration": 48,
    "start_time": "2023-02-28T10:22:11.206Z"
   },
   {
    "duration": 43,
    "start_time": "2023-02-28T10:22:11.255Z"
   },
   {
    "duration": 10,
    "start_time": "2023-02-28T10:22:11.300Z"
   },
   {
    "duration": 32,
    "start_time": "2023-02-28T10:22:11.311Z"
   },
   {
    "duration": 97,
    "start_time": "2023-02-28T10:22:11.345Z"
   },
   {
    "duration": 67,
    "start_time": "2023-02-28T10:22:11.444Z"
   },
   {
    "duration": 16,
    "start_time": "2023-02-28T10:24:07.645Z"
   },
   {
    "duration": 77,
    "start_time": "2023-02-28T10:28:48.628Z"
   },
   {
    "duration": 52,
    "start_time": "2023-02-28T10:35:22.272Z"
   },
   {
    "duration": 139,
    "start_time": "2023-02-28T10:35:29.066Z"
   },
   {
    "duration": 50,
    "start_time": "2023-02-28T10:35:48.066Z"
   },
   {
    "duration": 73,
    "start_time": "2023-02-28T10:36:05.105Z"
   },
   {
    "duration": 176,
    "start_time": "2023-02-28T10:36:46.834Z"
   },
   {
    "duration": 609,
    "start_time": "2023-02-28T10:36:56.076Z"
   },
   {
    "duration": 825,
    "start_time": "2023-02-28T10:36:56.687Z"
   },
   {
    "duration": 120,
    "start_time": "2023-02-28T10:36:57.513Z"
   },
   {
    "duration": 278,
    "start_time": "2023-02-28T10:36:57.635Z"
   },
   {
    "duration": 1198,
    "start_time": "2023-02-28T10:36:57.915Z"
   },
   {
    "duration": 115,
    "start_time": "2023-02-28T10:36:59.114Z"
   },
   {
    "duration": 328,
    "start_time": "2023-02-28T10:36:59.240Z"
   },
   {
    "duration": 85,
    "start_time": "2023-02-28T10:36:59.570Z"
   },
   {
    "duration": 18,
    "start_time": "2023-02-28T10:36:59.660Z"
   },
   {
    "duration": 190,
    "start_time": "2023-02-28T10:36:59.681Z"
   },
   {
    "duration": 151,
    "start_time": "2023-02-28T10:36:59.873Z"
   },
   {
    "duration": 56,
    "start_time": "2023-02-28T10:37:00.026Z"
   },
   {
    "duration": 40,
    "start_time": "2023-02-28T10:37:00.084Z"
   },
   {
    "duration": 31,
    "start_time": "2023-02-28T10:37:00.126Z"
   },
   {
    "duration": 18,
    "start_time": "2023-02-28T10:37:00.164Z"
   },
   {
    "duration": 109,
    "start_time": "2023-02-28T10:37:00.183Z"
   },
   {
    "duration": 72,
    "start_time": "2023-02-28T10:37:00.294Z"
   },
   {
    "duration": 226,
    "start_time": "2023-02-28T10:37:00.368Z"
   },
   {
    "duration": 21,
    "start_time": "2023-02-28T10:37:38.994Z"
   },
   {
    "duration": 21,
    "start_time": "2023-02-28T10:38:10.401Z"
   },
   {
    "duration": 17,
    "start_time": "2023-02-28T10:39:27.103Z"
   },
   {
    "duration": 3484,
    "start_time": "2023-02-28T10:41:16.484Z"
   },
   {
    "duration": 18,
    "start_time": "2023-02-28T10:41:26.289Z"
   },
   {
    "duration": 27,
    "start_time": "2023-02-28T10:41:54.267Z"
   },
   {
    "duration": 202,
    "start_time": "2023-02-28T10:46:23.767Z"
   },
   {
    "duration": 167,
    "start_time": "2023-02-28T10:47:08.464Z"
   },
   {
    "duration": 171,
    "start_time": "2023-02-28T10:47:27.767Z"
   },
   {
    "duration": 624,
    "start_time": "2023-02-28T10:47:37.968Z"
   },
   {
    "duration": 881,
    "start_time": "2023-02-28T10:47:38.594Z"
   },
   {
    "duration": 117,
    "start_time": "2023-02-28T10:47:39.476Z"
   },
   {
    "duration": 292,
    "start_time": "2023-02-28T10:47:39.595Z"
   },
   {
    "duration": 2200,
    "start_time": "2023-02-28T10:47:39.889Z"
   },
   {
    "duration": 302,
    "start_time": "2023-02-28T10:47:42.150Z"
   },
   {
    "duration": 404,
    "start_time": "2023-02-28T10:47:42.457Z"
   },
   {
    "duration": 88,
    "start_time": "2023-02-28T10:47:42.863Z"
   },
   {
    "duration": 16,
    "start_time": "2023-02-28T10:47:42.952Z"
   },
   {
    "duration": 186,
    "start_time": "2023-02-28T10:47:42.970Z"
   },
   {
    "duration": 155,
    "start_time": "2023-02-28T10:47:43.158Z"
   },
   {
    "duration": 48,
    "start_time": "2023-02-28T10:47:43.315Z"
   },
   {
    "duration": 37,
    "start_time": "2023-02-28T10:47:43.364Z"
   },
   {
    "duration": 12,
    "start_time": "2023-02-28T10:47:43.404Z"
   },
   {
    "duration": 42,
    "start_time": "2023-02-28T10:47:43.418Z"
   },
   {
    "duration": 114,
    "start_time": "2023-02-28T10:47:43.461Z"
   },
   {
    "duration": 18,
    "start_time": "2023-02-28T10:47:43.577Z"
   },
   {
    "duration": 3391,
    "start_time": "2023-02-28T10:47:43.596Z"
   },
   {
    "duration": 28,
    "start_time": "2023-02-28T10:47:46.989Z"
   },
   {
    "duration": 231,
    "start_time": "2023-02-28T10:47:47.018Z"
   },
   {
    "duration": 235,
    "start_time": "2023-02-28T10:47:47.250Z"
   },
   {
    "duration": 6,
    "start_time": "2023-02-28T10:48:14.167Z"
   },
   {
    "duration": 640,
    "start_time": "2023-02-28T10:49:11.725Z"
   },
   {
    "duration": 864,
    "start_time": "2023-02-28T10:49:12.367Z"
   },
   {
    "duration": 124,
    "start_time": "2023-02-28T10:49:13.232Z"
   },
   {
    "duration": 255,
    "start_time": "2023-02-28T10:49:13.362Z"
   },
   {
    "duration": 1250,
    "start_time": "2023-02-28T10:49:13.620Z"
   },
   {
    "duration": 112,
    "start_time": "2023-02-28T10:49:14.871Z"
   },
   {
    "duration": 340,
    "start_time": "2023-02-28T10:49:14.985Z"
   },
   {
    "duration": 87,
    "start_time": "2023-02-28T10:49:15.327Z"
   },
   {
    "duration": 13,
    "start_time": "2023-02-28T10:49:15.416Z"
   },
   {
    "duration": 191,
    "start_time": "2023-02-28T10:49:15.440Z"
   },
   {
    "duration": 162,
    "start_time": "2023-02-28T10:49:15.633Z"
   },
   {
    "duration": 67,
    "start_time": "2023-02-28T10:49:15.796Z"
   },
   {
    "duration": 38,
    "start_time": "2023-02-28T10:49:15.868Z"
   },
   {
    "duration": 9,
    "start_time": "2023-02-28T10:49:15.909Z"
   },
   {
    "duration": 25,
    "start_time": "2023-02-28T10:49:15.920Z"
   },
   {
    "duration": 88,
    "start_time": "2023-02-28T10:49:15.947Z"
   },
   {
    "duration": 33,
    "start_time": "2023-02-28T10:49:16.036Z"
   },
   {
    "duration": 29,
    "start_time": "2023-02-28T10:49:16.071Z"
   },
   {
    "duration": 67,
    "start_time": "2023-02-28T10:49:16.102Z"
   },
   {
    "duration": 81,
    "start_time": "2023-02-28T10:49:16.171Z"
   },
   {
    "duration": 8,
    "start_time": "2023-02-28T10:49:16.258Z"
   },
   {
    "duration": 161,
    "start_time": "2023-02-28T10:49:28.663Z"
   },
   {
    "duration": 187,
    "start_time": "2023-02-28T10:49:44.507Z"
   },
   {
    "duration": 224,
    "start_time": "2023-02-28T10:49:58.934Z"
   },
   {
    "duration": 148,
    "start_time": "2023-02-28T10:50:27.167Z"
   },
   {
    "duration": 121,
    "start_time": "2023-02-28T10:50:50.474Z"
   },
   {
    "duration": 138,
    "start_time": "2023-02-28T10:51:00.779Z"
   },
   {
    "duration": 213,
    "start_time": "2023-02-28T10:51:11.709Z"
   },
   {
    "duration": 129,
    "start_time": "2023-02-28T10:51:15.425Z"
   },
   {
    "duration": 8,
    "start_time": "2023-02-28T10:51:39.835Z"
   },
   {
    "duration": 77,
    "start_time": "2023-02-28T10:53:47.323Z"
   },
   {
    "duration": 7,
    "start_time": "2023-02-28T10:54:31.920Z"
   },
   {
    "duration": 8,
    "start_time": "2023-02-28T10:54:54.882Z"
   },
   {
    "duration": 5,
    "start_time": "2023-02-28T10:55:00.884Z"
   },
   {
    "duration": 5,
    "start_time": "2023-02-28T10:55:13.968Z"
   },
   {
    "duration": 196,
    "start_time": "2023-02-28T11:04:22.712Z"
   },
   {
    "duration": 179,
    "start_time": "2023-02-28T11:04:33.536Z"
   },
   {
    "duration": 193,
    "start_time": "2023-02-28T11:04:39.323Z"
   },
   {
    "duration": 174,
    "start_time": "2023-02-28T11:04:44.815Z"
   },
   {
    "duration": 3193,
    "start_time": "2023-02-28T11:07:25.567Z"
   },
   {
    "duration": 192,
    "start_time": "2023-02-28T11:07:40.502Z"
   },
   {
    "duration": 580,
    "start_time": "2023-02-28T11:08:17.388Z"
   },
   {
    "duration": 833,
    "start_time": "2023-02-28T11:08:17.970Z"
   },
   {
    "duration": 116,
    "start_time": "2023-02-28T11:08:18.805Z"
   },
   {
    "duration": 285,
    "start_time": "2023-02-28T11:08:18.922Z"
   },
   {
    "duration": 1178,
    "start_time": "2023-02-28T11:08:19.209Z"
   },
   {
    "duration": 126,
    "start_time": "2023-02-28T11:08:20.388Z"
   },
   {
    "duration": 364,
    "start_time": "2023-02-28T11:08:20.516Z"
   },
   {
    "duration": 82,
    "start_time": "2023-02-28T11:08:20.882Z"
   },
   {
    "duration": 20,
    "start_time": "2023-02-28T11:08:20.966Z"
   },
   {
    "duration": 214,
    "start_time": "2023-02-28T11:08:20.989Z"
   },
   {
    "duration": 165,
    "start_time": "2023-02-28T11:08:21.205Z"
   },
   {
    "duration": 37,
    "start_time": "2023-02-28T11:08:21.371Z"
   },
   {
    "duration": 55,
    "start_time": "2023-02-28T11:08:21.410Z"
   },
   {
    "duration": 9,
    "start_time": "2023-02-28T11:08:21.466Z"
   },
   {
    "duration": 20,
    "start_time": "2023-02-28T11:08:21.477Z"
   },
   {
    "duration": 102,
    "start_time": "2023-02-28T11:08:21.499Z"
   },
   {
    "duration": 18,
    "start_time": "2023-02-28T11:08:21.602Z"
   },
   {
    "duration": 35,
    "start_time": "2023-02-28T11:08:21.621Z"
   },
   {
    "duration": 37,
    "start_time": "2023-02-28T11:08:21.658Z"
   },
   {
    "duration": 73,
    "start_time": "2023-02-28T11:08:21.696Z"
   },
   {
    "duration": 116,
    "start_time": "2023-02-28T11:08:21.771Z"
   },
   {
    "duration": 5,
    "start_time": "2023-02-28T11:08:21.889Z"
   },
   {
    "duration": 5,
    "start_time": "2023-02-28T11:08:21.896Z"
   },
   {
    "duration": 3182,
    "start_time": "2023-02-28T11:08:21.902Z"
   },
   {
    "duration": 196,
    "start_time": "2023-02-28T11:08:25.086Z"
   },
   {
    "duration": 334,
    "start_time": "2023-02-28T11:08:45.101Z"
   },
   {
    "duration": 604,
    "start_time": "2023-02-28T11:08:53.491Z"
   },
   {
    "duration": 858,
    "start_time": "2023-02-28T11:08:54.097Z"
   },
   {
    "duration": 112,
    "start_time": "2023-02-28T11:08:54.957Z"
   },
   {
    "duration": 264,
    "start_time": "2023-02-28T11:08:55.072Z"
   },
   {
    "duration": 1205,
    "start_time": "2023-02-28T11:08:55.341Z"
   },
   {
    "duration": 124,
    "start_time": "2023-02-28T11:08:56.554Z"
   },
   {
    "duration": 368,
    "start_time": "2023-02-28T11:08:56.680Z"
   },
   {
    "duration": 81,
    "start_time": "2023-02-28T11:08:57.049Z"
   },
   {
    "duration": 26,
    "start_time": "2023-02-28T11:08:57.131Z"
   },
   {
    "duration": 197,
    "start_time": "2023-02-28T11:08:57.160Z"
   },
   {
    "duration": 146,
    "start_time": "2023-02-28T11:08:57.359Z"
   },
   {
    "duration": 55,
    "start_time": "2023-02-28T11:08:57.507Z"
   },
   {
    "duration": 37,
    "start_time": "2023-02-28T11:08:57.563Z"
   },
   {
    "duration": 10,
    "start_time": "2023-02-28T11:08:57.602Z"
   },
   {
    "duration": 21,
    "start_time": "2023-02-28T11:08:57.613Z"
   },
   {
    "duration": 95,
    "start_time": "2023-02-28T11:08:57.636Z"
   },
   {
    "duration": 34,
    "start_time": "2023-02-28T11:08:57.732Z"
   },
   {
    "duration": 25,
    "start_time": "2023-02-28T11:08:57.767Z"
   },
   {
    "duration": 29,
    "start_time": "2023-02-28T11:08:57.793Z"
   },
   {
    "duration": 81,
    "start_time": "2023-02-28T11:08:57.823Z"
   },
   {
    "duration": 124,
    "start_time": "2023-02-28T11:08:57.905Z"
   },
   {
    "duration": 15,
    "start_time": "2023-02-28T11:08:58.031Z"
   },
   {
    "duration": 27,
    "start_time": "2023-02-28T11:08:58.048Z"
   },
   {
    "duration": 37,
    "start_time": "2023-02-28T11:08:58.077Z"
   },
   {
    "duration": 5,
    "start_time": "2023-02-28T11:08:58.116Z"
   },
   {
    "duration": 32,
    "start_time": "2023-02-28T11:09:15.571Z"
   },
   {
    "duration": 8,
    "start_time": "2023-02-28T11:09:16.473Z"
   },
   {
    "duration": 29,
    "start_time": "2023-02-28T11:10:22.736Z"
   },
   {
    "duration": 9,
    "start_time": "2023-02-28T11:10:25.022Z"
   },
   {
    "duration": 5,
    "start_time": "2023-02-28T11:10:55.426Z"
   },
   {
    "duration": 28,
    "start_time": "2023-02-28T11:11:04.252Z"
   },
   {
    "duration": 120,
    "start_time": "2023-02-28T11:13:25.897Z"
   },
   {
    "duration": 120,
    "start_time": "2023-02-28T11:13:41.797Z"
   },
   {
    "duration": 149,
    "start_time": "2023-02-28T11:14:02.434Z"
   },
   {
    "duration": 575,
    "start_time": "2023-02-28T11:14:09.202Z"
   },
   {
    "duration": 763,
    "start_time": "2023-02-28T11:14:09.779Z"
   },
   {
    "duration": 114,
    "start_time": "2023-02-28T11:14:10.543Z"
   },
   {
    "duration": 253,
    "start_time": "2023-02-28T11:14:10.660Z"
   },
   {
    "duration": 1195,
    "start_time": "2023-02-28T11:14:10.915Z"
   },
   {
    "duration": 109,
    "start_time": "2023-02-28T11:14:12.111Z"
   },
   {
    "duration": 451,
    "start_time": "2023-02-28T11:14:12.221Z"
   },
   {
    "duration": 99,
    "start_time": "2023-02-28T11:14:12.674Z"
   },
   {
    "duration": 18,
    "start_time": "2023-02-28T11:14:12.775Z"
   },
   {
    "duration": 192,
    "start_time": "2023-02-28T11:14:12.796Z"
   },
   {
    "duration": 147,
    "start_time": "2023-02-28T11:14:12.990Z"
   },
   {
    "duration": 40,
    "start_time": "2023-02-28T11:14:13.139Z"
   },
   {
    "duration": 36,
    "start_time": "2023-02-28T11:14:13.180Z"
   },
   {
    "duration": 26,
    "start_time": "2023-02-28T11:14:13.218Z"
   },
   {
    "duration": 23,
    "start_time": "2023-02-28T11:14:13.254Z"
   },
   {
    "duration": 101,
    "start_time": "2023-02-28T11:14:13.279Z"
   },
   {
    "duration": 17,
    "start_time": "2023-02-28T11:14:13.382Z"
   },
   {
    "duration": 26,
    "start_time": "2023-02-28T11:14:13.400Z"
   },
   {
    "duration": 40,
    "start_time": "2023-02-28T11:14:13.428Z"
   },
   {
    "duration": 69,
    "start_time": "2023-02-28T11:14:13.469Z"
   },
   {
    "duration": 122,
    "start_time": "2023-02-28T11:14:13.540Z"
   },
   {
    "duration": 5,
    "start_time": "2023-02-28T11:14:13.664Z"
   },
   {
    "duration": 18,
    "start_time": "2023-02-28T11:14:13.671Z"
   },
   {
    "duration": 47,
    "start_time": "2023-02-28T11:14:13.690Z"
   },
   {
    "duration": 13,
    "start_time": "2023-02-28T11:14:13.739Z"
   },
   {
    "duration": 583,
    "start_time": "2023-02-28T11:15:12.479Z"
   },
   {
    "duration": 790,
    "start_time": "2023-02-28T11:15:13.063Z"
   },
   {
    "duration": 106,
    "start_time": "2023-02-28T11:15:13.855Z"
   },
   {
    "duration": 248,
    "start_time": "2023-02-28T11:15:13.963Z"
   },
   {
    "duration": 1160,
    "start_time": "2023-02-28T11:15:14.212Z"
   },
   {
    "duration": 127,
    "start_time": "2023-02-28T11:15:15.373Z"
   },
   {
    "duration": 352,
    "start_time": "2023-02-28T11:15:15.502Z"
   },
   {
    "duration": 97,
    "start_time": "2023-02-28T11:15:15.857Z"
   },
   {
    "duration": 15,
    "start_time": "2023-02-28T11:15:15.956Z"
   },
   {
    "duration": 184,
    "start_time": "2023-02-28T11:15:15.973Z"
   },
   {
    "duration": 156,
    "start_time": "2023-02-28T11:15:16.161Z"
   },
   {
    "duration": 50,
    "start_time": "2023-02-28T11:15:16.319Z"
   },
   {
    "duration": 40,
    "start_time": "2023-02-28T11:15:16.371Z"
   },
   {
    "duration": 9,
    "start_time": "2023-02-28T11:15:16.413Z"
   },
   {
    "duration": 22,
    "start_time": "2023-02-28T11:15:16.451Z"
   },
   {
    "duration": 120,
    "start_time": "2023-02-28T11:15:16.475Z"
   },
   {
    "duration": 19,
    "start_time": "2023-02-28T11:15:16.601Z"
   },
   {
    "duration": 34,
    "start_time": "2023-02-28T11:15:16.622Z"
   },
   {
    "duration": 30,
    "start_time": "2023-02-28T11:15:16.657Z"
   },
   {
    "duration": 74,
    "start_time": "2023-02-28T11:15:16.688Z"
   },
   {
    "duration": 119,
    "start_time": "2023-02-28T11:15:16.764Z"
   },
   {
    "duration": 127,
    "start_time": "2023-02-28T11:15:16.886Z"
   },
   {
    "duration": 5,
    "start_time": "2023-02-28T11:15:17.015Z"
   },
   {
    "duration": 5,
    "start_time": "2023-02-28T11:15:17.022Z"
   },
   {
    "duration": 41,
    "start_time": "2023-02-28T11:15:17.043Z"
   },
   {
    "duration": 5,
    "start_time": "2023-02-28T11:15:17.086Z"
   },
   {
    "duration": 573,
    "start_time": "2023-02-28T11:15:48.497Z"
   },
   {
    "duration": 792,
    "start_time": "2023-02-28T11:15:49.072Z"
   },
   {
    "duration": 103,
    "start_time": "2023-02-28T11:15:49.866Z"
   },
   {
    "duration": 245,
    "start_time": "2023-02-28T11:15:49.971Z"
   },
   {
    "duration": 1195,
    "start_time": "2023-02-28T11:15:50.218Z"
   },
   {
    "duration": 112,
    "start_time": "2023-02-28T11:15:51.415Z"
   },
   {
    "duration": 333,
    "start_time": "2023-02-28T11:15:51.528Z"
   },
   {
    "duration": 70,
    "start_time": "2023-02-28T11:15:51.862Z"
   },
   {
    "duration": 17,
    "start_time": "2023-02-28T11:15:51.940Z"
   },
   {
    "duration": 193,
    "start_time": "2023-02-28T11:15:51.959Z"
   },
   {
    "duration": 132,
    "start_time": "2023-02-28T11:15:52.154Z"
   },
   {
    "duration": 38,
    "start_time": "2023-02-28T11:15:52.288Z"
   },
   {
    "duration": 48,
    "start_time": "2023-02-28T11:15:52.327Z"
   },
   {
    "duration": 11,
    "start_time": "2023-02-28T11:15:52.377Z"
   },
   {
    "duration": 35,
    "start_time": "2023-02-28T11:15:52.390Z"
   },
   {
    "duration": 121,
    "start_time": "2023-02-28T11:15:52.427Z"
   },
   {
    "duration": 20,
    "start_time": "2023-02-28T11:15:52.557Z"
   },
   {
    "duration": 22,
    "start_time": "2023-02-28T11:15:52.579Z"
   },
   {
    "duration": 49,
    "start_time": "2023-02-28T11:15:52.604Z"
   },
   {
    "duration": 76,
    "start_time": "2023-02-28T11:15:52.655Z"
   },
   {
    "duration": 124,
    "start_time": "2023-02-28T11:15:52.732Z"
   },
   {
    "duration": 115,
    "start_time": "2023-02-28T11:15:52.857Z"
   },
   {
    "duration": 7,
    "start_time": "2023-02-28T11:15:52.974Z"
   },
   {
    "duration": 5,
    "start_time": "2023-02-28T11:15:52.983Z"
   },
   {
    "duration": 61,
    "start_time": "2023-02-28T11:15:52.989Z"
   },
   {
    "duration": 11,
    "start_time": "2023-02-28T11:15:53.052Z"
   },
   {
    "duration": 57,
    "start_time": "2023-02-28T11:16:51.369Z"
   },
   {
    "duration": 16,
    "start_time": "2023-02-28T11:17:40.959Z"
   },
   {
    "duration": 18,
    "start_time": "2023-02-28T11:22:35.906Z"
   },
   {
    "duration": 588,
    "start_time": "2023-02-28T11:22:39.941Z"
   },
   {
    "duration": 5,
    "start_time": "2023-02-28T11:22:53.723Z"
   },
   {
    "duration": 504,
    "start_time": "2023-02-28T11:23:10.864Z"
   },
   {
    "duration": 614,
    "start_time": "2023-02-28T11:23:19.831Z"
   },
   {
    "duration": 730,
    "start_time": "2023-02-28T11:23:20.447Z"
   },
   {
    "duration": 105,
    "start_time": "2023-02-28T11:23:21.179Z"
   },
   {
    "duration": 241,
    "start_time": "2023-02-28T11:23:21.286Z"
   },
   {
    "duration": 1157,
    "start_time": "2023-02-28T11:23:21.529Z"
   },
   {
    "duration": 113,
    "start_time": "2023-02-28T11:23:22.688Z"
   },
   {
    "duration": 313,
    "start_time": "2023-02-28T11:23:22.803Z"
   },
   {
    "duration": 73,
    "start_time": "2023-02-28T11:23:23.118Z"
   },
   {
    "duration": 13,
    "start_time": "2023-02-28T11:23:23.193Z"
   },
   {
    "duration": 200,
    "start_time": "2023-02-28T11:23:23.209Z"
   },
   {
    "duration": 150,
    "start_time": "2023-02-28T11:23:23.411Z"
   },
   {
    "duration": 38,
    "start_time": "2023-02-28T11:23:23.563Z"
   },
   {
    "duration": 55,
    "start_time": "2023-02-28T11:23:23.603Z"
   },
   {
    "duration": 10,
    "start_time": "2023-02-28T11:23:23.660Z"
   },
   {
    "duration": 18,
    "start_time": "2023-02-28T11:23:23.672Z"
   },
   {
    "duration": 106,
    "start_time": "2023-02-28T11:23:23.692Z"
   },
   {
    "duration": 18,
    "start_time": "2023-02-28T11:23:23.800Z"
   },
   {
    "duration": 29,
    "start_time": "2023-02-28T11:23:23.819Z"
   },
   {
    "duration": 29,
    "start_time": "2023-02-28T11:23:23.849Z"
   },
   {
    "duration": 119,
    "start_time": "2023-02-28T11:23:23.880Z"
   },
   {
    "duration": 121,
    "start_time": "2023-02-28T11:23:24.001Z"
   },
   {
    "duration": 7,
    "start_time": "2023-02-28T11:23:24.124Z"
   },
   {
    "duration": 5,
    "start_time": "2023-02-28T11:23:24.141Z"
   },
   {
    "duration": 37,
    "start_time": "2023-02-28T11:23:24.148Z"
   },
   {
    "duration": 7,
    "start_time": "2023-02-28T11:23:24.186Z"
   },
   {
    "duration": 87,
    "start_time": "2023-02-28T11:23:24.195Z"
   },
   {
    "duration": 18,
    "start_time": "2023-02-28T11:23:24.284Z"
   },
   {
    "duration": 47,
    "start_time": "2023-02-28T11:23:24.305Z"
   },
   {
    "duration": 24,
    "start_time": "2023-02-28T11:23:24.354Z"
   },
   {
    "duration": 63,
    "start_time": "2023-02-28T11:24:04.760Z"
   },
   {
    "duration": 65,
    "start_time": "2023-02-28T11:24:27.078Z"
   },
   {
    "duration": 561,
    "start_time": "2023-02-28T11:24:47.979Z"
   },
   {
    "duration": 743,
    "start_time": "2023-02-28T11:24:48.542Z"
   },
   {
    "duration": 101,
    "start_time": "2023-02-28T11:24:49.287Z"
   },
   {
    "duration": 238,
    "start_time": "2023-02-28T11:24:49.390Z"
   },
   {
    "duration": 1077,
    "start_time": "2023-02-28T11:24:49.629Z"
   },
   {
    "duration": 104,
    "start_time": "2023-02-28T11:24:50.707Z"
   },
   {
    "duration": 298,
    "start_time": "2023-02-28T11:24:50.813Z"
   },
   {
    "duration": 71,
    "start_time": "2023-02-28T11:24:51.112Z"
   },
   {
    "duration": 12,
    "start_time": "2023-02-28T11:24:51.185Z"
   },
   {
    "duration": 178,
    "start_time": "2023-02-28T11:24:51.200Z"
   },
   {
    "duration": 134,
    "start_time": "2023-02-28T11:24:51.380Z"
   },
   {
    "duration": 41,
    "start_time": "2023-02-28T11:24:51.516Z"
   },
   {
    "duration": 35,
    "start_time": "2023-02-28T11:24:51.559Z"
   },
   {
    "duration": 9,
    "start_time": "2023-02-28T11:24:51.596Z"
   },
   {
    "duration": 34,
    "start_time": "2023-02-28T11:24:51.606Z"
   },
   {
    "duration": 79,
    "start_time": "2023-02-28T11:24:51.642Z"
   },
   {
    "duration": 24,
    "start_time": "2023-02-28T11:24:51.723Z"
   },
   {
    "duration": 24,
    "start_time": "2023-02-28T11:24:51.749Z"
   },
   {
    "duration": 31,
    "start_time": "2023-02-28T11:24:51.775Z"
   },
   {
    "duration": 118,
    "start_time": "2023-02-28T11:24:51.807Z"
   },
   {
    "duration": 115,
    "start_time": "2023-02-28T11:24:51.926Z"
   },
   {
    "duration": 5,
    "start_time": "2023-02-28T11:24:52.043Z"
   },
   {
    "duration": 8,
    "start_time": "2023-02-28T11:24:52.050Z"
   },
   {
    "duration": 39,
    "start_time": "2023-02-28T11:24:52.060Z"
   },
   {
    "duration": 5,
    "start_time": "2023-02-28T11:24:52.101Z"
   },
   {
    "duration": 76,
    "start_time": "2023-02-28T11:24:52.107Z"
   },
   {
    "duration": 15,
    "start_time": "2023-02-28T11:24:52.184Z"
   },
   {
    "duration": 49,
    "start_time": "2023-02-28T11:24:52.202Z"
   },
   {
    "duration": 59,
    "start_time": "2023-02-28T11:24:52.252Z"
   },
   {
    "duration": 17,
    "start_time": "2023-02-28T11:25:25.550Z"
   },
   {
    "duration": 583,
    "start_time": "2023-02-28T11:27:23.495Z"
   },
   {
    "duration": 801,
    "start_time": "2023-02-28T11:27:24.080Z"
   },
   {
    "duration": 110,
    "start_time": "2023-02-28T11:27:24.882Z"
   },
   {
    "duration": 274,
    "start_time": "2023-02-28T11:27:24.994Z"
   },
   {
    "duration": 1142,
    "start_time": "2023-02-28T11:27:25.270Z"
   },
   {
    "duration": 112,
    "start_time": "2023-02-28T11:27:26.414Z"
   },
   {
    "duration": 321,
    "start_time": "2023-02-28T11:27:26.528Z"
   },
   {
    "duration": 78,
    "start_time": "2023-02-28T11:27:26.851Z"
   },
   {
    "duration": 14,
    "start_time": "2023-02-28T11:27:26.941Z"
   },
   {
    "duration": 183,
    "start_time": "2023-02-28T11:27:26.957Z"
   },
   {
    "duration": 150,
    "start_time": "2023-02-28T11:27:27.142Z"
   },
   {
    "duration": 47,
    "start_time": "2023-02-28T11:27:27.294Z"
   },
   {
    "duration": 35,
    "start_time": "2023-02-28T11:27:27.343Z"
   },
   {
    "duration": 10,
    "start_time": "2023-02-28T11:27:27.381Z"
   },
   {
    "duration": 20,
    "start_time": "2023-02-28T11:27:27.392Z"
   },
   {
    "duration": 97,
    "start_time": "2023-02-28T11:27:27.413Z"
   },
   {
    "duration": 30,
    "start_time": "2023-02-28T11:27:27.512Z"
   },
   {
    "duration": 17,
    "start_time": "2023-02-28T11:27:27.543Z"
   },
   {
    "duration": 29,
    "start_time": "2023-02-28T11:27:27.562Z"
   },
   {
    "duration": 129,
    "start_time": "2023-02-28T11:27:27.592Z"
   },
   {
    "duration": 120,
    "start_time": "2023-02-28T11:27:27.723Z"
   },
   {
    "duration": 5,
    "start_time": "2023-02-28T11:27:27.844Z"
   },
   {
    "duration": 7,
    "start_time": "2023-02-28T11:27:27.850Z"
   },
   {
    "duration": 35,
    "start_time": "2023-02-28T11:27:27.859Z"
   },
   {
    "duration": 5,
    "start_time": "2023-02-28T11:27:27.895Z"
   },
   {
    "duration": 84,
    "start_time": "2023-02-28T11:27:27.902Z"
   },
   {
    "duration": 18,
    "start_time": "2023-02-28T11:27:27.988Z"
   },
   {
    "duration": 63,
    "start_time": "2023-02-28T11:27:28.008Z"
   },
   {
    "duration": 19,
    "start_time": "2023-02-28T11:27:28.072Z"
   },
   {
    "duration": 56,
    "start_time": "2023-02-28T11:27:48.020Z"
   },
   {
    "duration": 107,
    "start_time": "2023-02-28T11:30:59.480Z"
   },
   {
    "duration": 120,
    "start_time": "2023-02-28T11:31:14.333Z"
   },
   {
    "duration": 117,
    "start_time": "2023-02-28T11:31:38.997Z"
   },
   {
    "duration": 24,
    "start_time": "2023-02-28T11:32:31.845Z"
   },
   {
    "duration": 23,
    "start_time": "2023-02-28T11:32:44.233Z"
   },
   {
    "duration": 656,
    "start_time": "2023-02-28T11:35:19.219Z"
   },
   {
    "duration": 784,
    "start_time": "2023-02-28T11:35:19.877Z"
   },
   {
    "duration": 108,
    "start_time": "2023-02-28T11:35:20.663Z"
   },
   {
    "duration": 256,
    "start_time": "2023-02-28T11:35:20.774Z"
   },
   {
    "duration": 1146,
    "start_time": "2023-02-28T11:35:21.031Z"
   },
   {
    "duration": 107,
    "start_time": "2023-02-28T11:35:22.178Z"
   },
   {
    "duration": 382,
    "start_time": "2023-02-28T11:35:22.287Z"
   },
   {
    "duration": 121,
    "start_time": "2023-02-28T11:35:22.671Z"
   },
   {
    "duration": 19,
    "start_time": "2023-02-28T11:35:22.841Z"
   },
   {
    "duration": 389,
    "start_time": "2023-02-28T11:35:22.862Z"
   },
   {
    "duration": 314,
    "start_time": "2023-02-28T11:35:23.253Z"
   },
   {
    "duration": 96,
    "start_time": "2023-02-28T11:35:23.569Z"
   },
   {
    "duration": 102,
    "start_time": "2023-02-28T11:35:23.666Z"
   },
   {
    "duration": 9,
    "start_time": "2023-02-28T11:35:23.769Z"
   },
   {
    "duration": 73,
    "start_time": "2023-02-28T11:35:23.780Z"
   },
   {
    "duration": 196,
    "start_time": "2023-02-28T11:35:23.855Z"
   },
   {
    "duration": 20,
    "start_time": "2023-02-28T11:35:24.054Z"
   },
   {
    "duration": 72,
    "start_time": "2023-02-28T11:35:24.076Z"
   },
   {
    "duration": 30,
    "start_time": "2023-02-28T11:35:24.151Z"
   },
   {
    "duration": 303,
    "start_time": "2023-02-28T11:35:24.182Z"
   },
   {
    "duration": 276,
    "start_time": "2023-02-28T11:35:24.486Z"
   },
   {
    "duration": 5,
    "start_time": "2023-02-28T11:35:24.763Z"
   },
   {
    "duration": 6,
    "start_time": "2023-02-28T11:35:24.770Z"
   },
   {
    "duration": 104,
    "start_time": "2023-02-28T11:35:24.778Z"
   },
   {
    "duration": 5,
    "start_time": "2023-02-28T11:35:24.884Z"
   },
   {
    "duration": 25,
    "start_time": "2023-02-28T11:35:24.891Z"
   },
   {
    "duration": 63,
    "start_time": "2023-02-28T11:35:24.918Z"
   },
   {
    "duration": 81,
    "start_time": "2023-02-28T11:35:24.983Z"
   },
   {
    "duration": 129,
    "start_time": "2023-02-28T11:35:25.066Z"
   },
   {
    "duration": 24,
    "start_time": "2023-02-28T11:35:25.196Z"
   },
   {
    "duration": 71,
    "start_time": "2023-02-28T11:35:25.222Z"
   },
   {
    "duration": 591,
    "start_time": "2023-02-28T11:38:01.306Z"
   },
   {
    "duration": 811,
    "start_time": "2023-02-28T11:38:01.899Z"
   },
   {
    "duration": 137,
    "start_time": "2023-02-28T11:38:02.712Z"
   },
   {
    "duration": 252,
    "start_time": "2023-02-28T11:38:02.854Z"
   },
   {
    "duration": 1117,
    "start_time": "2023-02-28T11:38:03.108Z"
   },
   {
    "duration": 118,
    "start_time": "2023-02-28T11:38:04.227Z"
   },
   {
    "duration": 307,
    "start_time": "2023-02-28T11:38:04.347Z"
   },
   {
    "duration": 72,
    "start_time": "2023-02-28T11:38:04.656Z"
   },
   {
    "duration": 29,
    "start_time": "2023-02-28T11:38:04.729Z"
   },
   {
    "duration": 178,
    "start_time": "2023-02-28T11:38:04.760Z"
   },
   {
    "duration": 150,
    "start_time": "2023-02-28T11:38:04.940Z"
   },
   {
    "duration": 35,
    "start_time": "2023-02-28T11:38:05.091Z"
   },
   {
    "duration": 38,
    "start_time": "2023-02-28T11:38:05.128Z"
   },
   {
    "duration": 8,
    "start_time": "2023-02-28T11:38:05.168Z"
   },
   {
    "duration": 17,
    "start_time": "2023-02-28T11:38:05.178Z"
   },
   {
    "duration": 103,
    "start_time": "2023-02-28T11:38:05.197Z"
   },
   {
    "duration": 17,
    "start_time": "2023-02-28T11:38:05.302Z"
   },
   {
    "duration": 38,
    "start_time": "2023-02-28T11:38:05.320Z"
   },
   {
    "duration": 41,
    "start_time": "2023-02-28T11:38:05.359Z"
   },
   {
    "duration": 106,
    "start_time": "2023-02-28T11:38:05.402Z"
   },
   {
    "duration": 120,
    "start_time": "2023-02-28T11:38:05.510Z"
   },
   {
    "duration": 23,
    "start_time": "2023-02-28T11:38:05.631Z"
   },
   {
    "duration": 4,
    "start_time": "2023-02-28T11:38:05.656Z"
   },
   {
    "duration": 34,
    "start_time": "2023-02-28T11:38:05.661Z"
   },
   {
    "duration": 6,
    "start_time": "2023-02-28T11:38:05.697Z"
   },
   {
    "duration": 16,
    "start_time": "2023-02-28T11:38:05.704Z"
   },
   {
    "duration": 59,
    "start_time": "2023-02-28T11:38:05.721Z"
   },
   {
    "duration": 72,
    "start_time": "2023-02-28T11:38:05.783Z"
   },
   {
    "duration": 127,
    "start_time": "2023-02-28T11:38:05.856Z"
   },
   {
    "duration": 23,
    "start_time": "2023-02-28T11:38:05.984Z"
   },
   {
    "duration": 36,
    "start_time": "2023-02-28T11:38:06.009Z"
   },
   {
    "duration": 25,
    "start_time": "2023-02-28T11:38:06.047Z"
   },
   {
    "duration": 80,
    "start_time": "2023-02-28T11:38:06.074Z"
   },
   {
    "duration": 33,
    "start_time": "2023-02-28T11:39:37.579Z"
   },
   {
    "duration": 5,
    "start_time": "2023-02-28T11:45:25.976Z"
   },
   {
    "duration": 120,
    "start_time": "2023-02-28T11:45:53.592Z"
   },
   {
    "duration": 113,
    "start_time": "2023-02-28T11:46:05.388Z"
   },
   {
    "duration": 149,
    "start_time": "2023-02-28T11:46:10.983Z"
   },
   {
    "duration": 146,
    "start_time": "2023-02-28T11:46:19.828Z"
   },
   {
    "duration": 257,
    "start_time": "2023-02-28T11:46:29.734Z"
   },
   {
    "duration": 16,
    "start_time": "2023-02-28T11:47:38.823Z"
   },
   {
    "duration": 80,
    "start_time": "2023-02-28T11:48:46.390Z"
   },
   {
    "duration": 26,
    "start_time": "2023-02-28T11:48:52.574Z"
   },
   {
    "duration": 597,
    "start_time": "2023-02-28T11:49:08.864Z"
   },
   {
    "duration": 757,
    "start_time": "2023-02-28T11:49:09.463Z"
   },
   {
    "duration": 111,
    "start_time": "2023-02-28T11:49:10.221Z"
   },
   {
    "duration": 250,
    "start_time": "2023-02-28T11:49:10.340Z"
   },
   {
    "duration": 1119,
    "start_time": "2023-02-28T11:49:10.592Z"
   },
   {
    "duration": 115,
    "start_time": "2023-02-28T11:49:11.712Z"
   },
   {
    "duration": 321,
    "start_time": "2023-02-28T11:49:11.829Z"
   },
   {
    "duration": 76,
    "start_time": "2023-02-28T11:49:12.152Z"
   },
   {
    "duration": 25,
    "start_time": "2023-02-28T11:49:12.230Z"
   },
   {
    "duration": 175,
    "start_time": "2023-02-28T11:49:12.258Z"
   },
   {
    "duration": 177,
    "start_time": "2023-02-28T11:49:12.443Z"
   },
   {
    "duration": 50,
    "start_time": "2023-02-28T11:49:12.622Z"
   },
   {
    "duration": 39,
    "start_time": "2023-02-28T11:49:12.675Z"
   },
   {
    "duration": 9,
    "start_time": "2023-02-28T11:49:12.716Z"
   },
   {
    "duration": 30,
    "start_time": "2023-02-28T11:49:12.739Z"
   },
   {
    "duration": 97,
    "start_time": "2023-02-28T11:49:12.771Z"
   },
   {
    "duration": 19,
    "start_time": "2023-02-28T11:49:12.869Z"
   },
   {
    "duration": 19,
    "start_time": "2023-02-28T11:49:12.889Z"
   },
   {
    "duration": 45,
    "start_time": "2023-02-28T11:49:12.910Z"
   },
   {
    "duration": 112,
    "start_time": "2023-02-28T11:49:12.957Z"
   },
   {
    "duration": 115,
    "start_time": "2023-02-28T11:49:13.071Z"
   },
   {
    "duration": 5,
    "start_time": "2023-02-28T11:49:13.188Z"
   },
   {
    "duration": 6,
    "start_time": "2023-02-28T11:49:13.194Z"
   },
   {
    "duration": 54,
    "start_time": "2023-02-28T11:49:13.201Z"
   },
   {
    "duration": 8,
    "start_time": "2023-02-28T11:49:13.267Z"
   },
   {
    "duration": 28,
    "start_time": "2023-02-28T11:49:13.276Z"
   },
   {
    "duration": 49,
    "start_time": "2023-02-28T11:49:13.306Z"
   },
   {
    "duration": 56,
    "start_time": "2023-02-28T11:49:13.357Z"
   },
   {
    "duration": 141,
    "start_time": "2023-02-28T11:49:13.415Z"
   },
   {
    "duration": 27,
    "start_time": "2023-02-28T11:49:13.558Z"
   },
   {
    "duration": 80,
    "start_time": "2023-02-28T11:49:13.587Z"
   },
   {
    "duration": 18,
    "start_time": "2023-02-28T11:49:13.669Z"
   },
   {
    "duration": 102,
    "start_time": "2023-02-28T11:49:13.689Z"
   },
   {
    "duration": 16,
    "start_time": "2023-02-28T11:49:31.259Z"
   },
   {
    "duration": 32,
    "start_time": "2023-02-28T11:49:36.060Z"
   },
   {
    "duration": 16,
    "start_time": "2023-02-28T11:50:18.804Z"
   },
   {
    "duration": 15,
    "start_time": "2023-02-28T11:50:28.090Z"
   },
   {
    "duration": 722,
    "start_time": "2023-02-28T11:52:01.954Z"
   },
   {
    "duration": 837,
    "start_time": "2023-02-28T11:52:02.679Z"
   },
   {
    "duration": 108,
    "start_time": "2023-02-28T11:52:03.517Z"
   },
   {
    "duration": 249,
    "start_time": "2023-02-28T11:52:03.627Z"
   },
   {
    "duration": 1097,
    "start_time": "2023-02-28T11:52:03.878Z"
   },
   {
    "duration": 104,
    "start_time": "2023-02-28T11:52:04.977Z"
   },
   {
    "duration": 316,
    "start_time": "2023-02-28T11:52:05.083Z"
   },
   {
    "duration": 75,
    "start_time": "2023-02-28T11:52:05.401Z"
   },
   {
    "duration": 13,
    "start_time": "2023-02-28T11:52:05.477Z"
   },
   {
    "duration": 191,
    "start_time": "2023-02-28T11:52:05.492Z"
   },
   {
    "duration": 144,
    "start_time": "2023-02-28T11:52:05.684Z"
   },
   {
    "duration": 45,
    "start_time": "2023-02-28T11:52:05.830Z"
   },
   {
    "duration": 37,
    "start_time": "2023-02-28T11:52:05.877Z"
   },
   {
    "duration": 25,
    "start_time": "2023-02-28T11:52:05.916Z"
   },
   {
    "duration": 22,
    "start_time": "2023-02-28T11:52:05.943Z"
   },
   {
    "duration": 86,
    "start_time": "2023-02-28T11:52:05.967Z"
   },
   {
    "duration": 17,
    "start_time": "2023-02-28T11:52:06.055Z"
   },
   {
    "duration": 26,
    "start_time": "2023-02-28T11:52:06.074Z"
   },
   {
    "duration": 29,
    "start_time": "2023-02-28T11:52:06.101Z"
   },
   {
    "duration": 119,
    "start_time": "2023-02-28T11:52:06.140Z"
   },
   {
    "duration": 120,
    "start_time": "2023-02-28T11:52:06.261Z"
   },
   {
    "duration": 5,
    "start_time": "2023-02-28T11:52:06.383Z"
   },
   {
    "duration": 9,
    "start_time": "2023-02-28T11:52:06.390Z"
   },
   {
    "duration": 53,
    "start_time": "2023-02-28T11:52:06.400Z"
   },
   {
    "duration": 6,
    "start_time": "2023-02-28T11:52:06.454Z"
   },
   {
    "duration": 21,
    "start_time": "2023-02-28T11:52:06.461Z"
   },
   {
    "duration": 60,
    "start_time": "2023-02-28T11:52:06.484Z"
   },
   {
    "duration": 66,
    "start_time": "2023-02-28T11:52:06.545Z"
   },
   {
    "duration": 126,
    "start_time": "2023-02-28T11:52:06.612Z"
   },
   {
    "duration": 24,
    "start_time": "2023-02-28T11:52:06.740Z"
   },
   {
    "duration": 15,
    "start_time": "2023-02-28T11:52:06.766Z"
   },
   {
    "duration": 19,
    "start_time": "2023-02-28T11:52:06.782Z"
   },
   {
    "duration": 37,
    "start_time": "2023-02-28T11:52:06.803Z"
   },
   {
    "duration": 52,
    "start_time": "2023-02-28T11:52:06.842Z"
   },
   {
    "duration": 659,
    "start_time": "2023-02-28T13:57:19.115Z"
   },
   {
    "duration": 814,
    "start_time": "2023-02-28T13:57:19.777Z"
   },
   {
    "duration": 117,
    "start_time": "2023-02-28T13:57:20.593Z"
   },
   {
    "duration": 283,
    "start_time": "2023-02-28T13:57:20.712Z"
   },
   {
    "duration": 1185,
    "start_time": "2023-02-28T13:57:20.996Z"
   },
   {
    "duration": 117,
    "start_time": "2023-02-28T13:57:22.183Z"
   },
   {
    "duration": 381,
    "start_time": "2023-02-28T13:57:22.302Z"
   },
   {
    "duration": 80,
    "start_time": "2023-02-28T13:57:22.685Z"
   },
   {
    "duration": 13,
    "start_time": "2023-02-28T13:57:22.767Z"
   },
   {
    "duration": 190,
    "start_time": "2023-02-28T13:57:22.783Z"
   },
   {
    "duration": 148,
    "start_time": "2023-02-28T13:57:22.975Z"
   },
   {
    "duration": 50,
    "start_time": "2023-02-28T13:57:23.124Z"
   },
   {
    "duration": 37,
    "start_time": "2023-02-28T13:57:23.176Z"
   },
   {
    "duration": 35,
    "start_time": "2023-02-28T13:57:23.215Z"
   },
   {
    "duration": 29,
    "start_time": "2023-02-28T13:57:23.252Z"
   },
   {
    "duration": 90,
    "start_time": "2023-02-28T13:57:23.283Z"
   },
   {
    "duration": 18,
    "start_time": "2023-02-28T13:57:23.375Z"
   },
   {
    "duration": 23,
    "start_time": "2023-02-28T13:57:23.394Z"
   },
   {
    "duration": 48,
    "start_time": "2023-02-28T13:57:23.419Z"
   },
   {
    "duration": 129,
    "start_time": "2023-02-28T13:57:23.469Z"
   },
   {
    "duration": 138,
    "start_time": "2023-02-28T13:57:23.600Z"
   },
   {
    "duration": 7,
    "start_time": "2023-02-28T13:57:23.740Z"
   },
   {
    "duration": 22,
    "start_time": "2023-02-28T13:57:23.749Z"
   },
   {
    "duration": 39,
    "start_time": "2023-02-28T13:57:23.773Z"
   },
   {
    "duration": 5,
    "start_time": "2023-02-28T13:57:23.813Z"
   },
   {
    "duration": 60,
    "start_time": "2023-02-28T13:57:23.820Z"
   },
   {
    "duration": 45,
    "start_time": "2023-02-28T13:57:23.882Z"
   },
   {
    "duration": 57,
    "start_time": "2023-02-28T13:57:23.930Z"
   },
   {
    "duration": 135,
    "start_time": "2023-02-28T13:57:23.989Z"
   },
   {
    "duration": 32,
    "start_time": "2023-02-28T13:57:24.125Z"
   },
   {
    "duration": 21,
    "start_time": "2023-02-28T13:57:24.159Z"
   },
   {
    "duration": 17,
    "start_time": "2023-02-28T13:57:24.182Z"
   },
   {
    "duration": 16,
    "start_time": "2023-02-28T13:57:24.200Z"
   },
   {
    "duration": 81,
    "start_time": "2023-02-28T13:57:24.218Z"
   },
   {
    "duration": 15,
    "start_time": "2023-02-28T14:07:13.215Z"
   },
   {
    "duration": 88,
    "start_time": "2023-02-28T14:08:04.824Z"
   },
   {
    "duration": 19,
    "start_time": "2023-02-28T14:08:16.571Z"
   },
   {
    "duration": 14,
    "start_time": "2023-02-28T14:08:24.052Z"
   },
   {
    "duration": 52,
    "start_time": "2023-02-28T14:10:10.072Z"
   },
   {
    "duration": 7,
    "start_time": "2023-02-28T14:13:45.984Z"
   },
   {
    "duration": 15,
    "start_time": "2023-02-28T14:14:49.600Z"
   },
   {
    "duration": 49,
    "start_time": "2023-02-28T14:15:00.725Z"
   },
   {
    "duration": 6,
    "start_time": "2023-02-28T14:16:07.257Z"
   },
   {
    "duration": 597,
    "start_time": "2023-02-28T14:16:14.576Z"
   },
   {
    "duration": 789,
    "start_time": "2023-02-28T14:16:15.175Z"
   },
   {
    "duration": 107,
    "start_time": "2023-02-28T14:16:15.966Z"
   },
   {
    "duration": 234,
    "start_time": "2023-02-28T14:16:16.075Z"
   },
   {
    "duration": 1129,
    "start_time": "2023-02-28T14:16:16.311Z"
   },
   {
    "duration": 118,
    "start_time": "2023-02-28T14:16:17.442Z"
   },
   {
    "duration": 322,
    "start_time": "2023-02-28T14:16:17.562Z"
   },
   {
    "duration": 72,
    "start_time": "2023-02-28T14:16:17.886Z"
   },
   {
    "duration": 13,
    "start_time": "2023-02-28T14:16:17.960Z"
   },
   {
    "duration": 185,
    "start_time": "2023-02-28T14:16:17.975Z"
   },
   {
    "duration": 140,
    "start_time": "2023-02-28T14:16:18.161Z"
   },
   {
    "duration": 48,
    "start_time": "2023-02-28T14:16:18.303Z"
   },
   {
    "duration": 37,
    "start_time": "2023-02-28T14:16:18.353Z"
   },
   {
    "duration": 9,
    "start_time": "2023-02-28T14:16:18.394Z"
   },
   {
    "duration": 35,
    "start_time": "2023-02-28T14:16:18.405Z"
   },
   {
    "duration": 85,
    "start_time": "2023-02-28T14:16:18.442Z"
   },
   {
    "duration": 19,
    "start_time": "2023-02-28T14:16:18.539Z"
   },
   {
    "duration": 20,
    "start_time": "2023-02-28T14:16:18.559Z"
   },
   {
    "duration": 31,
    "start_time": "2023-02-28T14:16:18.581Z"
   },
   {
    "duration": 122,
    "start_time": "2023-02-28T14:16:18.613Z"
   },
   {
    "duration": 121,
    "start_time": "2023-02-28T14:16:18.740Z"
   },
   {
    "duration": 5,
    "start_time": "2023-02-28T14:16:18.862Z"
   },
   {
    "duration": 7,
    "start_time": "2023-02-28T14:16:18.868Z"
   },
   {
    "duration": 39,
    "start_time": "2023-02-28T14:16:18.876Z"
   },
   {
    "duration": 24,
    "start_time": "2023-02-28T14:16:18.917Z"
   },
   {
    "duration": 16,
    "start_time": "2023-02-28T14:16:18.942Z"
   },
   {
    "duration": 46,
    "start_time": "2023-02-28T14:16:18.960Z"
   },
   {
    "duration": 65,
    "start_time": "2023-02-28T14:16:19.008Z"
   },
   {
    "duration": 123,
    "start_time": "2023-02-28T14:16:19.075Z"
   },
   {
    "duration": 24,
    "start_time": "2023-02-28T14:16:19.200Z"
   },
   {
    "duration": 31,
    "start_time": "2023-02-28T14:16:19.226Z"
   },
   {
    "duration": 17,
    "start_time": "2023-02-28T14:16:19.259Z"
   },
   {
    "duration": 15,
    "start_time": "2023-02-28T14:16:19.278Z"
   },
   {
    "duration": 35,
    "start_time": "2023-02-28T14:16:19.294Z"
   },
   {
    "duration": 32,
    "start_time": "2023-02-28T14:16:19.331Z"
   },
   {
    "duration": 19,
    "start_time": "2023-02-28T14:16:19.365Z"
   },
   {
    "duration": 13,
    "start_time": "2023-02-28T14:16:19.386Z"
   },
   {
    "duration": 54,
    "start_time": "2023-02-28T14:16:19.400Z"
   },
   {
    "duration": 14,
    "start_time": "2023-02-28T14:16:19.456Z"
   },
   {
    "duration": 78,
    "start_time": "2023-02-28T14:17:09.670Z"
   },
   {
    "duration": 544,
    "start_time": "2023-02-28T14:17:19.387Z"
   },
   {
    "duration": 760,
    "start_time": "2023-02-28T14:17:19.933Z"
   },
   {
    "duration": 111,
    "start_time": "2023-02-28T14:17:20.695Z"
   },
   {
    "duration": 240,
    "start_time": "2023-02-28T14:17:20.809Z"
   },
   {
    "duration": 1090,
    "start_time": "2023-02-28T14:17:21.051Z"
   },
   {
    "duration": 107,
    "start_time": "2023-02-28T14:17:22.143Z"
   },
   {
    "duration": 363,
    "start_time": "2023-02-28T14:17:22.252Z"
   },
   {
    "duration": 76,
    "start_time": "2023-02-28T14:17:22.618Z"
   },
   {
    "duration": 14,
    "start_time": "2023-02-28T14:17:22.696Z"
   },
   {
    "duration": 193,
    "start_time": "2023-02-28T14:17:22.712Z"
   },
   {
    "duration": 141,
    "start_time": "2023-02-28T14:17:22.906Z"
   },
   {
    "duration": 39,
    "start_time": "2023-02-28T14:17:23.048Z"
   },
   {
    "duration": 37,
    "start_time": "2023-02-28T14:17:23.088Z"
   },
   {
    "duration": 9,
    "start_time": "2023-02-28T14:17:23.141Z"
   },
   {
    "duration": 29,
    "start_time": "2023-02-28T14:17:23.151Z"
   },
   {
    "duration": 92,
    "start_time": "2023-02-28T14:17:23.182Z"
   },
   {
    "duration": 19,
    "start_time": "2023-02-28T14:17:23.276Z"
   },
   {
    "duration": 23,
    "start_time": "2023-02-28T14:17:23.297Z"
   },
   {
    "duration": 35,
    "start_time": "2023-02-28T14:17:23.322Z"
   },
   {
    "duration": 124,
    "start_time": "2023-02-28T14:17:23.359Z"
   },
   {
    "duration": 127,
    "start_time": "2023-02-28T14:17:23.485Z"
   },
   {
    "duration": 7,
    "start_time": "2023-02-28T14:17:23.613Z"
   },
   {
    "duration": 21,
    "start_time": "2023-02-28T14:17:23.623Z"
   },
   {
    "duration": 43,
    "start_time": "2023-02-28T14:17:23.645Z"
   },
   {
    "duration": 6,
    "start_time": "2023-02-28T14:17:23.690Z"
   },
   {
    "duration": 19,
    "start_time": "2023-02-28T14:17:23.698Z"
   },
   {
    "duration": 60,
    "start_time": "2023-02-28T14:17:23.719Z"
   },
   {
    "duration": 69,
    "start_time": "2023-02-28T14:17:23.783Z"
   },
   {
    "duration": 132,
    "start_time": "2023-02-28T14:17:23.853Z"
   },
   {
    "duration": 27,
    "start_time": "2023-02-28T14:17:23.987Z"
   },
   {
    "duration": 27,
    "start_time": "2023-02-28T14:17:24.016Z"
   },
   {
    "duration": 14,
    "start_time": "2023-02-28T14:17:24.044Z"
   },
   {
    "duration": 16,
    "start_time": "2023-02-28T14:17:24.059Z"
   },
   {
    "duration": 19,
    "start_time": "2023-02-28T14:17:24.076Z"
   },
   {
    "duration": 22,
    "start_time": "2023-02-28T14:17:24.096Z"
   },
   {
    "duration": 33,
    "start_time": "2023-02-28T14:17:24.119Z"
   },
   {
    "duration": 52,
    "start_time": "2023-02-28T14:17:24.154Z"
   },
   {
    "duration": 15,
    "start_time": "2023-02-28T14:17:24.207Z"
   },
   {
    "duration": 72,
    "start_time": "2023-02-28T14:21:04.975Z"
   },
   {
    "duration": 109,
    "start_time": "2023-02-28T14:21:20.677Z"
   },
   {
    "duration": 111,
    "start_time": "2023-02-28T14:21:26.431Z"
   },
   {
    "duration": 561,
    "start_time": "2023-02-28T14:21:58.983Z"
   },
   {
    "duration": 753,
    "start_time": "2023-02-28T14:21:59.546Z"
   },
   {
    "duration": 108,
    "start_time": "2023-02-28T14:22:00.301Z"
   },
   {
    "duration": 237,
    "start_time": "2023-02-28T14:22:00.411Z"
   },
   {
    "duration": 1102,
    "start_time": "2023-02-28T14:22:00.650Z"
   },
   {
    "duration": 422,
    "start_time": "2023-02-28T14:22:01.754Z"
   },
   {
    "duration": 116,
    "start_time": "2023-02-28T14:22:02.178Z"
   },
   {
    "duration": 306,
    "start_time": "2023-02-28T14:22:02.295Z"
   },
   {
    "duration": 89,
    "start_time": "2023-02-28T14:22:02.604Z"
   },
   {
    "duration": 17,
    "start_time": "2023-02-28T14:22:02.695Z"
   },
   {
    "duration": 199,
    "start_time": "2023-02-28T14:22:02.714Z"
   },
   {
    "duration": 151,
    "start_time": "2023-02-28T14:22:02.915Z"
   },
   {
    "duration": 39,
    "start_time": "2023-02-28T14:22:03.068Z"
   },
   {
    "duration": 55,
    "start_time": "2023-02-28T14:22:03.110Z"
   },
   {
    "duration": 9,
    "start_time": "2023-02-28T14:22:03.167Z"
   },
   {
    "duration": 16,
    "start_time": "2023-02-28T14:22:03.177Z"
   },
   {
    "duration": 107,
    "start_time": "2023-02-28T14:22:03.194Z"
   },
   {
    "duration": 50,
    "start_time": "2023-02-28T14:22:03.303Z"
   },
   {
    "duration": 30,
    "start_time": "2023-02-28T14:22:03.355Z"
   },
   {
    "duration": 80,
    "start_time": "2023-02-28T14:22:03.387Z"
   },
   {
    "duration": 277,
    "start_time": "2023-02-28T14:22:03.469Z"
   },
   {
    "duration": 225,
    "start_time": "2023-02-28T14:22:03.748Z"
   },
   {
    "duration": 5,
    "start_time": "2023-02-28T14:22:03.975Z"
   },
   {
    "duration": 60,
    "start_time": "2023-02-28T14:22:03.981Z"
   },
   {
    "duration": 39,
    "start_time": "2023-02-28T14:22:04.043Z"
   },
   {
    "duration": 65,
    "start_time": "2023-02-28T14:22:04.084Z"
   },
   {
    "duration": 24,
    "start_time": "2023-02-28T14:22:04.151Z"
   },
   {
    "duration": 107,
    "start_time": "2023-02-28T14:22:04.177Z"
   },
   {
    "duration": 159,
    "start_time": "2023-02-28T14:22:04.286Z"
   },
   {
    "duration": 225,
    "start_time": "2023-02-28T14:22:04.446Z"
   },
   {
    "duration": 75,
    "start_time": "2023-02-28T14:22:04.672Z"
   },
   {
    "duration": 16,
    "start_time": "2023-02-28T14:22:04.748Z"
   },
   {
    "duration": 17,
    "start_time": "2023-02-28T14:22:04.765Z"
   },
   {
    "duration": 68,
    "start_time": "2023-02-28T14:22:04.784Z"
   },
   {
    "duration": 16,
    "start_time": "2023-02-28T14:22:04.853Z"
   },
   {
    "duration": 69,
    "start_time": "2023-02-28T14:22:04.871Z"
   },
   {
    "duration": 14,
    "start_time": "2023-02-28T14:22:04.942Z"
   },
   {
    "duration": 104,
    "start_time": "2023-02-28T14:22:04.958Z"
   },
   {
    "duration": 15,
    "start_time": "2023-02-28T14:22:05.064Z"
   },
   {
    "duration": 214,
    "start_time": "2023-02-28T14:22:05.080Z"
   },
   {
    "duration": 16,
    "start_time": "2023-02-28T14:22:40.876Z"
   },
   {
    "duration": 120,
    "start_time": "2023-02-28T14:24:05.655Z"
   },
   {
    "duration": 106,
    "start_time": "2023-02-28T14:24:11.934Z"
   },
   {
    "duration": 16,
    "start_time": "2023-02-28T14:24:24.272Z"
   },
   {
    "duration": 23,
    "start_time": "2023-02-28T14:25:54.200Z"
   },
   {
    "duration": 17,
    "start_time": "2023-02-28T14:26:56.292Z"
   },
   {
    "duration": 691,
    "start_time": "2023-02-28T14:42:26.729Z"
   },
   {
    "duration": 384,
    "start_time": "2023-02-28T14:43:46.933Z"
   },
   {
    "duration": 698,
    "start_time": "2023-02-28T14:44:34.768Z"
   },
   {
    "duration": 17,
    "start_time": "2023-02-28T14:44:40.212Z"
   },
   {
    "duration": 19,
    "start_time": "2023-02-28T14:44:49.100Z"
   },
   {
    "duration": 82,
    "start_time": "2023-02-28T14:45:04.371Z"
   },
   {
    "duration": 51,
    "start_time": "2023-02-28T14:47:10.431Z"
   },
   {
    "duration": 81,
    "start_time": "2023-02-28T14:47:52.805Z"
   },
   {
    "duration": 255,
    "start_time": "2023-02-28T14:47:56.509Z"
   },
   {
    "duration": 241,
    "start_time": "2023-02-28T14:48:01.445Z"
   },
   {
    "duration": 53,
    "start_time": "2023-02-28T15:01:26.024Z"
   },
   {
    "duration": 56,
    "start_time": "2023-02-28T15:01:43.507Z"
   },
   {
    "duration": 4,
    "start_time": "2023-02-28T15:02:54.195Z"
   },
   {
    "duration": 673,
    "start_time": "2023-02-28T15:03:23.076Z"
   },
   {
    "duration": 570,
    "start_time": "2023-02-28T15:03:46.142Z"
   },
   {
    "duration": 14,
    "start_time": "2023-02-28T15:03:53.055Z"
   },
   {
    "duration": 358,
    "start_time": "2023-02-28T15:05:48.374Z"
   },
   {
    "duration": 21,
    "start_time": "2023-02-28T15:05:51.447Z"
   },
   {
    "duration": 22,
    "start_time": "2023-02-28T15:08:37.735Z"
   },
   {
    "duration": 1278,
    "start_time": "2023-02-28T15:08:58.822Z"
   },
   {
    "duration": 775,
    "start_time": "2023-02-28T15:09:00.102Z"
   },
   {
    "duration": 117,
    "start_time": "2023-02-28T15:09:00.878Z"
   },
   {
    "duration": 251,
    "start_time": "2023-02-28T15:09:00.996Z"
   },
   {
    "duration": 1097,
    "start_time": "2023-02-28T15:09:01.250Z"
   },
   {
    "duration": 130,
    "start_time": "2023-02-28T15:09:02.349Z"
   },
   {
    "duration": 348,
    "start_time": "2023-02-28T15:09:02.481Z"
   },
   {
    "duration": 71,
    "start_time": "2023-02-28T15:09:02.831Z"
   },
   {
    "duration": 13,
    "start_time": "2023-02-28T15:09:02.904Z"
   },
   {
    "duration": 195,
    "start_time": "2023-02-28T15:09:02.919Z"
   },
   {
    "duration": 138,
    "start_time": "2023-02-28T15:09:03.116Z"
   },
   {
    "duration": 38,
    "start_time": "2023-02-28T15:09:03.255Z"
   },
   {
    "duration": 45,
    "start_time": "2023-02-28T15:09:03.295Z"
   },
   {
    "duration": 9,
    "start_time": "2023-02-28T15:09:03.343Z"
   },
   {
    "duration": 19,
    "start_time": "2023-02-28T15:09:03.354Z"
   },
   {
    "duration": 105,
    "start_time": "2023-02-28T15:09:03.375Z"
   },
   {
    "duration": 19,
    "start_time": "2023-02-28T15:09:03.482Z"
   },
   {
    "duration": 33,
    "start_time": "2023-02-28T15:09:03.503Z"
   },
   {
    "duration": 29,
    "start_time": "2023-02-28T15:09:03.538Z"
   },
   {
    "duration": 121,
    "start_time": "2023-02-28T15:09:03.569Z"
   },
   {
    "duration": 137,
    "start_time": "2023-02-28T15:09:03.692Z"
   },
   {
    "duration": 11,
    "start_time": "2023-02-28T15:09:03.831Z"
   },
   {
    "duration": 5,
    "start_time": "2023-02-28T15:09:03.843Z"
   },
   {
    "duration": 37,
    "start_time": "2023-02-28T15:09:03.849Z"
   },
   {
    "duration": 5,
    "start_time": "2023-02-28T15:09:03.888Z"
   },
   {
    "duration": 19,
    "start_time": "2023-02-28T15:09:03.895Z"
   },
   {
    "duration": 64,
    "start_time": "2023-02-28T15:09:03.915Z"
   },
   {
    "duration": 75,
    "start_time": "2023-02-28T15:09:03.981Z"
   },
   {
    "duration": 144,
    "start_time": "2023-02-28T15:09:04.058Z"
   },
   {
    "duration": 24,
    "start_time": "2023-02-28T15:09:04.204Z"
   },
   {
    "duration": 14,
    "start_time": "2023-02-28T15:09:04.241Z"
   },
   {
    "duration": 15,
    "start_time": "2023-02-28T15:09:04.257Z"
   },
   {
    "duration": 15,
    "start_time": "2023-02-28T15:09:04.274Z"
   },
   {
    "duration": 14,
    "start_time": "2023-02-28T15:09:04.290Z"
   },
   {
    "duration": 34,
    "start_time": "2023-02-28T15:09:04.306Z"
   },
   {
    "duration": 13,
    "start_time": "2023-02-28T15:09:04.342Z"
   },
   {
    "duration": 15,
    "start_time": "2023-02-28T15:09:04.356Z"
   },
   {
    "duration": 135,
    "start_time": "2023-02-28T15:09:04.373Z"
   },
   {
    "duration": 58,
    "start_time": "2023-02-28T15:09:04.510Z"
   },
   {
    "duration": 3,
    "start_time": "2023-02-28T15:09:04.570Z"
   },
   {
    "duration": 858,
    "start_time": "2023-02-28T15:09:04.577Z"
   },
   {
    "duration": 0,
    "start_time": "2023-02-28T15:09:05.436Z"
   },
   {
    "duration": 0,
    "start_time": "2023-02-28T15:09:05.437Z"
   },
   {
    "duration": 0,
    "start_time": "2023-02-28T15:09:05.440Z"
   },
   {
    "duration": 175,
    "start_time": "2023-02-28T15:09:19.099Z"
   },
   {
    "duration": 20,
    "start_time": "2023-02-28T15:09:41.041Z"
   },
   {
    "duration": 15,
    "start_time": "2023-02-28T15:10:27.557Z"
   },
   {
    "duration": 1257,
    "start_time": "2023-02-28T15:10:43.057Z"
   },
   {
    "duration": 772,
    "start_time": "2023-02-28T15:10:44.316Z"
   },
   {
    "duration": 115,
    "start_time": "2023-02-28T15:10:45.089Z"
   },
   {
    "duration": 266,
    "start_time": "2023-02-28T15:10:45.205Z"
   },
   {
    "duration": 1146,
    "start_time": "2023-02-28T15:10:45.472Z"
   },
   {
    "duration": 109,
    "start_time": "2023-02-28T15:10:46.620Z"
   },
   {
    "duration": 345,
    "start_time": "2023-02-28T15:10:46.730Z"
   },
   {
    "duration": 78,
    "start_time": "2023-02-28T15:10:47.076Z"
   },
   {
    "duration": 14,
    "start_time": "2023-02-28T15:10:47.155Z"
   },
   {
    "duration": 192,
    "start_time": "2023-02-28T15:10:47.172Z"
   },
   {
    "duration": 136,
    "start_time": "2023-02-28T15:10:47.366Z"
   },
   {
    "duration": 44,
    "start_time": "2023-02-28T15:10:47.504Z"
   },
   {
    "duration": 39,
    "start_time": "2023-02-28T15:10:47.550Z"
   },
   {
    "duration": 9,
    "start_time": "2023-02-28T15:10:47.590Z"
   },
   {
    "duration": 18,
    "start_time": "2023-02-28T15:10:47.600Z"
   },
   {
    "duration": 100,
    "start_time": "2023-02-28T15:10:47.619Z"
   },
   {
    "duration": 31,
    "start_time": "2023-02-28T15:10:47.720Z"
   },
   {
    "duration": 16,
    "start_time": "2023-02-28T15:10:47.753Z"
   },
   {
    "duration": 29,
    "start_time": "2023-02-28T15:10:47.771Z"
   },
   {
    "duration": 123,
    "start_time": "2023-02-28T15:10:47.802Z"
   },
   {
    "duration": 120,
    "start_time": "2023-02-28T15:10:47.927Z"
   },
   {
    "duration": 5,
    "start_time": "2023-02-28T15:10:48.048Z"
   },
   {
    "duration": 8,
    "start_time": "2023-02-28T15:10:48.054Z"
   },
   {
    "duration": 37,
    "start_time": "2023-02-28T15:10:48.063Z"
   },
   {
    "duration": 5,
    "start_time": "2023-02-28T15:10:48.101Z"
   },
   {
    "duration": 35,
    "start_time": "2023-02-28T15:10:48.108Z"
   },
   {
    "duration": 45,
    "start_time": "2023-02-28T15:10:48.144Z"
   },
   {
    "duration": 67,
    "start_time": "2023-02-28T15:10:48.192Z"
   },
   {
    "duration": 129,
    "start_time": "2023-02-28T15:10:48.260Z"
   },
   {
    "duration": 26,
    "start_time": "2023-02-28T15:10:48.391Z"
   },
   {
    "duration": 30,
    "start_time": "2023-02-28T15:10:48.419Z"
   },
   {
    "duration": 17,
    "start_time": "2023-02-28T15:10:48.451Z"
   },
   {
    "duration": 17,
    "start_time": "2023-02-28T15:10:48.470Z"
   },
   {
    "duration": 16,
    "start_time": "2023-02-28T15:10:48.489Z"
   },
   {
    "duration": 40,
    "start_time": "2023-02-28T15:10:48.507Z"
   },
   {
    "duration": 16,
    "start_time": "2023-02-28T15:10:48.548Z"
   },
   {
    "duration": 15,
    "start_time": "2023-02-28T15:10:48.566Z"
   },
   {
    "duration": 145,
    "start_time": "2023-02-28T15:10:48.583Z"
   },
   {
    "duration": 63,
    "start_time": "2023-02-28T15:10:48.730Z"
   },
   {
    "duration": 3,
    "start_time": "2023-02-28T15:10:48.795Z"
   },
   {
    "duration": 760,
    "start_time": "2023-02-28T15:10:48.800Z"
   },
   {
    "duration": 18,
    "start_time": "2023-02-28T15:10:49.562Z"
   },
   {
    "duration": 186,
    "start_time": "2023-02-28T15:10:49.582Z"
   },
   {
    "duration": 498,
    "start_time": "2023-02-28T15:10:49.770Z"
   },
   {
    "duration": 43,
    "start_time": "2023-02-28T15:11:13.121Z"
   },
   {
    "duration": 56,
    "start_time": "2023-03-01T06:38:50.760Z"
   },
   {
    "duration": 1480,
    "start_time": "2023-03-01T06:38:59.037Z"
   },
   {
    "duration": 2976,
    "start_time": "2023-03-01T06:39:00.520Z"
   },
   {
    "duration": 138,
    "start_time": "2023-03-01T06:39:03.497Z"
   },
   {
    "duration": 306,
    "start_time": "2023-03-01T06:39:03.637Z"
   },
   {
    "duration": 1236,
    "start_time": "2023-03-01T06:39:03.944Z"
   },
   {
    "duration": 156,
    "start_time": "2023-03-01T06:39:05.181Z"
   },
   {
    "duration": 353,
    "start_time": "2023-03-01T06:39:05.339Z"
   },
   {
    "duration": 97,
    "start_time": "2023-03-01T06:39:05.695Z"
   },
   {
    "duration": 18,
    "start_time": "2023-03-01T06:39:05.795Z"
   },
   {
    "duration": 211,
    "start_time": "2023-03-01T06:39:05.815Z"
   },
   {
    "duration": 157,
    "start_time": "2023-03-01T06:39:06.028Z"
   },
   {
    "duration": 47,
    "start_time": "2023-03-01T06:39:06.191Z"
   },
   {
    "duration": 55,
    "start_time": "2023-03-01T06:39:06.240Z"
   },
   {
    "duration": 16,
    "start_time": "2023-03-01T06:39:06.297Z"
   },
   {
    "duration": 33,
    "start_time": "2023-03-01T06:39:06.315Z"
   },
   {
    "duration": 113,
    "start_time": "2023-03-01T06:39:06.350Z"
   },
   {
    "duration": 28,
    "start_time": "2023-03-01T06:39:06.465Z"
   },
   {
    "duration": 24,
    "start_time": "2023-03-01T06:39:06.495Z"
   },
   {
    "duration": 31,
    "start_time": "2023-03-01T06:39:06.521Z"
   },
   {
    "duration": 148,
    "start_time": "2023-03-01T06:39:06.554Z"
   },
   {
    "duration": 158,
    "start_time": "2023-03-01T06:39:06.704Z"
   },
   {
    "duration": 7,
    "start_time": "2023-03-01T06:39:06.865Z"
   },
   {
    "duration": 18,
    "start_time": "2023-03-01T06:39:06.874Z"
   },
   {
    "duration": 58,
    "start_time": "2023-03-01T06:39:06.895Z"
   },
   {
    "duration": 7,
    "start_time": "2023-03-01T06:39:06.956Z"
   },
   {
    "duration": 29,
    "start_time": "2023-03-01T06:39:06.965Z"
   },
   {
    "duration": 54,
    "start_time": "2023-03-01T06:39:06.997Z"
   },
   {
    "duration": 90,
    "start_time": "2023-03-01T06:39:07.054Z"
   },
   {
    "duration": 138,
    "start_time": "2023-03-01T06:39:07.145Z"
   },
   {
    "duration": 36,
    "start_time": "2023-03-01T06:39:07.285Z"
   },
   {
    "duration": 19,
    "start_time": "2023-03-01T06:39:07.324Z"
   },
   {
    "duration": 26,
    "start_time": "2023-03-01T06:39:07.345Z"
   },
   {
    "duration": 30,
    "start_time": "2023-03-01T06:39:07.372Z"
   },
   {
    "duration": 16,
    "start_time": "2023-03-01T06:39:07.405Z"
   },
   {
    "duration": 18,
    "start_time": "2023-03-01T06:39:07.423Z"
   },
   {
    "duration": 15,
    "start_time": "2023-03-01T06:39:07.442Z"
   },
   {
    "duration": 46,
    "start_time": "2023-03-01T06:39:07.458Z"
   },
   {
    "duration": 138,
    "start_time": "2023-03-01T06:39:07.506Z"
   },
   {
    "duration": 79,
    "start_time": "2023-03-01T06:39:07.646Z"
   },
   {
    "duration": 3,
    "start_time": "2023-03-01T06:39:07.726Z"
   },
   {
    "duration": 514,
    "start_time": "2023-03-01T06:39:07.730Z"
   },
   {
    "duration": 0,
    "start_time": "2023-03-01T06:39:08.245Z"
   },
   {
    "duration": 0,
    "start_time": "2023-03-01T06:39:08.247Z"
   },
   {
    "duration": 0,
    "start_time": "2023-03-01T06:39:08.248Z"
   },
   {
    "duration": 437,
    "start_time": "2023-03-01T06:42:09.189Z"
   },
   {
    "duration": 22,
    "start_time": "2023-03-01T06:42:11.662Z"
   },
   {
    "duration": 15,
    "start_time": "2023-03-01T06:43:05.497Z"
   },
   {
    "duration": 12,
    "start_time": "2023-03-01T06:43:09.172Z"
   },
   {
    "duration": 23,
    "start_time": "2023-03-01T06:43:15.663Z"
   },
   {
    "duration": 8,
    "start_time": "2023-03-01T06:43:31.904Z"
   },
   {
    "duration": 13,
    "start_time": "2023-03-01T06:43:37.527Z"
   },
   {
    "duration": 8,
    "start_time": "2023-03-01T06:43:49.136Z"
   },
   {
    "duration": 17,
    "start_time": "2023-03-01T06:44:40.568Z"
   },
   {
    "duration": 29,
    "start_time": "2023-03-01T06:46:24.115Z"
   },
   {
    "duration": 49,
    "start_time": "2023-03-01T06:46:36.418Z"
   },
   {
    "duration": 32,
    "start_time": "2023-03-01T06:46:47.872Z"
   },
   {
    "duration": 29,
    "start_time": "2023-03-01T06:47:28.155Z"
   },
   {
    "duration": 45,
    "start_time": "2023-03-01T06:48:40.748Z"
   },
   {
    "duration": 4,
    "start_time": "2023-03-01T06:49:46.975Z"
   },
   {
    "duration": 5,
    "start_time": "2023-03-01T06:50:18.652Z"
   },
   {
    "duration": 6,
    "start_time": "2023-03-01T06:50:48.456Z"
   },
   {
    "duration": 23,
    "start_time": "2023-03-01T06:53:42.635Z"
   },
   {
    "duration": 1455,
    "start_time": "2023-03-01T06:54:11.563Z"
   },
   {
    "duration": 822,
    "start_time": "2023-03-01T06:54:13.020Z"
   },
   {
    "duration": 164,
    "start_time": "2023-03-01T06:54:13.844Z"
   },
   {
    "duration": 299,
    "start_time": "2023-03-01T06:54:14.010Z"
   },
   {
    "duration": 1161,
    "start_time": "2023-03-01T06:54:14.310Z"
   },
   {
    "duration": 138,
    "start_time": "2023-03-01T06:54:15.473Z"
   },
   {
    "duration": 340,
    "start_time": "2023-03-01T06:54:15.612Z"
   },
   {
    "duration": 96,
    "start_time": "2023-03-01T06:54:15.953Z"
   },
   {
    "duration": 15,
    "start_time": "2023-03-01T06:54:16.051Z"
   },
   {
    "duration": 196,
    "start_time": "2023-03-01T06:54:16.069Z"
   },
   {
    "duration": 198,
    "start_time": "2023-03-01T06:54:16.267Z"
   },
   {
    "duration": 56,
    "start_time": "2023-03-01T06:54:16.468Z"
   },
   {
    "duration": 42,
    "start_time": "2023-03-01T06:54:16.526Z"
   },
   {
    "duration": 25,
    "start_time": "2023-03-01T06:54:16.570Z"
   },
   {
    "duration": 30,
    "start_time": "2023-03-01T06:54:16.597Z"
   },
   {
    "duration": 105,
    "start_time": "2023-03-01T06:54:16.628Z"
   },
   {
    "duration": 19,
    "start_time": "2023-03-01T06:54:16.735Z"
   },
   {
    "duration": 29,
    "start_time": "2023-03-01T06:54:16.755Z"
   },
   {
    "duration": 39,
    "start_time": "2023-03-01T06:54:16.790Z"
   },
   {
    "duration": 116,
    "start_time": "2023-03-01T06:54:16.831Z"
   },
   {
    "duration": 131,
    "start_time": "2023-03-01T06:54:16.948Z"
   },
   {
    "duration": 14,
    "start_time": "2023-03-01T06:54:17.081Z"
   },
   {
    "duration": 5,
    "start_time": "2023-03-01T06:54:17.097Z"
   },
   {
    "duration": 42,
    "start_time": "2023-03-01T06:54:17.104Z"
   },
   {
    "duration": 5,
    "start_time": "2023-03-01T06:54:17.148Z"
   },
   {
    "duration": 42,
    "start_time": "2023-03-01T06:54:17.155Z"
   },
   {
    "duration": 51,
    "start_time": "2023-03-01T06:54:17.199Z"
   },
   {
    "duration": 86,
    "start_time": "2023-03-01T06:54:17.253Z"
   },
   {
    "duration": 138,
    "start_time": "2023-03-01T06:54:17.340Z"
   },
   {
    "duration": 30,
    "start_time": "2023-03-01T06:54:17.479Z"
   },
   {
    "duration": 18,
    "start_time": "2023-03-01T06:54:17.510Z"
   },
   {
    "duration": 18,
    "start_time": "2023-03-01T06:54:17.530Z"
   },
   {
    "duration": 17,
    "start_time": "2023-03-01T06:54:17.549Z"
   },
   {
    "duration": 17,
    "start_time": "2023-03-01T06:54:17.592Z"
   },
   {
    "duration": 35,
    "start_time": "2023-03-01T06:54:17.610Z"
   },
   {
    "duration": 17,
    "start_time": "2023-03-01T06:54:17.647Z"
   },
   {
    "duration": 21,
    "start_time": "2023-03-01T06:54:17.665Z"
   },
   {
    "duration": 132,
    "start_time": "2023-03-01T06:54:17.690Z"
   },
   {
    "duration": 77,
    "start_time": "2023-03-01T06:54:17.823Z"
   },
   {
    "duration": 12,
    "start_time": "2023-03-01T06:54:17.902Z"
   },
   {
    "duration": 75,
    "start_time": "2023-03-01T06:54:17.916Z"
   },
   {
    "duration": 5,
    "start_time": "2023-03-01T06:54:17.993Z"
   },
   {
    "duration": 9,
    "start_time": "2023-03-01T06:54:18.000Z"
   },
   {
    "duration": 279,
    "start_time": "2023-03-01T06:54:18.010Z"
   },
   {
    "duration": 112,
    "start_time": "2023-03-01T06:54:18.292Z"
   },
   {
    "duration": 0,
    "start_time": "2023-03-01T06:54:18.407Z"
   },
   {
    "duration": 0,
    "start_time": "2023-03-01T06:54:18.408Z"
   },
   {
    "duration": 20,
    "start_time": "2023-03-01T06:55:50.437Z"
   },
   {
    "duration": 21,
    "start_time": "2023-03-01T06:56:04.804Z"
   },
   {
    "duration": 1353,
    "start_time": "2023-03-01T06:56:42.261Z"
   },
   {
    "duration": 789,
    "start_time": "2023-03-01T06:56:43.616Z"
   },
   {
    "duration": 164,
    "start_time": "2023-03-01T06:56:44.406Z"
   },
   {
    "duration": 314,
    "start_time": "2023-03-01T06:56:44.573Z"
   },
   {
    "duration": 1160,
    "start_time": "2023-03-01T06:56:44.892Z"
   },
   {
    "duration": 141,
    "start_time": "2023-03-01T06:56:46.054Z"
   },
   {
    "duration": 364,
    "start_time": "2023-03-01T06:56:46.197Z"
   },
   {
    "duration": 119,
    "start_time": "2023-03-01T06:56:46.564Z"
   },
   {
    "duration": 13,
    "start_time": "2023-03-01T06:56:46.692Z"
   },
   {
    "duration": 188,
    "start_time": "2023-03-01T06:56:46.707Z"
   },
   {
    "duration": 144,
    "start_time": "2023-03-01T06:56:46.897Z"
   },
   {
    "duration": 39,
    "start_time": "2023-03-01T06:56:47.042Z"
   },
   {
    "duration": 39,
    "start_time": "2023-03-01T06:56:47.091Z"
   },
   {
    "duration": 8,
    "start_time": "2023-03-01T06:56:47.133Z"
   },
   {
    "duration": 20,
    "start_time": "2023-03-01T06:56:47.143Z"
   },
   {
    "duration": 129,
    "start_time": "2023-03-01T06:56:47.165Z"
   },
   {
    "duration": 20,
    "start_time": "2023-03-01T06:56:47.296Z"
   },
   {
    "duration": 22,
    "start_time": "2023-03-01T06:56:47.318Z"
   },
   {
    "duration": 32,
    "start_time": "2023-03-01T06:56:47.341Z"
   },
   {
    "duration": 116,
    "start_time": "2023-03-01T06:56:47.392Z"
   },
   {
    "duration": 128,
    "start_time": "2023-03-01T06:56:47.509Z"
   },
   {
    "duration": 6,
    "start_time": "2023-03-01T06:56:47.638Z"
   },
   {
    "duration": 5,
    "start_time": "2023-03-01T06:56:47.646Z"
   },
   {
    "duration": 54,
    "start_time": "2023-03-01T06:56:47.652Z"
   },
   {
    "duration": 5,
    "start_time": "2023-03-01T06:56:47.708Z"
   },
   {
    "duration": 17,
    "start_time": "2023-03-01T06:56:47.715Z"
   },
   {
    "duration": 64,
    "start_time": "2023-03-01T06:56:47.734Z"
   },
   {
    "duration": 92,
    "start_time": "2023-03-01T06:56:47.800Z"
   },
   {
    "duration": 135,
    "start_time": "2023-03-01T06:56:47.894Z"
   },
   {
    "duration": 25,
    "start_time": "2023-03-01T06:56:48.030Z"
   },
   {
    "duration": 17,
    "start_time": "2023-03-01T06:56:48.057Z"
   },
   {
    "duration": 16,
    "start_time": "2023-03-01T06:56:48.091Z"
   },
   {
    "duration": 17,
    "start_time": "2023-03-01T06:56:48.109Z"
   },
   {
    "duration": 16,
    "start_time": "2023-03-01T06:56:48.128Z"
   },
   {
    "duration": 19,
    "start_time": "2023-03-01T06:56:48.146Z"
   },
   {
    "duration": 36,
    "start_time": "2023-03-01T06:56:48.167Z"
   },
   {
    "duration": 15,
    "start_time": "2023-03-01T06:56:48.204Z"
   },
   {
    "duration": 146,
    "start_time": "2023-03-01T06:56:48.220Z"
   },
   {
    "duration": 82,
    "start_time": "2023-03-01T06:56:48.368Z"
   },
   {
    "duration": 15,
    "start_time": "2023-03-01T06:56:48.452Z"
   },
   {
    "duration": 78,
    "start_time": "2023-03-01T06:56:48.470Z"
   },
   {
    "duration": 16,
    "start_time": "2023-03-01T06:56:48.549Z"
   },
   {
    "duration": 8,
    "start_time": "2023-03-01T06:56:48.566Z"
   },
   {
    "duration": 16,
    "start_time": "2023-03-01T06:56:48.575Z"
   },
   {
    "duration": 273,
    "start_time": "2023-03-01T06:56:48.592Z"
   },
   {
    "duration": 27,
    "start_time": "2023-03-01T06:56:48.866Z"
   },
   {
    "duration": 108,
    "start_time": "2023-03-01T06:56:48.894Z"
   },
   {
    "duration": 0,
    "start_time": "2023-03-01T06:56:49.004Z"
   },
   {
    "duration": 17,
    "start_time": "2023-03-01T06:57:32.839Z"
   },
   {
    "duration": 9,
    "start_time": "2023-03-01T06:57:57.266Z"
   },
   {
    "duration": 9,
    "start_time": "2023-03-01T06:58:57.377Z"
   },
   {
    "duration": 12,
    "start_time": "2023-03-01T06:59:59.195Z"
   },
   {
    "duration": 1473,
    "start_time": "2023-03-01T07:00:11.678Z"
   },
   {
    "duration": 833,
    "start_time": "2023-03-01T07:00:13.153Z"
   },
   {
    "duration": 144,
    "start_time": "2023-03-01T07:00:13.990Z"
   },
   {
    "duration": 291,
    "start_time": "2023-03-01T07:00:14.136Z"
   },
   {
    "duration": 1221,
    "start_time": "2023-03-01T07:00:14.429Z"
   },
   {
    "duration": 145,
    "start_time": "2023-03-01T07:00:15.653Z"
   },
   {
    "duration": 350,
    "start_time": "2023-03-01T07:00:15.800Z"
   },
   {
    "duration": 98,
    "start_time": "2023-03-01T07:00:16.152Z"
   },
   {
    "duration": 21,
    "start_time": "2023-03-01T07:00:16.252Z"
   },
   {
    "duration": 271,
    "start_time": "2023-03-01T07:00:16.276Z"
   },
   {
    "duration": 156,
    "start_time": "2023-03-01T07:00:16.549Z"
   },
   {
    "duration": 38,
    "start_time": "2023-03-01T07:00:16.706Z"
   },
   {
    "duration": 60,
    "start_time": "2023-03-01T07:00:16.746Z"
   },
   {
    "duration": 9,
    "start_time": "2023-03-01T07:00:16.808Z"
   },
   {
    "duration": 22,
    "start_time": "2023-03-01T07:00:16.819Z"
   },
   {
    "duration": 111,
    "start_time": "2023-03-01T07:00:16.843Z"
   },
   {
    "duration": 20,
    "start_time": "2023-03-01T07:00:16.956Z"
   },
   {
    "duration": 29,
    "start_time": "2023-03-01T07:00:16.977Z"
   },
   {
    "duration": 33,
    "start_time": "2023-03-01T07:00:17.008Z"
   },
   {
    "duration": 129,
    "start_time": "2023-03-01T07:00:17.044Z"
   },
   {
    "duration": 130,
    "start_time": "2023-03-01T07:00:17.175Z"
   },
   {
    "duration": 6,
    "start_time": "2023-03-01T07:00:17.306Z"
   },
   {
    "duration": 8,
    "start_time": "2023-03-01T07:00:17.313Z"
   },
   {
    "duration": 41,
    "start_time": "2023-03-01T07:00:17.322Z"
   },
   {
    "duration": 5,
    "start_time": "2023-03-01T07:00:17.365Z"
   },
   {
    "duration": 24,
    "start_time": "2023-03-01T07:00:17.391Z"
   },
   {
    "duration": 53,
    "start_time": "2023-03-01T07:00:17.416Z"
   },
   {
    "duration": 80,
    "start_time": "2023-03-01T07:00:17.472Z"
   },
   {
    "duration": 139,
    "start_time": "2023-03-01T07:00:17.554Z"
   },
   {
    "duration": 26,
    "start_time": "2023-03-01T07:00:17.694Z"
   },
   {
    "duration": 19,
    "start_time": "2023-03-01T07:00:17.721Z"
   },
   {
    "duration": 18,
    "start_time": "2023-03-01T07:00:17.741Z"
   },
   {
    "duration": 44,
    "start_time": "2023-03-01T07:00:17.761Z"
   },
   {
    "duration": 19,
    "start_time": "2023-03-01T07:00:17.806Z"
   },
   {
    "duration": 19,
    "start_time": "2023-03-01T07:00:17.827Z"
   },
   {
    "duration": 17,
    "start_time": "2023-03-01T07:00:17.847Z"
   },
   {
    "duration": 34,
    "start_time": "2023-03-01T07:00:17.866Z"
   },
   {
    "duration": 144,
    "start_time": "2023-03-01T07:00:17.902Z"
   },
   {
    "duration": 74,
    "start_time": "2023-03-01T07:00:18.048Z"
   },
   {
    "duration": 11,
    "start_time": "2023-03-01T07:00:18.123Z"
   },
   {
    "duration": 88,
    "start_time": "2023-03-01T07:00:18.135Z"
   },
   {
    "duration": 18,
    "start_time": "2023-03-01T07:00:18.225Z"
   },
   {
    "duration": 15,
    "start_time": "2023-03-01T07:00:18.244Z"
   },
   {
    "duration": 5,
    "start_time": "2023-03-01T07:00:18.261Z"
   },
   {
    "duration": 5,
    "start_time": "2023-03-01T07:00:18.267Z"
   },
   {
    "duration": 279,
    "start_time": "2023-03-01T07:00:18.273Z"
   },
   {
    "duration": 20,
    "start_time": "2023-03-01T07:00:18.554Z"
   },
   {
    "duration": 113,
    "start_time": "2023-03-01T07:00:18.592Z"
   },
   {
    "duration": 0,
    "start_time": "2023-03-01T07:00:18.707Z"
   },
   {
    "duration": 1421,
    "start_time": "2023-03-01T07:03:03.916Z"
   },
   {
    "duration": 862,
    "start_time": "2023-03-01T07:03:05.339Z"
   },
   {
    "duration": 154,
    "start_time": "2023-03-01T07:03:06.203Z"
   },
   {
    "duration": 384,
    "start_time": "2023-03-01T07:03:06.360Z"
   },
   {
    "duration": 1215,
    "start_time": "2023-03-01T07:03:06.746Z"
   },
   {
    "duration": 144,
    "start_time": "2023-03-01T07:03:07.963Z"
   },
   {
    "duration": 355,
    "start_time": "2023-03-01T07:03:08.108Z"
   },
   {
    "duration": 102,
    "start_time": "2023-03-01T07:03:08.464Z"
   },
   {
    "duration": 27,
    "start_time": "2023-03-01T07:03:08.568Z"
   },
   {
    "duration": 196,
    "start_time": "2023-03-01T07:03:08.597Z"
   },
   {
    "duration": 145,
    "start_time": "2023-03-01T07:03:08.795Z"
   },
   {
    "duration": 53,
    "start_time": "2023-03-01T07:03:08.941Z"
   },
   {
    "duration": 40,
    "start_time": "2023-03-01T07:03:08.995Z"
   },
   {
    "duration": 9,
    "start_time": "2023-03-01T07:03:09.037Z"
   },
   {
    "duration": 52,
    "start_time": "2023-03-01T07:03:09.048Z"
   },
   {
    "duration": 110,
    "start_time": "2023-03-01T07:03:09.102Z"
   },
   {
    "duration": 20,
    "start_time": "2023-03-01T07:03:09.213Z"
   },
   {
    "duration": 22,
    "start_time": "2023-03-01T07:03:09.235Z"
   },
   {
    "duration": 50,
    "start_time": "2023-03-01T07:03:09.259Z"
   },
   {
    "duration": 123,
    "start_time": "2023-03-01T07:03:09.311Z"
   },
   {
    "duration": 124,
    "start_time": "2023-03-01T07:03:09.435Z"
   },
   {
    "duration": 5,
    "start_time": "2023-03-01T07:03:09.561Z"
   },
   {
    "duration": 17,
    "start_time": "2023-03-01T07:03:09.568Z"
   },
   {
    "duration": 44,
    "start_time": "2023-03-01T07:03:09.590Z"
   },
   {
    "duration": 6,
    "start_time": "2023-03-01T07:03:09.636Z"
   },
   {
    "duration": 38,
    "start_time": "2023-03-01T07:03:09.644Z"
   },
   {
    "duration": 67,
    "start_time": "2023-03-01T07:03:09.692Z"
   },
   {
    "duration": 88,
    "start_time": "2023-03-01T07:03:09.764Z"
   },
   {
    "duration": 150,
    "start_time": "2023-03-01T07:03:09.854Z"
   },
   {
    "duration": 26,
    "start_time": "2023-03-01T07:03:10.006Z"
   },
   {
    "duration": 19,
    "start_time": "2023-03-01T07:03:10.034Z"
   },
   {
    "duration": 28,
    "start_time": "2023-03-01T07:03:10.054Z"
   },
   {
    "duration": 25,
    "start_time": "2023-03-01T07:03:10.092Z"
   },
   {
    "duration": 20,
    "start_time": "2023-03-01T07:03:10.119Z"
   },
   {
    "duration": 26,
    "start_time": "2023-03-01T07:03:10.140Z"
   },
   {
    "duration": 27,
    "start_time": "2023-03-01T07:03:10.168Z"
   },
   {
    "duration": 22,
    "start_time": "2023-03-01T07:03:10.197Z"
   },
   {
    "duration": 138,
    "start_time": "2023-03-01T07:03:10.220Z"
   },
   {
    "duration": 72,
    "start_time": "2023-03-01T07:03:10.360Z"
   },
   {
    "duration": 11,
    "start_time": "2023-03-01T07:03:10.433Z"
   },
   {
    "duration": 77,
    "start_time": "2023-03-01T07:03:10.446Z"
   },
   {
    "duration": 16,
    "start_time": "2023-03-01T07:03:10.524Z"
   },
   {
    "duration": 20,
    "start_time": "2023-03-01T07:03:10.542Z"
   },
   {
    "duration": 4,
    "start_time": "2023-03-01T07:03:10.564Z"
   },
   {
    "duration": 12,
    "start_time": "2023-03-01T07:03:10.570Z"
   },
   {
    "duration": 246,
    "start_time": "2023-03-01T07:03:10.583Z"
   },
   {
    "duration": 89,
    "start_time": "2023-03-01T07:03:10.831Z"
   },
   {
    "duration": 97,
    "start_time": "2023-03-01T07:03:10.921Z"
   },
   {
    "duration": 118,
    "start_time": "2023-03-01T07:03:11.020Z"
   },
   {
    "duration": 0,
    "start_time": "2023-03-01T07:03:11.139Z"
   },
   {
    "duration": 50,
    "start_time": "2023-03-01T07:05:10.479Z"
   },
   {
    "duration": 249,
    "start_time": "2023-03-01T07:05:14.734Z"
   },
   {
    "duration": 4,
    "start_time": "2023-03-01T07:50:38.049Z"
   },
   {
    "duration": 85,
    "start_time": "2023-03-01T07:51:34.690Z"
   },
   {
    "duration": 29,
    "start_time": "2023-03-01T07:51:50.428Z"
   },
   {
    "duration": 34,
    "start_time": "2023-03-01T07:51:54.152Z"
   },
   {
    "duration": 63,
    "start_time": "2023-03-01T07:53:22.028Z"
   },
   {
    "duration": 4,
    "start_time": "2023-03-01T07:54:26.489Z"
   },
   {
    "duration": 4,
    "start_time": "2023-03-01T07:57:40.152Z"
   },
   {
    "duration": 5,
    "start_time": "2023-03-01T07:58:37.093Z"
   },
   {
    "duration": 30,
    "start_time": "2023-03-01T08:07:32.645Z"
   },
   {
    "duration": 16,
    "start_time": "2023-03-01T08:07:41.255Z"
   },
   {
    "duration": 1483,
    "start_time": "2023-03-01T08:13:55.854Z"
   },
   {
    "duration": 830,
    "start_time": "2023-03-01T08:13:57.339Z"
   },
   {
    "duration": 142,
    "start_time": "2023-03-01T08:13:58.171Z"
   },
   {
    "duration": 343,
    "start_time": "2023-03-01T08:13:58.315Z"
   },
   {
    "duration": 1217,
    "start_time": "2023-03-01T08:13:58.661Z"
   },
   {
    "duration": 140,
    "start_time": "2023-03-01T08:13:59.880Z"
   },
   {
    "duration": 352,
    "start_time": "2023-03-01T08:14:00.022Z"
   },
   {
    "duration": 99,
    "start_time": "2023-03-01T08:14:00.376Z"
   },
   {
    "duration": 25,
    "start_time": "2023-03-01T08:14:00.477Z"
   },
   {
    "duration": 205,
    "start_time": "2023-03-01T08:14:00.504Z"
   },
   {
    "duration": 141,
    "start_time": "2023-03-01T08:14:00.710Z"
   },
   {
    "duration": 48,
    "start_time": "2023-03-01T08:14:00.852Z"
   },
   {
    "duration": 39,
    "start_time": "2023-03-01T08:14:00.902Z"
   },
   {
    "duration": 16,
    "start_time": "2023-03-01T08:14:00.944Z"
   },
   {
    "duration": 278,
    "start_time": "2023-03-01T08:14:00.961Z"
   },
   {
    "duration": 141,
    "start_time": "2023-03-01T08:14:01.241Z"
   },
   {
    "duration": 37,
    "start_time": "2023-03-01T08:14:01.385Z"
   },
   {
    "duration": 27,
    "start_time": "2023-03-01T08:14:01.424Z"
   },
   {
    "duration": 41,
    "start_time": "2023-03-01T08:14:01.453Z"
   },
   {
    "duration": 124,
    "start_time": "2023-03-01T08:14:01.496Z"
   },
   {
    "duration": 127,
    "start_time": "2023-03-01T08:14:01.621Z"
   },
   {
    "duration": 5,
    "start_time": "2023-03-01T08:14:01.750Z"
   },
   {
    "duration": 25,
    "start_time": "2023-03-01T08:14:01.757Z"
   },
   {
    "duration": 66,
    "start_time": "2023-03-01T08:14:01.784Z"
   },
   {
    "duration": 6,
    "start_time": "2023-03-01T08:14:01.851Z"
   },
   {
    "duration": 24,
    "start_time": "2023-03-01T08:14:01.859Z"
   },
   {
    "duration": 61,
    "start_time": "2023-03-01T08:14:01.884Z"
   },
   {
    "duration": 71,
    "start_time": "2023-03-01T08:14:01.947Z"
   },
   {
    "duration": 140,
    "start_time": "2023-03-01T08:14:02.020Z"
   },
   {
    "duration": 33,
    "start_time": "2023-03-01T08:14:02.162Z"
   },
   {
    "duration": 18,
    "start_time": "2023-03-01T08:14:02.196Z"
   },
   {
    "duration": 22,
    "start_time": "2023-03-01T08:14:02.216Z"
   },
   {
    "duration": 28,
    "start_time": "2023-03-01T08:14:02.240Z"
   },
   {
    "duration": 28,
    "start_time": "2023-03-01T08:14:02.270Z"
   },
   {
    "duration": 28,
    "start_time": "2023-03-01T08:14:02.300Z"
   },
   {
    "duration": 18,
    "start_time": "2023-03-01T08:14:02.330Z"
   },
   {
    "duration": 15,
    "start_time": "2023-03-01T08:14:02.350Z"
   },
   {
    "duration": 146,
    "start_time": "2023-03-01T08:14:02.366Z"
   },
   {
    "duration": 77,
    "start_time": "2023-03-01T08:14:02.514Z"
   },
   {
    "duration": 10,
    "start_time": "2023-03-01T08:14:02.593Z"
   },
   {
    "duration": 59,
    "start_time": "2023-03-01T08:14:02.607Z"
   },
   {
    "duration": 39,
    "start_time": "2023-03-01T08:14:02.668Z"
   },
   {
    "duration": 26,
    "start_time": "2023-03-01T08:14:02.708Z"
   },
   {
    "duration": 12,
    "start_time": "2023-03-01T08:14:02.736Z"
   },
   {
    "duration": 12,
    "start_time": "2023-03-01T08:14:02.750Z"
   },
   {
    "duration": 305,
    "start_time": "2023-03-01T08:14:02.764Z"
   },
   {
    "duration": 96,
    "start_time": "2023-03-01T08:14:03.071Z"
   },
   {
    "duration": 95,
    "start_time": "2023-03-01T08:14:03.169Z"
   },
   {
    "duration": 68,
    "start_time": "2023-03-01T08:14:03.266Z"
   },
   {
    "duration": 272,
    "start_time": "2023-03-01T08:14:03.336Z"
   },
   {
    "duration": 38,
    "start_time": "2023-03-01T08:14:03.610Z"
   },
   {
    "duration": 155,
    "start_time": "2023-03-01T08:14:03.650Z"
   },
   {
    "duration": 6,
    "start_time": "2023-03-01T08:14:03.892Z"
   },
   {
    "duration": 2105,
    "start_time": "2023-03-01T08:18:18.011Z"
   },
   {
    "duration": 2969,
    "start_time": "2023-03-01T08:18:20.118Z"
   },
   {
    "duration": 139,
    "start_time": "2023-03-01T08:18:23.089Z"
   },
   {
    "duration": 304,
    "start_time": "2023-03-01T08:18:23.230Z"
   },
   {
    "duration": 1211,
    "start_time": "2023-03-01T08:18:23.536Z"
   },
   {
    "duration": 148,
    "start_time": "2023-03-01T08:18:24.748Z"
   },
   {
    "duration": 348,
    "start_time": "2023-03-01T08:18:24.898Z"
   },
   {
    "duration": 97,
    "start_time": "2023-03-01T08:18:25.248Z"
   },
   {
    "duration": 14,
    "start_time": "2023-03-01T08:18:25.346Z"
   },
   {
    "duration": 197,
    "start_time": "2023-03-01T08:18:25.363Z"
   },
   {
    "duration": 145,
    "start_time": "2023-03-01T08:18:25.562Z"
   },
   {
    "duration": 39,
    "start_time": "2023-03-01T08:18:25.708Z"
   },
   {
    "duration": 56,
    "start_time": "2023-03-01T08:18:25.749Z"
   },
   {
    "duration": 11,
    "start_time": "2023-03-01T08:18:25.806Z"
   },
   {
    "duration": 19,
    "start_time": "2023-03-01T08:18:25.819Z"
   },
   {
    "duration": 120,
    "start_time": "2023-03-01T08:18:25.840Z"
   },
   {
    "duration": 21,
    "start_time": "2023-03-01T08:18:25.962Z"
   },
   {
    "duration": 22,
    "start_time": "2023-03-01T08:18:25.991Z"
   },
   {
    "duration": 34,
    "start_time": "2023-03-01T08:18:26.015Z"
   },
   {
    "duration": 147,
    "start_time": "2023-03-01T08:18:26.051Z"
   },
   {
    "duration": 171,
    "start_time": "2023-03-01T08:18:26.199Z"
   },
   {
    "duration": 7,
    "start_time": "2023-03-01T08:18:26.373Z"
   },
   {
    "duration": 12,
    "start_time": "2023-03-01T08:18:26.382Z"
   },
   {
    "duration": 56,
    "start_time": "2023-03-01T08:18:26.396Z"
   },
   {
    "duration": 6,
    "start_time": "2023-03-01T08:18:26.455Z"
   },
   {
    "duration": 44,
    "start_time": "2023-03-01T08:18:26.463Z"
   },
   {
    "duration": 68,
    "start_time": "2023-03-01T08:18:26.510Z"
   },
   {
    "duration": 73,
    "start_time": "2023-03-01T08:18:26.584Z"
   },
   {
    "duration": 139,
    "start_time": "2023-03-01T08:18:26.659Z"
   },
   {
    "duration": 25,
    "start_time": "2023-03-01T08:18:26.800Z"
   },
   {
    "duration": 19,
    "start_time": "2023-03-01T08:18:26.827Z"
   },
   {
    "duration": 20,
    "start_time": "2023-03-01T08:18:26.848Z"
   },
   {
    "duration": 44,
    "start_time": "2023-03-01T08:18:26.870Z"
   },
   {
    "duration": 20,
    "start_time": "2023-03-01T08:18:26.916Z"
   },
   {
    "duration": 39,
    "start_time": "2023-03-01T08:18:26.938Z"
   },
   {
    "duration": 26,
    "start_time": "2023-03-01T08:18:26.979Z"
   },
   {
    "duration": 15,
    "start_time": "2023-03-01T08:18:27.007Z"
   },
   {
    "duration": 145,
    "start_time": "2023-03-01T08:18:27.024Z"
   },
   {
    "duration": 69,
    "start_time": "2023-03-01T08:18:27.170Z"
   },
   {
    "duration": 14,
    "start_time": "2023-03-01T08:18:27.241Z"
   },
   {
    "duration": 96,
    "start_time": "2023-03-01T08:18:27.257Z"
   },
   {
    "duration": 18,
    "start_time": "2023-03-01T08:18:27.355Z"
   },
   {
    "duration": 25,
    "start_time": "2023-03-01T08:18:27.375Z"
   },
   {
    "duration": 5,
    "start_time": "2023-03-01T08:18:27.402Z"
   },
   {
    "duration": 5,
    "start_time": "2023-03-01T08:18:27.409Z"
   },
   {
    "duration": 260,
    "start_time": "2023-03-01T08:18:27.416Z"
   },
   {
    "duration": 87,
    "start_time": "2023-03-01T08:18:27.678Z"
   },
   {
    "duration": 110,
    "start_time": "2023-03-01T08:18:27.766Z"
   },
   {
    "duration": 58,
    "start_time": "2023-03-01T08:18:27.878Z"
   },
   {
    "duration": 257,
    "start_time": "2023-03-01T08:18:27.938Z"
   },
   {
    "duration": 35,
    "start_time": "2023-03-01T08:18:28.196Z"
   },
   {
    "duration": 62,
    "start_time": "2023-03-01T08:18:28.233Z"
   },
   {
    "duration": 97,
    "start_time": "2023-03-01T08:18:28.297Z"
   },
   {
    "duration": 1618,
    "start_time": "2023-03-01T08:19:53.839Z"
   },
   {
    "duration": 849,
    "start_time": "2023-03-01T08:19:55.459Z"
   },
   {
    "duration": 200,
    "start_time": "2023-03-01T08:19:56.310Z"
   },
   {
    "duration": 335,
    "start_time": "2023-03-01T08:19:56.513Z"
   },
   {
    "duration": 2058,
    "start_time": "2023-03-01T08:19:56.850Z"
   },
   {
    "duration": 181,
    "start_time": "2023-03-01T08:19:58.910Z"
   },
   {
    "duration": 334,
    "start_time": "2023-03-01T08:19:59.093Z"
   },
   {
    "duration": 95,
    "start_time": "2023-03-01T08:19:59.428Z"
   },
   {
    "duration": 14,
    "start_time": "2023-03-01T08:19:59.524Z"
   },
   {
    "duration": 198,
    "start_time": "2023-03-01T08:19:59.541Z"
   },
   {
    "duration": 154,
    "start_time": "2023-03-01T08:19:59.740Z"
   },
   {
    "duration": 39,
    "start_time": "2023-03-01T08:19:59.896Z"
   },
   {
    "duration": 59,
    "start_time": "2023-03-01T08:19:59.937Z"
   },
   {
    "duration": 10,
    "start_time": "2023-03-01T08:19:59.998Z"
   },
   {
    "duration": 47,
    "start_time": "2023-03-01T08:20:00.010Z"
   },
   {
    "duration": 124,
    "start_time": "2023-03-01T08:20:00.059Z"
   },
   {
    "duration": 28,
    "start_time": "2023-03-01T08:20:00.184Z"
   },
   {
    "duration": 67,
    "start_time": "2023-03-01T08:20:00.213Z"
   },
   {
    "duration": 65,
    "start_time": "2023-03-01T08:20:00.283Z"
   },
   {
    "duration": 128,
    "start_time": "2023-03-01T08:20:00.350Z"
   },
   {
    "duration": 131,
    "start_time": "2023-03-01T08:20:00.480Z"
   },
   {
    "duration": 7,
    "start_time": "2023-03-01T08:20:00.612Z"
   },
   {
    "duration": 29,
    "start_time": "2023-03-01T08:20:00.620Z"
   },
   {
    "duration": 72,
    "start_time": "2023-03-01T08:20:00.650Z"
   },
   {
    "duration": 7,
    "start_time": "2023-03-01T08:20:00.724Z"
   },
   {
    "duration": 54,
    "start_time": "2023-03-01T08:20:00.732Z"
   },
   {
    "duration": 83,
    "start_time": "2023-03-01T08:20:00.788Z"
   },
   {
    "duration": 105,
    "start_time": "2023-03-01T08:20:00.875Z"
   },
   {
    "duration": 125,
    "start_time": "2023-03-01T08:20:00.981Z"
   },
   {
    "duration": 25,
    "start_time": "2023-03-01T08:20:01.108Z"
   },
   {
    "duration": 17,
    "start_time": "2023-03-01T08:20:01.135Z"
   },
   {
    "duration": 46,
    "start_time": "2023-03-01T08:20:01.154Z"
   },
   {
    "duration": 38,
    "start_time": "2023-03-01T08:20:01.202Z"
   },
   {
    "duration": 45,
    "start_time": "2023-03-01T08:20:01.242Z"
   },
   {
    "duration": 38,
    "start_time": "2023-03-01T08:20:01.289Z"
   },
   {
    "duration": 45,
    "start_time": "2023-03-01T08:20:01.329Z"
   },
   {
    "duration": 25,
    "start_time": "2023-03-01T08:20:01.375Z"
   },
   {
    "duration": 158,
    "start_time": "2023-03-01T08:20:01.402Z"
   },
   {
    "duration": 83,
    "start_time": "2023-03-01T08:20:01.562Z"
   },
   {
    "duration": 13,
    "start_time": "2023-03-01T08:20:01.646Z"
   },
   {
    "duration": 91,
    "start_time": "2023-03-01T08:20:01.660Z"
   },
   {
    "duration": 17,
    "start_time": "2023-03-01T08:20:01.753Z"
   },
   {
    "duration": 50,
    "start_time": "2023-03-01T08:20:01.772Z"
   },
   {
    "duration": 21,
    "start_time": "2023-03-01T08:20:01.824Z"
   },
   {
    "duration": 102,
    "start_time": "2023-03-01T08:20:01.847Z"
   },
   {
    "duration": 317,
    "start_time": "2023-03-01T08:20:01.951Z"
   },
   {
    "duration": 97,
    "start_time": "2023-03-01T08:20:02.270Z"
   },
   {
    "duration": 97,
    "start_time": "2023-03-01T08:20:02.368Z"
   },
   {
    "duration": 66,
    "start_time": "2023-03-01T08:20:02.466Z"
   },
   {
    "duration": 279,
    "start_time": "2023-03-01T08:20:02.533Z"
   },
   {
    "duration": 38,
    "start_time": "2023-03-01T08:20:02.815Z"
   },
   {
    "duration": 140,
    "start_time": "2023-03-01T08:20:02.856Z"
   },
   {
    "duration": 97,
    "start_time": "2023-03-01T08:20:02.998Z"
   },
   {
    "duration": 1527,
    "start_time": "2023-03-01T08:24:04.820Z"
   },
   {
    "duration": 3044,
    "start_time": "2023-03-01T08:24:06.350Z"
   },
   {
    "duration": 143,
    "start_time": "2023-03-01T08:24:09.396Z"
   },
   {
    "duration": 294,
    "start_time": "2023-03-01T08:24:09.541Z"
   },
   {
    "duration": 1177,
    "start_time": "2023-03-01T08:24:09.837Z"
   },
   {
    "duration": 145,
    "start_time": "2023-03-01T08:24:11.017Z"
   },
   {
    "duration": 350,
    "start_time": "2023-03-01T08:24:11.164Z"
   },
   {
    "duration": 94,
    "start_time": "2023-03-01T08:24:11.516Z"
   },
   {
    "duration": 14,
    "start_time": "2023-03-01T08:24:11.611Z"
   },
   {
    "duration": 206,
    "start_time": "2023-03-01T08:24:11.627Z"
   },
   {
    "duration": 151,
    "start_time": "2023-03-01T08:24:11.835Z"
   },
   {
    "duration": 38,
    "start_time": "2023-03-01T08:24:11.992Z"
   },
   {
    "duration": 38,
    "start_time": "2023-03-01T08:24:12.032Z"
   },
   {
    "duration": 25,
    "start_time": "2023-03-01T08:24:12.072Z"
   },
   {
    "duration": 24,
    "start_time": "2023-03-01T08:24:12.098Z"
   },
   {
    "duration": 109,
    "start_time": "2023-03-01T08:24:12.124Z"
   },
   {
    "duration": 20,
    "start_time": "2023-03-01T08:24:12.235Z"
   },
   {
    "duration": 35,
    "start_time": "2023-03-01T08:24:12.256Z"
   },
   {
    "duration": 32,
    "start_time": "2023-03-01T08:24:12.293Z"
   },
   {
    "duration": 130,
    "start_time": "2023-03-01T08:24:12.327Z"
   },
   {
    "duration": 128,
    "start_time": "2023-03-01T08:24:12.459Z"
   },
   {
    "duration": 7,
    "start_time": "2023-03-01T08:24:12.591Z"
   },
   {
    "duration": 16,
    "start_time": "2023-03-01T08:24:12.600Z"
   },
   {
    "duration": 93,
    "start_time": "2023-03-01T08:24:12.618Z"
   },
   {
    "duration": 8,
    "start_time": "2023-03-01T08:24:12.713Z"
   },
   {
    "duration": 87,
    "start_time": "2023-03-01T08:24:12.723Z"
   },
   {
    "duration": 105,
    "start_time": "2023-03-01T08:24:12.812Z"
   },
   {
    "duration": 183,
    "start_time": "2023-03-01T08:24:12.922Z"
   },
   {
    "duration": 289,
    "start_time": "2023-03-01T08:24:13.106Z"
   },
   {
    "duration": 26,
    "start_time": "2023-03-01T08:24:13.397Z"
   },
   {
    "duration": 74,
    "start_time": "2023-03-01T08:24:13.425Z"
   },
   {
    "duration": 30,
    "start_time": "2023-03-01T08:24:13.501Z"
   },
   {
    "duration": 70,
    "start_time": "2023-03-01T08:24:13.533Z"
   },
   {
    "duration": 29,
    "start_time": "2023-03-01T08:24:13.605Z"
   },
   {
    "duration": 80,
    "start_time": "2023-03-01T08:24:13.636Z"
   },
   {
    "duration": 87,
    "start_time": "2023-03-01T08:24:13.718Z"
   },
   {
    "duration": 18,
    "start_time": "2023-03-01T08:24:13.807Z"
   },
   {
    "duration": 295,
    "start_time": "2023-03-01T08:24:13.827Z"
   },
   {
    "duration": 173,
    "start_time": "2023-03-01T08:24:14.124Z"
   },
   {
    "duration": 11,
    "start_time": "2023-03-01T08:24:14.299Z"
   },
   {
    "duration": 114,
    "start_time": "2023-03-01T08:24:14.312Z"
   },
   {
    "duration": 69,
    "start_time": "2023-03-01T08:24:14.428Z"
   },
   {
    "duration": 11,
    "start_time": "2023-03-01T08:24:14.500Z"
   },
   {
    "duration": 4,
    "start_time": "2023-03-01T08:24:14.513Z"
   },
   {
    "duration": 5,
    "start_time": "2023-03-01T08:24:14.518Z"
   },
   {
    "duration": 306,
    "start_time": "2023-03-01T08:24:14.525Z"
   },
   {
    "duration": 95,
    "start_time": "2023-03-01T08:24:14.833Z"
   },
   {
    "duration": 92,
    "start_time": "2023-03-01T08:24:14.930Z"
   },
   {
    "duration": 50,
    "start_time": "2023-03-01T08:24:15.024Z"
   },
   {
    "duration": 250,
    "start_time": "2023-03-01T08:24:15.076Z"
   },
   {
    "duration": 36,
    "start_time": "2023-03-01T08:24:15.328Z"
   },
   {
    "duration": 124,
    "start_time": "2023-03-01T08:24:15.366Z"
   },
   {
    "duration": 90,
    "start_time": "2023-03-01T08:24:15.504Z"
   },
   {
    "duration": 118,
    "start_time": "2023-03-01T08:29:59.043Z"
   },
   {
    "duration": 1539,
    "start_time": "2023-03-01T08:30:32.766Z"
   },
   {
    "duration": 182,
    "start_time": "2023-03-01T08:30:39.168Z"
   },
   {
    "duration": 1535,
    "start_time": "2023-03-01T08:31:00.331Z"
   },
   {
    "duration": 3333,
    "start_time": "2023-03-01T08:31:01.868Z"
   },
   {
    "duration": 289,
    "start_time": "2023-03-01T08:31:05.203Z"
   },
   {
    "duration": 611,
    "start_time": "2023-03-01T08:31:05.494Z"
   },
   {
    "duration": 1455,
    "start_time": "2023-03-01T08:31:06.106Z"
   },
   {
    "duration": 142,
    "start_time": "2023-03-01T08:31:07.562Z"
   },
   {
    "duration": 345,
    "start_time": "2023-03-01T08:31:07.706Z"
   },
   {
    "duration": 94,
    "start_time": "2023-03-01T08:31:08.053Z"
   },
   {
    "duration": 15,
    "start_time": "2023-03-01T08:31:08.148Z"
   },
   {
    "duration": 198,
    "start_time": "2023-03-01T08:31:08.167Z"
   },
   {
    "duration": 175,
    "start_time": "2023-03-01T08:31:08.367Z"
   },
   {
    "duration": 49,
    "start_time": "2023-03-01T08:31:08.544Z"
   },
   {
    "duration": 50,
    "start_time": "2023-03-01T08:31:08.595Z"
   },
   {
    "duration": 18,
    "start_time": "2023-03-01T08:31:08.647Z"
   },
   {
    "duration": 56,
    "start_time": "2023-03-01T08:31:08.667Z"
   },
   {
    "duration": 131,
    "start_time": "2023-03-01T08:31:08.726Z"
   },
   {
    "duration": 33,
    "start_time": "2023-03-01T08:31:08.858Z"
   },
   {
    "duration": 21,
    "start_time": "2023-03-01T08:31:08.893Z"
   },
   {
    "duration": 37,
    "start_time": "2023-03-01T08:31:08.915Z"
   },
   {
    "duration": 126,
    "start_time": "2023-03-01T08:31:08.954Z"
   },
   {
    "duration": 151,
    "start_time": "2023-03-01T08:31:09.082Z"
   },
   {
    "duration": 7,
    "start_time": "2023-03-01T08:31:09.235Z"
   },
   {
    "duration": 13,
    "start_time": "2023-03-01T08:31:09.244Z"
   },
   {
    "duration": 65,
    "start_time": "2023-03-01T08:31:09.259Z"
   },
   {
    "duration": 6,
    "start_time": "2023-03-01T08:31:09.326Z"
   },
   {
    "duration": 44,
    "start_time": "2023-03-01T08:31:09.333Z"
   },
   {
    "duration": 64,
    "start_time": "2023-03-01T08:31:09.379Z"
   },
   {
    "duration": 91,
    "start_time": "2023-03-01T08:31:09.446Z"
   },
   {
    "duration": 146,
    "start_time": "2023-03-01T08:31:09.538Z"
   },
   {
    "duration": 25,
    "start_time": "2023-03-01T08:31:09.686Z"
   },
   {
    "duration": 19,
    "start_time": "2023-03-01T08:31:09.712Z"
   },
   {
    "duration": 28,
    "start_time": "2023-03-01T08:31:09.733Z"
   },
   {
    "duration": 31,
    "start_time": "2023-03-01T08:31:09.762Z"
   },
   {
    "duration": 17,
    "start_time": "2023-03-01T08:31:09.795Z"
   },
   {
    "duration": 46,
    "start_time": "2023-03-01T08:31:09.814Z"
   },
   {
    "duration": 21,
    "start_time": "2023-03-01T08:31:09.863Z"
   },
   {
    "duration": 34,
    "start_time": "2023-03-01T08:31:09.886Z"
   },
   {
    "duration": 138,
    "start_time": "2023-03-01T08:31:09.921Z"
   },
   {
    "duration": 69,
    "start_time": "2023-03-01T08:31:10.060Z"
   },
   {
    "duration": 12,
    "start_time": "2023-03-01T08:31:10.131Z"
   },
   {
    "duration": 107,
    "start_time": "2023-03-01T08:31:10.145Z"
   },
   {
    "duration": 16,
    "start_time": "2023-03-01T08:31:10.254Z"
   },
   {
    "duration": 35,
    "start_time": "2023-03-01T08:31:10.272Z"
   },
   {
    "duration": 16,
    "start_time": "2023-03-01T08:31:10.309Z"
   },
   {
    "duration": 30,
    "start_time": "2023-03-01T08:31:10.327Z"
   },
   {
    "duration": 264,
    "start_time": "2023-03-01T08:31:10.359Z"
   },
   {
    "duration": 92,
    "start_time": "2023-03-01T08:31:10.625Z"
   },
   {
    "duration": 92,
    "start_time": "2023-03-01T08:31:10.719Z"
   },
   {
    "duration": 50,
    "start_time": "2023-03-01T08:31:10.813Z"
   },
   {
    "duration": 253,
    "start_time": "2023-03-01T08:31:10.864Z"
   },
   {
    "duration": 34,
    "start_time": "2023-03-01T08:31:11.118Z"
   },
   {
    "duration": 44,
    "start_time": "2023-03-01T08:31:11.154Z"
   },
   {
    "duration": 93,
    "start_time": "2023-03-01T08:31:11.200Z"
   },
   {
    "duration": 249,
    "start_time": "2023-03-01T08:31:11.295Z"
   },
   {
    "duration": 1563,
    "start_time": "2023-03-01T08:32:04.857Z"
   },
   {
    "duration": 1109,
    "start_time": "2023-03-01T08:32:06.423Z"
   },
   {
    "duration": 302,
    "start_time": "2023-03-01T08:32:07.533Z"
   },
   {
    "duration": 879,
    "start_time": "2023-03-01T08:32:07.837Z"
   },
   {
    "duration": 1689,
    "start_time": "2023-03-01T08:32:08.719Z"
   },
   {
    "duration": 145,
    "start_time": "2023-03-01T08:32:10.410Z"
   },
   {
    "duration": 384,
    "start_time": "2023-03-01T08:32:10.556Z"
   },
   {
    "duration": 110,
    "start_time": "2023-03-01T08:32:10.942Z"
   },
   {
    "duration": 16,
    "start_time": "2023-03-01T08:32:11.055Z"
   },
   {
    "duration": 214,
    "start_time": "2023-03-01T08:32:11.090Z"
   },
   {
    "duration": 176,
    "start_time": "2023-03-01T08:32:11.306Z"
   },
   {
    "duration": 45,
    "start_time": "2023-03-01T08:32:11.484Z"
   },
   {
    "duration": 59,
    "start_time": "2023-03-01T08:32:11.532Z"
   },
   {
    "duration": 14,
    "start_time": "2023-03-01T08:32:11.594Z"
   },
   {
    "duration": 32,
    "start_time": "2023-03-01T08:32:11.610Z"
   },
   {
    "duration": 123,
    "start_time": "2023-03-01T08:32:11.644Z"
   },
   {
    "duration": 33,
    "start_time": "2023-03-01T08:32:11.769Z"
   },
   {
    "duration": 37,
    "start_time": "2023-03-01T08:32:11.804Z"
   },
   {
    "duration": 67,
    "start_time": "2023-03-01T08:32:11.844Z"
   },
   {
    "duration": 136,
    "start_time": "2023-03-01T08:32:11.913Z"
   },
   {
    "duration": 145,
    "start_time": "2023-03-01T08:32:12.051Z"
   },
   {
    "duration": 7,
    "start_time": "2023-03-01T08:32:12.197Z"
   },
   {
    "duration": 8,
    "start_time": "2023-03-01T08:32:12.205Z"
   },
   {
    "duration": 43,
    "start_time": "2023-03-01T08:32:12.215Z"
   },
   {
    "duration": 8,
    "start_time": "2023-03-01T08:32:12.260Z"
   },
   {
    "duration": 23,
    "start_time": "2023-03-01T08:32:12.293Z"
   },
   {
    "duration": 75,
    "start_time": "2023-03-01T08:32:12.318Z"
   },
   {
    "duration": 103,
    "start_time": "2023-03-01T08:32:12.398Z"
   },
   {
    "duration": 141,
    "start_time": "2023-03-01T08:32:12.502Z"
   },
   {
    "duration": 32,
    "start_time": "2023-03-01T08:32:12.645Z"
   },
   {
    "duration": 29,
    "start_time": "2023-03-01T08:32:12.679Z"
   },
   {
    "duration": 20,
    "start_time": "2023-03-01T08:32:12.710Z"
   },
   {
    "duration": 18,
    "start_time": "2023-03-01T08:32:12.732Z"
   },
   {
    "duration": 42,
    "start_time": "2023-03-01T08:32:12.752Z"
   },
   {
    "duration": 29,
    "start_time": "2023-03-01T08:32:12.795Z"
   },
   {
    "duration": 26,
    "start_time": "2023-03-01T08:32:12.826Z"
   },
   {
    "duration": 46,
    "start_time": "2023-03-01T08:32:12.854Z"
   },
   {
    "duration": 158,
    "start_time": "2023-03-01T08:32:12.902Z"
   },
   {
    "duration": 88,
    "start_time": "2023-03-01T08:32:13.062Z"
   },
   {
    "duration": 14,
    "start_time": "2023-03-01T08:32:13.152Z"
   },
   {
    "duration": 88,
    "start_time": "2023-03-01T08:32:13.191Z"
   },
   {
    "duration": 32,
    "start_time": "2023-03-01T08:32:13.281Z"
   },
   {
    "duration": 10,
    "start_time": "2023-03-01T08:32:13.315Z"
   },
   {
    "duration": 7,
    "start_time": "2023-03-01T08:32:13.328Z"
   },
   {
    "duration": 5,
    "start_time": "2023-03-01T08:32:13.337Z"
   },
   {
    "duration": 271,
    "start_time": "2023-03-01T08:32:13.344Z"
   },
   {
    "duration": 93,
    "start_time": "2023-03-01T08:32:13.616Z"
   },
   {
    "duration": 92,
    "start_time": "2023-03-01T08:32:13.711Z"
   },
   {
    "duration": 63,
    "start_time": "2023-03-01T08:32:13.804Z"
   },
   {
    "duration": 273,
    "start_time": "2023-03-01T08:32:13.868Z"
   },
   {
    "duration": 61,
    "start_time": "2023-03-01T08:32:14.143Z"
   },
   {
    "duration": 102,
    "start_time": "2023-03-01T08:32:14.207Z"
   },
   {
    "duration": 99,
    "start_time": "2023-03-01T08:32:14.393Z"
   },
   {
    "duration": 198,
    "start_time": "2023-03-01T08:32:14.494Z"
   },
   {
    "duration": 1507,
    "start_time": "2023-03-01T08:33:00.231Z"
   },
   {
    "duration": 854,
    "start_time": "2023-03-01T08:33:01.740Z"
   },
   {
    "duration": 144,
    "start_time": "2023-03-01T08:33:02.595Z"
   },
   {
    "duration": 330,
    "start_time": "2023-03-01T08:33:02.741Z"
   },
   {
    "duration": 1251,
    "start_time": "2023-03-01T08:33:03.073Z"
   },
   {
    "duration": 165,
    "start_time": "2023-03-01T08:33:04.326Z"
   },
   {
    "duration": 347,
    "start_time": "2023-03-01T08:33:04.493Z"
   },
   {
    "duration": 103,
    "start_time": "2023-03-01T08:33:04.842Z"
   },
   {
    "duration": 14,
    "start_time": "2023-03-01T08:33:04.946Z"
   },
   {
    "duration": 202,
    "start_time": "2023-03-01T08:33:04.963Z"
   },
   {
    "duration": 162,
    "start_time": "2023-03-01T08:33:05.166Z"
   },
   {
    "duration": 38,
    "start_time": "2023-03-01T08:33:05.330Z"
   },
   {
    "duration": 55,
    "start_time": "2023-03-01T08:33:05.370Z"
   },
   {
    "duration": 9,
    "start_time": "2023-03-01T08:33:05.427Z"
   },
   {
    "duration": 19,
    "start_time": "2023-03-01T08:33:05.438Z"
   },
   {
    "duration": 122,
    "start_time": "2023-03-01T08:33:05.458Z"
   },
   {
    "duration": 23,
    "start_time": "2023-03-01T08:33:05.582Z"
   },
   {
    "duration": 22,
    "start_time": "2023-03-01T08:33:05.607Z"
   },
   {
    "duration": 33,
    "start_time": "2023-03-01T08:33:05.630Z"
   },
   {
    "duration": 131,
    "start_time": "2023-03-01T08:33:05.664Z"
   },
   {
    "duration": 130,
    "start_time": "2023-03-01T08:33:05.797Z"
   },
   {
    "duration": 6,
    "start_time": "2023-03-01T08:33:05.929Z"
   },
   {
    "duration": 5,
    "start_time": "2023-03-01T08:33:05.937Z"
   },
   {
    "duration": 60,
    "start_time": "2023-03-01T08:33:05.943Z"
   },
   {
    "duration": 8,
    "start_time": "2023-03-01T08:33:06.005Z"
   },
   {
    "duration": 20,
    "start_time": "2023-03-01T08:33:06.015Z"
   },
   {
    "duration": 70,
    "start_time": "2023-03-01T08:33:06.036Z"
   },
   {
    "duration": 72,
    "start_time": "2023-03-01T08:33:06.110Z"
   },
   {
    "duration": 150,
    "start_time": "2023-03-01T08:33:06.183Z"
   },
   {
    "duration": 29,
    "start_time": "2023-03-01T08:33:06.335Z"
   },
   {
    "duration": 34,
    "start_time": "2023-03-01T08:33:06.365Z"
   },
   {
    "duration": 34,
    "start_time": "2023-03-01T08:33:06.401Z"
   },
   {
    "duration": 25,
    "start_time": "2023-03-01T08:33:06.437Z"
   },
   {
    "duration": 32,
    "start_time": "2023-03-01T08:33:06.467Z"
   },
   {
    "duration": 32,
    "start_time": "2023-03-01T08:33:06.501Z"
   },
   {
    "duration": 22,
    "start_time": "2023-03-01T08:33:06.535Z"
   },
   {
    "duration": 17,
    "start_time": "2023-03-01T08:33:06.558Z"
   },
   {
    "duration": 155,
    "start_time": "2023-03-01T08:33:06.576Z"
   },
   {
    "duration": 74,
    "start_time": "2023-03-01T08:33:06.732Z"
   },
   {
    "duration": 11,
    "start_time": "2023-03-01T08:33:06.807Z"
   },
   {
    "duration": 73,
    "start_time": "2023-03-01T08:33:06.819Z"
   },
   {
    "duration": 16,
    "start_time": "2023-03-01T08:33:06.894Z"
   },
   {
    "duration": 9,
    "start_time": "2023-03-01T08:33:06.911Z"
   },
   {
    "duration": 5,
    "start_time": "2023-03-01T08:33:06.921Z"
   },
   {
    "duration": 3,
    "start_time": "2023-03-01T08:33:06.928Z"
   },
   {
    "duration": 273,
    "start_time": "2023-03-01T08:33:06.933Z"
   },
   {
    "duration": 98,
    "start_time": "2023-03-01T08:33:07.208Z"
   },
   {
    "duration": 89,
    "start_time": "2023-03-01T08:33:07.308Z"
   },
   {
    "duration": 49,
    "start_time": "2023-03-01T08:33:07.399Z"
   },
   {
    "duration": 264,
    "start_time": "2023-03-01T08:33:07.450Z"
   },
   {
    "duration": 36,
    "start_time": "2023-03-01T08:33:07.716Z"
   },
   {
    "duration": 138,
    "start_time": "2023-03-01T08:33:07.754Z"
   },
   {
    "duration": 99,
    "start_time": "2023-03-01T08:33:07.894Z"
   },
   {
    "duration": 81556,
    "start_time": "2023-03-01T08:33:07.995Z"
   },
   {
    "duration": 1728,
    "start_time": "2023-03-01T08:39:40.972Z"
   },
   {
    "duration": 3032,
    "start_time": "2023-03-01T08:39:42.702Z"
   },
   {
    "duration": 132,
    "start_time": "2023-03-01T08:39:45.736Z"
   },
   {
    "duration": 349,
    "start_time": "2023-03-01T08:39:45.870Z"
   },
   {
    "duration": 1288,
    "start_time": "2023-03-01T08:39:46.222Z"
   },
   {
    "duration": 140,
    "start_time": "2023-03-01T08:39:47.511Z"
   },
   {
    "duration": 753,
    "start_time": "2023-03-01T08:39:47.652Z"
   },
   {
    "duration": 313,
    "start_time": "2023-03-01T08:39:48.407Z"
   },
   {
    "duration": 70,
    "start_time": "2023-03-01T08:39:48.724Z"
   },
   {
    "duration": 495,
    "start_time": "2023-03-01T08:39:48.796Z"
   },
   {
    "duration": 309,
    "start_time": "2023-03-01T08:39:49.293Z"
   },
   {
    "duration": 99,
    "start_time": "2023-03-01T08:39:49.604Z"
   },
   {
    "duration": 44,
    "start_time": "2023-03-01T08:39:49.705Z"
   },
   {
    "duration": 9,
    "start_time": "2023-03-01T08:39:49.754Z"
   },
   {
    "duration": 40,
    "start_time": "2023-03-01T08:39:49.765Z"
   },
   {
    "duration": 121,
    "start_time": "2023-03-01T08:39:49.806Z"
   },
   {
    "duration": 22,
    "start_time": "2023-03-01T08:39:49.929Z"
   },
   {
    "duration": 25,
    "start_time": "2023-03-01T08:39:49.953Z"
   },
   {
    "duration": 41,
    "start_time": "2023-03-01T08:39:49.980Z"
   },
   {
    "duration": 128,
    "start_time": "2023-03-01T08:39:50.023Z"
   },
   {
    "duration": 172,
    "start_time": "2023-03-01T08:39:50.154Z"
   },
   {
    "duration": 7,
    "start_time": "2023-03-01T08:39:50.327Z"
   },
   {
    "duration": 9,
    "start_time": "2023-03-01T08:39:50.335Z"
   },
   {
    "duration": 74,
    "start_time": "2023-03-01T08:39:50.346Z"
   },
   {
    "duration": 8,
    "start_time": "2023-03-01T08:39:50.422Z"
   },
   {
    "duration": 38,
    "start_time": "2023-03-01T08:39:50.431Z"
   },
   {
    "duration": 74,
    "start_time": "2023-03-01T08:39:50.472Z"
   },
   {
    "duration": 126,
    "start_time": "2023-03-01T08:39:50.548Z"
   },
   {
    "duration": 135,
    "start_time": "2023-03-01T08:39:50.676Z"
   },
   {
    "duration": 27,
    "start_time": "2023-03-01T08:39:50.813Z"
   },
   {
    "duration": 20,
    "start_time": "2023-03-01T08:39:50.842Z"
   },
   {
    "duration": 39,
    "start_time": "2023-03-01T08:39:50.864Z"
   },
   {
    "duration": 20,
    "start_time": "2023-03-01T08:39:50.905Z"
   },
   {
    "duration": 17,
    "start_time": "2023-03-01T08:39:50.927Z"
   },
   {
    "duration": 20,
    "start_time": "2023-03-01T08:39:50.946Z"
   },
   {
    "duration": 37,
    "start_time": "2023-03-01T08:39:50.969Z"
   },
   {
    "duration": 20,
    "start_time": "2023-03-01T08:39:51.008Z"
   },
   {
    "duration": 148,
    "start_time": "2023-03-01T08:39:51.030Z"
   },
   {
    "duration": 74,
    "start_time": "2023-03-01T08:39:51.180Z"
   },
   {
    "duration": 12,
    "start_time": "2023-03-01T08:39:51.257Z"
   },
   {
    "duration": 63,
    "start_time": "2023-03-01T08:39:51.294Z"
   },
   {
    "duration": 35,
    "start_time": "2023-03-01T08:39:51.358Z"
   },
   {
    "duration": 13,
    "start_time": "2023-03-01T08:39:51.395Z"
   },
   {
    "duration": 5,
    "start_time": "2023-03-01T08:39:51.410Z"
   },
   {
    "duration": 4,
    "start_time": "2023-03-01T08:39:51.417Z"
   },
   {
    "duration": 262,
    "start_time": "2023-03-01T08:39:51.423Z"
   },
   {
    "duration": 86,
    "start_time": "2023-03-01T08:39:51.687Z"
   },
   {
    "duration": 95,
    "start_time": "2023-03-01T08:39:51.775Z"
   },
   {
    "duration": 62,
    "start_time": "2023-03-01T08:39:51.872Z"
   },
   {
    "duration": 267,
    "start_time": "2023-03-01T08:39:51.936Z"
   },
   {
    "duration": 40,
    "start_time": "2023-03-01T08:39:52.205Z"
   },
   {
    "duration": 60,
    "start_time": "2023-03-01T08:39:52.247Z"
   },
   {
    "duration": 200,
    "start_time": "2023-03-01T08:39:52.309Z"
   },
   {
    "duration": 1481,
    "start_time": "2023-03-01T08:39:52.511Z"
   },
   {
    "duration": 1846,
    "start_time": "2023-03-01T08:40:28.049Z"
   },
   {
    "duration": 928,
    "start_time": "2023-03-01T08:40:29.897Z"
   },
   {
    "duration": 137,
    "start_time": "2023-03-01T08:40:30.826Z"
   },
   {
    "duration": 551,
    "start_time": "2023-03-01T08:40:30.965Z"
   },
   {
    "duration": 2304,
    "start_time": "2023-03-01T08:40:31.520Z"
   },
   {
    "duration": 153,
    "start_time": "2023-03-01T08:40:33.827Z"
   },
   {
    "duration": 342,
    "start_time": "2023-03-01T08:40:33.982Z"
   },
   {
    "duration": 107,
    "start_time": "2023-03-01T08:40:34.325Z"
   },
   {
    "duration": 14,
    "start_time": "2023-03-01T08:40:34.434Z"
   },
   {
    "duration": 197,
    "start_time": "2023-03-01T08:40:34.450Z"
   },
   {
    "duration": 157,
    "start_time": "2023-03-01T08:40:34.648Z"
   },
   {
    "duration": 40,
    "start_time": "2023-03-01T08:40:34.807Z"
   },
   {
    "duration": 59,
    "start_time": "2023-03-01T08:40:34.849Z"
   },
   {
    "duration": 14,
    "start_time": "2023-03-01T08:40:34.913Z"
   },
   {
    "duration": 24,
    "start_time": "2023-03-01T08:40:34.929Z"
   },
   {
    "duration": 124,
    "start_time": "2023-03-01T08:40:34.955Z"
   },
   {
    "duration": 23,
    "start_time": "2023-03-01T08:40:35.081Z"
   },
   {
    "duration": 21,
    "start_time": "2023-03-01T08:40:35.106Z"
   },
   {
    "duration": 35,
    "start_time": "2023-03-01T08:40:35.129Z"
   },
   {
    "duration": 142,
    "start_time": "2023-03-01T08:40:35.165Z"
   },
   {
    "duration": 140,
    "start_time": "2023-03-01T08:40:35.308Z"
   },
   {
    "duration": 6,
    "start_time": "2023-03-01T08:40:35.450Z"
   },
   {
    "duration": 9,
    "start_time": "2023-03-01T08:40:35.457Z"
   },
   {
    "duration": 58,
    "start_time": "2023-03-01T08:40:35.468Z"
   },
   {
    "duration": 6,
    "start_time": "2023-03-01T08:40:35.528Z"
   },
   {
    "duration": 21,
    "start_time": "2023-03-01T08:40:35.536Z"
   },
   {
    "duration": 63,
    "start_time": "2023-03-01T08:40:35.558Z"
   },
   {
    "duration": 82,
    "start_time": "2023-03-01T08:40:35.623Z"
   },
   {
    "duration": 140,
    "start_time": "2023-03-01T08:40:35.707Z"
   },
   {
    "duration": 25,
    "start_time": "2023-03-01T08:40:35.849Z"
   },
   {
    "duration": 32,
    "start_time": "2023-03-01T08:40:35.876Z"
   },
   {
    "duration": 19,
    "start_time": "2023-03-01T08:40:35.909Z"
   },
   {
    "duration": 23,
    "start_time": "2023-03-01T08:40:35.930Z"
   },
   {
    "duration": 38,
    "start_time": "2023-03-01T08:40:35.955Z"
   },
   {
    "duration": 26,
    "start_time": "2023-03-01T08:40:35.995Z"
   },
   {
    "duration": 19,
    "start_time": "2023-03-01T08:40:36.023Z"
   },
   {
    "duration": 15,
    "start_time": "2023-03-01T08:40:36.044Z"
   },
   {
    "duration": 152,
    "start_time": "2023-03-01T08:40:36.060Z"
   },
   {
    "duration": 97,
    "start_time": "2023-03-01T08:40:36.214Z"
   },
   {
    "duration": 17,
    "start_time": "2023-03-01T08:40:36.312Z"
   },
   {
    "duration": 104,
    "start_time": "2023-03-01T08:40:36.335Z"
   },
   {
    "duration": 30,
    "start_time": "2023-03-01T08:40:36.441Z"
   },
   {
    "duration": 25,
    "start_time": "2023-03-01T08:40:36.474Z"
   },
   {
    "duration": 12,
    "start_time": "2023-03-01T08:40:36.501Z"
   },
   {
    "duration": 16,
    "start_time": "2023-03-01T08:40:36.515Z"
   },
   {
    "duration": 292,
    "start_time": "2023-03-01T08:40:36.533Z"
   },
   {
    "duration": 90,
    "start_time": "2023-03-01T08:40:36.827Z"
   },
   {
    "duration": 92,
    "start_time": "2023-03-01T08:40:36.919Z"
   },
   {
    "duration": 49,
    "start_time": "2023-03-01T08:40:37.012Z"
   },
   {
    "duration": 260,
    "start_time": "2023-03-01T08:40:37.063Z"
   },
   {
    "duration": 37,
    "start_time": "2023-03-01T08:40:37.325Z"
   },
   {
    "duration": 133,
    "start_time": "2023-03-01T08:40:37.364Z"
   },
   {
    "duration": 93,
    "start_time": "2023-03-01T08:40:37.502Z"
   },
   {
    "duration": 48430,
    "start_time": "2023-03-01T08:40:37.597Z"
   },
   {
    "duration": 1879,
    "start_time": "2023-03-01T08:51:26.965Z"
   },
   {
    "duration": 4,
    "start_time": "2023-03-01T08:52:23.357Z"
   },
   {
    "duration": 3,
    "start_time": "2023-03-01T08:52:56.967Z"
   },
   {
    "duration": 3,
    "start_time": "2023-03-01T08:53:44.757Z"
   },
   {
    "duration": 116,
    "start_time": "2023-03-01T08:54:08.272Z"
   },
   {
    "duration": 10,
    "start_time": "2023-03-01T08:54:28.316Z"
   },
   {
    "duration": 1666,
    "start_time": "2023-03-01T08:54:45.155Z"
   },
   {
    "duration": 2914,
    "start_time": "2023-03-01T08:54:46.823Z"
   },
   {
    "duration": 130,
    "start_time": "2023-03-01T08:54:49.738Z"
   },
   {
    "duration": 289,
    "start_time": "2023-03-01T08:54:49.870Z"
   },
   {
    "duration": 1171,
    "start_time": "2023-03-01T08:54:50.161Z"
   },
   {
    "duration": 134,
    "start_time": "2023-03-01T08:54:51.334Z"
   },
   {
    "duration": 334,
    "start_time": "2023-03-01T08:54:51.470Z"
   },
   {
    "duration": 103,
    "start_time": "2023-03-01T08:54:51.806Z"
   },
   {
    "duration": 14,
    "start_time": "2023-03-01T08:54:51.910Z"
   },
   {
    "duration": 210,
    "start_time": "2023-03-01T08:54:51.925Z"
   },
   {
    "duration": 163,
    "start_time": "2023-03-01T08:54:52.137Z"
   },
   {
    "duration": 40,
    "start_time": "2023-03-01T08:54:52.302Z"
   },
   {
    "duration": 56,
    "start_time": "2023-03-01T08:54:52.344Z"
   },
   {
    "duration": 9,
    "start_time": "2023-03-01T08:54:52.404Z"
   },
   {
    "duration": 26,
    "start_time": "2023-03-01T08:54:52.414Z"
   },
   {
    "duration": 110,
    "start_time": "2023-03-01T08:54:52.442Z"
   },
   {
    "duration": 20,
    "start_time": "2023-03-01T08:54:52.554Z"
   },
   {
    "duration": 31,
    "start_time": "2023-03-01T08:54:52.576Z"
   },
   {
    "duration": 35,
    "start_time": "2023-03-01T08:54:52.609Z"
   },
   {
    "duration": 131,
    "start_time": "2023-03-01T08:54:52.646Z"
   },
   {
    "duration": 138,
    "start_time": "2023-03-01T08:54:52.778Z"
   },
   {
    "duration": 6,
    "start_time": "2023-03-01T08:54:52.918Z"
   },
   {
    "duration": 12,
    "start_time": "2023-03-01T08:54:52.925Z"
   },
   {
    "duration": 43,
    "start_time": "2023-03-01T08:54:52.938Z"
   },
   {
    "duration": 6,
    "start_time": "2023-03-01T08:54:52.992Z"
   },
   {
    "duration": 19,
    "start_time": "2023-03-01T08:54:53.000Z"
   },
   {
    "duration": 49,
    "start_time": "2023-03-01T08:54:53.021Z"
   },
   {
    "duration": 76,
    "start_time": "2023-03-01T08:54:53.092Z"
   },
   {
    "duration": 140,
    "start_time": "2023-03-01T08:54:53.169Z"
   },
   {
    "duration": 26,
    "start_time": "2023-03-01T08:54:53.310Z"
   },
   {
    "duration": 19,
    "start_time": "2023-03-01T08:54:53.338Z"
   },
   {
    "duration": 37,
    "start_time": "2023-03-01T08:54:53.359Z"
   },
   {
    "duration": 19,
    "start_time": "2023-03-01T08:54:53.397Z"
   },
   {
    "duration": 177,
    "start_time": "2023-03-01T08:54:53.418Z"
   },
   {
    "duration": 20,
    "start_time": "2023-03-01T08:54:53.596Z"
   },
   {
    "duration": 15,
    "start_time": "2023-03-01T08:54:53.617Z"
   },
   {
    "duration": 16,
    "start_time": "2023-03-01T08:54:53.633Z"
   },
   {
    "duration": 152,
    "start_time": "2023-03-01T08:54:53.651Z"
   },
   {
    "duration": 98,
    "start_time": "2023-03-01T08:54:53.805Z"
   },
   {
    "duration": 11,
    "start_time": "2023-03-01T08:54:53.904Z"
   },
   {
    "duration": 84,
    "start_time": "2023-03-01T08:54:53.920Z"
   },
   {
    "duration": 19,
    "start_time": "2023-03-01T08:54:54.005Z"
   },
   {
    "duration": 20,
    "start_time": "2023-03-01T08:54:54.026Z"
   },
   {
    "duration": 5,
    "start_time": "2023-03-01T08:54:54.048Z"
   },
   {
    "duration": 4,
    "start_time": "2023-03-01T08:54:54.055Z"
   },
   {
    "duration": 255,
    "start_time": "2023-03-01T08:54:54.061Z"
   },
   {
    "duration": 95,
    "start_time": "2023-03-01T08:54:54.318Z"
   },
   {
    "duration": 94,
    "start_time": "2023-03-01T08:54:54.414Z"
   },
   {
    "duration": 55,
    "start_time": "2023-03-01T08:54:54.509Z"
   },
   {
    "duration": 281,
    "start_time": "2023-03-01T08:54:54.566Z"
   },
   {
    "duration": 53,
    "start_time": "2023-03-01T08:54:54.849Z"
   },
   {
    "duration": 91,
    "start_time": "2023-03-01T08:54:54.905Z"
   },
   {
    "duration": 96,
    "start_time": "2023-03-01T08:54:54.998Z"
   },
   {
    "duration": 2325,
    "start_time": "2023-03-01T08:55:32.082Z"
   },
   {
    "duration": 911,
    "start_time": "2023-03-01T08:55:34.409Z"
   },
   {
    "duration": 155,
    "start_time": "2023-03-01T08:55:35.321Z"
   },
   {
    "duration": 329,
    "start_time": "2023-03-01T08:55:35.479Z"
   },
   {
    "duration": 1343,
    "start_time": "2023-03-01T08:55:35.810Z"
   },
   {
    "duration": 163,
    "start_time": "2023-03-01T08:55:37.155Z"
   },
   {
    "duration": 364,
    "start_time": "2023-03-01T08:55:37.320Z"
   },
   {
    "duration": 102,
    "start_time": "2023-03-01T08:55:37.685Z"
   },
   {
    "duration": 31,
    "start_time": "2023-03-01T08:55:37.790Z"
   },
   {
    "duration": 209,
    "start_time": "2023-03-01T08:55:37.824Z"
   },
   {
    "duration": 153,
    "start_time": "2023-03-01T08:55:38.035Z"
   },
   {
    "duration": 41,
    "start_time": "2023-03-01T08:55:38.196Z"
   },
   {
    "duration": 38,
    "start_time": "2023-03-01T08:55:38.239Z"
   },
   {
    "duration": 26,
    "start_time": "2023-03-01T08:55:38.279Z"
   },
   {
    "duration": 22,
    "start_time": "2023-03-01T08:55:38.306Z"
   },
   {
    "duration": 148,
    "start_time": "2023-03-01T08:55:38.329Z"
   },
   {
    "duration": 33,
    "start_time": "2023-03-01T08:55:38.479Z"
   },
   {
    "duration": 30,
    "start_time": "2023-03-01T08:55:38.513Z"
   },
   {
    "duration": 40,
    "start_time": "2023-03-01T08:55:38.545Z"
   },
   {
    "duration": 123,
    "start_time": "2023-03-01T08:55:38.587Z"
   },
   {
    "duration": 126,
    "start_time": "2023-03-01T08:55:38.712Z"
   },
   {
    "duration": 5,
    "start_time": "2023-03-01T08:55:38.840Z"
   },
   {
    "duration": 25,
    "start_time": "2023-03-01T08:55:38.847Z"
   },
   {
    "duration": 76,
    "start_time": "2023-03-01T08:55:38.874Z"
   },
   {
    "duration": 6,
    "start_time": "2023-03-01T08:55:38.951Z"
   },
   {
    "duration": 50,
    "start_time": "2023-03-01T08:55:38.958Z"
   },
   {
    "duration": 63,
    "start_time": "2023-03-01T08:55:39.010Z"
   },
   {
    "duration": 83,
    "start_time": "2023-03-01T08:55:39.077Z"
   },
   {
    "duration": 142,
    "start_time": "2023-03-01T08:55:39.162Z"
   },
   {
    "duration": 26,
    "start_time": "2023-03-01T08:55:39.307Z"
   },
   {
    "duration": 21,
    "start_time": "2023-03-01T08:55:39.335Z"
   },
   {
    "duration": 27,
    "start_time": "2023-03-01T08:55:39.357Z"
   },
   {
    "duration": 40,
    "start_time": "2023-03-01T08:55:39.386Z"
   },
   {
    "duration": 54,
    "start_time": "2023-03-01T08:55:39.428Z"
   },
   {
    "duration": 49,
    "start_time": "2023-03-01T08:55:39.484Z"
   },
   {
    "duration": 39,
    "start_time": "2023-03-01T08:55:39.535Z"
   },
   {
    "duration": 47,
    "start_time": "2023-03-01T08:55:39.576Z"
   },
   {
    "duration": 156,
    "start_time": "2023-03-01T08:55:39.625Z"
   },
   {
    "duration": 83,
    "start_time": "2023-03-01T08:55:39.783Z"
   },
   {
    "duration": 32,
    "start_time": "2023-03-01T08:55:39.869Z"
   },
   {
    "duration": 71,
    "start_time": "2023-03-01T08:55:39.904Z"
   },
   {
    "duration": 29,
    "start_time": "2023-03-01T08:55:39.976Z"
   },
   {
    "duration": 9,
    "start_time": "2023-03-01T08:55:40.007Z"
   },
   {
    "duration": 8,
    "start_time": "2023-03-01T08:55:40.018Z"
   },
   {
    "duration": 8,
    "start_time": "2023-03-01T08:55:40.027Z"
   },
   {
    "duration": 283,
    "start_time": "2023-03-01T08:55:40.037Z"
   },
   {
    "duration": 100,
    "start_time": "2023-03-01T08:55:40.321Z"
   },
   {
    "duration": 103,
    "start_time": "2023-03-01T08:55:40.422Z"
   },
   {
    "duration": 49,
    "start_time": "2023-03-01T08:55:40.528Z"
   },
   {
    "duration": 268,
    "start_time": "2023-03-01T08:55:40.579Z"
   },
   {
    "duration": 57,
    "start_time": "2023-03-01T08:55:40.849Z"
   },
   {
    "duration": 11,
    "start_time": "2023-03-01T08:55:40.908Z"
   },
   {
    "duration": 183,
    "start_time": "2023-03-01T08:55:40.921Z"
   },
   {
    "duration": 10,
    "start_time": "2023-03-01T08:55:41.106Z"
   },
   {
    "duration": 8,
    "start_time": "2023-03-01T08:55:41.118Z"
   },
   {
    "duration": 6,
    "start_time": "2023-03-01T08:55:41.127Z"
   },
   {
    "duration": 4,
    "start_time": "2023-03-01T08:55:41.135Z"
   },
   {
    "duration": 1506,
    "start_time": "2023-03-01T09:02:37.236Z"
   },
   {
    "duration": 905,
    "start_time": "2023-03-01T09:02:38.744Z"
   },
   {
    "duration": 165,
    "start_time": "2023-03-01T09:02:39.651Z"
   },
   {
    "duration": 337,
    "start_time": "2023-03-01T09:02:39.820Z"
   },
   {
    "duration": 1261,
    "start_time": "2023-03-01T09:02:40.158Z"
   },
   {
    "duration": 146,
    "start_time": "2023-03-01T09:02:41.421Z"
   },
   {
    "duration": 387,
    "start_time": "2023-03-01T09:02:41.569Z"
   },
   {
    "duration": 111,
    "start_time": "2023-03-01T09:02:41.957Z"
   },
   {
    "duration": 33,
    "start_time": "2023-03-01T09:02:42.070Z"
   },
   {
    "duration": 174,
    "start_time": "2023-03-01T09:02:42.105Z"
   },
   {
    "duration": 151,
    "start_time": "2023-03-01T09:02:42.281Z"
   },
   {
    "duration": 41,
    "start_time": "2023-03-01T09:02:42.434Z"
   },
   {
    "duration": 56,
    "start_time": "2023-03-01T09:02:42.476Z"
   },
   {
    "duration": 9,
    "start_time": "2023-03-01T09:02:42.534Z"
   },
   {
    "duration": 20,
    "start_time": "2023-03-01T09:02:42.545Z"
   },
   {
    "duration": 158,
    "start_time": "2023-03-01T09:02:42.567Z"
   },
   {
    "duration": 32,
    "start_time": "2023-03-01T09:02:42.727Z"
   },
   {
    "duration": 53,
    "start_time": "2023-03-01T09:02:42.761Z"
   },
   {
    "duration": 50,
    "start_time": "2023-03-01T09:02:42.816Z"
   },
   {
    "duration": 122,
    "start_time": "2023-03-01T09:02:42.867Z"
   },
   {
    "duration": 133,
    "start_time": "2023-03-01T09:02:42.991Z"
   },
   {
    "duration": 7,
    "start_time": "2023-03-01T09:02:43.126Z"
   },
   {
    "duration": 6,
    "start_time": "2023-03-01T09:02:43.135Z"
   },
   {
    "duration": 69,
    "start_time": "2023-03-01T09:02:43.143Z"
   },
   {
    "duration": 7,
    "start_time": "2023-03-01T09:02:43.214Z"
   },
   {
    "duration": 19,
    "start_time": "2023-03-01T09:02:43.223Z"
   },
   {
    "duration": 68,
    "start_time": "2023-03-01T09:02:43.244Z"
   },
   {
    "duration": 93,
    "start_time": "2023-03-01T09:02:43.317Z"
   },
   {
    "duration": 132,
    "start_time": "2023-03-01T09:02:43.412Z"
   },
   {
    "duration": 24,
    "start_time": "2023-03-01T09:02:43.546Z"
   },
   {
    "duration": 33,
    "start_time": "2023-03-01T09:02:43.572Z"
   },
   {
    "duration": 22,
    "start_time": "2023-03-01T09:02:43.607Z"
   },
   {
    "duration": 18,
    "start_time": "2023-03-01T09:02:43.630Z"
   },
   {
    "duration": 17,
    "start_time": "2023-03-01T09:02:43.650Z"
   },
   {
    "duration": 42,
    "start_time": "2023-03-01T09:02:43.669Z"
   },
   {
    "duration": 17,
    "start_time": "2023-03-01T09:02:43.713Z"
   },
   {
    "duration": 17,
    "start_time": "2023-03-01T09:02:43.732Z"
   },
   {
    "duration": 179,
    "start_time": "2023-03-01T09:02:43.751Z"
   },
   {
    "duration": 83,
    "start_time": "2023-03-01T09:02:43.932Z"
   },
   {
    "duration": 11,
    "start_time": "2023-03-01T09:02:44.017Z"
   },
   {
    "duration": 78,
    "start_time": "2023-03-01T09:02:44.030Z"
   },
   {
    "duration": 15,
    "start_time": "2023-03-01T09:02:44.110Z"
   },
   {
    "duration": 9,
    "start_time": "2023-03-01T09:02:44.127Z"
   },
   {
    "duration": 4,
    "start_time": "2023-03-01T09:02:44.138Z"
   },
   {
    "duration": 6,
    "start_time": "2023-03-01T09:02:44.144Z"
   },
   {
    "duration": 292,
    "start_time": "2023-03-01T09:02:44.151Z"
   },
   {
    "duration": 98,
    "start_time": "2023-03-01T09:02:44.445Z"
   },
   {
    "duration": 121,
    "start_time": "2023-03-01T09:02:44.545Z"
   },
   {
    "duration": 74,
    "start_time": "2023-03-01T09:02:44.668Z"
   },
   {
    "duration": 293,
    "start_time": "2023-03-01T09:02:44.744Z"
   },
   {
    "duration": 55,
    "start_time": "2023-03-01T09:02:45.039Z"
   },
   {
    "duration": 12,
    "start_time": "2023-03-01T09:02:45.098Z"
   },
   {
    "duration": 195,
    "start_time": "2023-03-01T09:02:45.112Z"
   },
   {
    "duration": 4,
    "start_time": "2023-03-01T09:02:45.309Z"
   },
   {
    "duration": 7,
    "start_time": "2023-03-01T09:02:45.315Z"
   },
   {
    "duration": 7,
    "start_time": "2023-03-01T09:02:45.323Z"
   },
   {
    "duration": 6,
    "start_time": "2023-03-01T09:02:45.331Z"
   },
   {
    "duration": 5,
    "start_time": "2023-03-01T09:02:45.338Z"
   },
   {
    "duration": 1469,
    "start_time": "2023-03-01T09:08:08.334Z"
   },
   {
    "duration": 909,
    "start_time": "2023-03-01T09:08:09.806Z"
   },
   {
    "duration": 151,
    "start_time": "2023-03-01T09:08:10.716Z"
   },
   {
    "duration": 342,
    "start_time": "2023-03-01T09:08:10.869Z"
   },
   {
    "duration": 1231,
    "start_time": "2023-03-01T09:08:11.213Z"
   },
   {
    "duration": 153,
    "start_time": "2023-03-01T09:08:12.445Z"
   },
   {
    "duration": 354,
    "start_time": "2023-03-01T09:08:12.600Z"
   },
   {
    "duration": 106,
    "start_time": "2023-03-01T09:08:12.956Z"
   },
   {
    "duration": 14,
    "start_time": "2023-03-01T09:08:13.064Z"
   },
   {
    "duration": 192,
    "start_time": "2023-03-01T09:08:13.093Z"
   },
   {
    "duration": 153,
    "start_time": "2023-03-01T09:08:13.287Z"
   },
   {
    "duration": 62,
    "start_time": "2023-03-01T09:08:13.442Z"
   },
   {
    "duration": 41,
    "start_time": "2023-03-01T09:08:13.505Z"
   },
   {
    "duration": 9,
    "start_time": "2023-03-01T09:08:13.548Z"
   },
   {
    "duration": 21,
    "start_time": "2023-03-01T09:08:13.559Z"
   },
   {
    "duration": 121,
    "start_time": "2023-03-01T09:08:13.593Z"
   },
   {
    "duration": 22,
    "start_time": "2023-03-01T09:08:13.715Z"
   },
   {
    "duration": 21,
    "start_time": "2023-03-01T09:08:13.739Z"
   },
   {
    "duration": 52,
    "start_time": "2023-03-01T09:08:13.762Z"
   },
   {
    "duration": 135,
    "start_time": "2023-03-01T09:08:13.816Z"
   },
   {
    "duration": 137,
    "start_time": "2023-03-01T09:08:13.953Z"
   },
   {
    "duration": 6,
    "start_time": "2023-03-01T09:08:14.104Z"
   },
   {
    "duration": 7,
    "start_time": "2023-03-01T09:08:14.112Z"
   },
   {
    "duration": 42,
    "start_time": "2023-03-01T09:08:14.120Z"
   },
   {
    "duration": 6,
    "start_time": "2023-03-01T09:08:14.164Z"
   },
   {
    "duration": 44,
    "start_time": "2023-03-01T09:08:14.171Z"
   },
   {
    "duration": 49,
    "start_time": "2023-03-01T09:08:14.217Z"
   },
   {
    "duration": 89,
    "start_time": "2023-03-01T09:08:14.270Z"
   },
   {
    "duration": 145,
    "start_time": "2023-03-01T09:08:14.361Z"
   },
   {
    "duration": 26,
    "start_time": "2023-03-01T09:08:14.508Z"
   },
   {
    "duration": 19,
    "start_time": "2023-03-01T09:08:14.536Z"
   },
   {
    "duration": 36,
    "start_time": "2023-03-01T09:08:14.556Z"
   },
   {
    "duration": 18,
    "start_time": "2023-03-01T09:08:14.604Z"
   },
   {
    "duration": 31,
    "start_time": "2023-03-01T09:08:14.624Z"
   },
   {
    "duration": 21,
    "start_time": "2023-03-01T09:08:14.657Z"
   },
   {
    "duration": 28,
    "start_time": "2023-03-01T09:08:14.680Z"
   },
   {
    "duration": 31,
    "start_time": "2023-03-01T09:08:14.710Z"
   },
   {
    "duration": 145,
    "start_time": "2023-03-01T09:08:14.743Z"
   },
   {
    "duration": 79,
    "start_time": "2023-03-01T09:08:14.894Z"
   },
   {
    "duration": 32,
    "start_time": "2023-03-01T09:08:14.975Z"
   },
   {
    "duration": 70,
    "start_time": "2023-03-01T09:08:15.009Z"
   },
   {
    "duration": 20,
    "start_time": "2023-03-01T09:08:15.081Z"
   },
   {
    "duration": 26,
    "start_time": "2023-03-01T09:08:15.102Z"
   },
   {
    "duration": 8,
    "start_time": "2023-03-01T09:08:15.130Z"
   },
   {
    "duration": 9,
    "start_time": "2023-03-01T09:08:15.140Z"
   },
   {
    "duration": 278,
    "start_time": "2023-03-01T09:08:15.150Z"
   },
   {
    "duration": 99,
    "start_time": "2023-03-01T09:08:15.430Z"
   },
   {
    "duration": 98,
    "start_time": "2023-03-01T09:08:15.530Z"
   },
   {
    "duration": 49,
    "start_time": "2023-03-01T09:08:15.630Z"
   },
   {
    "duration": 258,
    "start_time": "2023-03-01T09:08:15.680Z"
   },
   {
    "duration": 58,
    "start_time": "2023-03-01T09:08:15.940Z"
   },
   {
    "duration": 89,
    "start_time": "2023-03-01T09:08:16.004Z"
   },
   {
    "duration": 118,
    "start_time": "2023-03-01T09:08:16.097Z"
   },
   {
    "duration": 21,
    "start_time": "2023-03-01T09:08:16.217Z"
   },
   {
    "duration": 16,
    "start_time": "2023-03-01T09:08:16.240Z"
   },
   {
    "duration": 23,
    "start_time": "2023-03-01T09:08:16.258Z"
   },
   {
    "duration": 28,
    "start_time": "2023-03-01T09:08:16.283Z"
   },
   {
    "duration": 6,
    "start_time": "2023-03-01T09:08:16.313Z"
   },
   {
    "duration": 1505,
    "start_time": "2023-03-01T09:08:54.412Z"
   },
   {
    "duration": 922,
    "start_time": "2023-03-01T09:08:55.919Z"
   },
   {
    "duration": 160,
    "start_time": "2023-03-01T09:08:56.843Z"
   },
   {
    "duration": 331,
    "start_time": "2023-03-01T09:08:57.006Z"
   },
   {
    "duration": 1221,
    "start_time": "2023-03-01T09:08:57.339Z"
   },
   {
    "duration": 151,
    "start_time": "2023-03-01T09:08:58.562Z"
   },
   {
    "duration": 352,
    "start_time": "2023-03-01T09:08:58.715Z"
   },
   {
    "duration": 104,
    "start_time": "2023-03-01T09:08:59.069Z"
   },
   {
    "duration": 30,
    "start_time": "2023-03-01T09:08:59.175Z"
   },
   {
    "duration": 185,
    "start_time": "2023-03-01T09:08:59.207Z"
   },
   {
    "duration": 140,
    "start_time": "2023-03-01T09:08:59.405Z"
   },
   {
    "duration": 58,
    "start_time": "2023-03-01T09:08:59.547Z"
   },
   {
    "duration": 41,
    "start_time": "2023-03-01T09:08:59.606Z"
   },
   {
    "duration": 9,
    "start_time": "2023-03-01T09:08:59.649Z"
   },
   {
    "duration": 19,
    "start_time": "2023-03-01T09:08:59.659Z"
   },
   {
    "duration": 110,
    "start_time": "2023-03-01T09:08:59.698Z"
   },
   {
    "duration": 21,
    "start_time": "2023-03-01T09:08:59.810Z"
   },
   {
    "duration": 29,
    "start_time": "2023-03-01T09:08:59.833Z"
   },
   {
    "duration": 51,
    "start_time": "2023-03-01T09:08:59.863Z"
   },
   {
    "duration": 124,
    "start_time": "2023-03-01T09:08:59.916Z"
   },
   {
    "duration": 133,
    "start_time": "2023-03-01T09:09:00.042Z"
   },
   {
    "duration": 7,
    "start_time": "2023-03-01T09:09:00.177Z"
   },
   {
    "duration": 16,
    "start_time": "2023-03-01T09:09:00.191Z"
   },
   {
    "duration": 47,
    "start_time": "2023-03-01T09:09:00.209Z"
   },
   {
    "duration": 5,
    "start_time": "2023-03-01T09:09:00.258Z"
   },
   {
    "duration": 40,
    "start_time": "2023-03-01T09:09:00.265Z"
   },
   {
    "duration": 80,
    "start_time": "2023-03-01T09:09:00.307Z"
   },
   {
    "duration": 91,
    "start_time": "2023-03-01T09:09:00.391Z"
   },
   {
    "duration": 144,
    "start_time": "2023-03-01T09:09:00.491Z"
   },
   {
    "duration": 26,
    "start_time": "2023-03-01T09:09:00.636Z"
   },
   {
    "duration": 52,
    "start_time": "2023-03-01T09:09:00.664Z"
   },
   {
    "duration": 31,
    "start_time": "2023-03-01T09:09:00.718Z"
   },
   {
    "duration": 60,
    "start_time": "2023-03-01T09:09:00.751Z"
   },
   {
    "duration": 51,
    "start_time": "2023-03-01T09:09:00.812Z"
   },
   {
    "duration": 33,
    "start_time": "2023-03-01T09:09:00.865Z"
   },
   {
    "duration": 81,
    "start_time": "2023-03-01T09:09:00.900Z"
   },
   {
    "duration": 40,
    "start_time": "2023-03-01T09:09:00.983Z"
   },
   {
    "duration": 142,
    "start_time": "2023-03-01T09:09:01.024Z"
   },
   {
    "duration": 97,
    "start_time": "2023-03-01T09:09:01.168Z"
   },
   {
    "duration": 47,
    "start_time": "2023-03-01T09:09:01.267Z"
   },
   {
    "duration": 122,
    "start_time": "2023-03-01T09:09:01.316Z"
   },
   {
    "duration": 16,
    "start_time": "2023-03-01T09:09:01.440Z"
   },
   {
    "duration": 46,
    "start_time": "2023-03-01T09:09:01.458Z"
   },
   {
    "duration": 50,
    "start_time": "2023-03-01T09:09:01.506Z"
   },
   {
    "duration": 13,
    "start_time": "2023-03-01T09:09:01.558Z"
   },
   {
    "duration": 283,
    "start_time": "2023-03-01T09:09:01.573Z"
   },
   {
    "duration": 95,
    "start_time": "2023-03-01T09:09:01.858Z"
   },
   {
    "duration": 103,
    "start_time": "2023-03-01T09:09:01.955Z"
   },
   {
    "duration": 60,
    "start_time": "2023-03-01T09:09:02.059Z"
   },
   {
    "duration": 262,
    "start_time": "2023-03-01T09:09:02.120Z"
   },
   {
    "duration": 42,
    "start_time": "2023-03-01T09:09:02.391Z"
   },
   {
    "duration": 10,
    "start_time": "2023-03-01T09:09:02.435Z"
   },
   {
    "duration": 106,
    "start_time": "2023-03-01T09:09:02.502Z"
   },
   {
    "duration": 5,
    "start_time": "2023-03-01T09:09:02.610Z"
   },
   {
    "duration": 9,
    "start_time": "2023-03-01T09:09:02.616Z"
   },
   {
    "duration": 19,
    "start_time": "2023-03-01T09:09:02.627Z"
   },
   {
    "duration": 14,
    "start_time": "2023-03-01T09:09:02.647Z"
   },
   {
    "duration": 12,
    "start_time": "2023-03-01T09:09:02.662Z"
   },
   {
    "duration": 1612,
    "start_time": "2023-03-01T09:10:00.363Z"
   },
   {
    "duration": 876,
    "start_time": "2023-03-01T09:10:01.978Z"
   },
   {
    "duration": 187,
    "start_time": "2023-03-01T09:10:02.855Z"
   },
   {
    "duration": 369,
    "start_time": "2023-03-01T09:10:03.043Z"
   },
   {
    "duration": 1266,
    "start_time": "2023-03-01T09:10:03.415Z"
   },
   {
    "duration": 156,
    "start_time": "2023-03-01T09:10:04.683Z"
   },
   {
    "duration": 392,
    "start_time": "2023-03-01T09:10:04.841Z"
   },
   {
    "duration": 102,
    "start_time": "2023-03-01T09:10:05.235Z"
   },
   {
    "duration": 15,
    "start_time": "2023-03-01T09:10:05.339Z"
   },
   {
    "duration": 205,
    "start_time": "2023-03-01T09:10:05.356Z"
   },
   {
    "duration": 162,
    "start_time": "2023-03-01T09:10:05.562Z"
   },
   {
    "duration": 39,
    "start_time": "2023-03-01T09:10:05.725Z"
   },
   {
    "duration": 64,
    "start_time": "2023-03-01T09:10:05.766Z"
   },
   {
    "duration": 10,
    "start_time": "2023-03-01T09:10:05.834Z"
   },
   {
    "duration": 24,
    "start_time": "2023-03-01T09:10:05.845Z"
   },
   {
    "duration": 124,
    "start_time": "2023-03-01T09:10:05.871Z"
   },
   {
    "duration": 25,
    "start_time": "2023-03-01T09:10:05.997Z"
   },
   {
    "duration": 21,
    "start_time": "2023-03-01T09:10:06.024Z"
   },
   {
    "duration": 53,
    "start_time": "2023-03-01T09:10:06.046Z"
   },
   {
    "duration": 119,
    "start_time": "2023-03-01T09:10:06.100Z"
   },
   {
    "duration": 154,
    "start_time": "2023-03-01T09:10:06.221Z"
   },
   {
    "duration": 7,
    "start_time": "2023-03-01T09:10:06.376Z"
   },
   {
    "duration": 17,
    "start_time": "2023-03-01T09:10:06.394Z"
   },
   {
    "duration": 47,
    "start_time": "2023-03-01T09:10:06.413Z"
   },
   {
    "duration": 7,
    "start_time": "2023-03-01T09:10:06.462Z"
   },
   {
    "duration": 36,
    "start_time": "2023-03-01T09:10:06.471Z"
   },
   {
    "duration": 58,
    "start_time": "2023-03-01T09:10:06.509Z"
   },
   {
    "duration": 93,
    "start_time": "2023-03-01T09:10:06.569Z"
   },
   {
    "duration": 149,
    "start_time": "2023-03-01T09:10:06.663Z"
   },
   {
    "duration": 25,
    "start_time": "2023-03-01T09:10:06.814Z"
   },
   {
    "duration": 16,
    "start_time": "2023-03-01T09:10:06.841Z"
   },
   {
    "duration": 35,
    "start_time": "2023-03-01T09:10:06.859Z"
   },
   {
    "duration": 18,
    "start_time": "2023-03-01T09:10:06.904Z"
   },
   {
    "duration": 24,
    "start_time": "2023-03-01T09:10:06.923Z"
   },
   {
    "duration": 23,
    "start_time": "2023-03-01T09:10:06.948Z"
   },
   {
    "duration": 20,
    "start_time": "2023-03-01T09:10:06.973Z"
   },
   {
    "duration": 15,
    "start_time": "2023-03-01T09:10:07.004Z"
   },
   {
    "duration": 141,
    "start_time": "2023-03-01T09:10:07.021Z"
   },
   {
    "duration": 77,
    "start_time": "2023-03-01T09:10:07.164Z"
   },
   {
    "duration": 12,
    "start_time": "2023-03-01T09:10:07.242Z"
   },
   {
    "duration": 88,
    "start_time": "2023-03-01T09:10:07.259Z"
   },
   {
    "duration": 14,
    "start_time": "2023-03-01T09:10:07.349Z"
   },
   {
    "duration": 8,
    "start_time": "2023-03-01T09:10:07.365Z"
   },
   {
    "duration": 31,
    "start_time": "2023-03-01T09:10:07.375Z"
   },
   {
    "duration": 9,
    "start_time": "2023-03-01T09:10:07.408Z"
   },
   {
    "duration": 251,
    "start_time": "2023-03-01T09:10:07.419Z"
   },
   {
    "duration": 107,
    "start_time": "2023-03-01T09:10:07.671Z"
   },
   {
    "duration": 96,
    "start_time": "2023-03-01T09:10:07.780Z"
   },
   {
    "duration": 58,
    "start_time": "2023-03-01T09:10:07.877Z"
   },
   {
    "duration": 269,
    "start_time": "2023-03-01T09:10:07.937Z"
   },
   {
    "duration": 36,
    "start_time": "2023-03-01T09:10:08.209Z"
   },
   {
    "duration": 59,
    "start_time": "2023-03-01T09:10:08.247Z"
   },
   {
    "duration": 97,
    "start_time": "2023-03-01T09:10:08.309Z"
   },
   {
    "duration": 6,
    "start_time": "2023-03-01T09:10:08.408Z"
   },
   {
    "duration": 11,
    "start_time": "2023-03-01T09:10:08.416Z"
   },
   {
    "duration": 21,
    "start_time": "2023-03-01T09:10:08.429Z"
   },
   {
    "duration": 11,
    "start_time": "2023-03-01T09:10:08.452Z"
   },
   {
    "duration": 16,
    "start_time": "2023-03-01T09:10:08.464Z"
   },
   {
    "duration": 140,
    "start_time": "2023-03-01T09:10:08.482Z"
   },
   {
    "duration": 0,
    "start_time": "2023-03-01T09:10:08.624Z"
   },
   {
    "duration": 1477,
    "start_time": "2023-03-01T09:13:12.645Z"
   },
   {
    "duration": 3253,
    "start_time": "2023-03-01T09:13:14.125Z"
   },
   {
    "duration": 155,
    "start_time": "2023-03-01T09:13:17.380Z"
   },
   {
    "duration": 331,
    "start_time": "2023-03-01T09:13:17.537Z"
   },
   {
    "duration": 1267,
    "start_time": "2023-03-01T09:13:17.870Z"
   },
   {
    "duration": 138,
    "start_time": "2023-03-01T09:13:19.139Z"
   },
   {
    "duration": 371,
    "start_time": "2023-03-01T09:13:19.279Z"
   },
   {
    "duration": 104,
    "start_time": "2023-03-01T09:13:19.652Z"
   },
   {
    "duration": 13,
    "start_time": "2023-03-01T09:13:19.758Z"
   },
   {
    "duration": 205,
    "start_time": "2023-03-01T09:13:19.773Z"
   },
   {
    "duration": 167,
    "start_time": "2023-03-01T09:13:19.980Z"
   },
   {
    "duration": 58,
    "start_time": "2023-03-01T09:13:20.149Z"
   },
   {
    "duration": 41,
    "start_time": "2023-03-01T09:13:20.208Z"
   },
   {
    "duration": 9,
    "start_time": "2023-03-01T09:13:20.252Z"
   },
   {
    "duration": 40,
    "start_time": "2023-03-01T09:13:20.263Z"
   },
   {
    "duration": 125,
    "start_time": "2023-03-01T09:13:20.305Z"
   },
   {
    "duration": 21,
    "start_time": "2023-03-01T09:13:20.431Z"
   },
   {
    "duration": 34,
    "start_time": "2023-03-01T09:13:20.453Z"
   },
   {
    "duration": 50,
    "start_time": "2023-03-01T09:13:20.488Z"
   },
   {
    "duration": 126,
    "start_time": "2023-03-01T09:13:20.540Z"
   },
   {
    "duration": 137,
    "start_time": "2023-03-01T09:13:20.668Z"
   },
   {
    "duration": 7,
    "start_time": "2023-03-01T09:13:20.807Z"
   },
   {
    "duration": 7,
    "start_time": "2023-03-01T09:13:20.816Z"
   },
   {
    "duration": 47,
    "start_time": "2023-03-01T09:13:20.824Z"
   },
   {
    "duration": 31,
    "start_time": "2023-03-01T09:13:20.872Z"
   },
   {
    "duration": 18,
    "start_time": "2023-03-01T09:13:20.905Z"
   },
   {
    "duration": 58,
    "start_time": "2023-03-01T09:13:20.924Z"
   },
   {
    "duration": 88,
    "start_time": "2023-03-01T09:13:20.984Z"
   },
   {
    "duration": 159,
    "start_time": "2023-03-01T09:13:21.074Z"
   },
   {
    "duration": 26,
    "start_time": "2023-03-01T09:13:21.235Z"
   },
   {
    "duration": 44,
    "start_time": "2023-03-01T09:13:21.263Z"
   },
   {
    "duration": 20,
    "start_time": "2023-03-01T09:13:21.308Z"
   },
   {
    "duration": 18,
    "start_time": "2023-03-01T09:13:21.330Z"
   },
   {
    "duration": 19,
    "start_time": "2023-03-01T09:13:21.350Z"
   },
   {
    "duration": 40,
    "start_time": "2023-03-01T09:13:21.371Z"
   },
   {
    "duration": 16,
    "start_time": "2023-03-01T09:13:21.413Z"
   },
   {
    "duration": 15,
    "start_time": "2023-03-01T09:13:21.431Z"
   },
   {
    "duration": 175,
    "start_time": "2023-03-01T09:13:21.448Z"
   },
   {
    "duration": 95,
    "start_time": "2023-03-01T09:13:21.625Z"
   },
   {
    "duration": 11,
    "start_time": "2023-03-01T09:13:21.722Z"
   },
   {
    "duration": 83,
    "start_time": "2023-03-01T09:13:21.737Z"
   },
   {
    "duration": 28,
    "start_time": "2023-03-01T09:13:21.822Z"
   },
   {
    "duration": 17,
    "start_time": "2023-03-01T09:13:21.852Z"
   },
   {
    "duration": 5,
    "start_time": "2023-03-01T09:13:21.871Z"
   },
   {
    "duration": 14,
    "start_time": "2023-03-01T09:13:21.895Z"
   },
   {
    "duration": 261,
    "start_time": "2023-03-01T09:13:21.911Z"
   },
   {
    "duration": 95,
    "start_time": "2023-03-01T09:13:22.173Z"
   },
   {
    "duration": 110,
    "start_time": "2023-03-01T09:13:22.269Z"
   },
   {
    "duration": 56,
    "start_time": "2023-03-01T09:13:22.381Z"
   },
   {
    "duration": 271,
    "start_time": "2023-03-01T09:13:22.438Z"
   },
   {
    "duration": 42,
    "start_time": "2023-03-01T09:13:22.711Z"
   },
   {
    "duration": 139,
    "start_time": "2023-03-01T09:13:22.755Z"
   },
   {
    "duration": 107,
    "start_time": "2023-03-01T09:13:22.895Z"
   },
   {
    "duration": 14,
    "start_time": "2023-03-01T09:13:23.006Z"
   },
   {
    "duration": 5,
    "start_time": "2023-03-01T09:13:23.022Z"
   },
   {
    "duration": 6,
    "start_time": "2023-03-01T09:13:23.029Z"
   },
   {
    "duration": 11,
    "start_time": "2023-03-01T09:13:23.037Z"
   },
   {
    "duration": 6,
    "start_time": "2023-03-01T09:13:23.050Z"
   },
   {
    "duration": 1733,
    "start_time": "2023-03-01T09:16:16.205Z"
   },
   {
    "duration": 898,
    "start_time": "2023-03-01T09:16:17.940Z"
   },
   {
    "duration": 168,
    "start_time": "2023-03-01T09:16:18.840Z"
   },
   {
    "duration": 324,
    "start_time": "2023-03-01T09:16:19.011Z"
   },
   {
    "duration": 1200,
    "start_time": "2023-03-01T09:16:19.337Z"
   },
   {
    "duration": 143,
    "start_time": "2023-03-01T09:16:20.539Z"
   },
   {
    "duration": 365,
    "start_time": "2023-03-01T09:16:20.684Z"
   },
   {
    "duration": 103,
    "start_time": "2023-03-01T09:16:21.050Z"
   },
   {
    "duration": 48,
    "start_time": "2023-03-01T09:16:21.155Z"
   },
   {
    "duration": 332,
    "start_time": "2023-03-01T09:16:21.204Z"
   },
   {
    "duration": 356,
    "start_time": "2023-03-01T09:16:21.537Z"
   },
   {
    "duration": 41,
    "start_time": "2023-03-01T09:16:21.895Z"
   },
   {
    "duration": 98,
    "start_time": "2023-03-01T09:16:21.938Z"
   },
   {
    "duration": 78,
    "start_time": "2023-03-01T09:16:22.039Z"
   },
   {
    "duration": 21,
    "start_time": "2023-03-01T09:16:22.119Z"
   },
   {
    "duration": 359,
    "start_time": "2023-03-01T09:16:22.142Z"
   },
   {
    "duration": 21,
    "start_time": "2023-03-01T09:16:22.502Z"
   },
   {
    "duration": 78,
    "start_time": "2023-03-01T09:16:22.525Z"
   },
   {
    "duration": 31,
    "start_time": "2023-03-01T09:16:22.605Z"
   },
   {
    "duration": 273,
    "start_time": "2023-03-01T09:16:22.638Z"
   },
   {
    "duration": 301,
    "start_time": "2023-03-01T09:16:22.913Z"
   },
   {
    "duration": 6,
    "start_time": "2023-03-01T09:16:23.216Z"
   },
   {
    "duration": 5,
    "start_time": "2023-03-01T09:16:23.223Z"
   },
   {
    "duration": 87,
    "start_time": "2023-03-01T09:16:23.230Z"
   },
   {
    "duration": 7,
    "start_time": "2023-03-01T09:16:23.319Z"
   },
   {
    "duration": 19,
    "start_time": "2023-03-01T09:16:23.327Z"
   },
   {
    "duration": 70,
    "start_time": "2023-03-01T09:16:23.347Z"
   },
   {
    "duration": 87,
    "start_time": "2023-03-01T09:16:23.419Z"
   },
   {
    "duration": 141,
    "start_time": "2023-03-01T09:16:23.508Z"
   },
   {
    "duration": 27,
    "start_time": "2023-03-01T09:16:23.651Z"
   },
   {
    "duration": 25,
    "start_time": "2023-03-01T09:16:23.691Z"
   },
   {
    "duration": 29,
    "start_time": "2023-03-01T09:16:23.718Z"
   },
   {
    "duration": 24,
    "start_time": "2023-03-01T09:16:23.748Z"
   },
   {
    "duration": 29,
    "start_time": "2023-03-01T09:16:23.773Z"
   },
   {
    "duration": 23,
    "start_time": "2023-03-01T09:16:23.806Z"
   },
   {
    "duration": 37,
    "start_time": "2023-03-01T09:16:23.831Z"
   },
   {
    "duration": 18,
    "start_time": "2023-03-01T09:16:23.870Z"
   },
   {
    "duration": 144,
    "start_time": "2023-03-01T09:16:23.890Z"
   },
   {
    "duration": 84,
    "start_time": "2023-03-01T09:16:24.035Z"
   },
   {
    "duration": 11,
    "start_time": "2023-03-01T09:16:24.121Z"
   },
   {
    "duration": 78,
    "start_time": "2023-03-01T09:16:24.136Z"
   },
   {
    "duration": 16,
    "start_time": "2023-03-01T09:16:24.215Z"
   },
   {
    "duration": 9,
    "start_time": "2023-03-01T09:16:24.232Z"
   },
   {
    "duration": 4,
    "start_time": "2023-03-01T09:16:24.243Z"
   },
   {
    "duration": 4,
    "start_time": "2023-03-01T09:16:24.248Z"
   },
   {
    "duration": 291,
    "start_time": "2023-03-01T09:16:24.254Z"
   },
   {
    "duration": 98,
    "start_time": "2023-03-01T09:16:24.547Z"
   },
   {
    "duration": 103,
    "start_time": "2023-03-01T09:16:24.646Z"
   },
   {
    "duration": 62,
    "start_time": "2023-03-01T09:16:24.751Z"
   },
   {
    "duration": 292,
    "start_time": "2023-03-01T09:16:24.814Z"
   },
   {
    "duration": 40,
    "start_time": "2023-03-01T09:16:25.108Z"
   },
   {
    "duration": 52,
    "start_time": "2023-03-01T09:16:25.150Z"
   },
   {
    "duration": 97,
    "start_time": "2023-03-01T09:16:25.204Z"
   },
   {
    "duration": 114,
    "start_time": "2023-03-01T09:16:25.304Z"
   },
   {
    "duration": 4,
    "start_time": "2023-03-01T09:16:25.420Z"
   },
   {
    "duration": 10,
    "start_time": "2023-03-01T09:16:25.426Z"
   },
   {
    "duration": 5,
    "start_time": "2023-03-01T09:16:25.437Z"
   },
   {
    "duration": 6,
    "start_time": "2023-03-01T09:16:25.444Z"
   },
   {
    "duration": 14,
    "start_time": "2023-03-01T09:16:25.452Z"
   },
   {
    "duration": 5,
    "start_time": "2023-03-01T09:16:25.468Z"
   },
   {
    "duration": 130,
    "start_time": "2023-03-01T09:16:25.475Z"
   },
   {
    "duration": 3,
    "start_time": "2023-03-01T09:16:46.769Z"
   },
   {
    "duration": 5,
    "start_time": "2023-03-01T09:16:54.063Z"
   },
   {
    "duration": 3,
    "start_time": "2023-03-01T09:20:43.305Z"
   },
   {
    "duration": 1564,
    "start_time": "2023-03-01T09:21:31.185Z"
   },
   {
    "duration": 931,
    "start_time": "2023-03-01T09:21:32.751Z"
   },
   {
    "duration": 162,
    "start_time": "2023-03-01T09:21:33.683Z"
   },
   {
    "duration": 332,
    "start_time": "2023-03-01T09:21:33.847Z"
   },
   {
    "duration": 1247,
    "start_time": "2023-03-01T09:21:34.181Z"
   },
   {
    "duration": 153,
    "start_time": "2023-03-01T09:21:35.429Z"
   },
   {
    "duration": 364,
    "start_time": "2023-03-01T09:21:35.591Z"
   },
   {
    "duration": 117,
    "start_time": "2023-03-01T09:21:35.958Z"
   },
   {
    "duration": 31,
    "start_time": "2023-03-01T09:21:36.077Z"
   },
   {
    "duration": 222,
    "start_time": "2023-03-01T09:21:36.110Z"
   },
   {
    "duration": 182,
    "start_time": "2023-03-01T09:21:36.334Z"
   },
   {
    "duration": 45,
    "start_time": "2023-03-01T09:21:36.518Z"
   },
   {
    "duration": 66,
    "start_time": "2023-03-01T09:21:36.564Z"
   },
   {
    "duration": 10,
    "start_time": "2023-03-01T09:21:36.634Z"
   },
   {
    "duration": 23,
    "start_time": "2023-03-01T09:21:36.646Z"
   },
   {
    "duration": 137,
    "start_time": "2023-03-01T09:21:36.671Z"
   },
   {
    "duration": 21,
    "start_time": "2023-03-01T09:21:36.810Z"
   },
   {
    "duration": 20,
    "start_time": "2023-03-01T09:21:36.832Z"
   },
   {
    "duration": 52,
    "start_time": "2023-03-01T09:21:36.854Z"
   },
   {
    "duration": 119,
    "start_time": "2023-03-01T09:21:36.908Z"
   },
   {
    "duration": 150,
    "start_time": "2023-03-01T09:21:37.029Z"
   },
   {
    "duration": 14,
    "start_time": "2023-03-01T09:21:37.180Z"
   },
   {
    "duration": 23,
    "start_time": "2023-03-01T09:21:37.196Z"
   },
   {
    "duration": 46,
    "start_time": "2023-03-01T09:21:37.221Z"
   },
   {
    "duration": 8,
    "start_time": "2023-03-01T09:21:37.268Z"
   },
   {
    "duration": 34,
    "start_time": "2023-03-01T09:21:37.278Z"
   },
   {
    "duration": 50,
    "start_time": "2023-03-01T09:21:37.314Z"
   },
   {
    "duration": 96,
    "start_time": "2023-03-01T09:21:37.366Z"
   },
   {
    "duration": 145,
    "start_time": "2023-03-01T09:21:37.464Z"
   },
   {
    "duration": 25,
    "start_time": "2023-03-01T09:21:37.611Z"
   },
   {
    "duration": 17,
    "start_time": "2023-03-01T09:21:37.638Z"
   },
   {
    "duration": 45,
    "start_time": "2023-03-01T09:21:37.657Z"
   },
   {
    "duration": 19,
    "start_time": "2023-03-01T09:21:37.705Z"
   },
   {
    "duration": 18,
    "start_time": "2023-03-01T09:21:37.726Z"
   },
   {
    "duration": 21,
    "start_time": "2023-03-01T09:21:37.745Z"
   },
   {
    "duration": 25,
    "start_time": "2023-03-01T09:21:37.768Z"
   },
   {
    "duration": 18,
    "start_time": "2023-03-01T09:21:37.795Z"
   },
   {
    "duration": 161,
    "start_time": "2023-03-01T09:21:37.816Z"
   },
   {
    "duration": 83,
    "start_time": "2023-03-01T09:21:37.979Z"
   },
   {
    "duration": 28,
    "start_time": "2023-03-01T09:21:38.063Z"
   },
   {
    "duration": 72,
    "start_time": "2023-03-01T09:21:38.096Z"
   },
   {
    "duration": 39,
    "start_time": "2023-03-01T09:21:38.169Z"
   },
   {
    "duration": 14,
    "start_time": "2023-03-01T09:21:38.209Z"
   },
   {
    "duration": 5,
    "start_time": "2023-03-01T09:21:38.224Z"
   },
   {
    "duration": 22,
    "start_time": "2023-03-01T09:21:38.231Z"
   },
   {
    "duration": 291,
    "start_time": "2023-03-01T09:21:38.254Z"
   },
   {
    "duration": 95,
    "start_time": "2023-03-01T09:21:38.547Z"
   },
   {
    "duration": 95,
    "start_time": "2023-03-01T09:21:38.644Z"
   },
   {
    "duration": 58,
    "start_time": "2023-03-01T09:21:38.741Z"
   },
   {
    "duration": 266,
    "start_time": "2023-03-01T09:21:38.800Z"
   },
   {
    "duration": 50,
    "start_time": "2023-03-01T09:21:39.067Z"
   },
   {
    "duration": 85,
    "start_time": "2023-03-01T09:21:39.119Z"
   },
   {
    "duration": 105,
    "start_time": "2023-03-01T09:21:39.209Z"
   },
   {
    "duration": 13,
    "start_time": "2023-03-01T09:21:39.316Z"
   },
   {
    "duration": 8,
    "start_time": "2023-03-01T09:21:39.333Z"
   },
   {
    "duration": 9,
    "start_time": "2023-03-01T09:21:39.342Z"
   },
   {
    "duration": 9,
    "start_time": "2023-03-01T09:21:39.353Z"
   },
   {
    "duration": 12,
    "start_time": "2023-03-01T09:21:39.364Z"
   },
   {
    "duration": 6,
    "start_time": "2023-03-01T09:21:39.378Z"
   },
   {
    "duration": 9,
    "start_time": "2023-03-01T09:21:39.385Z"
   },
   {
    "duration": 12,
    "start_time": "2023-03-01T09:21:39.400Z"
   },
   {
    "duration": 1543,
    "start_time": "2023-03-01T09:22:53.282Z"
   },
   {
    "duration": 894,
    "start_time": "2023-03-01T09:22:54.827Z"
   },
   {
    "duration": 150,
    "start_time": "2023-03-01T09:22:55.723Z"
   },
   {
    "duration": 310,
    "start_time": "2023-03-01T09:22:55.874Z"
   },
   {
    "duration": 2016,
    "start_time": "2023-03-01T09:22:56.192Z"
   },
   {
    "duration": 282,
    "start_time": "2023-03-01T09:22:58.210Z"
   },
   {
    "duration": 365,
    "start_time": "2023-03-01T09:22:58.494Z"
   },
   {
    "duration": 93,
    "start_time": "2023-03-01T09:22:58.860Z"
   },
   {
    "duration": 14,
    "start_time": "2023-03-01T09:22:58.954Z"
   },
   {
    "duration": 200,
    "start_time": "2023-03-01T09:22:58.970Z"
   },
   {
    "duration": 152,
    "start_time": "2023-03-01T09:22:59.172Z"
   },
   {
    "duration": 41,
    "start_time": "2023-03-01T09:22:59.326Z"
   },
   {
    "duration": 59,
    "start_time": "2023-03-01T09:22:59.369Z"
   },
   {
    "duration": 10,
    "start_time": "2023-03-01T09:22:59.431Z"
   },
   {
    "duration": 40,
    "start_time": "2023-03-01T09:22:59.443Z"
   },
   {
    "duration": 123,
    "start_time": "2023-03-01T09:22:59.485Z"
   },
   {
    "duration": 21,
    "start_time": "2023-03-01T09:22:59.610Z"
   },
   {
    "duration": 42,
    "start_time": "2023-03-01T09:22:59.633Z"
   },
   {
    "duration": 51,
    "start_time": "2023-03-01T09:22:59.677Z"
   },
   {
    "duration": 121,
    "start_time": "2023-03-01T09:22:59.729Z"
   },
   {
    "duration": 126,
    "start_time": "2023-03-01T09:22:59.852Z"
   },
   {
    "duration": 14,
    "start_time": "2023-03-01T09:22:59.979Z"
   },
   {
    "duration": 12,
    "start_time": "2023-03-01T09:22:59.995Z"
   },
   {
    "duration": 71,
    "start_time": "2023-03-01T09:23:00.008Z"
   },
   {
    "duration": 6,
    "start_time": "2023-03-01T09:23:00.080Z"
   },
   {
    "duration": 28,
    "start_time": "2023-03-01T09:23:00.087Z"
   },
   {
    "duration": 67,
    "start_time": "2023-03-01T09:23:00.116Z"
   },
   {
    "duration": 76,
    "start_time": "2023-03-01T09:23:00.184Z"
   },
   {
    "duration": 128,
    "start_time": "2023-03-01T09:23:00.261Z"
   },
   {
    "duration": 25,
    "start_time": "2023-03-01T09:23:00.392Z"
   },
   {
    "duration": 21,
    "start_time": "2023-03-01T09:23:00.419Z"
   },
   {
    "duration": 45,
    "start_time": "2023-03-01T09:23:00.442Z"
   },
   {
    "duration": 34,
    "start_time": "2023-03-01T09:23:00.489Z"
   },
   {
    "duration": 56,
    "start_time": "2023-03-01T09:23:00.525Z"
   },
   {
    "duration": 35,
    "start_time": "2023-03-01T09:23:00.583Z"
   },
   {
    "duration": 37,
    "start_time": "2023-03-01T09:23:00.620Z"
   },
   {
    "duration": 44,
    "start_time": "2023-03-01T09:23:00.659Z"
   },
   {
    "duration": 183,
    "start_time": "2023-03-01T09:23:00.705Z"
   },
   {
    "duration": 69,
    "start_time": "2023-03-01T09:23:00.891Z"
   },
   {
    "duration": 15,
    "start_time": "2023-03-01T09:23:00.961Z"
   },
   {
    "duration": 76,
    "start_time": "2023-03-01T09:23:00.994Z"
   },
   {
    "duration": 15,
    "start_time": "2023-03-01T09:23:01.072Z"
   },
   {
    "duration": 21,
    "start_time": "2023-03-01T09:23:01.089Z"
   },
   {
    "duration": 5,
    "start_time": "2023-03-01T09:23:01.111Z"
   },
   {
    "duration": 16,
    "start_time": "2023-03-01T09:23:01.117Z"
   },
   {
    "duration": 233,
    "start_time": "2023-03-01T09:23:01.134Z"
   },
   {
    "duration": 91,
    "start_time": "2023-03-01T09:23:01.369Z"
   },
   {
    "duration": 103,
    "start_time": "2023-03-01T09:23:01.462Z"
   },
   {
    "duration": 61,
    "start_time": "2023-03-01T09:23:01.567Z"
   },
   {
    "duration": 294,
    "start_time": "2023-03-01T09:23:01.629Z"
   },
   {
    "duration": 39,
    "start_time": "2023-03-01T09:23:01.925Z"
   },
   {
    "duration": 35,
    "start_time": "2023-03-01T09:23:01.966Z"
   },
   {
    "duration": 102,
    "start_time": "2023-03-01T09:23:02.004Z"
   },
   {
    "duration": 38,
    "start_time": "2023-03-01T09:23:02.193Z"
   },
   {
    "duration": 15,
    "start_time": "2023-03-01T09:23:02.233Z"
   },
   {
    "duration": 16,
    "start_time": "2023-03-01T09:23:02.250Z"
   },
   {
    "duration": 12,
    "start_time": "2023-03-01T09:23:02.268Z"
   },
   {
    "duration": 9,
    "start_time": "2023-03-01T09:23:02.281Z"
   },
   {
    "duration": 8,
    "start_time": "2023-03-01T09:23:02.292Z"
   },
   {
    "duration": 128,
    "start_time": "2023-03-01T09:23:02.302Z"
   },
   {
    "duration": 0,
    "start_time": "2023-03-01T09:23:02.431Z"
   },
   {
    "duration": 1457,
    "start_time": "2023-03-01T09:24:10.998Z"
   },
   {
    "duration": 838,
    "start_time": "2023-03-01T09:24:12.458Z"
   },
   {
    "duration": 133,
    "start_time": "2023-03-01T09:24:13.297Z"
   },
   {
    "duration": 293,
    "start_time": "2023-03-01T09:24:13.432Z"
   },
   {
    "duration": 1189,
    "start_time": "2023-03-01T09:24:13.727Z"
   },
   {
    "duration": 137,
    "start_time": "2023-03-01T09:24:14.918Z"
   },
   {
    "duration": 350,
    "start_time": "2023-03-01T09:24:15.057Z"
   },
   {
    "duration": 98,
    "start_time": "2023-03-01T09:24:15.409Z"
   },
   {
    "duration": 14,
    "start_time": "2023-03-01T09:24:15.509Z"
   },
   {
    "duration": 189,
    "start_time": "2023-03-01T09:24:15.525Z"
   },
   {
    "duration": 164,
    "start_time": "2023-03-01T09:24:15.716Z"
   },
   {
    "duration": 47,
    "start_time": "2023-03-01T09:24:15.882Z"
   },
   {
    "duration": 43,
    "start_time": "2023-03-01T09:24:15.931Z"
   },
   {
    "duration": 12,
    "start_time": "2023-03-01T09:24:15.990Z"
   },
   {
    "duration": 20,
    "start_time": "2023-03-01T09:24:16.004Z"
   },
   {
    "duration": 119,
    "start_time": "2023-03-01T09:24:16.026Z"
   },
   {
    "duration": 21,
    "start_time": "2023-03-01T09:24:16.147Z"
   },
   {
    "duration": 37,
    "start_time": "2023-03-01T09:24:16.170Z"
   },
   {
    "duration": 41,
    "start_time": "2023-03-01T09:24:16.209Z"
   },
   {
    "duration": 179,
    "start_time": "2023-03-01T09:24:16.252Z"
   },
   {
    "duration": 166,
    "start_time": "2023-03-01T09:24:16.433Z"
   },
   {
    "duration": 6,
    "start_time": "2023-03-01T09:24:16.600Z"
   },
   {
    "duration": 7,
    "start_time": "2023-03-01T09:24:16.607Z"
   },
   {
    "duration": 42,
    "start_time": "2023-03-01T09:24:16.616Z"
   },
   {
    "duration": 33,
    "start_time": "2023-03-01T09:24:16.659Z"
   },
   {
    "duration": 18,
    "start_time": "2023-03-01T09:24:16.694Z"
   },
   {
    "duration": 51,
    "start_time": "2023-03-01T09:24:16.714Z"
   },
   {
    "duration": 89,
    "start_time": "2023-03-01T09:24:16.766Z"
   },
   {
    "duration": 140,
    "start_time": "2023-03-01T09:24:16.857Z"
   },
   {
    "duration": 26,
    "start_time": "2023-03-01T09:24:16.999Z"
   },
   {
    "duration": 19,
    "start_time": "2023-03-01T09:24:17.027Z"
   },
   {
    "duration": 19,
    "start_time": "2023-03-01T09:24:17.048Z"
   },
   {
    "duration": 18,
    "start_time": "2023-03-01T09:24:17.092Z"
   },
   {
    "duration": 17,
    "start_time": "2023-03-01T09:24:17.112Z"
   },
   {
    "duration": 20,
    "start_time": "2023-03-01T09:24:17.130Z"
   },
   {
    "duration": 17,
    "start_time": "2023-03-01T09:24:17.152Z"
   },
   {
    "duration": 33,
    "start_time": "2023-03-01T09:24:17.171Z"
   },
   {
    "duration": 151,
    "start_time": "2023-03-01T09:24:17.205Z"
   },
   {
    "duration": 70,
    "start_time": "2023-03-01T09:24:17.358Z"
   },
   {
    "duration": 11,
    "start_time": "2023-03-01T09:24:17.430Z"
   },
   {
    "duration": 80,
    "start_time": "2023-03-01T09:24:17.445Z"
   },
   {
    "duration": 17,
    "start_time": "2023-03-01T09:24:17.526Z"
   },
   {
    "duration": 9,
    "start_time": "2023-03-01T09:24:17.545Z"
   },
   {
    "duration": 5,
    "start_time": "2023-03-01T09:24:17.555Z"
   },
   {
    "duration": 30,
    "start_time": "2023-03-01T09:24:17.561Z"
   },
   {
    "duration": 264,
    "start_time": "2023-03-01T09:24:17.593Z"
   },
   {
    "duration": 92,
    "start_time": "2023-03-01T09:24:17.859Z"
   },
   {
    "duration": 99,
    "start_time": "2023-03-01T09:24:17.953Z"
   },
   {
    "duration": 64,
    "start_time": "2023-03-01T09:24:18.054Z"
   },
   {
    "duration": 254,
    "start_time": "2023-03-01T09:24:18.120Z"
   },
   {
    "duration": 47,
    "start_time": "2023-03-01T09:24:18.375Z"
   },
   {
    "duration": 73,
    "start_time": "2023-03-01T09:24:18.424Z"
   },
   {
    "duration": 98,
    "start_time": "2023-03-01T09:24:18.499Z"
   },
   {
    "duration": 5,
    "start_time": "2023-03-01T09:24:18.599Z"
   },
   {
    "duration": 6,
    "start_time": "2023-03-01T09:24:18.605Z"
   },
   {
    "duration": 9,
    "start_time": "2023-03-01T09:24:18.612Z"
   },
   {
    "duration": 4,
    "start_time": "2023-03-01T09:24:18.622Z"
   },
   {
    "duration": 4,
    "start_time": "2023-03-01T09:24:18.628Z"
   },
   {
    "duration": 4,
    "start_time": "2023-03-01T09:24:18.634Z"
   },
   {
    "duration": 46,
    "start_time": "2023-03-01T09:25:51.724Z"
   },
   {
    "duration": 1488,
    "start_time": "2023-03-01T09:25:59.811Z"
   },
   {
    "duration": 3026,
    "start_time": "2023-03-01T09:26:01.301Z"
   },
   {
    "duration": 139,
    "start_time": "2023-03-01T09:26:04.328Z"
   },
   {
    "duration": 335,
    "start_time": "2023-03-01T09:26:04.469Z"
   },
   {
    "duration": 2225,
    "start_time": "2023-03-01T09:26:04.807Z"
   },
   {
    "duration": 305,
    "start_time": "2023-03-01T09:26:07.035Z"
   },
   {
    "duration": 366,
    "start_time": "2023-03-01T09:26:07.342Z"
   },
   {
    "duration": 100,
    "start_time": "2023-03-01T09:26:07.710Z"
   },
   {
    "duration": 14,
    "start_time": "2023-03-01T09:26:07.813Z"
   },
   {
    "duration": 202,
    "start_time": "2023-03-01T09:26:07.831Z"
   },
   {
    "duration": 158,
    "start_time": "2023-03-01T09:26:08.035Z"
   },
   {
    "duration": 40,
    "start_time": "2023-03-01T09:26:08.195Z"
   },
   {
    "duration": 55,
    "start_time": "2023-03-01T09:26:08.236Z"
   },
   {
    "duration": 9,
    "start_time": "2023-03-01T09:26:08.293Z"
   },
   {
    "duration": 22,
    "start_time": "2023-03-01T09:26:08.304Z"
   },
   {
    "duration": 119,
    "start_time": "2023-03-01T09:26:08.328Z"
   },
   {
    "duration": 25,
    "start_time": "2023-03-01T09:26:08.449Z"
   },
   {
    "duration": 33,
    "start_time": "2023-03-01T09:26:08.476Z"
   },
   {
    "duration": 39,
    "start_time": "2023-03-01T09:26:08.511Z"
   },
   {
    "duration": 136,
    "start_time": "2023-03-01T09:26:08.552Z"
   },
   {
    "duration": 131,
    "start_time": "2023-03-01T09:26:08.691Z"
   },
   {
    "duration": 5,
    "start_time": "2023-03-01T09:26:08.824Z"
   },
   {
    "duration": 6,
    "start_time": "2023-03-01T09:26:08.831Z"
   },
   {
    "duration": 61,
    "start_time": "2023-03-01T09:26:08.839Z"
   },
   {
    "duration": 7,
    "start_time": "2023-03-01T09:26:08.902Z"
   },
   {
    "duration": 19,
    "start_time": "2023-03-01T09:26:08.911Z"
   },
   {
    "duration": 66,
    "start_time": "2023-03-01T09:26:08.931Z"
   },
   {
    "duration": 93,
    "start_time": "2023-03-01T09:26:09.001Z"
   },
   {
    "duration": 144,
    "start_time": "2023-03-01T09:26:09.096Z"
   },
   {
    "duration": 27,
    "start_time": "2023-03-01T09:26:09.242Z"
   },
   {
    "duration": 31,
    "start_time": "2023-03-01T09:26:09.270Z"
   },
   {
    "duration": 19,
    "start_time": "2023-03-01T09:26:09.303Z"
   },
   {
    "duration": 26,
    "start_time": "2023-03-01T09:26:09.323Z"
   },
   {
    "duration": 17,
    "start_time": "2023-03-01T09:26:09.353Z"
   },
   {
    "duration": 46,
    "start_time": "2023-03-01T09:26:09.372Z"
   },
   {
    "duration": 16,
    "start_time": "2023-03-01T09:26:09.420Z"
   },
   {
    "duration": 17,
    "start_time": "2023-03-01T09:26:09.438Z"
   },
   {
    "duration": 135,
    "start_time": "2023-03-01T09:26:09.457Z"
   },
   {
    "duration": 69,
    "start_time": "2023-03-01T09:26:09.594Z"
   },
   {
    "duration": 24,
    "start_time": "2023-03-01T09:26:09.668Z"
   },
   {
    "duration": 72,
    "start_time": "2023-03-01T09:26:09.694Z"
   },
   {
    "duration": 33,
    "start_time": "2023-03-01T09:26:09.768Z"
   },
   {
    "duration": 11,
    "start_time": "2023-03-01T09:26:09.803Z"
   },
   {
    "duration": 5,
    "start_time": "2023-03-01T09:26:09.816Z"
   },
   {
    "duration": 7,
    "start_time": "2023-03-01T09:26:09.823Z"
   },
   {
    "duration": 286,
    "start_time": "2023-03-01T09:26:09.832Z"
   },
   {
    "duration": 89,
    "start_time": "2023-03-01T09:26:10.119Z"
   },
   {
    "duration": 90,
    "start_time": "2023-03-01T09:26:10.210Z"
   },
   {
    "duration": 50,
    "start_time": "2023-03-01T09:26:10.302Z"
   },
   {
    "duration": 251,
    "start_time": "2023-03-01T09:26:10.354Z"
   },
   {
    "duration": 36,
    "start_time": "2023-03-01T09:26:10.607Z"
   },
   {
    "duration": 49,
    "start_time": "2023-03-01T09:26:10.645Z"
   },
   {
    "duration": 98,
    "start_time": "2023-03-01T09:26:10.696Z"
   },
   {
    "duration": 16,
    "start_time": "2023-03-01T09:26:10.796Z"
   },
   {
    "duration": 4,
    "start_time": "2023-03-01T09:26:10.813Z"
   },
   {
    "duration": 10,
    "start_time": "2023-03-01T09:26:10.819Z"
   },
   {
    "duration": 5,
    "start_time": "2023-03-01T09:26:10.831Z"
   },
   {
    "duration": 6,
    "start_time": "2023-03-01T09:26:10.838Z"
   },
   {
    "duration": 6,
    "start_time": "2023-03-01T09:26:10.845Z"
   },
   {
    "duration": 118,
    "start_time": "2023-03-01T09:26:10.853Z"
   },
   {
    "duration": 0,
    "start_time": "2023-03-01T09:26:10.973Z"
   },
   {
    "duration": 0,
    "start_time": "2023-03-01T09:26:10.974Z"
   },
   {
    "duration": 22989,
    "start_time": "2023-03-01T09:26:27.447Z"
   },
   {
    "duration": 1465,
    "start_time": "2023-03-01T09:49:09.007Z"
   },
   {
    "duration": 2970,
    "start_time": "2023-03-01T09:49:10.474Z"
   },
   {
    "duration": 130,
    "start_time": "2023-03-01T09:49:13.446Z"
   },
   {
    "duration": 318,
    "start_time": "2023-03-01T09:49:13.578Z"
   },
   {
    "duration": 1236,
    "start_time": "2023-03-01T09:49:13.897Z"
   },
   {
    "duration": 163,
    "start_time": "2023-03-01T09:49:15.135Z"
   },
   {
    "duration": 344,
    "start_time": "2023-03-01T09:49:15.300Z"
   },
   {
    "duration": 152,
    "start_time": "2023-03-01T09:49:15.646Z"
   },
   {
    "duration": 14,
    "start_time": "2023-03-01T09:49:15.799Z"
   },
   {
    "duration": 406,
    "start_time": "2023-03-01T09:49:15.815Z"
   },
   {
    "duration": 386,
    "start_time": "2023-03-01T09:49:16.223Z"
   },
   {
    "duration": 95,
    "start_time": "2023-03-01T09:49:16.611Z"
   },
   {
    "duration": 87,
    "start_time": "2023-03-01T09:49:16.708Z"
   },
   {
    "duration": 10,
    "start_time": "2023-03-01T09:49:16.796Z"
   },
   {
    "duration": 21,
    "start_time": "2023-03-01T09:49:16.807Z"
   },
   {
    "duration": 204,
    "start_time": "2023-03-01T09:49:16.829Z"
   },
   {
    "duration": 73,
    "start_time": "2023-03-01T09:49:17.035Z"
   },
   {
    "duration": 83,
    "start_time": "2023-03-01T09:49:17.109Z"
   },
   {
    "duration": 33,
    "start_time": "2023-03-01T09:49:17.195Z"
   },
   {
    "duration": 280,
    "start_time": "2023-03-01T09:49:17.229Z"
   },
   {
    "duration": 234,
    "start_time": "2023-03-01T09:49:17.511Z"
   },
   {
    "duration": 47,
    "start_time": "2023-03-01T09:49:17.747Z"
   },
   {
    "duration": 5,
    "start_time": "2023-03-01T09:49:17.796Z"
   },
   {
    "duration": 47,
    "start_time": "2023-03-01T09:49:17.802Z"
   },
   {
    "duration": 6,
    "start_time": "2023-03-01T09:49:17.851Z"
   },
   {
    "duration": 40,
    "start_time": "2023-03-01T09:49:17.858Z"
   },
   {
    "duration": 50,
    "start_time": "2023-03-01T09:49:17.900Z"
   },
   {
    "duration": 88,
    "start_time": "2023-03-01T09:49:17.953Z"
   },
   {
    "duration": 138,
    "start_time": "2023-03-01T09:49:18.043Z"
   },
   {
    "duration": 30,
    "start_time": "2023-03-01T09:49:18.182Z"
   },
   {
    "duration": 18,
    "start_time": "2023-03-01T09:49:18.214Z"
   },
   {
    "duration": 20,
    "start_time": "2023-03-01T09:49:18.233Z"
   },
   {
    "duration": 37,
    "start_time": "2023-03-01T09:49:18.255Z"
   },
   {
    "duration": 19,
    "start_time": "2023-03-01T09:49:18.294Z"
   },
   {
    "duration": 20,
    "start_time": "2023-03-01T09:49:18.315Z"
   },
   {
    "duration": 27,
    "start_time": "2023-03-01T09:49:18.337Z"
   },
   {
    "duration": 37,
    "start_time": "2023-03-01T09:49:18.367Z"
   },
   {
    "duration": 158,
    "start_time": "2023-03-01T09:49:18.406Z"
   },
   {
    "duration": 80,
    "start_time": "2023-03-01T09:49:18.567Z"
   },
   {
    "duration": 12,
    "start_time": "2023-03-01T09:49:18.648Z"
   },
   {
    "duration": 78,
    "start_time": "2023-03-01T09:49:18.662Z"
   },
   {
    "duration": 16,
    "start_time": "2023-03-01T09:49:18.742Z"
   },
   {
    "duration": 31,
    "start_time": "2023-03-01T09:49:18.760Z"
   },
   {
    "duration": 4,
    "start_time": "2023-03-01T09:49:18.793Z"
   },
   {
    "duration": 5,
    "start_time": "2023-03-01T09:49:18.799Z"
   },
   {
    "duration": 262,
    "start_time": "2023-03-01T09:49:18.806Z"
   },
   {
    "duration": 86,
    "start_time": "2023-03-01T09:49:19.069Z"
   },
   {
    "duration": 88,
    "start_time": "2023-03-01T09:49:19.157Z"
   },
   {
    "duration": 56,
    "start_time": "2023-03-01T09:49:19.247Z"
   },
   {
    "duration": 242,
    "start_time": "2023-03-01T09:49:19.305Z"
   },
   {
    "duration": 55,
    "start_time": "2023-03-01T09:49:19.549Z"
   },
   {
    "duration": 88,
    "start_time": "2023-03-01T09:49:19.607Z"
   },
   {
    "duration": 97,
    "start_time": "2023-03-01T09:49:19.700Z"
   },
   {
    "duration": 5,
    "start_time": "2023-03-01T09:49:19.798Z"
   },
   {
    "duration": 6,
    "start_time": "2023-03-01T09:49:19.804Z"
   },
   {
    "duration": 32,
    "start_time": "2023-03-01T09:49:19.812Z"
   },
   {
    "duration": 9,
    "start_time": "2023-03-01T09:49:19.846Z"
   },
   {
    "duration": 9,
    "start_time": "2023-03-01T09:49:19.856Z"
   },
   {
    "duration": 8,
    "start_time": "2023-03-01T09:49:19.866Z"
   },
   {
    "duration": 23388,
    "start_time": "2023-03-01T09:49:19.876Z"
   },
   {
    "duration": 1510,
    "start_time": "2023-03-01T09:52:00.812Z"
   },
   {
    "duration": 895,
    "start_time": "2023-03-01T09:52:02.324Z"
   },
   {
    "duration": 151,
    "start_time": "2023-03-01T09:52:03.220Z"
   },
   {
    "duration": 341,
    "start_time": "2023-03-01T09:52:03.372Z"
   },
   {
    "duration": 1152,
    "start_time": "2023-03-01T09:52:03.715Z"
   },
   {
    "duration": 141,
    "start_time": "2023-03-01T09:52:04.868Z"
   },
   {
    "duration": 330,
    "start_time": "2023-03-01T09:52:05.011Z"
   },
   {
    "duration": 97,
    "start_time": "2023-03-01T09:52:05.343Z"
   },
   {
    "duration": 14,
    "start_time": "2023-03-01T09:52:05.441Z"
   },
   {
    "duration": 181,
    "start_time": "2023-03-01T09:52:05.456Z"
   },
   {
    "duration": 167,
    "start_time": "2023-03-01T09:52:05.639Z"
   },
   {
    "duration": 46,
    "start_time": "2023-03-01T09:52:05.807Z"
   },
   {
    "duration": 56,
    "start_time": "2023-03-01T09:52:05.854Z"
   },
   {
    "duration": 10,
    "start_time": "2023-03-01T09:52:05.913Z"
   },
   {
    "duration": 22,
    "start_time": "2023-03-01T09:52:05.924Z"
   },
   {
    "duration": 120,
    "start_time": "2023-03-01T09:52:05.948Z"
   },
   {
    "duration": 26,
    "start_time": "2023-03-01T09:52:06.070Z"
   },
   {
    "duration": 23,
    "start_time": "2023-03-01T09:52:06.098Z"
   },
   {
    "duration": 32,
    "start_time": "2023-03-01T09:52:06.123Z"
   },
   {
    "duration": 157,
    "start_time": "2023-03-01T09:52:06.157Z"
   },
   {
    "duration": 134,
    "start_time": "2023-03-01T09:52:06.315Z"
   },
   {
    "duration": 8,
    "start_time": "2023-03-01T09:52:06.451Z"
   },
   {
    "duration": 12,
    "start_time": "2023-03-01T09:52:06.461Z"
   },
   {
    "duration": 59,
    "start_time": "2023-03-01T09:52:06.475Z"
   },
   {
    "duration": 8,
    "start_time": "2023-03-01T09:52:06.536Z"
   },
   {
    "duration": 34,
    "start_time": "2023-03-01T09:52:06.545Z"
   },
   {
    "duration": 63,
    "start_time": "2023-03-01T09:52:06.581Z"
   },
   {
    "duration": 87,
    "start_time": "2023-03-01T09:52:06.645Z"
   },
   {
    "duration": 137,
    "start_time": "2023-03-01T09:52:06.734Z"
   },
   {
    "duration": 39,
    "start_time": "2023-03-01T09:52:06.874Z"
   },
   {
    "duration": 19,
    "start_time": "2023-03-01T09:52:06.915Z"
   },
   {
    "duration": 19,
    "start_time": "2023-03-01T09:52:06.935Z"
   },
   {
    "duration": 17,
    "start_time": "2023-03-01T09:52:06.956Z"
   },
   {
    "duration": 17,
    "start_time": "2023-03-01T09:52:06.990Z"
   },
   {
    "duration": 21,
    "start_time": "2023-03-01T09:52:07.009Z"
   },
   {
    "duration": 20,
    "start_time": "2023-03-01T09:52:07.033Z"
   },
   {
    "duration": 40,
    "start_time": "2023-03-01T09:52:07.055Z"
   },
   {
    "duration": 136,
    "start_time": "2023-03-01T09:52:07.097Z"
   },
   {
    "duration": 72,
    "start_time": "2023-03-01T09:52:07.234Z"
   },
   {
    "duration": 11,
    "start_time": "2023-03-01T09:52:07.308Z"
   },
   {
    "duration": 79,
    "start_time": "2023-03-01T09:52:07.323Z"
   },
   {
    "duration": 16,
    "start_time": "2023-03-01T09:52:07.403Z"
   },
   {
    "duration": 9,
    "start_time": "2023-03-01T09:52:07.421Z"
   },
   {
    "duration": 4,
    "start_time": "2023-03-01T09:52:07.432Z"
   },
   {
    "duration": 3,
    "start_time": "2023-03-01T09:52:07.438Z"
   },
   {
    "duration": 255,
    "start_time": "2023-03-01T09:52:07.443Z"
   },
   {
    "duration": 91,
    "start_time": "2023-03-01T09:52:07.700Z"
   },
   {
    "duration": 98,
    "start_time": "2023-03-01T09:52:07.793Z"
   },
   {
    "duration": 47,
    "start_time": "2023-03-01T09:52:07.893Z"
   },
   {
    "duration": 260,
    "start_time": "2023-03-01T09:52:07.942Z"
   },
   {
    "duration": 35,
    "start_time": "2023-03-01T09:52:08.204Z"
   },
   {
    "duration": 60,
    "start_time": "2023-03-01T09:52:08.241Z"
   },
   {
    "duration": 106,
    "start_time": "2023-03-01T09:52:08.302Z"
   },
   {
    "duration": 11,
    "start_time": "2023-03-01T09:52:08.410Z"
   },
   {
    "duration": 7,
    "start_time": "2023-03-01T09:52:08.423Z"
   },
   {
    "duration": 65,
    "start_time": "2023-03-01T09:52:08.431Z"
   },
   {
    "duration": 4,
    "start_time": "2023-03-01T09:52:08.499Z"
   },
   {
    "duration": 17,
    "start_time": "2023-03-01T09:52:08.505Z"
   },
   {
    "duration": 37,
    "start_time": "2023-03-01T09:52:08.524Z"
   },
   {
    "duration": 6,
    "start_time": "2023-03-01T09:52:08.562Z"
   },
   {
    "duration": 1506,
    "start_time": "2023-03-01T09:53:55.240Z"
   },
   {
    "duration": 873,
    "start_time": "2023-03-01T09:53:56.748Z"
   },
   {
    "duration": 144,
    "start_time": "2023-03-01T09:53:57.622Z"
   },
   {
    "duration": 316,
    "start_time": "2023-03-01T09:53:57.768Z"
   },
   {
    "duration": 1195,
    "start_time": "2023-03-01T09:53:58.087Z"
   },
   {
    "duration": 138,
    "start_time": "2023-03-01T09:53:59.284Z"
   },
   {
    "duration": 365,
    "start_time": "2023-03-01T09:53:59.424Z"
   },
   {
    "duration": 120,
    "start_time": "2023-03-01T09:53:59.791Z"
   },
   {
    "duration": 16,
    "start_time": "2023-03-01T09:53:59.913Z"
   },
   {
    "duration": 206,
    "start_time": "2023-03-01T09:53:59.930Z"
   },
   {
    "duration": 147,
    "start_time": "2023-03-01T09:54:00.138Z"
   },
   {
    "duration": 40,
    "start_time": "2023-03-01T09:54:00.291Z"
   },
   {
    "duration": 40,
    "start_time": "2023-03-01T09:54:00.333Z"
   },
   {
    "duration": 9,
    "start_time": "2023-03-01T09:54:00.395Z"
   },
   {
    "duration": 40,
    "start_time": "2023-03-01T09:54:00.406Z"
   },
   {
    "duration": 110,
    "start_time": "2023-03-01T09:54:00.447Z"
   },
   {
    "duration": 31,
    "start_time": "2023-03-01T09:54:00.559Z"
   },
   {
    "duration": 38,
    "start_time": "2023-03-01T09:54:00.592Z"
   },
   {
    "duration": 58,
    "start_time": "2023-03-01T09:54:00.632Z"
   },
   {
    "duration": 117,
    "start_time": "2023-03-01T09:54:00.692Z"
   },
   {
    "duration": 140,
    "start_time": "2023-03-01T09:54:00.811Z"
   },
   {
    "duration": 7,
    "start_time": "2023-03-01T09:54:00.953Z"
   },
   {
    "duration": 29,
    "start_time": "2023-03-01T09:54:00.962Z"
   },
   {
    "duration": 49,
    "start_time": "2023-03-01T09:54:00.993Z"
   },
   {
    "duration": 8,
    "start_time": "2023-03-01T09:54:01.043Z"
   },
   {
    "duration": 24,
    "start_time": "2023-03-01T09:54:01.053Z"
   },
   {
    "duration": 65,
    "start_time": "2023-03-01T09:54:01.079Z"
   },
   {
    "duration": 74,
    "start_time": "2023-03-01T09:54:01.145Z"
   },
   {
    "duration": 138,
    "start_time": "2023-03-01T09:54:01.221Z"
   },
   {
    "duration": 35,
    "start_time": "2023-03-01T09:54:01.361Z"
   },
   {
    "duration": 18,
    "start_time": "2023-03-01T09:54:01.397Z"
   },
   {
    "duration": 24,
    "start_time": "2023-03-01T09:54:01.416Z"
   },
   {
    "duration": 30,
    "start_time": "2023-03-01T09:54:01.442Z"
   },
   {
    "duration": 35,
    "start_time": "2023-03-01T09:54:01.474Z"
   },
   {
    "duration": 25,
    "start_time": "2023-03-01T09:54:01.511Z"
   },
   {
    "duration": 31,
    "start_time": "2023-03-01T09:54:01.537Z"
   },
   {
    "duration": 32,
    "start_time": "2023-03-01T09:54:01.570Z"
   },
   {
    "duration": 142,
    "start_time": "2023-03-01T09:54:01.603Z"
   },
   {
    "duration": 69,
    "start_time": "2023-03-01T09:54:01.746Z"
   },
   {
    "duration": 11,
    "start_time": "2023-03-01T09:54:01.817Z"
   },
   {
    "duration": 80,
    "start_time": "2023-03-01T09:54:01.833Z"
   },
   {
    "duration": 16,
    "start_time": "2023-03-01T09:54:01.915Z"
   },
   {
    "duration": 16,
    "start_time": "2023-03-01T09:54:01.933Z"
   },
   {
    "duration": 14,
    "start_time": "2023-03-01T09:54:01.951Z"
   },
   {
    "duration": 10,
    "start_time": "2023-03-01T09:54:01.967Z"
   },
   {
    "duration": 242,
    "start_time": "2023-03-01T09:54:01.978Z"
   },
   {
    "duration": 92,
    "start_time": "2023-03-01T09:54:02.222Z"
   },
   {
    "duration": 92,
    "start_time": "2023-03-01T09:54:02.316Z"
   },
   {
    "duration": 49,
    "start_time": "2023-03-01T09:54:02.410Z"
   },
   {
    "duration": 256,
    "start_time": "2023-03-01T09:54:02.460Z"
   },
   {
    "duration": 35,
    "start_time": "2023-03-01T09:54:02.717Z"
   },
   {
    "duration": 49,
    "start_time": "2023-03-01T09:54:02.754Z"
   },
   {
    "duration": 6,
    "start_time": "2023-03-01T09:54:02.990Z"
   },
   {
    "duration": 24,
    "start_time": "2023-03-01T09:54:02.998Z"
   },
   {
    "duration": 14,
    "start_time": "2023-03-01T09:54:03.024Z"
   },
   {
    "duration": 29,
    "start_time": "2023-03-01T09:54:03.040Z"
   },
   {
    "duration": 12,
    "start_time": "2023-03-01T09:54:03.071Z"
   },
   {
    "duration": 22,
    "start_time": "2023-03-01T09:54:03.085Z"
   },
   {
    "duration": 23,
    "start_time": "2023-03-01T09:54:03.109Z"
   },
   {
    "duration": 15,
    "start_time": "2023-03-01T09:54:03.134Z"
   },
   {
    "duration": 47591,
    "start_time": "2023-03-01T09:54:03.151Z"
   },
   {
    "duration": 2,
    "start_time": "2023-03-01T09:54:50.744Z"
   },
   {
    "duration": 4,
    "start_time": "2023-03-01T09:55:38.922Z"
   },
   {
    "duration": 1592,
    "start_time": "2023-03-01T10:00:08.446Z"
   },
   {
    "duration": 875,
    "start_time": "2023-03-01T10:00:10.041Z"
   },
   {
    "duration": 145,
    "start_time": "2023-03-01T10:00:10.917Z"
   },
   {
    "duration": 308,
    "start_time": "2023-03-01T10:00:11.064Z"
   },
   {
    "duration": 1202,
    "start_time": "2023-03-01T10:00:11.375Z"
   },
   {
    "duration": 143,
    "start_time": "2023-03-01T10:00:12.579Z"
   },
   {
    "duration": 354,
    "start_time": "2023-03-01T10:00:12.723Z"
   },
   {
    "duration": 99,
    "start_time": "2023-03-01T10:00:13.078Z"
   },
   {
    "duration": 24,
    "start_time": "2023-03-01T10:00:13.179Z"
   },
   {
    "duration": 193,
    "start_time": "2023-03-01T10:00:13.204Z"
   },
   {
    "duration": 149,
    "start_time": "2023-03-01T10:00:13.399Z"
   },
   {
    "duration": 47,
    "start_time": "2023-03-01T10:00:13.550Z"
   },
   {
    "duration": 40,
    "start_time": "2023-03-01T10:00:13.599Z"
   },
   {
    "duration": 9,
    "start_time": "2023-03-01T10:00:13.642Z"
   },
   {
    "duration": 40,
    "start_time": "2023-03-01T10:00:13.652Z"
   },
   {
    "duration": 110,
    "start_time": "2023-03-01T10:00:13.693Z"
   },
   {
    "duration": 30,
    "start_time": "2023-03-01T10:00:13.805Z"
   },
   {
    "duration": 26,
    "start_time": "2023-03-01T10:00:13.838Z"
   },
   {
    "duration": 46,
    "start_time": "2023-03-01T10:00:13.866Z"
   },
   {
    "duration": 124,
    "start_time": "2023-03-01T10:00:13.913Z"
   },
   {
    "duration": 135,
    "start_time": "2023-03-01T10:00:14.038Z"
   },
   {
    "duration": 6,
    "start_time": "2023-03-01T10:00:14.175Z"
   },
   {
    "duration": 13,
    "start_time": "2023-03-01T10:00:14.182Z"
   },
   {
    "duration": 43,
    "start_time": "2023-03-01T10:00:14.197Z"
   },
   {
    "duration": 7,
    "start_time": "2023-03-01T10:00:14.241Z"
   },
   {
    "duration": 41,
    "start_time": "2023-03-01T10:00:14.250Z"
   },
   {
    "duration": 53,
    "start_time": "2023-03-01T10:00:14.293Z"
   },
   {
    "duration": 104,
    "start_time": "2023-03-01T10:00:14.347Z"
   },
   {
    "duration": 140,
    "start_time": "2023-03-01T10:00:14.453Z"
   },
   {
    "duration": 28,
    "start_time": "2023-03-01T10:00:14.595Z"
   },
   {
    "duration": 32,
    "start_time": "2023-03-01T10:00:14.625Z"
   },
   {
    "duration": 37,
    "start_time": "2023-03-01T10:00:14.659Z"
   },
   {
    "duration": 26,
    "start_time": "2023-03-01T10:00:14.698Z"
   },
   {
    "duration": 31,
    "start_time": "2023-03-01T10:00:14.726Z"
   },
   {
    "duration": 21,
    "start_time": "2023-03-01T10:00:14.758Z"
   },
   {
    "duration": 15,
    "start_time": "2023-03-01T10:00:14.792Z"
   },
   {
    "duration": 17,
    "start_time": "2023-03-01T10:00:14.809Z"
   },
   {
    "duration": 158,
    "start_time": "2023-03-01T10:00:14.827Z"
   },
   {
    "duration": 69,
    "start_time": "2023-03-01T10:00:14.989Z"
   },
   {
    "duration": 12,
    "start_time": "2023-03-01T10:00:15.059Z"
   },
   {
    "duration": 61,
    "start_time": "2023-03-01T10:00:15.091Z"
   },
   {
    "duration": 19,
    "start_time": "2023-03-01T10:00:15.153Z"
   },
   {
    "duration": 25,
    "start_time": "2023-03-01T10:00:15.174Z"
   },
   {
    "duration": 5,
    "start_time": "2023-03-01T10:00:15.200Z"
   },
   {
    "duration": 6,
    "start_time": "2023-03-01T10:00:15.207Z"
   },
   {
    "duration": 246,
    "start_time": "2023-03-01T10:00:15.215Z"
   },
   {
    "duration": 88,
    "start_time": "2023-03-01T10:00:15.463Z"
   },
   {
    "duration": 94,
    "start_time": "2023-03-01T10:00:15.553Z"
   },
   {
    "duration": 59,
    "start_time": "2023-03-01T10:00:15.649Z"
   },
   {
    "duration": 260,
    "start_time": "2023-03-01T10:00:15.709Z"
   },
   {
    "duration": 57,
    "start_time": "2023-03-01T10:00:15.971Z"
   },
   {
    "duration": 161,
    "start_time": "2023-03-01T10:00:16.031Z"
   },
   {
    "duration": 17,
    "start_time": "2023-03-01T10:00:16.195Z"
   },
   {
    "duration": 16,
    "start_time": "2023-03-01T10:00:16.214Z"
   },
   {
    "duration": 23,
    "start_time": "2023-03-01T10:00:16.233Z"
   },
   {
    "duration": 27,
    "start_time": "2023-03-01T10:00:16.258Z"
   },
   {
    "duration": 32,
    "start_time": "2023-03-01T10:00:16.286Z"
   },
   {
    "duration": 20,
    "start_time": "2023-03-01T10:00:16.320Z"
   },
   {
    "duration": 14,
    "start_time": "2023-03-01T10:00:16.342Z"
   },
   {
    "duration": 30,
    "start_time": "2023-03-01T10:00:16.358Z"
   },
   {
    "duration": 168,
    "start_time": "2023-03-01T10:00:16.390Z"
   },
   {
    "duration": 0,
    "start_time": "2023-03-01T10:00:16.560Z"
   },
   {
    "duration": 1544,
    "start_time": "2023-03-01T10:01:22.463Z"
   },
   {
    "duration": 856,
    "start_time": "2023-03-01T10:01:24.008Z"
   },
   {
    "duration": 163,
    "start_time": "2023-03-01T10:01:24.866Z"
   },
   {
    "duration": 317,
    "start_time": "2023-03-01T10:01:25.032Z"
   },
   {
    "duration": 1292,
    "start_time": "2023-03-01T10:01:25.351Z"
   },
   {
    "duration": 138,
    "start_time": "2023-03-01T10:01:26.644Z"
   },
   {
    "duration": 346,
    "start_time": "2023-03-01T10:01:26.791Z"
   },
   {
    "duration": 94,
    "start_time": "2023-03-01T10:01:27.138Z"
   },
   {
    "duration": 26,
    "start_time": "2023-03-01T10:01:27.233Z"
   },
   {
    "duration": 198,
    "start_time": "2023-03-01T10:01:27.261Z"
   },
   {
    "duration": 164,
    "start_time": "2023-03-01T10:01:27.461Z"
   },
   {
    "duration": 41,
    "start_time": "2023-03-01T10:01:27.627Z"
   },
   {
    "duration": 56,
    "start_time": "2023-03-01T10:01:27.670Z"
   },
   {
    "duration": 10,
    "start_time": "2023-03-01T10:01:27.728Z"
   },
   {
    "duration": 29,
    "start_time": "2023-03-01T10:01:27.739Z"
   },
   {
    "duration": 116,
    "start_time": "2023-03-01T10:01:27.770Z"
   },
   {
    "duration": 23,
    "start_time": "2023-03-01T10:01:27.888Z"
   },
   {
    "duration": 38,
    "start_time": "2023-03-01T10:01:27.913Z"
   },
   {
    "duration": 40,
    "start_time": "2023-03-01T10:01:27.953Z"
   },
   {
    "duration": 116,
    "start_time": "2023-03-01T10:01:27.995Z"
   },
   {
    "duration": 132,
    "start_time": "2023-03-01T10:01:28.112Z"
   },
   {
    "duration": 6,
    "start_time": "2023-03-01T10:01:28.246Z"
   },
   {
    "duration": 5,
    "start_time": "2023-03-01T10:01:28.253Z"
   },
   {
    "duration": 57,
    "start_time": "2023-03-01T10:01:28.260Z"
   },
   {
    "duration": 6,
    "start_time": "2023-03-01T10:01:28.319Z"
   },
   {
    "duration": 30,
    "start_time": "2023-03-01T10:01:28.326Z"
   },
   {
    "duration": 58,
    "start_time": "2023-03-01T10:01:28.357Z"
   },
   {
    "duration": 95,
    "start_time": "2023-03-01T10:01:28.419Z"
   },
   {
    "duration": 151,
    "start_time": "2023-03-01T10:01:28.515Z"
   },
   {
    "duration": 41,
    "start_time": "2023-03-01T10:01:28.669Z"
   },
   {
    "duration": 19,
    "start_time": "2023-03-01T10:01:28.712Z"
   },
   {
    "duration": 21,
    "start_time": "2023-03-01T10:01:28.733Z"
   },
   {
    "duration": 35,
    "start_time": "2023-03-01T10:01:28.756Z"
   },
   {
    "duration": 18,
    "start_time": "2023-03-01T10:01:28.793Z"
   },
   {
    "duration": 22,
    "start_time": "2023-03-01T10:01:28.813Z"
   },
   {
    "duration": 25,
    "start_time": "2023-03-01T10:01:28.837Z"
   },
   {
    "duration": 29,
    "start_time": "2023-03-01T10:01:28.864Z"
   },
   {
    "duration": 158,
    "start_time": "2023-03-01T10:01:28.894Z"
   },
   {
    "duration": 78,
    "start_time": "2023-03-01T10:01:29.053Z"
   },
   {
    "duration": 12,
    "start_time": "2023-03-01T10:01:29.133Z"
   },
   {
    "duration": 84,
    "start_time": "2023-03-01T10:01:29.147Z"
   },
   {
    "duration": 20,
    "start_time": "2023-03-01T10:01:29.233Z"
   },
   {
    "duration": 15,
    "start_time": "2023-03-01T10:01:29.255Z"
   },
   {
    "duration": 22,
    "start_time": "2023-03-01T10:01:29.272Z"
   },
   {
    "duration": 5,
    "start_time": "2023-03-01T10:01:29.296Z"
   },
   {
    "duration": 279,
    "start_time": "2023-03-01T10:01:29.302Z"
   },
   {
    "duration": 88,
    "start_time": "2023-03-01T10:01:29.583Z"
   },
   {
    "duration": 91,
    "start_time": "2023-03-01T10:01:29.673Z"
   },
   {
    "duration": 60,
    "start_time": "2023-03-01T10:01:29.766Z"
   },
   {
    "duration": 270,
    "start_time": "2023-03-01T10:01:29.828Z"
   },
   {
    "duration": 37,
    "start_time": "2023-03-01T10:01:30.099Z"
   },
   {
    "duration": 62,
    "start_time": "2023-03-01T10:01:30.138Z"
   },
   {
    "duration": 94,
    "start_time": "2023-03-01T10:01:30.201Z"
   },
   {
    "duration": 22,
    "start_time": "2023-03-01T10:01:30.297Z"
   },
   {
    "duration": 20,
    "start_time": "2023-03-01T10:01:30.321Z"
   },
   {
    "duration": 25,
    "start_time": "2023-03-01T10:01:30.342Z"
   },
   {
    "duration": 27,
    "start_time": "2023-03-01T10:01:30.369Z"
   },
   {
    "duration": 26,
    "start_time": "2023-03-01T10:01:30.398Z"
   },
   {
    "duration": 16,
    "start_time": "2023-03-01T10:01:30.426Z"
   },
   {
    "duration": 38,
    "start_time": "2023-03-01T10:01:30.443Z"
   },
   {
    "duration": 1447,
    "start_time": "2023-03-01T10:45:38.665Z"
   },
   {
    "duration": 845,
    "start_time": "2023-03-01T10:45:40.114Z"
   },
   {
    "duration": 149,
    "start_time": "2023-03-01T10:45:40.961Z"
   },
   {
    "duration": 307,
    "start_time": "2023-03-01T10:45:41.112Z"
   },
   {
    "duration": 1274,
    "start_time": "2023-03-01T10:45:41.422Z"
   },
   {
    "duration": 159,
    "start_time": "2023-03-01T10:45:42.697Z"
   },
   {
    "duration": 355,
    "start_time": "2023-03-01T10:45:42.857Z"
   },
   {
    "duration": 97,
    "start_time": "2023-03-01T10:45:43.213Z"
   },
   {
    "duration": 14,
    "start_time": "2023-03-01T10:45:43.311Z"
   },
   {
    "duration": 195,
    "start_time": "2023-03-01T10:45:43.326Z"
   },
   {
    "duration": 141,
    "start_time": "2023-03-01T10:45:43.522Z"
   },
   {
    "duration": 47,
    "start_time": "2023-03-01T10:45:43.665Z"
   },
   {
    "duration": 39,
    "start_time": "2023-03-01T10:45:43.713Z"
   },
   {
    "duration": 9,
    "start_time": "2023-03-01T10:45:43.755Z"
   },
   {
    "duration": 34,
    "start_time": "2023-03-01T10:45:43.766Z"
   },
   {
    "duration": 114,
    "start_time": "2023-03-01T10:45:43.802Z"
   },
   {
    "duration": 18,
    "start_time": "2023-03-01T10:45:43.918Z"
   },
   {
    "duration": 21,
    "start_time": "2023-03-01T10:45:43.938Z"
   },
   {
    "duration": 51,
    "start_time": "2023-03-01T10:45:43.960Z"
   },
   {
    "duration": 124,
    "start_time": "2023-03-01T10:45:44.012Z"
   },
   {
    "duration": 127,
    "start_time": "2023-03-01T10:45:44.138Z"
   },
   {
    "duration": 6,
    "start_time": "2023-03-01T10:45:44.266Z"
   },
   {
    "duration": 19,
    "start_time": "2023-03-01T10:45:44.273Z"
   },
   {
    "duration": 40,
    "start_time": "2023-03-01T10:45:44.294Z"
   },
   {
    "duration": 6,
    "start_time": "2023-03-01T10:45:44.335Z"
   },
   {
    "duration": 18,
    "start_time": "2023-03-01T10:45:44.343Z"
   },
   {
    "duration": 71,
    "start_time": "2023-03-01T10:45:44.363Z"
   },
   {
    "duration": 84,
    "start_time": "2023-03-01T10:45:44.435Z"
   },
   {
    "duration": 131,
    "start_time": "2023-03-01T10:45:44.521Z"
   },
   {
    "duration": 37,
    "start_time": "2023-03-01T10:45:44.654Z"
   },
   {
    "duration": 18,
    "start_time": "2023-03-01T10:45:44.693Z"
   },
   {
    "duration": 18,
    "start_time": "2023-03-01T10:45:44.713Z"
   },
   {
    "duration": 18,
    "start_time": "2023-03-01T10:45:44.733Z"
   },
   {
    "duration": 39,
    "start_time": "2023-03-01T10:45:44.752Z"
   },
   {
    "duration": 17,
    "start_time": "2023-03-01T10:45:44.793Z"
   },
   {
    "duration": 16,
    "start_time": "2023-03-01T10:45:44.811Z"
   },
   {
    "duration": 18,
    "start_time": "2023-03-01T10:45:44.829Z"
   },
   {
    "duration": 169,
    "start_time": "2023-03-01T10:45:44.848Z"
   },
   {
    "duration": 87,
    "start_time": "2023-03-01T10:45:45.019Z"
   },
   {
    "duration": 11,
    "start_time": "2023-03-01T10:45:45.108Z"
   },
   {
    "duration": 79,
    "start_time": "2023-03-01T10:45:45.123Z"
   },
   {
    "duration": 17,
    "start_time": "2023-03-01T10:45:45.204Z"
   },
   {
    "duration": 13,
    "start_time": "2023-03-01T10:45:45.222Z"
   },
   {
    "duration": 10,
    "start_time": "2023-03-01T10:45:45.237Z"
   },
   {
    "duration": 11,
    "start_time": "2023-03-01T10:45:45.248Z"
   },
   {
    "duration": 245,
    "start_time": "2023-03-01T10:45:45.260Z"
   },
   {
    "duration": 92,
    "start_time": "2023-03-01T10:45:45.507Z"
   },
   {
    "duration": 79,
    "start_time": "2023-03-01T10:45:45.601Z"
   },
   {
    "duration": 58,
    "start_time": "2023-03-01T10:45:45.682Z"
   },
   {
    "duration": 284,
    "start_time": "2023-03-01T10:45:45.742Z"
   },
   {
    "duration": 4,
    "start_time": "2023-03-01T10:45:46.027Z"
   },
   {
    "duration": 62,
    "start_time": "2023-03-01T10:45:46.032Z"
   },
   {
    "duration": 97,
    "start_time": "2023-03-01T10:45:46.096Z"
   },
   {
    "duration": 102,
    "start_time": "2023-03-01T10:45:46.196Z"
   },
   {
    "duration": 10,
    "start_time": "2023-03-01T10:45:46.301Z"
   },
   {
    "duration": 4,
    "start_time": "2023-03-01T10:45:46.312Z"
   },
   {
    "duration": 4,
    "start_time": "2023-03-01T10:45:46.318Z"
   },
   {
    "duration": 1552,
    "start_time": "2023-03-01T10:50:23.158Z"
   },
   {
    "duration": 864,
    "start_time": "2023-03-01T10:50:24.712Z"
   },
   {
    "duration": 144,
    "start_time": "2023-03-01T10:50:25.578Z"
   },
   {
    "duration": 319,
    "start_time": "2023-03-01T10:50:25.724Z"
   },
   {
    "duration": 1306,
    "start_time": "2023-03-01T10:50:26.045Z"
   },
   {
    "duration": 150,
    "start_time": "2023-03-01T10:50:27.353Z"
   },
   {
    "duration": 386,
    "start_time": "2023-03-01T10:50:27.505Z"
   },
   {
    "duration": 101,
    "start_time": "2023-03-01T10:50:27.893Z"
   },
   {
    "duration": 13,
    "start_time": "2023-03-01T10:50:27.996Z"
   },
   {
    "duration": 190,
    "start_time": "2023-03-01T10:50:28.010Z"
   },
   {
    "duration": 151,
    "start_time": "2023-03-01T10:50:28.201Z"
   },
   {
    "duration": 43,
    "start_time": "2023-03-01T10:50:28.354Z"
   },
   {
    "duration": 42,
    "start_time": "2023-03-01T10:50:28.399Z"
   },
   {
    "duration": 13,
    "start_time": "2023-03-01T10:50:28.445Z"
   },
   {
    "duration": 46,
    "start_time": "2023-03-01T10:50:28.460Z"
   },
   {
    "duration": 121,
    "start_time": "2023-03-01T10:50:28.508Z"
   },
   {
    "duration": 22,
    "start_time": "2023-03-01T10:50:28.631Z"
   },
   {
    "duration": 35,
    "start_time": "2023-03-01T10:50:28.656Z"
   },
   {
    "duration": 35,
    "start_time": "2023-03-01T10:50:28.693Z"
   },
   {
    "duration": 134,
    "start_time": "2023-03-01T10:50:28.730Z"
   },
   {
    "duration": 136,
    "start_time": "2023-03-01T10:50:28.866Z"
   },
   {
    "duration": 6,
    "start_time": "2023-03-01T10:50:29.003Z"
   },
   {
    "duration": 7,
    "start_time": "2023-03-01T10:50:29.011Z"
   },
   {
    "duration": 41,
    "start_time": "2023-03-01T10:50:29.020Z"
   },
   {
    "duration": 31,
    "start_time": "2023-03-01T10:50:29.063Z"
   },
   {
    "duration": 19,
    "start_time": "2023-03-01T10:50:29.096Z"
   },
   {
    "duration": 52,
    "start_time": "2023-03-01T10:50:29.116Z"
   },
   {
    "duration": 87,
    "start_time": "2023-03-01T10:50:29.169Z"
   },
   {
    "duration": 147,
    "start_time": "2023-03-01T10:50:29.258Z"
   },
   {
    "duration": 26,
    "start_time": "2023-03-01T10:50:29.407Z"
   },
   {
    "duration": 19,
    "start_time": "2023-03-01T10:50:29.435Z"
   },
   {
    "duration": 40,
    "start_time": "2023-03-01T10:50:29.456Z"
   },
   {
    "duration": 18,
    "start_time": "2023-03-01T10:50:29.498Z"
   },
   {
    "duration": 16,
    "start_time": "2023-03-01T10:50:29.518Z"
   },
   {
    "duration": 19,
    "start_time": "2023-03-01T10:50:29.535Z"
   },
   {
    "duration": 37,
    "start_time": "2023-03-01T10:50:29.555Z"
   },
   {
    "duration": 15,
    "start_time": "2023-03-01T10:50:29.594Z"
   },
   {
    "duration": 152,
    "start_time": "2023-03-01T10:50:29.611Z"
   },
   {
    "duration": 69,
    "start_time": "2023-03-01T10:50:29.765Z"
   },
   {
    "duration": 12,
    "start_time": "2023-03-01T10:50:29.836Z"
   },
   {
    "duration": 85,
    "start_time": "2023-03-01T10:50:29.853Z"
   },
   {
    "duration": 17,
    "start_time": "2023-03-01T10:50:29.939Z"
   },
   {
    "duration": 9,
    "start_time": "2023-03-01T10:50:29.958Z"
   },
   {
    "duration": 25,
    "start_time": "2023-03-01T10:50:29.968Z"
   },
   {
    "duration": 5,
    "start_time": "2023-03-01T10:50:29.995Z"
   },
   {
    "duration": 253,
    "start_time": "2023-03-01T10:50:30.001Z"
   },
   {
    "duration": 89,
    "start_time": "2023-03-01T10:50:30.256Z"
   },
   {
    "duration": 97,
    "start_time": "2023-03-01T10:50:30.347Z"
   },
   {
    "duration": 58,
    "start_time": "2023-03-01T10:50:30.446Z"
   },
   {
    "duration": 259,
    "start_time": "2023-03-01T10:50:30.505Z"
   },
   {
    "duration": 4,
    "start_time": "2023-03-01T10:50:30.766Z"
   },
   {
    "duration": 76,
    "start_time": "2023-03-01T10:50:30.771Z"
   },
   {
    "duration": 48,
    "start_time": "2023-03-01T10:50:30.849Z"
   },
   {
    "duration": 109,
    "start_time": "2023-03-01T10:50:30.902Z"
   },
   {
    "duration": 19,
    "start_time": "2023-03-01T10:50:31.013Z"
   },
   {
    "duration": 31,
    "start_time": "2023-03-01T10:50:31.033Z"
   },
   {
    "duration": 1461,
    "start_time": "2023-03-01T11:38:50.882Z"
   },
   {
    "duration": 825,
    "start_time": "2023-03-01T11:38:52.345Z"
   },
   {
    "duration": 144,
    "start_time": "2023-03-01T11:38:53.172Z"
   },
   {
    "duration": 302,
    "start_time": "2023-03-01T11:38:53.318Z"
   },
   {
    "duration": 1187,
    "start_time": "2023-03-01T11:38:53.622Z"
   },
   {
    "duration": 160,
    "start_time": "2023-03-01T11:38:54.811Z"
   },
   {
    "duration": 366,
    "start_time": "2023-03-01T11:38:54.973Z"
   },
   {
    "duration": 103,
    "start_time": "2023-03-01T11:38:55.341Z"
   },
   {
    "duration": 14,
    "start_time": "2023-03-01T11:38:55.446Z"
   },
   {
    "duration": 193,
    "start_time": "2023-03-01T11:38:55.461Z"
   },
   {
    "duration": 149,
    "start_time": "2023-03-01T11:38:55.656Z"
   },
   {
    "duration": 45,
    "start_time": "2023-03-01T11:38:55.807Z"
   },
   {
    "duration": 55,
    "start_time": "2023-03-01T11:38:55.854Z"
   },
   {
    "duration": 9,
    "start_time": "2023-03-01T11:38:55.914Z"
   },
   {
    "duration": 20,
    "start_time": "2023-03-01T11:38:55.925Z"
   },
   {
    "duration": 120,
    "start_time": "2023-03-01T11:38:55.947Z"
   },
   {
    "duration": 26,
    "start_time": "2023-03-01T11:38:56.069Z"
   },
   {
    "duration": 23,
    "start_time": "2023-03-01T11:38:56.097Z"
   },
   {
    "duration": 32,
    "start_time": "2023-03-01T11:38:56.122Z"
   },
   {
    "duration": 150,
    "start_time": "2023-03-01T11:38:56.155Z"
   },
   {
    "duration": 162,
    "start_time": "2023-03-01T11:38:56.309Z"
   },
   {
    "duration": 19,
    "start_time": "2023-03-01T11:38:56.473Z"
   },
   {
    "duration": 6,
    "start_time": "2023-03-01T11:38:56.494Z"
   },
   {
    "duration": 61,
    "start_time": "2023-03-01T11:38:56.503Z"
   },
   {
    "duration": 7,
    "start_time": "2023-03-01T11:38:56.567Z"
   },
   {
    "duration": 26,
    "start_time": "2023-03-01T11:38:56.577Z"
   },
   {
    "duration": 49,
    "start_time": "2023-03-01T11:38:56.605Z"
   },
   {
    "duration": 84,
    "start_time": "2023-03-01T11:38:56.656Z"
   },
   {
    "duration": 130,
    "start_time": "2023-03-01T11:38:56.741Z"
   },
   {
    "duration": 34,
    "start_time": "2023-03-01T11:38:56.872Z"
   },
   {
    "duration": 18,
    "start_time": "2023-03-01T11:38:56.907Z"
   },
   {
    "duration": 32,
    "start_time": "2023-03-01T11:38:56.926Z"
   },
   {
    "duration": 37,
    "start_time": "2023-03-01T11:38:56.959Z"
   },
   {
    "duration": 25,
    "start_time": "2023-03-01T11:38:56.998Z"
   },
   {
    "duration": 24,
    "start_time": "2023-03-01T11:38:57.024Z"
   },
   {
    "duration": 28,
    "start_time": "2023-03-01T11:38:57.050Z"
   },
   {
    "duration": 29,
    "start_time": "2023-03-01T11:38:57.080Z"
   },
   {
    "duration": 151,
    "start_time": "2023-03-01T11:38:57.111Z"
   },
   {
    "duration": 85,
    "start_time": "2023-03-01T11:38:57.265Z"
   },
   {
    "duration": 11,
    "start_time": "2023-03-01T11:38:57.352Z"
   },
   {
    "duration": 70,
    "start_time": "2023-03-01T11:38:57.391Z"
   },
   {
    "duration": 16,
    "start_time": "2023-03-01T11:38:57.463Z"
   },
   {
    "duration": 20,
    "start_time": "2023-03-01T11:38:57.491Z"
   },
   {
    "duration": 11,
    "start_time": "2023-03-01T11:38:57.514Z"
   },
   {
    "duration": 30,
    "start_time": "2023-03-01T11:38:57.526Z"
   },
   {
    "duration": 233,
    "start_time": "2023-03-01T11:38:57.558Z"
   },
   {
    "duration": 90,
    "start_time": "2023-03-01T11:38:57.793Z"
   },
   {
    "duration": 87,
    "start_time": "2023-03-01T11:38:57.884Z"
   },
   {
    "duration": 61,
    "start_time": "2023-03-01T11:38:57.973Z"
   },
   {
    "duration": 255,
    "start_time": "2023-03-01T11:38:58.036Z"
   },
   {
    "duration": 3,
    "start_time": "2023-03-01T11:38:58.293Z"
   },
   {
    "duration": 59,
    "start_time": "2023-03-01T11:38:58.298Z"
   },
   {
    "duration": 136,
    "start_time": "2023-03-01T11:38:58.358Z"
   },
   {
    "duration": 50,
    "start_time": "2023-03-01T11:38:58.496Z"
   },
   {
    "duration": 43,
    "start_time": "2023-03-01T11:38:58.548Z"
   },
   {
    "duration": 28,
    "start_time": "2023-03-01T11:38:58.594Z"
   },
   {
    "duration": 22563,
    "start_time": "2023-03-01T11:38:58.624Z"
   },
   {
    "duration": 4,
    "start_time": "2023-03-01T11:39:21.189Z"
   },
   {
    "duration": 5,
    "start_time": "2023-03-01T11:39:21.194Z"
   },
   {
    "duration": 8,
    "start_time": "2023-03-01T11:39:21.200Z"
   },
   {
    "duration": 145,
    "start_time": "2023-03-01T11:39:21.210Z"
   },
   {
    "duration": 0,
    "start_time": "2023-03-01T11:39:21.357Z"
   },
   {
    "duration": 0,
    "start_time": "2023-03-01T11:39:21.359Z"
   },
   {
    "duration": 0,
    "start_time": "2023-03-01T11:39:21.360Z"
   },
   {
    "duration": 0,
    "start_time": "2023-03-01T11:39:21.361Z"
   },
   {
    "duration": 3,
    "start_time": "2023-03-01T11:40:17.958Z"
   },
   {
    "duration": 34225,
    "start_time": "2023-03-01T11:40:19.340Z"
   },
   {
    "duration": 4,
    "start_time": "2023-03-01T11:41:16.802Z"
   },
   {
    "duration": 2,
    "start_time": "2023-03-01T11:41:31.055Z"
   },
   {
    "duration": 46504,
    "start_time": "2023-03-01T11:41:32.089Z"
   },
   {
    "duration": 4,
    "start_time": "2023-03-01T11:43:47.654Z"
   },
   {
    "duration": 1365,
    "start_time": "2023-03-01T11:44:40.104Z"
   },
   {
    "duration": 769,
    "start_time": "2023-03-01T11:44:41.471Z"
   },
   {
    "duration": 125,
    "start_time": "2023-03-01T11:44:42.241Z"
   },
   {
    "duration": 285,
    "start_time": "2023-03-01T11:44:42.368Z"
   },
   {
    "duration": 1065,
    "start_time": "2023-03-01T11:44:42.654Z"
   },
   {
    "duration": 136,
    "start_time": "2023-03-01T11:44:43.721Z"
   },
   {
    "duration": 337,
    "start_time": "2023-03-01T11:44:43.859Z"
   },
   {
    "duration": 100,
    "start_time": "2023-03-01T11:44:44.198Z"
   },
   {
    "duration": 15,
    "start_time": "2023-03-01T11:44:44.299Z"
   },
   {
    "duration": 189,
    "start_time": "2023-03-01T11:44:44.317Z"
   },
   {
    "duration": 143,
    "start_time": "2023-03-01T11:44:44.507Z"
   },
   {
    "duration": 46,
    "start_time": "2023-03-01T11:44:44.652Z"
   },
   {
    "duration": 39,
    "start_time": "2023-03-01T11:44:44.700Z"
   },
   {
    "duration": 9,
    "start_time": "2023-03-01T11:44:44.741Z"
   },
   {
    "duration": 40,
    "start_time": "2023-03-01T11:44:44.752Z"
   },
   {
    "duration": 110,
    "start_time": "2023-03-01T11:44:44.793Z"
   },
   {
    "duration": 21,
    "start_time": "2023-03-01T11:44:44.906Z"
   },
   {
    "duration": 19,
    "start_time": "2023-03-01T11:44:44.929Z"
   },
   {
    "duration": 44,
    "start_time": "2023-03-01T11:44:44.950Z"
   },
   {
    "duration": 109,
    "start_time": "2023-03-01T11:44:44.995Z"
   },
   {
    "duration": 132,
    "start_time": "2023-03-01T11:44:45.106Z"
   },
   {
    "duration": 7,
    "start_time": "2023-03-01T11:44:45.239Z"
   },
   {
    "duration": 9,
    "start_time": "2023-03-01T11:44:45.247Z"
   },
   {
    "duration": 53,
    "start_time": "2023-03-01T11:44:45.258Z"
   },
   {
    "duration": 6,
    "start_time": "2023-03-01T11:44:45.312Z"
   },
   {
    "duration": 21,
    "start_time": "2023-03-01T11:44:45.320Z"
   },
   {
    "duration": 59,
    "start_time": "2023-03-01T11:44:45.343Z"
   },
   {
    "duration": 84,
    "start_time": "2023-03-01T11:44:45.407Z"
   },
   {
    "duration": 135,
    "start_time": "2023-03-01T11:44:45.493Z"
   },
   {
    "duration": 24,
    "start_time": "2023-03-01T11:44:45.630Z"
   },
   {
    "duration": 17,
    "start_time": "2023-03-01T11:44:45.656Z"
   },
   {
    "duration": 31,
    "start_time": "2023-03-01T11:44:45.675Z"
   },
   {
    "duration": 19,
    "start_time": "2023-03-01T11:44:45.708Z"
   },
   {
    "duration": 16,
    "start_time": "2023-03-01T11:44:45.729Z"
   },
   {
    "duration": 18,
    "start_time": "2023-03-01T11:44:45.747Z"
   },
   {
    "duration": 34,
    "start_time": "2023-03-01T11:44:45.766Z"
   },
   {
    "duration": 16,
    "start_time": "2023-03-01T11:44:45.802Z"
   },
   {
    "duration": 158,
    "start_time": "2023-03-01T11:44:45.820Z"
   },
   {
    "duration": 65,
    "start_time": "2023-03-01T11:44:45.980Z"
   },
   {
    "duration": 10,
    "start_time": "2023-03-01T11:44:46.047Z"
   },
   {
    "duration": 73,
    "start_time": "2023-03-01T11:44:46.058Z"
   },
   {
    "duration": 15,
    "start_time": "2023-03-01T11:44:46.133Z"
   },
   {
    "duration": 8,
    "start_time": "2023-03-01T11:44:46.149Z"
   },
   {
    "duration": 4,
    "start_time": "2023-03-01T11:44:46.158Z"
   },
   {
    "duration": 4,
    "start_time": "2023-03-01T11:44:46.163Z"
   },
   {
    "duration": 263,
    "start_time": "2023-03-01T11:44:46.191Z"
   },
   {
    "duration": 108,
    "start_time": "2023-03-01T11:44:46.456Z"
   },
   {
    "duration": 104,
    "start_time": "2023-03-01T11:44:46.566Z"
   },
   {
    "duration": 67,
    "start_time": "2023-03-01T11:44:46.672Z"
   },
   {
    "duration": 235,
    "start_time": "2023-03-01T11:44:46.741Z"
   },
   {
    "duration": 3,
    "start_time": "2023-03-01T11:44:46.978Z"
   },
   {
    "duration": 40,
    "start_time": "2023-03-01T11:44:46.983Z"
   },
   {
    "duration": 72,
    "start_time": "2023-03-01T11:44:47.024Z"
   },
   {
    "duration": 93,
    "start_time": "2023-03-01T11:44:47.101Z"
   },
   {
    "duration": 7,
    "start_time": "2023-03-01T11:44:47.195Z"
   },
   {
    "duration": 5,
    "start_time": "2023-03-01T11:44:47.203Z"
   },
   {
    "duration": 20563,
    "start_time": "2023-03-01T11:44:47.210Z"
   },
   {
    "duration": 3,
    "start_time": "2023-03-01T11:45:07.775Z"
   },
   {
    "duration": 15,
    "start_time": "2023-03-01T11:45:07.791Z"
   },
   {
    "duration": 15,
    "start_time": "2023-03-01T11:45:07.808Z"
   },
   {
    "duration": 125,
    "start_time": "2023-03-01T11:45:07.824Z"
   },
   {
    "duration": 0,
    "start_time": "2023-03-01T11:45:07.950Z"
   },
   {
    "duration": 0,
    "start_time": "2023-03-01T11:45:07.951Z"
   },
   {
    "duration": 0,
    "start_time": "2023-03-01T11:45:07.952Z"
   },
   {
    "duration": 0,
    "start_time": "2023-03-01T11:45:07.953Z"
   },
   {
    "duration": 0,
    "start_time": "2023-03-01T11:45:07.954Z"
   },
   {
    "duration": 52515,
    "start_time": "2023-03-01T11:46:09.201Z"
   },
   {
    "duration": 4,
    "start_time": "2023-03-01T11:57:25.421Z"
   },
   {
    "duration": 3,
    "start_time": "2023-03-01T11:57:42.751Z"
   },
   {
    "duration": 3,
    "start_time": "2023-03-01T11:57:43.277Z"
   },
   {
    "duration": 9,
    "start_time": "2023-03-01T11:57:44.697Z"
   },
   {
    "duration": 73443,
    "start_time": "2023-03-01T11:57:58.850Z"
   },
   {
    "duration": 3,
    "start_time": "2023-03-01T11:59:51.437Z"
   },
   {
    "duration": 11,
    "start_time": "2023-03-01T12:01:42.575Z"
   },
   {
    "duration": 1470,
    "start_time": "2023-03-01T12:03:33.764Z"
   },
   {
    "duration": 780,
    "start_time": "2023-03-01T12:03:35.235Z"
   },
   {
    "duration": 137,
    "start_time": "2023-03-01T12:03:36.017Z"
   },
   {
    "duration": 369,
    "start_time": "2023-03-01T12:03:36.156Z"
   },
   {
    "duration": 1119,
    "start_time": "2023-03-01T12:03:36.527Z"
   },
   {
    "duration": 143,
    "start_time": "2023-03-01T12:03:37.648Z"
   },
   {
    "duration": 332,
    "start_time": "2023-03-01T12:03:37.793Z"
   },
   {
    "duration": 92,
    "start_time": "2023-03-01T12:03:38.127Z"
   },
   {
    "duration": 14,
    "start_time": "2023-03-01T12:03:38.220Z"
   },
   {
    "duration": 223,
    "start_time": "2023-03-01T12:03:38.237Z"
   },
   {
    "duration": 161,
    "start_time": "2023-03-01T12:03:38.462Z"
   },
   {
    "duration": 39,
    "start_time": "2023-03-01T12:03:38.625Z"
   },
   {
    "duration": 54,
    "start_time": "2023-03-01T12:03:38.665Z"
   },
   {
    "duration": 9,
    "start_time": "2023-03-01T12:03:38.721Z"
   },
   {
    "duration": 17,
    "start_time": "2023-03-01T12:03:38.732Z"
   },
   {
    "duration": 112,
    "start_time": "2023-03-01T12:03:38.751Z"
   },
   {
    "duration": 18,
    "start_time": "2023-03-01T12:03:38.864Z"
   },
   {
    "duration": 25,
    "start_time": "2023-03-01T12:03:38.884Z"
   },
   {
    "duration": 31,
    "start_time": "2023-03-01T12:03:38.911Z"
   },
   {
    "duration": 128,
    "start_time": "2023-03-01T12:03:38.943Z"
   },
   {
    "duration": 119,
    "start_time": "2023-03-01T12:03:39.073Z"
   },
   {
    "duration": 5,
    "start_time": "2023-03-01T12:03:39.194Z"
   },
   {
    "duration": 9,
    "start_time": "2023-03-01T12:03:39.201Z"
   },
   {
    "duration": 50,
    "start_time": "2023-03-01T12:03:39.211Z"
   },
   {
    "duration": 6,
    "start_time": "2023-03-01T12:03:39.262Z"
   },
   {
    "duration": 29,
    "start_time": "2023-03-01T12:03:39.269Z"
   },
   {
    "duration": 65,
    "start_time": "2023-03-01T12:03:39.299Z"
   },
   {
    "duration": 68,
    "start_time": "2023-03-01T12:03:39.368Z"
   },
   {
    "duration": 129,
    "start_time": "2023-03-01T12:03:39.437Z"
   },
   {
    "duration": 33,
    "start_time": "2023-03-01T12:03:39.567Z"
   },
   {
    "duration": 18,
    "start_time": "2023-03-01T12:03:39.602Z"
   },
   {
    "duration": 18,
    "start_time": "2023-03-01T12:03:39.621Z"
   },
   {
    "duration": 16,
    "start_time": "2023-03-01T12:03:39.641Z"
   },
   {
    "duration": 36,
    "start_time": "2023-03-01T12:03:39.659Z"
   },
   {
    "duration": 21,
    "start_time": "2023-03-01T12:03:39.696Z"
   },
   {
    "duration": 15,
    "start_time": "2023-03-01T12:03:39.719Z"
   },
   {
    "duration": 15,
    "start_time": "2023-03-01T12:03:39.736Z"
   },
   {
    "duration": 149,
    "start_time": "2023-03-01T12:03:39.753Z"
   },
   {
    "duration": 64,
    "start_time": "2023-03-01T12:03:39.904Z"
   },
   {
    "duration": 22,
    "start_time": "2023-03-01T12:03:39.970Z"
   },
   {
    "duration": 59,
    "start_time": "2023-03-01T12:03:39.994Z"
   },
   {
    "duration": 16,
    "start_time": "2023-03-01T12:03:40.055Z"
   },
   {
    "duration": 9,
    "start_time": "2023-03-01T12:03:40.091Z"
   },
   {
    "duration": 4,
    "start_time": "2023-03-01T12:03:40.102Z"
   },
   {
    "duration": 7,
    "start_time": "2023-03-01T12:03:40.107Z"
   },
   {
    "duration": 233,
    "start_time": "2023-03-01T12:03:40.115Z"
   },
   {
    "duration": 79,
    "start_time": "2023-03-01T12:03:40.350Z"
   },
   {
    "duration": 92,
    "start_time": "2023-03-01T12:03:40.431Z"
   },
   {
    "duration": 48,
    "start_time": "2023-03-01T12:03:40.525Z"
   },
   {
    "duration": 248,
    "start_time": "2023-03-01T12:03:40.575Z"
   },
   {
    "duration": 3,
    "start_time": "2023-03-01T12:03:40.825Z"
   },
   {
    "duration": 38,
    "start_time": "2023-03-01T12:03:40.829Z"
   },
   {
    "duration": 9,
    "start_time": "2023-03-01T12:03:40.891Z"
   },
   {
    "duration": 192,
    "start_time": "2023-03-01T12:03:40.902Z"
   },
   {
    "duration": 6,
    "start_time": "2023-03-01T12:03:41.096Z"
   },
   {
    "duration": 6,
    "start_time": "2023-03-01T12:03:41.103Z"
   },
   {
    "duration": 214570,
    "start_time": "2023-03-01T12:03:41.110Z"
   },
   {
    "duration": 10,
    "start_time": "2023-03-01T12:07:15.681Z"
   },
   {
    "duration": 2,
    "start_time": "2023-03-01T12:07:15.693Z"
   },
   {
    "duration": 8,
    "start_time": "2023-03-01T12:07:15.696Z"
   },
   {
    "duration": 55168,
    "start_time": "2023-03-01T12:07:15.705Z"
   },
   {
    "duration": 3,
    "start_time": "2023-03-01T12:08:10.875Z"
   },
   {
    "duration": 12,
    "start_time": "2023-03-01T12:08:10.880Z"
   },
   {
    "duration": 5,
    "start_time": "2023-03-01T12:08:10.893Z"
   },
   {
    "duration": 113,
    "start_time": "2023-03-01T12:08:10.899Z"
   },
   {
    "duration": 0,
    "start_time": "2023-03-01T12:08:11.014Z"
   },
   {
    "duration": 3,
    "start_time": "2023-03-01T12:10:27.747Z"
   },
   {
    "duration": 3,
    "start_time": "2023-03-01T12:10:28.184Z"
   },
   {
    "duration": 40860,
    "start_time": "2023-03-01T12:10:29.038Z"
   },
   {
    "duration": 31069,
    "start_time": "2023-03-01T12:11:21.929Z"
   },
   {
    "duration": 13,
    "start_time": "2023-03-01T12:19:02.814Z"
   },
   {
    "duration": 35612,
    "start_time": "2023-03-01T12:19:43.286Z"
   },
   {
    "duration": 3,
    "start_time": "2023-03-01T12:21:10.106Z"
   },
   {
    "duration": 3,
    "start_time": "2023-03-01T12:21:10.786Z"
   },
   {
    "duration": 19422,
    "start_time": "2023-03-01T12:21:11.476Z"
   },
   {
    "duration": 5,
    "start_time": "2023-03-01T12:22:24.216Z"
   },
   {
    "duration": 1529,
    "start_time": "2023-03-01T12:23:18.386Z"
   },
   {
    "duration": 847,
    "start_time": "2023-03-01T12:23:19.917Z"
   },
   {
    "duration": 141,
    "start_time": "2023-03-01T12:23:20.766Z"
   },
   {
    "duration": 318,
    "start_time": "2023-03-01T12:23:20.909Z"
   },
   {
    "duration": 1197,
    "start_time": "2023-03-01T12:23:21.229Z"
   },
   {
    "duration": 138,
    "start_time": "2023-03-01T12:23:22.427Z"
   },
   {
    "duration": 356,
    "start_time": "2023-03-01T12:23:22.566Z"
   },
   {
    "duration": 119,
    "start_time": "2023-03-01T12:23:22.925Z"
   },
   {
    "duration": 16,
    "start_time": "2023-03-01T12:23:23.046Z"
   },
   {
    "duration": 210,
    "start_time": "2023-03-01T12:23:23.065Z"
   },
   {
    "duration": 162,
    "start_time": "2023-03-01T12:23:23.277Z"
   },
   {
    "duration": 55,
    "start_time": "2023-03-01T12:23:23.441Z"
   },
   {
    "duration": 41,
    "start_time": "2023-03-01T12:23:23.498Z"
   },
   {
    "duration": 10,
    "start_time": "2023-03-01T12:23:23.541Z"
   },
   {
    "duration": 41,
    "start_time": "2023-03-01T12:23:23.553Z"
   },
   {
    "duration": 116,
    "start_time": "2023-03-01T12:23:23.597Z"
   },
   {
    "duration": 21,
    "start_time": "2023-03-01T12:23:23.715Z"
   },
   {
    "duration": 22,
    "start_time": "2023-03-01T12:23:23.738Z"
   },
   {
    "duration": 60,
    "start_time": "2023-03-01T12:23:23.762Z"
   },
   {
    "duration": 136,
    "start_time": "2023-03-01T12:23:23.824Z"
   },
   {
    "duration": 145,
    "start_time": "2023-03-01T12:23:23.962Z"
   },
   {
    "duration": 8,
    "start_time": "2023-03-01T12:23:24.109Z"
   },
   {
    "duration": 7,
    "start_time": "2023-03-01T12:23:24.120Z"
   },
   {
    "duration": 69,
    "start_time": "2023-03-01T12:23:24.129Z"
   },
   {
    "duration": 9,
    "start_time": "2023-03-01T12:23:24.200Z"
   },
   {
    "duration": 22,
    "start_time": "2023-03-01T12:23:24.211Z"
   },
   {
    "duration": 80,
    "start_time": "2023-03-01T12:23:24.235Z"
   },
   {
    "duration": 82,
    "start_time": "2023-03-01T12:23:24.319Z"
   },
   {
    "duration": 135,
    "start_time": "2023-03-01T12:23:24.402Z"
   },
   {
    "duration": 26,
    "start_time": "2023-03-01T12:23:24.539Z"
   },
   {
    "duration": 30,
    "start_time": "2023-03-01T12:23:24.567Z"
   },
   {
    "duration": 23,
    "start_time": "2023-03-01T12:23:24.599Z"
   },
   {
    "duration": 18,
    "start_time": "2023-03-01T12:23:24.624Z"
   },
   {
    "duration": 18,
    "start_time": "2023-03-01T12:23:24.643Z"
   },
   {
    "duration": 41,
    "start_time": "2023-03-01T12:23:24.663Z"
   },
   {
    "duration": 18,
    "start_time": "2023-03-01T12:23:24.706Z"
   },
   {
    "duration": 17,
    "start_time": "2023-03-01T12:23:24.725Z"
   },
   {
    "duration": 166,
    "start_time": "2023-03-01T12:23:24.744Z"
   },
   {
    "duration": 85,
    "start_time": "2023-03-01T12:23:24.912Z"
   },
   {
    "duration": 12,
    "start_time": "2023-03-01T12:23:24.999Z"
   },
   {
    "duration": 83,
    "start_time": "2023-03-01T12:23:25.013Z"
   },
   {
    "duration": 18,
    "start_time": "2023-03-01T12:23:25.097Z"
   },
   {
    "duration": 9,
    "start_time": "2023-03-01T12:23:25.117Z"
   },
   {
    "duration": 9,
    "start_time": "2023-03-01T12:23:25.128Z"
   },
   {
    "duration": 10,
    "start_time": "2023-03-01T12:23:25.139Z"
   },
   {
    "duration": 270,
    "start_time": "2023-03-01T12:23:25.150Z"
   },
   {
    "duration": 102,
    "start_time": "2023-03-01T12:23:25.421Z"
   },
   {
    "duration": 95,
    "start_time": "2023-03-01T12:23:25.524Z"
   },
   {
    "duration": 53,
    "start_time": "2023-03-01T12:23:25.621Z"
   },
   {
    "duration": 273,
    "start_time": "2023-03-01T12:23:25.676Z"
   },
   {
    "duration": 4,
    "start_time": "2023-03-01T12:23:25.950Z"
   },
   {
    "duration": 48,
    "start_time": "2023-03-01T12:23:25.956Z"
   },
   {
    "duration": 11,
    "start_time": "2023-03-01T12:23:26.006Z"
   },
   {
    "duration": 100,
    "start_time": "2023-03-01T12:23:26.092Z"
   },
   {
    "duration": 5,
    "start_time": "2023-03-01T12:23:26.194Z"
   },
   {
    "duration": 4,
    "start_time": "2023-03-01T12:23:26.201Z"
   },
   {
    "duration": 1618,
    "start_time": "2023-03-01T13:22:15.144Z"
   },
   {
    "duration": 883,
    "start_time": "2023-03-01T13:22:16.764Z"
   },
   {
    "duration": 159,
    "start_time": "2023-03-01T13:22:17.649Z"
   },
   {
    "duration": 373,
    "start_time": "2023-03-01T13:22:17.812Z"
   },
   {
    "duration": 1253,
    "start_time": "2023-03-01T13:22:18.187Z"
   },
   {
    "duration": 132,
    "start_time": "2023-03-01T13:22:19.442Z"
   },
   {
    "duration": 352,
    "start_time": "2023-03-01T13:22:19.576Z"
   },
   {
    "duration": 86,
    "start_time": "2023-03-01T13:22:19.931Z"
   },
   {
    "duration": 15,
    "start_time": "2023-03-01T13:22:20.019Z"
   },
   {
    "duration": 225,
    "start_time": "2023-03-01T13:22:20.037Z"
   },
   {
    "duration": 171,
    "start_time": "2023-03-01T13:22:20.265Z"
   },
   {
    "duration": 38,
    "start_time": "2023-03-01T13:22:20.437Z"
   },
   {
    "duration": 49,
    "start_time": "2023-03-01T13:22:20.477Z"
   },
   {
    "duration": 10,
    "start_time": "2023-03-01T13:22:20.528Z"
   },
   {
    "duration": 26,
    "start_time": "2023-03-01T13:22:20.540Z"
   },
   {
    "duration": 128,
    "start_time": "2023-03-01T13:22:20.567Z"
   },
   {
    "duration": 19,
    "start_time": "2023-03-01T13:22:20.697Z"
   },
   {
    "duration": 34,
    "start_time": "2023-03-01T13:22:20.718Z"
   },
   {
    "duration": 31,
    "start_time": "2023-03-01T13:22:20.753Z"
   },
   {
    "duration": 122,
    "start_time": "2023-03-01T13:22:20.786Z"
   },
   {
    "duration": 120,
    "start_time": "2023-03-01T13:22:20.910Z"
   },
   {
    "duration": 8,
    "start_time": "2023-03-01T13:22:21.032Z"
   },
   {
    "duration": 9,
    "start_time": "2023-03-01T13:22:21.042Z"
   },
   {
    "duration": 76,
    "start_time": "2023-03-01T13:22:21.053Z"
   },
   {
    "duration": 6,
    "start_time": "2023-03-01T13:22:21.130Z"
   },
   {
    "duration": 21,
    "start_time": "2023-03-01T13:22:21.137Z"
   },
   {
    "duration": 77,
    "start_time": "2023-03-01T13:22:21.161Z"
   },
   {
    "duration": 81,
    "start_time": "2023-03-01T13:22:21.242Z"
   },
   {
    "duration": 156,
    "start_time": "2023-03-01T13:22:21.325Z"
   },
   {
    "duration": 29,
    "start_time": "2023-03-01T13:22:21.483Z"
   },
   {
    "duration": 17,
    "start_time": "2023-03-01T13:22:21.513Z"
   },
   {
    "duration": 18,
    "start_time": "2023-03-01T13:22:21.532Z"
   },
   {
    "duration": 16,
    "start_time": "2023-03-01T13:22:21.552Z"
   },
   {
    "duration": 28,
    "start_time": "2023-03-01T13:22:21.593Z"
   },
   {
    "duration": 28,
    "start_time": "2023-03-01T13:22:21.623Z"
   },
   {
    "duration": 39,
    "start_time": "2023-03-01T13:22:21.653Z"
   },
   {
    "duration": 15,
    "start_time": "2023-03-01T13:22:21.694Z"
   },
   {
    "duration": 140,
    "start_time": "2023-03-01T13:22:21.710Z"
   },
   {
    "duration": 77,
    "start_time": "2023-03-01T13:22:21.852Z"
   },
   {
    "duration": 10,
    "start_time": "2023-03-01T13:22:21.931Z"
   },
   {
    "duration": 84,
    "start_time": "2023-03-01T13:22:21.943Z"
   },
   {
    "duration": 17,
    "start_time": "2023-03-01T13:22:22.029Z"
   },
   {
    "duration": 23,
    "start_time": "2023-03-01T13:22:22.048Z"
   },
   {
    "duration": 5,
    "start_time": "2023-03-01T13:22:22.073Z"
   },
   {
    "duration": 4,
    "start_time": "2023-03-01T13:22:22.091Z"
   },
   {
    "duration": 253,
    "start_time": "2023-03-01T13:22:22.097Z"
   },
   {
    "duration": 96,
    "start_time": "2023-03-01T13:22:22.352Z"
   },
   {
    "duration": 86,
    "start_time": "2023-03-01T13:22:22.449Z"
   },
   {
    "duration": 56,
    "start_time": "2023-03-01T13:22:22.536Z"
   },
   {
    "duration": 265,
    "start_time": "2023-03-01T13:22:22.594Z"
   },
   {
    "duration": 4,
    "start_time": "2023-03-01T13:22:22.860Z"
   },
   {
    "duration": 60,
    "start_time": "2023-03-01T13:22:22.865Z"
   },
   {
    "duration": 63,
    "start_time": "2023-03-01T13:22:22.928Z"
   },
   {
    "duration": 100,
    "start_time": "2023-03-01T13:22:22.994Z"
   },
   {
    "duration": 9,
    "start_time": "2023-03-01T13:22:23.096Z"
   },
   {
    "duration": 6,
    "start_time": "2023-03-01T13:22:23.107Z"
   },
   {
    "duration": 504045,
    "start_time": "2023-03-01T13:22:23.116Z"
   },
   {
    "duration": 5,
    "start_time": "2023-03-01T13:30:47.163Z"
   },
   {
    "duration": 13,
    "start_time": "2023-03-01T13:30:47.170Z"
   },
   {
    "duration": 10,
    "start_time": "2023-03-01T13:30:47.185Z"
   },
   {
    "duration": 1025557,
    "start_time": "2023-03-01T13:30:47.197Z"
   },
   {
    "duration": 5,
    "start_time": "2023-03-01T13:47:52.755Z"
   },
   {
    "duration": 5,
    "start_time": "2023-03-01T13:47:52.761Z"
   },
   {
    "duration": 4,
    "start_time": "2023-03-01T13:47:52.768Z"
   },
   {
    "duration": 1427,
    "start_time": "2023-03-01T13:53:42.452Z"
   },
   {
    "duration": 799,
    "start_time": "2023-03-01T13:53:43.880Z"
   },
   {
    "duration": 135,
    "start_time": "2023-03-01T13:53:44.681Z"
   },
   {
    "duration": 295,
    "start_time": "2023-03-01T13:53:44.818Z"
   },
   {
    "duration": 1155,
    "start_time": "2023-03-01T13:53:45.114Z"
   },
   {
    "duration": 141,
    "start_time": "2023-03-01T13:53:46.271Z"
   },
   {
    "duration": 399,
    "start_time": "2023-03-01T13:53:46.414Z"
   },
   {
    "duration": 109,
    "start_time": "2023-03-01T13:53:46.815Z"
   },
   {
    "duration": 16,
    "start_time": "2023-03-01T13:53:46.926Z"
   },
   {
    "duration": 189,
    "start_time": "2023-03-01T13:53:46.945Z"
   },
   {
    "duration": 139,
    "start_time": "2023-03-01T13:53:47.136Z"
   },
   {
    "duration": 45,
    "start_time": "2023-03-01T13:53:47.277Z"
   },
   {
    "duration": 39,
    "start_time": "2023-03-01T13:53:47.323Z"
   },
   {
    "duration": 9,
    "start_time": "2023-03-01T13:53:47.363Z"
   },
   {
    "duration": 34,
    "start_time": "2023-03-01T13:53:47.374Z"
   },
   {
    "duration": 108,
    "start_time": "2023-03-01T13:53:47.410Z"
   },
   {
    "duration": 20,
    "start_time": "2023-03-01T13:53:47.520Z"
   },
   {
    "duration": 26,
    "start_time": "2023-03-01T13:53:47.542Z"
   },
   {
    "duration": 39,
    "start_time": "2023-03-01T13:53:47.570Z"
   },
   {
    "duration": 118,
    "start_time": "2023-03-01T13:53:47.611Z"
   },
   {
    "duration": 145,
    "start_time": "2023-03-01T13:53:47.731Z"
   },
   {
    "duration": 15,
    "start_time": "2023-03-01T13:53:47.877Z"
   },
   {
    "duration": 8,
    "start_time": "2023-03-01T13:53:47.894Z"
   },
   {
    "duration": 44,
    "start_time": "2023-03-01T13:53:47.904Z"
   },
   {
    "duration": 6,
    "start_time": "2023-03-01T13:53:47.950Z"
   },
   {
    "duration": 34,
    "start_time": "2023-03-01T13:53:47.957Z"
   },
   {
    "duration": 46,
    "start_time": "2023-03-01T13:53:47.993Z"
   },
   {
    "duration": 84,
    "start_time": "2023-03-01T13:53:48.042Z"
   },
   {
    "duration": 125,
    "start_time": "2023-03-01T13:53:48.127Z"
   },
   {
    "duration": 25,
    "start_time": "2023-03-01T13:53:48.254Z"
   },
   {
    "duration": 25,
    "start_time": "2023-03-01T13:53:48.280Z"
   },
   {
    "duration": 19,
    "start_time": "2023-03-01T13:53:48.307Z"
   },
   {
    "duration": 17,
    "start_time": "2023-03-01T13:53:48.327Z"
   },
   {
    "duration": 19,
    "start_time": "2023-03-01T13:53:48.345Z"
   },
   {
    "duration": 40,
    "start_time": "2023-03-01T13:53:48.366Z"
   },
   {
    "duration": 15,
    "start_time": "2023-03-01T13:53:48.407Z"
   },
   {
    "duration": 15,
    "start_time": "2023-03-01T13:53:48.424Z"
   },
   {
    "duration": 167,
    "start_time": "2023-03-01T13:53:48.440Z"
   },
   {
    "duration": 85,
    "start_time": "2023-03-01T13:53:48.610Z"
   },
   {
    "duration": 11,
    "start_time": "2023-03-01T13:53:48.697Z"
   },
   {
    "duration": 62,
    "start_time": "2023-03-01T13:53:48.710Z"
   },
   {
    "duration": 21,
    "start_time": "2023-03-01T13:53:48.791Z"
   },
   {
    "duration": 12,
    "start_time": "2023-03-01T13:53:48.813Z"
   },
   {
    "duration": 5,
    "start_time": "2023-03-01T13:53:48.827Z"
   },
   {
    "duration": 22,
    "start_time": "2023-03-01T13:53:48.833Z"
   },
   {
    "duration": 237,
    "start_time": "2023-03-01T13:53:48.857Z"
   },
   {
    "duration": 80,
    "start_time": "2023-03-01T13:53:49.096Z"
   },
   {
    "duration": 76,
    "start_time": "2023-03-01T13:53:49.190Z"
   },
   {
    "duration": 59,
    "start_time": "2023-03-01T13:53:49.268Z"
   },
   {
    "duration": 231,
    "start_time": "2023-03-01T13:53:49.328Z"
   },
   {
    "duration": 3,
    "start_time": "2023-03-01T13:53:49.561Z"
   },
   {
    "duration": 50,
    "start_time": "2023-03-01T13:53:49.565Z"
   },
   {
    "duration": 174,
    "start_time": "2023-03-01T13:53:49.618Z"
   },
   {
    "duration": 11,
    "start_time": "2023-03-01T13:53:49.794Z"
   },
   {
    "duration": 17,
    "start_time": "2023-03-01T13:53:49.807Z"
   },
   {
    "duration": 7,
    "start_time": "2023-03-01T13:53:49.826Z"
   },
   {
    "duration": 477346,
    "start_time": "2023-03-01T13:53:49.835Z"
   },
   {
    "duration": 10,
    "start_time": "2023-03-01T14:01:47.183Z"
   },
   {
    "duration": 12,
    "start_time": "2023-03-01T14:01:47.195Z"
   },
   {
    "duration": 7,
    "start_time": "2023-03-01T14:01:47.209Z"
   },
   {
    "duration": 176045,
    "start_time": "2023-03-01T14:01:47.218Z"
   },
   {
    "duration": 6,
    "start_time": "2023-03-01T14:04:43.265Z"
   },
   {
    "duration": 4,
    "start_time": "2023-03-01T14:04:43.272Z"
   },
   {
    "duration": 5,
    "start_time": "2023-03-01T14:04:43.278Z"
   },
   {
    "duration": 539220,
    "start_time": "2023-03-01T14:04:43.284Z"
   },
   {
    "duration": 3,
    "start_time": "2023-03-01T14:13:42.592Z"
   },
   {
    "duration": 16340,
    "start_time": "2023-03-01T14:13:42.597Z"
   },
   {
    "duration": 416,
    "start_time": "2023-03-01T14:13:58.939Z"
   },
   {
    "duration": 127,
    "start_time": "2023-03-01T14:13:59.356Z"
   },
   {
    "duration": 0,
    "start_time": "2023-03-01T14:13:59.485Z"
   },
   {
    "duration": 0,
    "start_time": "2023-03-01T14:13:59.486Z"
   },
   {
    "duration": 0,
    "start_time": "2023-03-01T14:13:59.491Z"
   },
   {
    "duration": 0,
    "start_time": "2023-03-01T14:13:59.493Z"
   },
   {
    "duration": 0,
    "start_time": "2023-03-01T14:13:59.494Z"
   },
   {
    "duration": 0,
    "start_time": "2023-03-01T14:13:59.495Z"
   },
   {
    "duration": 4,
    "start_time": "2023-03-01T14:15:19.713Z"
   },
   {
    "duration": 8461,
    "start_time": "2023-03-01T14:15:35.193Z"
   },
   {
    "duration": 56,
    "start_time": "2023-03-01T14:16:01.493Z"
   },
   {
    "duration": 11,
    "start_time": "2023-03-01T14:16:03.375Z"
   },
   {
    "duration": 5,
    "start_time": "2023-03-01T14:16:13.053Z"
   },
   {
    "duration": 4190,
    "start_time": "2023-03-01T14:16:21.909Z"
   },
   {
    "duration": 418,
    "start_time": "2023-03-01T14:16:28.576Z"
   },
   {
    "duration": 6,
    "start_time": "2023-03-01T14:16:30.029Z"
   },
   {
    "duration": 4,
    "start_time": "2023-03-01T14:20:43.458Z"
   },
   {
    "duration": 4,
    "start_time": "2023-03-01T14:20:58.154Z"
   },
   {
    "duration": 4,
    "start_time": "2023-03-01T14:21:08.880Z"
   },
   {
    "duration": 5,
    "start_time": "2023-03-01T14:21:55.623Z"
   },
   {
    "duration": 3,
    "start_time": "2023-03-01T14:27:13.736Z"
   },
   {
    "duration": 4,
    "start_time": "2023-03-01T14:27:18.666Z"
   },
   {
    "duration": 45,
    "start_time": "2023-03-02T07:05:26.000Z"
   },
   {
    "duration": 1691,
    "start_time": "2023-03-02T07:05:48.038Z"
   },
   {
    "duration": 2952,
    "start_time": "2023-03-02T07:05:49.731Z"
   },
   {
    "duration": 112,
    "start_time": "2023-03-02T07:05:52.685Z"
   },
   {
    "duration": 252,
    "start_time": "2023-03-02T07:05:52.799Z"
   },
   {
    "duration": 1281,
    "start_time": "2023-03-02T07:05:53.052Z"
   },
   {
    "duration": 134,
    "start_time": "2023-03-02T07:05:54.336Z"
   },
   {
    "duration": 342,
    "start_time": "2023-03-02T07:05:54.472Z"
   },
   {
    "duration": 77,
    "start_time": "2023-03-02T07:05:54.815Z"
   },
   {
    "duration": 20,
    "start_time": "2023-03-02T07:05:54.894Z"
   },
   {
    "duration": 202,
    "start_time": "2023-03-02T07:05:54.928Z"
   },
   {
    "duration": 149,
    "start_time": "2023-03-02T07:05:55.131Z"
   },
   {
    "duration": 47,
    "start_time": "2023-03-02T07:05:55.282Z"
   },
   {
    "duration": 41,
    "start_time": "2023-03-02T07:05:55.330Z"
   },
   {
    "duration": 12,
    "start_time": "2023-03-02T07:05:55.372Z"
   },
   {
    "duration": 54,
    "start_time": "2023-03-02T07:05:55.386Z"
   },
   {
    "duration": 126,
    "start_time": "2023-03-02T07:05:55.442Z"
   },
   {
    "duration": 20,
    "start_time": "2023-03-02T07:05:55.570Z"
   },
   {
    "duration": 41,
    "start_time": "2023-03-02T07:05:55.592Z"
   },
   {
    "duration": 52,
    "start_time": "2023-03-02T07:05:55.635Z"
   },
   {
    "duration": 118,
    "start_time": "2023-03-02T07:05:55.689Z"
   },
   {
    "duration": 153,
    "start_time": "2023-03-02T07:05:55.810Z"
   },
   {
    "duration": 7,
    "start_time": "2023-03-02T07:05:55.966Z"
   },
   {
    "duration": 23,
    "start_time": "2023-03-02T07:05:55.975Z"
   },
   {
    "duration": 48,
    "start_time": "2023-03-02T07:05:56.000Z"
   },
   {
    "duration": 6,
    "start_time": "2023-03-02T07:05:56.050Z"
   },
   {
    "duration": 38,
    "start_time": "2023-03-02T07:05:56.058Z"
   },
   {
    "duration": 51,
    "start_time": "2023-03-02T07:05:56.098Z"
   },
   {
    "duration": 60,
    "start_time": "2023-03-02T07:05:56.153Z"
   },
   {
    "duration": 144,
    "start_time": "2023-03-02T07:05:56.215Z"
   },
   {
    "duration": 26,
    "start_time": "2023-03-02T07:05:56.361Z"
   },
   {
    "duration": 16,
    "start_time": "2023-03-02T07:05:56.389Z"
   },
   {
    "duration": 35,
    "start_time": "2023-03-02T07:05:56.407Z"
   },
   {
    "duration": 27,
    "start_time": "2023-03-02T07:05:56.444Z"
   },
   {
    "duration": 22,
    "start_time": "2023-03-02T07:05:56.473Z"
   },
   {
    "duration": 40,
    "start_time": "2023-03-02T07:05:56.497Z"
   },
   {
    "duration": 44,
    "start_time": "2023-03-02T07:05:56.550Z"
   },
   {
    "duration": 22,
    "start_time": "2023-03-02T07:05:56.595Z"
   },
   {
    "duration": 140,
    "start_time": "2023-03-02T07:05:56.619Z"
   },
   {
    "duration": 58,
    "start_time": "2023-03-02T07:05:56.760Z"
   },
   {
    "duration": 14,
    "start_time": "2023-03-02T07:05:56.827Z"
   },
   {
    "duration": 91,
    "start_time": "2023-03-02T07:05:56.843Z"
   },
   {
    "duration": 18,
    "start_time": "2023-03-02T07:05:56.936Z"
   },
   {
    "duration": 16,
    "start_time": "2023-03-02T07:05:56.956Z"
   },
   {
    "duration": 5,
    "start_time": "2023-03-02T07:05:56.974Z"
   },
   {
    "duration": 10,
    "start_time": "2023-03-02T07:05:56.980Z"
   },
   {
    "duration": 244,
    "start_time": "2023-03-02T07:05:56.991Z"
   },
   {
    "duration": 90,
    "start_time": "2023-03-02T07:05:57.237Z"
   },
   {
    "duration": 106,
    "start_time": "2023-03-02T07:05:57.329Z"
   },
   {
    "duration": 52,
    "start_time": "2023-03-02T07:05:57.437Z"
   },
   {
    "duration": 280,
    "start_time": "2023-03-02T07:05:57.490Z"
   },
   {
    "duration": 4,
    "start_time": "2023-03-02T07:05:57.771Z"
   },
   {
    "duration": 71,
    "start_time": "2023-03-02T07:05:57.777Z"
   },
   {
    "duration": 80,
    "start_time": "2023-03-02T07:05:57.850Z"
   },
   {
    "duration": 98,
    "start_time": "2023-03-02T07:05:57.932Z"
   },
   {
    "duration": 21,
    "start_time": "2023-03-02T07:05:58.032Z"
   },
   {
    "duration": 16,
    "start_time": "2023-03-02T07:05:58.056Z"
   },
   {
    "duration": 478485,
    "start_time": "2023-03-02T07:05:58.074Z"
   },
   {
    "duration": 4,
    "start_time": "2023-03-02T07:13:56.561Z"
   },
   {
    "duration": 10,
    "start_time": "2023-03-02T07:13:56.566Z"
   },
   {
    "duration": 17,
    "start_time": "2023-03-02T07:13:56.578Z"
   },
   {
    "duration": 171923,
    "start_time": "2023-03-02T07:13:56.597Z"
   },
   {
    "duration": 4,
    "start_time": "2023-03-02T07:16:48.522Z"
   },
   {
    "duration": 4,
    "start_time": "2023-03-02T07:16:48.528Z"
   },
   {
    "duration": 7,
    "start_time": "2023-03-02T07:16:48.534Z"
   },
   {
    "duration": 1539,
    "start_time": "2023-03-02T08:03:30.075Z"
   },
   {
    "duration": 857,
    "start_time": "2023-03-02T08:03:31.616Z"
   },
   {
    "duration": 125,
    "start_time": "2023-03-02T08:03:32.474Z"
   },
   {
    "duration": 298,
    "start_time": "2023-03-02T08:03:32.602Z"
   },
   {
    "duration": 1261,
    "start_time": "2023-03-02T08:03:32.902Z"
   },
   {
    "duration": 117,
    "start_time": "2023-03-02T08:03:34.164Z"
   },
   {
    "duration": 358,
    "start_time": "2023-03-02T08:03:34.283Z"
   },
   {
    "duration": 77,
    "start_time": "2023-03-02T08:03:34.643Z"
   },
   {
    "duration": 26,
    "start_time": "2023-03-02T08:03:34.721Z"
   },
   {
    "duration": 208,
    "start_time": "2023-03-02T08:03:34.751Z"
   },
   {
    "duration": 161,
    "start_time": "2023-03-02T08:03:34.961Z"
   },
   {
    "duration": 44,
    "start_time": "2023-03-02T08:03:35.123Z"
   },
   {
    "duration": 37,
    "start_time": "2023-03-02T08:03:35.169Z"
   },
   {
    "duration": 33,
    "start_time": "2023-03-02T08:03:35.207Z"
   },
   {
    "duration": 18,
    "start_time": "2023-03-02T08:03:35.242Z"
   },
   {
    "duration": 98,
    "start_time": "2023-03-02T08:03:35.262Z"
   },
   {
    "duration": 18,
    "start_time": "2023-03-02T08:03:35.362Z"
   },
   {
    "duration": 25,
    "start_time": "2023-03-02T08:03:35.382Z"
   },
   {
    "duration": 49,
    "start_time": "2023-03-02T08:03:35.408Z"
   },
   {
    "duration": 120,
    "start_time": "2023-03-02T08:03:35.458Z"
   },
   {
    "duration": 132,
    "start_time": "2023-03-02T08:03:35.579Z"
   },
   {
    "duration": 26,
    "start_time": "2023-03-02T08:03:35.712Z"
   },
   {
    "duration": 21,
    "start_time": "2023-03-02T08:03:35.739Z"
   },
   {
    "duration": 42,
    "start_time": "2023-03-02T08:03:35.761Z"
   },
   {
    "duration": 7,
    "start_time": "2023-03-02T08:03:35.805Z"
   },
   {
    "duration": 39,
    "start_time": "2023-03-02T08:03:35.813Z"
   },
   {
    "duration": 50,
    "start_time": "2023-03-02T08:03:35.854Z"
   },
   {
    "duration": 68,
    "start_time": "2023-03-02T08:03:35.908Z"
   },
   {
    "duration": 153,
    "start_time": "2023-03-02T08:03:35.978Z"
   },
   {
    "duration": 33,
    "start_time": "2023-03-02T08:03:36.138Z"
   },
   {
    "duration": 21,
    "start_time": "2023-03-02T08:03:36.173Z"
   },
   {
    "duration": 20,
    "start_time": "2023-03-02T08:03:36.195Z"
   },
   {
    "duration": 26,
    "start_time": "2023-03-02T08:03:36.229Z"
   },
   {
    "duration": 27,
    "start_time": "2023-03-02T08:03:36.257Z"
   },
   {
    "duration": 18,
    "start_time": "2023-03-02T08:03:36.286Z"
   },
   {
    "duration": 40,
    "start_time": "2023-03-02T08:03:36.306Z"
   },
   {
    "duration": 22,
    "start_time": "2023-03-02T08:03:36.348Z"
   },
   {
    "duration": 146,
    "start_time": "2023-03-02T08:03:36.372Z"
   },
   {
    "duration": 66,
    "start_time": "2023-03-02T08:03:36.519Z"
   },
   {
    "duration": 11,
    "start_time": "2023-03-02T08:03:36.587Z"
   },
   {
    "duration": 89,
    "start_time": "2023-03-02T08:03:36.599Z"
   },
   {
    "duration": 14,
    "start_time": "2023-03-02T08:03:36.690Z"
   },
   {
    "duration": 22,
    "start_time": "2023-03-02T08:03:36.706Z"
   },
   {
    "duration": 16,
    "start_time": "2023-03-02T08:03:36.730Z"
   },
   {
    "duration": 3,
    "start_time": "2023-03-02T08:03:36.748Z"
   },
   {
    "duration": 241,
    "start_time": "2023-03-02T08:03:36.753Z"
   },
   {
    "duration": 101,
    "start_time": "2023-03-02T08:03:36.996Z"
   },
   {
    "duration": 97,
    "start_time": "2023-03-02T08:03:37.099Z"
   },
   {
    "duration": 64,
    "start_time": "2023-03-02T08:03:37.198Z"
   },
   {
    "duration": 288,
    "start_time": "2023-03-02T08:03:37.264Z"
   },
   {
    "duration": 3,
    "start_time": "2023-03-02T08:03:37.554Z"
   },
   {
    "duration": 39,
    "start_time": "2023-03-02T08:03:37.558Z"
   },
   {
    "duration": 46,
    "start_time": "2023-03-02T08:03:37.599Z"
   },
   {
    "duration": 94,
    "start_time": "2023-03-02T08:03:37.647Z"
   },
   {
    "duration": 88,
    "start_time": "2023-03-02T08:03:37.745Z"
   },
   {
    "duration": 22,
    "start_time": "2023-03-02T08:03:37.835Z"
   },
   {
    "duration": 541402,
    "start_time": "2023-03-02T08:03:37.858Z"
   },
   {
    "duration": 4,
    "start_time": "2023-03-02T08:12:39.261Z"
   },
   {
    "duration": 7,
    "start_time": "2023-03-02T08:12:39.267Z"
   },
   {
    "duration": 5,
    "start_time": "2023-03-02T08:12:39.275Z"
   },
   {
    "duration": 6,
    "start_time": "2023-03-02T08:12:39.281Z"
   },
   {
    "duration": 202754,
    "start_time": "2023-03-02T08:12:39.288Z"
   },
   {
    "duration": 3,
    "start_time": "2023-03-02T08:16:02.044Z"
   },
   {
    "duration": 47,
    "start_time": "2023-03-02T08:16:02.049Z"
   },
   {
    "duration": 16,
    "start_time": "2023-03-02T08:16:02.098Z"
   },
   {
    "duration": 68,
    "start_time": "2023-03-02T08:16:02.116Z"
   },
   {
    "duration": 1555,
    "start_time": "2023-03-02T09:31:55.161Z"
   },
   {
    "duration": 915,
    "start_time": "2023-03-02T09:31:56.717Z"
   },
   {
    "duration": 141,
    "start_time": "2023-03-02T09:31:57.637Z"
   },
   {
    "duration": 290,
    "start_time": "2023-03-02T09:31:57.780Z"
   },
   {
    "duration": 1298,
    "start_time": "2023-03-02T09:31:58.072Z"
   },
   {
    "duration": 140,
    "start_time": "2023-03-02T09:31:59.372Z"
   },
   {
    "duration": 616,
    "start_time": "2023-03-02T09:31:59.514Z"
   },
   {
    "duration": 205,
    "start_time": "2023-03-02T09:32:00.131Z"
   },
   {
    "duration": 21,
    "start_time": "2023-03-02T09:32:00.338Z"
   },
   {
    "duration": 590,
    "start_time": "2023-03-02T09:32:00.362Z"
   },
   {
    "duration": 481,
    "start_time": "2023-03-02T09:32:00.955Z"
   },
   {
    "duration": 108,
    "start_time": "2023-03-02T09:32:01.438Z"
   },
   {
    "duration": 117,
    "start_time": "2023-03-02T09:32:01.550Z"
   },
   {
    "duration": 60,
    "start_time": "2023-03-02T09:32:01.671Z"
   },
   {
    "duration": 33,
    "start_time": "2023-03-02T09:32:01.733Z"
   },
   {
    "duration": 221,
    "start_time": "2023-03-02T09:32:01.768Z"
   },
   {
    "duration": 49,
    "start_time": "2023-03-02T09:32:01.990Z"
   },
   {
    "duration": 41,
    "start_time": "2023-03-02T09:32:02.046Z"
   },
   {
    "duration": 35,
    "start_time": "2023-03-02T09:32:02.089Z"
   },
   {
    "duration": 170,
    "start_time": "2023-03-02T09:32:02.125Z"
   },
   {
    "duration": 142,
    "start_time": "2023-03-02T09:32:02.296Z"
   },
   {
    "duration": 11,
    "start_time": "2023-03-02T09:32:02.445Z"
   },
   {
    "duration": 30,
    "start_time": "2023-03-02T09:32:02.460Z"
   },
   {
    "duration": 143,
    "start_time": "2023-03-02T09:32:02.491Z"
   },
   {
    "duration": 13,
    "start_time": "2023-03-02T09:32:02.635Z"
   },
   {
    "duration": 33,
    "start_time": "2023-03-02T09:32:02.654Z"
   },
   {
    "duration": 58,
    "start_time": "2023-03-02T09:32:02.689Z"
   },
   {
    "duration": 120,
    "start_time": "2023-03-02T09:32:02.752Z"
   },
   {
    "duration": 173,
    "start_time": "2023-03-02T09:32:02.874Z"
   },
   {
    "duration": 28,
    "start_time": "2023-03-02T09:32:03.049Z"
   },
   {
    "duration": 25,
    "start_time": "2023-03-02T09:32:03.079Z"
   },
   {
    "duration": 68,
    "start_time": "2023-03-02T09:32:03.106Z"
   },
   {
    "duration": 40,
    "start_time": "2023-03-02T09:32:03.175Z"
   },
   {
    "duration": 60,
    "start_time": "2023-03-02T09:32:03.216Z"
   },
   {
    "duration": 42,
    "start_time": "2023-03-02T09:32:03.277Z"
   },
   {
    "duration": 66,
    "start_time": "2023-03-02T09:32:03.321Z"
   },
   {
    "duration": 22,
    "start_time": "2023-03-02T09:32:03.389Z"
   },
   {
    "duration": 146,
    "start_time": "2023-03-02T09:32:03.413Z"
   },
   {
    "duration": 101,
    "start_time": "2023-03-02T09:32:03.561Z"
   },
   {
    "duration": 13,
    "start_time": "2023-03-02T09:32:03.664Z"
   },
   {
    "duration": 76,
    "start_time": "2023-03-02T09:32:03.679Z"
   },
   {
    "duration": 19,
    "start_time": "2023-03-02T09:32:03.756Z"
   },
   {
    "duration": 10,
    "start_time": "2023-03-02T09:32:03.776Z"
   },
   {
    "duration": 5,
    "start_time": "2023-03-02T09:32:03.788Z"
   },
   {
    "duration": 62,
    "start_time": "2023-03-02T09:32:03.795Z"
   },
   {
    "duration": 260,
    "start_time": "2023-03-02T09:32:03.860Z"
   },
   {
    "duration": 94,
    "start_time": "2023-03-02T09:32:04.122Z"
   },
   {
    "duration": 89,
    "start_time": "2023-03-02T09:32:04.218Z"
   },
   {
    "duration": 66,
    "start_time": "2023-03-02T09:32:04.309Z"
   },
   {
    "duration": 282,
    "start_time": "2023-03-02T09:32:04.377Z"
   },
   {
    "duration": 4,
    "start_time": "2023-03-02T09:32:04.661Z"
   },
   {
    "duration": 40,
    "start_time": "2023-03-02T09:32:04.666Z"
   },
   {
    "duration": 138,
    "start_time": "2023-03-02T09:32:04.708Z"
   },
   {
    "duration": 79,
    "start_time": "2023-03-02T09:32:04.853Z"
   },
   {
    "duration": 32,
    "start_time": "2023-03-02T09:32:04.935Z"
   },
   {
    "duration": 7,
    "start_time": "2023-03-02T09:32:04.969Z"
   },
   {
    "duration": 1504,
    "start_time": "2023-03-02T09:32:34.858Z"
   },
   {
    "duration": 898,
    "start_time": "2023-03-02T09:32:36.364Z"
   },
   {
    "duration": 134,
    "start_time": "2023-03-02T09:32:37.264Z"
   },
   {
    "duration": 314,
    "start_time": "2023-03-02T09:32:37.404Z"
   },
   {
    "duration": 1318,
    "start_time": "2023-03-02T09:32:37.720Z"
   },
   {
    "duration": 142,
    "start_time": "2023-03-02T09:32:39.040Z"
   },
   {
    "duration": 376,
    "start_time": "2023-03-02T09:32:39.183Z"
   },
   {
    "duration": 92,
    "start_time": "2023-03-02T09:32:39.563Z"
   },
   {
    "duration": 28,
    "start_time": "2023-03-02T09:32:39.658Z"
   },
   {
    "duration": 234,
    "start_time": "2023-03-02T09:32:39.690Z"
   },
   {
    "duration": 319,
    "start_time": "2023-03-02T09:32:39.925Z"
   },
   {
    "duration": 107,
    "start_time": "2023-03-02T09:32:40.246Z"
   },
   {
    "duration": 109,
    "start_time": "2023-03-02T09:32:40.354Z"
   },
   {
    "duration": 14,
    "start_time": "2023-03-02T09:32:40.465Z"
   },
   {
    "duration": 59,
    "start_time": "2023-03-02T09:32:40.533Z"
   },
   {
    "duration": 235,
    "start_time": "2023-03-02T09:32:40.634Z"
   },
   {
    "duration": 97,
    "start_time": "2023-03-02T09:32:40.871Z"
   },
   {
    "duration": 71,
    "start_time": "2023-03-02T09:32:40.970Z"
   },
   {
    "duration": 89,
    "start_time": "2023-03-02T09:32:41.043Z"
   },
   {
    "duration": 239,
    "start_time": "2023-03-02T09:32:41.134Z"
   },
   {
    "duration": 316,
    "start_time": "2023-03-02T09:32:41.429Z"
   },
   {
    "duration": 11,
    "start_time": "2023-03-02T09:32:41.748Z"
   },
   {
    "duration": 13,
    "start_time": "2023-03-02T09:32:41.761Z"
   },
   {
    "duration": 94,
    "start_time": "2023-03-02T09:32:41.776Z"
   },
   {
    "duration": 70,
    "start_time": "2023-03-02T09:32:41.872Z"
   },
   {
    "duration": 28,
    "start_time": "2023-03-02T09:32:41.944Z"
   },
   {
    "duration": 95,
    "start_time": "2023-03-02T09:32:41.974Z"
   },
   {
    "duration": 189,
    "start_time": "2023-03-02T09:32:42.073Z"
   },
   {
    "duration": 144,
    "start_time": "2023-03-02T09:32:42.264Z"
   },
   {
    "duration": 47,
    "start_time": "2023-03-02T09:32:42.410Z"
   },
   {
    "duration": 17,
    "start_time": "2023-03-02T09:32:42.460Z"
   },
   {
    "duration": 27,
    "start_time": "2023-03-02T09:32:42.479Z"
   },
   {
    "duration": 21,
    "start_time": "2023-03-02T09:32:42.507Z"
   },
   {
    "duration": 55,
    "start_time": "2023-03-02T09:32:42.529Z"
   },
   {
    "duration": 20,
    "start_time": "2023-03-02T09:32:42.586Z"
   },
   {
    "duration": 42,
    "start_time": "2023-03-02T09:32:42.607Z"
   },
   {
    "duration": 29,
    "start_time": "2023-03-02T09:32:42.650Z"
   },
   {
    "duration": 150,
    "start_time": "2023-03-02T09:32:42.681Z"
   },
   {
    "duration": 82,
    "start_time": "2023-03-02T09:32:42.834Z"
   },
   {
    "duration": 20,
    "start_time": "2023-03-02T09:32:42.919Z"
   },
   {
    "duration": 95,
    "start_time": "2023-03-02T09:32:42.941Z"
   },
   {
    "duration": 24,
    "start_time": "2023-03-02T09:32:43.045Z"
   },
   {
    "duration": 21,
    "start_time": "2023-03-02T09:32:43.071Z"
   },
   {
    "duration": 5,
    "start_time": "2023-03-02T09:32:43.094Z"
   },
   {
    "duration": 4,
    "start_time": "2023-03-02T09:32:43.100Z"
   },
   {
    "duration": 270,
    "start_time": "2023-03-02T09:32:43.106Z"
   },
   {
    "duration": 103,
    "start_time": "2023-03-02T09:32:43.378Z"
   },
   {
    "duration": 109,
    "start_time": "2023-03-02T09:32:43.483Z"
   },
   {
    "duration": 78,
    "start_time": "2023-03-02T09:32:43.595Z"
   },
   {
    "duration": 282,
    "start_time": "2023-03-02T09:32:43.683Z"
   },
   {
    "duration": 3,
    "start_time": "2023-03-02T09:32:43.968Z"
   },
   {
    "duration": 60,
    "start_time": "2023-03-02T09:32:43.973Z"
   },
   {
    "duration": 31,
    "start_time": "2023-03-02T09:32:44.035Z"
   },
   {
    "duration": 132,
    "start_time": "2023-03-02T09:32:44.130Z"
   },
   {
    "duration": 3,
    "start_time": "2023-03-02T09:32:44.264Z"
   },
   {
    "duration": 6,
    "start_time": "2023-03-02T09:32:44.268Z"
   },
   {
    "duration": 555807,
    "start_time": "2023-03-02T09:32:44.276Z"
   },
   {
    "duration": 4,
    "start_time": "2023-03-02T09:42:00.084Z"
   },
   {
    "duration": 14,
    "start_time": "2023-03-02T09:42:00.089Z"
   },
   {
    "duration": 8,
    "start_time": "2023-03-02T09:42:00.104Z"
   },
   {
    "duration": 17,
    "start_time": "2023-03-02T09:42:00.113Z"
   },
   {
    "duration": 221389,
    "start_time": "2023-03-02T09:42:00.134Z"
   },
   {
    "duration": 11,
    "start_time": "2023-03-02T09:45:41.525Z"
   },
   {
    "duration": 22,
    "start_time": "2023-03-02T09:45:41.545Z"
   },
   {
    "duration": 5,
    "start_time": "2023-03-02T09:45:41.569Z"
   },
   {
    "duration": 6,
    "start_time": "2023-03-02T09:45:41.575Z"
   },
   {
    "duration": 3141652,
    "start_time": "2023-03-02T09:45:41.583Z"
   },
   {
    "duration": 7,
    "start_time": "2023-03-02T10:38:03.237Z"
   },
   {
    "duration": 29,
    "start_time": "2023-03-02T10:38:03.247Z"
   },
   {
    "duration": 9669,
    "start_time": "2023-03-02T10:38:03.278Z"
   },
   {
    "duration": 215,
    "start_time": "2023-03-02T10:38:12.950Z"
   },
   {
    "duration": 5,
    "start_time": "2023-03-02T10:38:13.167Z"
   },
   {
    "duration": 9261,
    "start_time": "2023-03-02T10:38:13.174Z"
   },
   {
    "duration": 54,
    "start_time": "2023-03-02T10:38:22.442Z"
   },
   {
    "duration": 5,
    "start_time": "2023-03-02T10:38:22.497Z"
   },
   {
    "duration": 370951,
    "start_time": "2023-03-02T10:38:22.503Z"
   },
   {
    "duration": 576,
    "start_time": "2023-03-02T10:44:33.456Z"
   },
   {
    "duration": 6,
    "start_time": "2023-03-02T10:44:34.036Z"
   },
   {
    "duration": 140,
    "start_time": "2023-03-02T10:44:34.044Z"
   },
   {
    "duration": 0,
    "start_time": "2023-03-02T10:44:34.186Z"
   },
   {
    "duration": 397942,
    "start_time": "2023-03-02T10:44:49.200Z"
   },
   {
    "duration": 11,
    "start_time": "2023-03-02T10:51:27.145Z"
   },
   {
    "duration": 352,
    "start_time": "2023-03-02T10:52:10.594Z"
   },
   {
    "duration": 13,
    "start_time": "2023-03-02T10:52:13.644Z"
   },
   {
    "duration": 8,
    "start_time": "2023-03-02T10:52:21.253Z"
   },
   {
    "duration": 11,
    "start_time": "2023-03-02T10:52:40.571Z"
   },
   {
    "duration": 10,
    "start_time": "2023-03-02T10:52:56.289Z"
   },
   {
    "duration": 17,
    "start_time": "2023-03-02T10:53:15.843Z"
   },
   {
    "duration": 17,
    "start_time": "2023-03-02T10:53:38.855Z"
   },
   {
    "duration": 19,
    "start_time": "2023-03-02T10:53:55.454Z"
   },
   {
    "duration": 16,
    "start_time": "2023-03-02T10:54:13.047Z"
   },
   {
    "duration": 15,
    "start_time": "2023-03-02T10:54:17.292Z"
   },
   {
    "duration": 19,
    "start_time": "2023-03-02T10:54:32.463Z"
   },
   {
    "duration": 12,
    "start_time": "2023-03-02T10:54:45.189Z"
   },
   {
    "duration": 11,
    "start_time": "2023-03-02T10:55:19.271Z"
   },
   {
    "duration": 55,
    "start_time": "2023-03-02T11:01:03.942Z"
   },
   {
    "duration": 5,
    "start_time": "2023-03-02T11:01:06.248Z"
   },
   {
    "duration": 4,
    "start_time": "2023-03-02T11:01:50.517Z"
   }
  ],
  "kernelspec": {
   "display_name": "Python 3 (ipykernel)",
   "language": "python",
   "name": "python3"
  },
  "language_info": {
   "codemirror_mode": {
    "name": "ipython",
    "version": 3
   },
   "file_extension": ".py",
   "mimetype": "text/x-python",
   "name": "python",
   "nbconvert_exporter": "python",
   "pygments_lexer": "ipython3",
   "version": "3.9.13"
  },
  "toc": {
   "base_numbering": 1,
   "nav_menu": {},
   "number_sections": true,
   "sideBar": true,
   "skip_h1_title": true,
   "title_cell": "Table of Contents",
   "title_sidebar": "Contents",
   "toc_cell": false,
   "toc_position": {
    "height": "calc(100% - 180px)",
    "left": "10px",
    "top": "150px",
    "width": "315.764px"
   },
   "toc_section_display": true,
   "toc_window_display": true
  }
 },
 "nbformat": 4,
 "nbformat_minor": 2
}
